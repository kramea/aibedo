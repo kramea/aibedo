{
 "cells": [
  {
   "cell_type": "markdown",
   "metadata": {},
   "source": [
    "#### Refactoring MTS-LSTM model\n",
    "* understand the dependency of the mts-lstm model in neurohydrology\n",
    "* develop a skeleton model for Aibedo\n"
   ]
  },
  {
   "cell_type": "code",
   "execution_count": 1,
   "metadata": {},
   "outputs": [],
   "source": [
    "from typing import Dict, Optional, Callable\n",
    "import logging\n",
    "import pandas as pd\n",
    "from pathlib import Path\n",
    "\n",
    "import torch\n",
    "import torch.nn as nn\n",
    "\n",
    "from neuralhydrology.utils.config import Config\n",
    "from neuralhydrology.utils.samplingutils import sample_pointpredictions\n",
    "from neuralhydrology.datautils.utils import get_frequency_factor, sort_frequencies\n",
    "from neuralhydrology.modelzoo.head import get_head\n",
    "\n",
    "LOGGER = logging.getLogger(__name__)\n",
    "\n",
    "from torch.utils.data import DataLoader\n",
    "\n",
    "from tqdm import tqdm\n",
    "\n",
    "\n",
    "\n"
   ]
  },
  {
   "cell_type": "code",
   "execution_count": 2,
   "metadata": {},
   "outputs": [],
   "source": [
    "from neuralhydrology.datasetzoo import get_dataset\n",
    "from neuralhydrology.datasetzoo.basedataset import BaseDataset\n",
    "\n",
    "from neuralhydrology.training.basetrainer import BaseTrainer"
   ]
  },
  {
   "cell_type": "code",
   "execution_count": 3,
   "metadata": {},
   "outputs": [],
   "source": [
    "import matplotlib.pyplot as plt\n",
    "import numpy as np"
   ]
  },
  {
   "cell_type": "markdown",
   "metadata": {},
   "source": [
    "Refactored Abstract class"
   ]
  },
  {
   "cell_type": "code",
   "execution_count": 4,
   "metadata": {},
   "outputs": [],
   "source": [
    "class BaseModel(nn.Module):\n",
    "    \n",
    "    # specify submodules of the model that can later be used for finetuning. Names must match class attributes\n",
    "    module_parts = []\n",
    "\n",
    "    def __init__(self, cfg: Config):\n",
    "        super(BaseModel, self).__init__()\n",
    "        self.cfg = cfg\n",
    "        self.output_size = len(cfg.target_variables)\n",
    "        # if cfg.head.lower() == 'gmm':\n",
    "        #     self.output_size *= 3 * cfg.n_distributions\n",
    "        # elif cfg.head.lower() == 'cmal':\n",
    "        #     self.output_size *= 4 * cfg.n_distributions\n",
    "        # elif cfg.head.lower() == 'umal':\n",
    "        #     self.output_size *= 2\n",
    "\n",
    "    def sample(self, data: Dict[str, torch.Tensor], n_samples: int) -> Dict[str, torch.Tensor]:\n",
    "        \n",
    "        return sample_pointpredictions(self, data, n_samples)\n",
    "\n",
    "    def forward(self, data: Dict[str, torch.Tensor]) -> Dict[str, torch.Tensor]:\n",
    "        \n",
    "        raise NotImplementedError"
   ]
  },
  {
   "cell_type": "code",
   "execution_count": 5,
   "metadata": {},
   "outputs": [],
   "source": [
    "class MTSLSTM(BaseModel):\n",
    "    \n",
    "    # specify submodules of the model that can later be used for finetuning. Names must match class attributes\n",
    "    module_parts = ['lstms', 'transfer_fcs', 'heads']\n",
    "\n",
    "    def __init__(self, cfg: Config):\n",
    "        super(MTSLSTM, self).__init__(cfg=cfg)\n",
    "        self.lstms = None\n",
    "        self.transfer_fcs = None\n",
    "        self.heads = None\n",
    "        self.dropout = None\n",
    "\n",
    "        self._slice_timestep = {}\n",
    "        self._frequency_factors = []\n",
    "\n",
    "        self._seq_lengths = cfg.seq_length\n",
    "        self._is_shared_mtslstm = self.cfg.shared_mtslstm  # default: a distinct LSTM per timescale\n",
    "        self._transfer_mtslstm_states = self.cfg.transfer_mtslstm_states  # default: linear transfer layer\n",
    "        transfer_modes = [None, \"None\", \"identity\", \"linear\"]\n",
    "        if self._transfer_mtslstm_states[\"h\"] not in transfer_modes \\\n",
    "                or self._transfer_mtslstm_states[\"c\"] not in transfer_modes:\n",
    "            raise ValueError(f\"MTS-LSTM supports state transfer modes {transfer_modes}\")\n",
    "\n",
    "        if len(cfg.use_frequencies) < 2:\n",
    "            raise ValueError(\"MTS-LSTM expects more than one input frequency\")\n",
    "        self._frequencies = sort_frequencies(cfg.use_frequencies)\n",
    "\n",
    "        # start to count the number of inputs\n",
    "        input_sizes = len(cfg.static_attributes + cfg.hydroatlas_attributes + cfg.evolving_attributes)\n",
    "\n",
    "        # if is_shared_mtslstm, the LSTM gets an additional frequency flag as input.\n",
    "        if self._is_shared_mtslstm:\n",
    "            input_sizes += len(self._frequencies)\n",
    "\n",
    "        if cfg.use_basin_id_encoding:\n",
    "            input_sizes += cfg.number_of_basins\n",
    "        if cfg.head.lower() == \"umal\":\n",
    "            input_sizes += 1\n",
    "\n",
    "        if isinstance(cfg.dynamic_inputs, list):\n",
    "            input_sizes = {freq: input_sizes + len(cfg.dynamic_inputs) for freq in self._frequencies}\n",
    "        else:\n",
    "            if self._is_shared_mtslstm:\n",
    "                raise ValueError(f'Different inputs not allowed if shared_mtslstm is used.')\n",
    "            input_sizes = {freq: input_sizes + len(cfg.dynamic_inputs[freq]) for freq in self._frequencies}\n",
    "\n",
    "        if not isinstance(cfg.hidden_size, dict):\n",
    "            LOGGER.info(\"No specific hidden size for frequencies are specified. Same hidden size is used for all.\")\n",
    "            self._hidden_size = {freq: cfg.hidden_size for freq in self._frequencies}\n",
    "        else:\n",
    "            self._hidden_size = cfg.hidden_size\n",
    "\n",
    "        if (self._is_shared_mtslstm\n",
    "            or self._transfer_mtslstm_states[\"h\"] == \"identity\"\n",
    "            or self._transfer_mtslstm_states[\"c\"] == \"identity\") \\\n",
    "                and any(size != self._hidden_size[self._frequencies[0]] for size in self._hidden_size.values()):\n",
    "            raise ValueError(\"All hidden sizes must be equal if shared_mtslstm is used or state transfer=identity.\")\n",
    "\n",
    "        # create layer depending on selected frequencies\n",
    "        self._init_modules(input_sizes)\n",
    "        self._reset_parameters()\n",
    "\n",
    "        # frequency factors are needed to determine the time step of information transfer\n",
    "        self._init_frequency_factors_and_slice_timesteps()\n",
    "\n",
    "    def _init_modules(self, input_sizes: Dict[str, int]):\n",
    "        self.lstms = nn.ModuleDict()\n",
    "        self.transfer_fcs = nn.ModuleDict()\n",
    "        self.heads = nn.ModuleDict()\n",
    "        self.dropout = nn.Dropout(p=self.cfg.output_dropout)\n",
    "        for idx, freq in enumerate(self._frequencies):\n",
    "            freq_input_size = input_sizes[freq]\n",
    "\n",
    "            if self._is_shared_mtslstm and idx > 0:\n",
    "                self.lstms[freq] = self.lstms[self._frequencies[idx - 1]]  # same LSTM for all frequencies.\n",
    "                self.heads[freq] = self.heads[self._frequencies[idx - 1]]  # same head for all frequencies.\n",
    "            else:\n",
    "                self.lstms[freq] = nn.LSTM(input_size=freq_input_size, hidden_size=self._hidden_size[freq])\n",
    "                self.heads[freq] = get_head(self.cfg, n_in=self._hidden_size[freq], n_out=self.output_size)\n",
    "\n",
    "            if idx < len(self._frequencies) - 1:\n",
    "                for state in [\"c\", \"h\"]:\n",
    "                    if self._transfer_mtslstm_states[state] == \"linear\":\n",
    "                        self.transfer_fcs[f\"{state}_{freq}\"] = nn.Linear(self._hidden_size[freq],\n",
    "                                                                         self._hidden_size[self._frequencies[idx + 1]])\n",
    "                    elif self._transfer_mtslstm_states[state] == \"identity\":\n",
    "                        self.transfer_fcs[f\"{state}_{freq}\"] = nn.Identity()\n",
    "                    else:\n",
    "                        pass\n",
    "\n",
    "    def _init_frequency_factors_and_slice_timesteps(self):\n",
    "        for idx, freq in enumerate(self._frequencies):\n",
    "            if idx < len(self._frequencies) - 1:\n",
    "                frequency_factor = get_frequency_factor(freq, self._frequencies[idx + 1])\n",
    "                if frequency_factor != int(frequency_factor):\n",
    "                    raise ValueError('Adjacent frequencies must be multiples of each other.')\n",
    "                self._frequency_factors.append(int(frequency_factor))\n",
    "                # we want to pass the state of the day _before_ the next higher frequency starts,\n",
    "                # because e.g. the mean of a day is stored at the same date at 00:00 in the morning.\n",
    "                slice_timestep = int(self._seq_lengths[self._frequencies[idx + 1]] / self._frequency_factors[idx])\n",
    "                self._slice_timestep[freq] = slice_timestep\n",
    "\n",
    "    def _reset_parameters(self):\n",
    "        if self.cfg.initial_forget_bias is not None:\n",
    "            for freq in self._frequencies:\n",
    "                hidden_size = self._hidden_size[freq]\n",
    "                self.lstms[freq].bias_hh_l0.data[hidden_size:2 * hidden_size] = self.cfg.initial_forget_bias\n",
    "\n",
    "    def _prepare_inputs(self, data: Dict[str, torch.Tensor], freq: str) -> torch.Tensor:\n",
    "        \"\"\"Concat all different inputs to the time series input\"\"\"\n",
    "        suffix = f\"_{freq}\"\n",
    "        # transpose to [seq_length, batch_size, n_features]\n",
    "        x_d = data[f'x_d{suffix}'].transpose(0, 1)\n",
    "\n",
    "        # concat all inputs\n",
    "        if f'x_s{suffix}' in data and 'x_one_hot' in data:\n",
    "            x_s = data[f'x_s{suffix}'].unsqueeze(0).repeat(x_d.shape[0], 1, 1)\n",
    "            x_one_hot = data['x_one_hot'].unsqueeze(0).repeat(x_d.shape[0], 1, 1)\n",
    "            x_d = torch.cat([x_d, x_s, x_one_hot], dim=-1)\n",
    "        elif f'x_s{suffix}' in data:\n",
    "            x_s = data[f'x_s{suffix}'].unsqueeze(0).repeat(x_d.shape[0], 1, 1)\n",
    "            x_d = torch.cat([x_d, x_s], dim=-1)\n",
    "        elif 'x_one_hot' in data:\n",
    "            x_one_hot = data['x_one_hot'].unsqueeze(0).repeat(x_d.shape[0], 1, 1)\n",
    "            x_d = torch.cat([x_d, x_one_hot], dim=-1)\n",
    "        else:\n",
    "            pass\n",
    "\n",
    "        if self._is_shared_mtslstm:\n",
    "            # add frequency one-hot encoding\n",
    "            idx = self._frequencies.index(freq)\n",
    "            one_hot_freq = torch.zeros(x_d.shape[0], x_d.shape[1], len(self._frequencies)).to(x_d)\n",
    "            one_hot_freq[:, :, idx] = 1\n",
    "            x_d = torch.cat([x_d, one_hot_freq], dim=2)\n",
    "\n",
    "        return x_d\n",
    "\n",
    "    def forward(self, data: Dict[str, torch.Tensor]) -> Dict[str, torch.Tensor]:\n",
    "        \"\"\"Perform a forward pass on the MTS-LSTM model.\n",
    "        \n",
    "        Parameters\n",
    "        ----------\n",
    "        data : Dict[str, torch.Tensor]\n",
    "            Input data for the forward pass. See the documentation overview of all models for details on the dict keys.\n",
    "        Returns\n",
    "        -------\n",
    "        Dict[str, torch.Tensor]\n",
    "            Model predictions for each target timescale.\n",
    "        \"\"\"\n",
    "        x_d = {freq: self._prepare_inputs(data, freq) for freq in self._frequencies}\n",
    "\n",
    "        # initial states for lowest frequencies are set to zeros\n",
    "        batch_size = x_d[self._frequencies[0]].shape[1]\n",
    "        lowest_freq_hidden_size = self._hidden_size[self._frequencies[0]]\n",
    "        h_0_transfer = x_d[self._frequencies[0]].new_zeros((1, batch_size, lowest_freq_hidden_size))\n",
    "        c_0_transfer = torch.zeros_like(h_0_transfer)\n",
    "\n",
    "        outputs = {}\n",
    "        for idx, freq in enumerate(self._frequencies):\n",
    "            if idx < len(self._frequencies) - 1:\n",
    "                # get predictions and state up to the time step of information transfer\n",
    "                slice_timestep = self._slice_timestep[freq]\n",
    "                lstm_output_slice1, (h_n_slice1, c_n_slice1) = self.lstms[freq](x_d[freq][:-slice_timestep],\n",
    "                                                                                (h_0_transfer, c_0_transfer))\n",
    "\n",
    "                # project the states through a hidden layer to the dimensions of the next LSTM\n",
    "                if self._transfer_mtslstm_states[\"h\"] is not None:\n",
    "                    h_0_transfer = self.transfer_fcs[f\"h_{freq}\"](h_n_slice1)\n",
    "                if self._transfer_mtslstm_states[\"c\"] is not None:\n",
    "                    c_0_transfer = self.transfer_fcs[f\"c_{freq}\"](c_n_slice1)\n",
    "\n",
    "                # get predictions of remaining part and concat results\n",
    "                lstm_output_slice2, _ = self.lstms[freq](x_d[freq][-slice_timestep:], (h_n_slice1, c_n_slice1))\n",
    "                lstm_output = torch.cat([lstm_output_slice1, lstm_output_slice2], dim=0)\n",
    "\n",
    "            else:\n",
    "                # for highest frequency, we can pass the entire sequence at once\n",
    "                lstm_output, _ = self.lstms[freq](x_d[freq], (h_0_transfer, c_0_transfer))\n",
    "\n",
    "            head_out = self.heads[freq](self.dropout(lstm_output.transpose(0, 1)))\n",
    "            outputs.update({f'{key}_{freq}': value for key, value in head_out.items()})\n",
    "\n",
    "        return outputs"
   ]
  },
  {
   "cell_type": "code",
   "execution_count": 94,
   "metadata": {},
   "outputs": [
    {
     "name": "stdout",
     "output_type": "stream",
     "text": [
      "0 1D\n",
      "1 1H\n"
     ]
    }
   ],
   "source": [
    "for idx, freq in enumerate(mymodel._frequencies):\n",
    "    print(idx, freq)"
   ]
  },
  {
   "cell_type": "code",
   "execution_count": 97,
   "metadata": {},
   "outputs": [
    {
     "data": {
      "text/plain": [
       "{'1D': 14}"
      ]
     },
     "execution_count": 97,
     "metadata": {},
     "output_type": "execute_result"
    }
   ],
   "source": [
    "mymodel._slice_timestep"
   ]
  },
  {
   "cell_type": "code",
   "execution_count": 99,
   "metadata": {},
   "outputs": [
    {
     "data": {
      "text/plain": [
       "{'1D': 365, '1H': 336}"
      ]
     },
     "execution_count": 99,
     "metadata": {},
     "output_type": "execute_result"
    }
   ],
   "source": [
    "mymodel._seq_lengths"
   ]
  },
  {
   "cell_type": "code",
   "execution_count": 98,
   "metadata": {},
   "outputs": [
    {
     "data": {
      "text/plain": [
       "24.0"
      ]
     },
     "execution_count": 98,
     "metadata": {},
     "output_type": "execute_result"
    }
   ],
   "source": [
    "get_frequency_factor('1D', '1H')"
   ]
  },
  {
   "cell_type": "markdown",
   "metadata": {},
   "source": [
    "Define the configuration file as par neuralhydrology format\n",
    "* need to understand which features will be helpful Aibedo"
   ]
  },
  {
   "cell_type": "code",
   "execution_count": 6,
   "metadata": {},
   "outputs": [],
   "source": [
    "conf_obj = Config(Path('mytest_basin.yml'))"
   ]
  },
  {
   "cell_type": "code",
   "execution_count": 7,
   "metadata": {},
   "outputs": [
    {
     "data": {
      "text/plain": [
       "{'experiment_name': 'test_run',\n",
       " 'use_frequencies': ['1H', '1D'],\n",
       " 'train_basin_file': PosixPath('1_basin.txt'),\n",
       " 'validation_basin_file': PosixPath('1_basin.txt'),\n",
       " 'test_basin_file': PosixPath('1_basin.txt'),\n",
       " 'train_start_date': Timestamp('1999-10-01 00:00:00'),\n",
       " 'train_end_date': Timestamp('2008-09-30 00:00:00'),\n",
       " 'validation_start_date': Timestamp('1996-10-01 00:00:00'),\n",
       " 'validation_end_date': Timestamp('1999-09-30 00:00:00'),\n",
       " 'test_start_date': Timestamp('1989-10-01 00:00:00'),\n",
       " 'test_end_date': Timestamp('1996-09-30 00:00:00'),\n",
       " 'device': 'cpu',\n",
       " 'validate_every': 5,\n",
       " 'validate_n_random_basins': 1,\n",
       " 'metrics': ['NSE'],\n",
       " 'model': 'mtslstm',\n",
       " 'shared_mtslstm': False,\n",
       " 'transfer_mtslstm_states': {'h': 'linear', 'c': 'linear'},\n",
       " 'head': 'regression',\n",
       " 'output_activation': 'linear',\n",
       " 'hidden_size': 20,\n",
       " 'initial_forget_bias': 3,\n",
       " 'output_dropout': 0.4,\n",
       " 'optimizer': 'Adam',\n",
       " 'loss': 'MSE',\n",
       " 'regularization': ['tie_frequencies'],\n",
       " 'learning_rate': {0: 0.01, 30: 0.005, 40: 0.001},\n",
       " 'batch_size': 256,\n",
       " 'epochs': 50,\n",
       " 'clip_gradient_norm': 1,\n",
       " 'predict_last_n': {'1D': 1, '1H': 24},\n",
       " 'seq_length': {'1D': 365, '1H': 336},\n",
       " 'num_workers': 8,\n",
       " 'log_interval': 5,\n",
       " 'log_tensorboard': False,\n",
       " 'log_n_figures': 0,\n",
       " 'save_weights_every': 1,\n",
       " 'dataset': 'hourly_camels_us',\n",
       " 'data_dir': PosixPath('/Users/shazarika/OneDrive - PARC/Projects/AiBEDO/codebase/data_neuralhydrology/CAMELS_US'),\n",
       " 'forcings': ['nldas_hourly', 'maurer_extended'],\n",
       " 'dynamic_inputs': {'1D': ['prcp(mm/day)_maurer_extended',\n",
       "   'srad(W/m2)_maurer_extended',\n",
       "   'tmax(C)_maurer_extended',\n",
       "   'tmin(C)_maurer_extended',\n",
       "   'vp(Pa)_maurer_extended'],\n",
       "  '1H': ['convective_fraction_nldas_hourly',\n",
       "   'longwave_radiation_nldas_hourly',\n",
       "   'potential_energy_nldas_hourly',\n",
       "   'potential_evaporation_nldas_hourly',\n",
       "   'pressure_nldas_hourly',\n",
       "   'shortwave_radiation_nldas_hourly',\n",
       "   'specific_humidity_nldas_hourly',\n",
       "   'temperature_nldas_hourly',\n",
       "   'total_precipitation_nldas_hourly',\n",
       "   'wind_u_nldas_hourly',\n",
       "   'wind_v_nldas_hourly',\n",
       "   'prcp(mm/day)_maurer_extended',\n",
       "   'srad(W/m2)_maurer_extended',\n",
       "   'tmax(C)_maurer_extended',\n",
       "   'tmin(C)_maurer_extended',\n",
       "   'vp(Pa)_maurer_extended']},\n",
       " 'target_variables': ['qobs_mm_per_hour'],\n",
       " 'clip_targets_to_zero': ['qobs_mm_per_hour']}"
      ]
     },
     "execution_count": 7,
     "metadata": {},
     "output_type": "execute_result"
    }
   ],
   "source": [
    "conf_obj.as_dict()"
   ]
  },
  {
   "cell_type": "code",
   "execution_count": 8,
   "metadata": {},
   "outputs": [
    {
     "data": {
      "text/plain": [
       "'REGRESSION'"
      ]
     },
     "execution_count": 8,
     "metadata": {},
     "output_type": "execute_result"
    }
   ],
   "source": [
    "conf_obj.head.upper()"
   ]
  },
  {
   "cell_type": "code",
   "execution_count": null,
   "metadata": {},
   "outputs": [],
   "source": []
  },
  {
   "cell_type": "code",
   "execution_count": 9,
   "metadata": {},
   "outputs": [
    {
     "name": "stdout",
     "output_type": "stream",
     "text": [
      "2022-02-24 10:31:19,548: Logging to /Users/shazarika/OneDrive - PARC/Projects/AiBEDO/codebase/aibedo/TemporalModels/standalone/runs/test_run_2402_103119/output.log initialized.\n",
      "2022-02-24 10:31:19,549: ### Folder structure created at /Users/shazarika/OneDrive - PARC/Projects/AiBEDO/codebase/aibedo/TemporalModels/standalone/runs/test_run_2402_103119\n",
      "2022-02-24 10:31:19,550: ### Run configurations for test_run\n",
      "2022-02-24 10:31:19,550: experiment_name: test_run\n",
      "2022-02-24 10:31:19,551: use_frequencies: ['1H', '1D']\n",
      "2022-02-24 10:31:19,552: train_basin_file: 1_basin.txt\n",
      "2022-02-24 10:31:19,553: validation_basin_file: 1_basin.txt\n",
      "2022-02-24 10:31:19,554: test_basin_file: 1_basin.txt\n",
      "2022-02-24 10:31:19,555: train_start_date: 1999-10-01 00:00:00\n",
      "2022-02-24 10:31:19,556: train_end_date: 2008-09-30 00:00:00\n",
      "2022-02-24 10:31:19,557: validation_start_date: 1996-10-01 00:00:00\n",
      "2022-02-24 10:31:19,557: validation_end_date: 1999-09-30 00:00:00\n",
      "2022-02-24 10:31:19,558: test_start_date: 1989-10-01 00:00:00\n",
      "2022-02-24 10:31:19,559: test_end_date: 1996-09-30 00:00:00\n",
      "2022-02-24 10:31:19,559: device: cpu\n",
      "2022-02-24 10:31:19,560: validate_every: 5\n",
      "2022-02-24 10:31:19,561: validate_n_random_basins: 1\n",
      "2022-02-24 10:31:19,562: metrics: ['NSE']\n",
      "2022-02-24 10:31:19,562: model: mtslstm\n",
      "2022-02-24 10:31:19,563: shared_mtslstm: False\n",
      "2022-02-24 10:31:19,563: transfer_mtslstm_states: {'h': 'linear', 'c': 'linear'}\n",
      "2022-02-24 10:31:19,564: head: regression\n",
      "2022-02-24 10:31:19,565: output_activation: linear\n",
      "2022-02-24 10:31:19,566: hidden_size: 20\n",
      "2022-02-24 10:31:19,567: initial_forget_bias: 3\n",
      "2022-02-24 10:31:19,567: output_dropout: 0.4\n",
      "2022-02-24 10:31:19,568: optimizer: Adam\n",
      "2022-02-24 10:31:19,569: loss: MSE\n",
      "2022-02-24 10:31:19,570: regularization: ['tie_frequencies']\n",
      "2022-02-24 10:31:19,571: learning_rate: {0: 0.01, 30: 0.005, 40: 0.001}\n",
      "2022-02-24 10:31:19,571: batch_size: 256\n",
      "2022-02-24 10:31:19,572: epochs: 50\n",
      "2022-02-24 10:31:19,573: clip_gradient_norm: 1\n",
      "2022-02-24 10:31:19,574: predict_last_n: {'1D': 1, '1H': 24}\n",
      "2022-02-24 10:31:19,575: seq_length: {'1D': 365, '1H': 336}\n",
      "2022-02-24 10:31:19,575: num_workers: 8\n",
      "2022-02-24 10:31:19,576: log_interval: 5\n",
      "2022-02-24 10:31:19,576: log_tensorboard: False\n",
      "2022-02-24 10:31:19,577: log_n_figures: 0\n",
      "2022-02-24 10:31:19,578: save_weights_every: 1\n",
      "2022-02-24 10:31:19,578: dataset: hourly_camels_us\n",
      "2022-02-24 10:31:19,579: data_dir: /Users/shazarika/OneDrive - PARC/Projects/AiBEDO/codebase/data_neuralhydrology/CAMELS_US\n",
      "2022-02-24 10:31:19,579: forcings: ['nldas_hourly', 'maurer_extended']\n",
      "2022-02-24 10:31:19,580: dynamic_inputs: {'1D': ['prcp(mm/day)_maurer_extended', 'srad(W/m2)_maurer_extended', 'tmax(C)_maurer_extended', 'tmin(C)_maurer_extended', 'vp(Pa)_maurer_extended'], '1H': ['convective_fraction_nldas_hourly', 'longwave_radiation_nldas_hourly', 'potential_energy_nldas_hourly', 'potential_evaporation_nldas_hourly', 'pressure_nldas_hourly', 'shortwave_radiation_nldas_hourly', 'specific_humidity_nldas_hourly', 'temperature_nldas_hourly', 'total_precipitation_nldas_hourly', 'wind_u_nldas_hourly', 'wind_v_nldas_hourly', 'prcp(mm/day)_maurer_extended', 'srad(W/m2)_maurer_extended', 'tmax(C)_maurer_extended', 'tmin(C)_maurer_extended', 'vp(Pa)_maurer_extended']}\n",
      "2022-02-24 10:31:19,580: target_variables: ['qobs_mm_per_hour']\n",
      "2022-02-24 10:31:19,581: clip_targets_to_zero: ['qobs_mm_per_hour']\n",
      "2022-02-24 10:31:19,582: number_of_basins: 1\n",
      "2022-02-24 10:31:19,582: run_dir: /Users/shazarika/OneDrive - PARC/Projects/AiBEDO/codebase/aibedo/TemporalModels/standalone/runs/test_run_2402_103119\n",
      "2022-02-24 10:31:19,583: train_dir: /Users/shazarika/OneDrive - PARC/Projects/AiBEDO/codebase/aibedo/TemporalModels/standalone/runs/test_run_2402_103119/train_data\n",
      "2022-02-24 10:31:19,583: img_log_dir: /Users/shazarika/OneDrive - PARC/Projects/AiBEDO/codebase/aibedo/TemporalModels/standalone/runs/test_run_2402_103119/img_log\n",
      "2022-02-24 10:31:19,589: ### Device cpu will be used for training\n"
     ]
    }
   ],
   "source": [
    "trainer = BaseTrainer(cfg=conf_obj)"
   ]
  },
  {
   "cell_type": "code",
   "execution_count": 10,
   "metadata": {},
   "outputs": [
    {
     "name": "stdout",
     "output_type": "stream",
     "text": [
      "2022-02-24 10:31:54,830: No specific hidden size for frequencies are specified. Same hidden size is used for all.\n",
      "2022-02-24 10:31:54,834: Loading basin data into xarray data set.\n",
      "100%|██████████| 1/1 [00:00<00:00,  1.34it/s]\n",
      "2022-02-24 10:31:55,618: Create lookup table and convert to pytorch tensor\n",
      "100%|██████████| 1/1 [00:01<00:00,  1.67s/it]\n"
     ]
    }
   ],
   "source": [
    "trainer.initialize_training()"
   ]
  },
  {
   "cell_type": "code",
   "execution_count": 11,
   "metadata": {},
   "outputs": [
    {
     "data": {
      "text/plain": [
       "device(type='cpu')"
      ]
     },
     "execution_count": 11,
     "metadata": {},
     "output_type": "execute_result"
    }
   ],
   "source": [
    "trainer.device"
   ]
  },
  {
   "cell_type": "code",
   "execution_count": 235,
   "metadata": {},
   "outputs": [
    {
     "data": {
      "text/plain": [
       "False"
      ]
     },
     "execution_count": 235,
     "metadata": {},
     "output_type": "execute_result"
    }
   ],
   "source": [
    "trainer.cfg.is_finetuning"
   ]
  },
  {
   "cell_type": "code",
   "execution_count": 13,
   "metadata": {},
   "outputs": [
    {
     "data": {
      "text/plain": [
       "{'xarray_feature_scale': <xarray.Dataset>\n",
       " Dimensions:                             ()\n",
       " Data variables: (12/17)\n",
       "     convective_fraction_nldas_hourly    float64 0.12\n",
       "     longwave_radiation_nldas_hourly     float64 59.98\n",
       "     potential_energy_nldas_hourly       float64 189.9\n",
       "     potential_evaporation_nldas_hourly  float64 0.199\n",
       "     prcp(mm/day)_maurer_extended        float64 6.349\n",
       "     pressure_nldas_hourly               float64 874.5\n",
       "     ...                                  ...\n",
       "     tmax(C)_maurer_extended             float64 10.48\n",
       "     tmin(C)_maurer_extended             float64 10.14\n",
       "     total_precipitation_nldas_hourly    float64 0.6986\n",
       "     vp(Pa)_maurer_extended              float64 461.8\n",
       "     wind_u_nldas_hourly                 float64 3.63\n",
       "     wind_v_nldas_hourly                 float64 3.797,\n",
       " 'xarray_feature_center': <xarray.Dataset>\n",
       " Dimensions:                             ()\n",
       " Data variables: (12/17)\n",
       "     convective_fraction_nldas_hourly    float32 0.02477\n",
       "     longwave_radiation_nldas_hourly     float32 298.5\n",
       "     potential_energy_nldas_hourly       float32 44.49\n",
       "     potential_evaporation_nldas_hourly  float32 0.1395\n",
       "     prcp(mm/day)_maurer_extended        float32 3.396\n",
       "     pressure_nldas_hourly               float32 1.002e+05\n",
       "     ...                                  ...\n",
       "     tmax(C)_maurer_extended             float32 12.7\n",
       "     tmin(C)_maurer_extended             float32 0.8096\n",
       "     total_precipitation_nldas_hourly    float32 0.1238\n",
       "     vp(Pa)_maurer_extended              float32 761.3\n",
       "     wind_u_nldas_hourly                 float32 1.52\n",
       "     wind_v_nldas_hourly                 float32 -0.2385}"
      ]
     },
     "execution_count": 13,
     "metadata": {},
     "output_type": "execute_result"
    }
   ],
   "source": [
    "trainer._scaler"
   ]
  },
  {
   "cell_type": "code",
   "execution_count": 12,
   "metadata": {},
   "outputs": [
    {
     "name": "stdout",
     "output_type": "stream",
     "text": [
      "2022-02-24 10:33:12,129: Loading basin data into xarray data set.\n",
      "100%|██████████| 1/1 [00:00<00:00,  1.70it/s]\n",
      "2022-02-24 10:33:12,750: Create lookup table and convert to pytorch tensor\n",
      "100%|██████████| 1/1 [00:00<00:00, 10.05it/s]\n"
     ]
    }
   ],
   "source": [
    "ds = get_dataset(cfg=conf_obj, period=\"train\", is_train=True)"
   ]
  },
  {
   "cell_type": "code",
   "execution_count": 13,
   "metadata": {},
   "outputs": [],
   "source": [
    "import pandas as pd\n",
    "import xarray"
   ]
  },
  {
   "cell_type": "code",
   "execution_count": 14,
   "metadata": {},
   "outputs": [
    {
     "data": {
      "text/plain": [
       "dict_keys(['nldas_hourly'])"
      ]
     },
     "execution_count": 14,
     "metadata": {},
     "output_type": "execute_result"
    }
   ],
   "source": [
    "ds._netcdf_datasets.keys()"
   ]
  },
  {
   "cell_type": "code",
   "execution_count": 15,
   "metadata": {},
   "outputs": [
    {
     "data": {
      "text/plain": [
       "4"
      ]
     },
     "execution_count": 15,
     "metadata": {},
     "output_type": "execute_result"
    }
   ],
   "source": [
    "len(ds.__getitem__(1000))"
   ]
  },
  {
   "cell_type": "code",
   "execution_count": 16,
   "metadata": {},
   "outputs": [
    {
     "name": "stdout",
     "output_type": "stream",
     "text": [
      "2022-02-24 10:33:22,222: Loading basin data into xarray data set.\n",
      "100%|██████████| 1/1 [00:00<00:00,  2.23it/s]\n",
      "2022-02-24 10:33:22,691: Create lookup table and convert to pytorch tensor\n",
      "100%|██████████| 1/1 [00:00<00:00, 10.57it/s]\n"
     ]
    }
   ],
   "source": [
    "ds = trainer._get_dataset()"
   ]
  },
  {
   "cell_type": "code",
   "execution_count": 17,
   "metadata": {},
   "outputs": [
    {
     "name": "stdout",
     "output_type": "stream",
     "text": [
      "('01022500', [8759, 364])\n",
      "('01022500', [8783, 365])\n",
      "('01022500', [8807, 366])\n",
      "('01022500', [8831, 367])\n",
      "('01022500', [8855, 368])\n",
      "('01022500', [87623, 3650])\n",
      "('01022500', [87647, 3651])\n"
     ]
    }
   ],
   "source": [
    "print(ds.lookup_table[0])\n",
    "print(ds.lookup_table[1])\n",
    "print(ds.lookup_table[2])\n",
    "print(ds.lookup_table[3])\n",
    "print(ds.lookup_table[4])\n",
    "\n",
    "print(ds.lookup_table[2737])\n",
    "\n",
    "print(ds.lookup_table[2738])"
   ]
  },
  {
   "cell_type": "code",
   "execution_count": 18,
   "metadata": {},
   "outputs": [],
   "source": [
    "all_ds_start_id_D = []\n",
    "all_ds_start_id_H = []\n",
    "\n",
    "for i in range(len(ds)):\n",
    "    all_ds_start_id_D.append(ds.lookup_table[i][1][1])\n",
    "    all_ds_start_id_H.append(ds.lookup_table[i][1][0])"
   ]
  },
  {
   "cell_type": "code",
   "execution_count": 49,
   "metadata": {},
   "outputs": [
    {
     "data": {
      "text/plain": [
       "[<matplotlib.lines.Line2D at 0x7ff0ecf6b6d0>]"
      ]
     },
     "execution_count": 49,
     "metadata": {},
     "output_type": "execute_result"
    },
    {
     "data": {
      "image/png": "[encoded data removed]",
      "text/plain": [
       "<Figure size 432x288 with 1 Axes>"
      ]
     },
     "metadata": {
      "needs_background": "light"
     },
     "output_type": "display_data"
    }
   ],
   "source": [
    "plt.plot(all_ds_start_id_D)\n",
    "plt.plot(all_ds_start_id_H)"
   ]
  },
  {
   "cell_type": "code",
   "execution_count": 282,
   "metadata": {},
   "outputs": [],
   "source": [
    "np.save(\"H_lookup.npy\", np.array(all_ds_start_id_H))\n",
    "np.save(\"D_lookup.npy\", np.array(all_ds_start_id_D))\n"
   ]
  },
  {
   "cell_type": "code",
   "execution_count": null,
   "metadata": {},
   "outputs": [],
   "source": []
  },
  {
   "cell_type": "code",
   "execution_count": null,
   "metadata": {},
   "outputs": [],
   "source": []
  },
  {
   "cell_type": "code",
   "execution_count": 21,
   "metadata": {},
   "outputs": [
    {
     "data": {
      "text/plain": [
       "2739"
      ]
     },
     "execution_count": 21,
     "metadata": {},
     "output_type": "execute_result"
    }
   ],
   "source": [
    "len(ds)"
   ]
  },
  {
   "cell_type": "code",
   "execution_count": 22,
   "metadata": {},
   "outputs": [
    {
     "name": "stdout",
     "output_type": "stream",
     "text": [
      "[336, 365]\n",
      "['1H', '1D']\n"
     ]
    }
   ],
   "source": [
    "print(ds.seq_len)\n",
    "print(ds.frequencies)"
   ]
  },
  {
   "cell_type": "code",
   "execution_count": 23,
   "metadata": {},
   "outputs": [
    {
     "name": "stdout",
     "output_type": "stream",
     "text": [
      "1H 336 8759\n",
      "1D 365 364\n"
     ]
    }
   ],
   "source": [
    "for freq, seq_len, idx in zip(ds.frequencies, ds.seq_len, [8759, 364]):\n",
    "    print(freq, seq_len, idx)"
   ]
  },
  {
   "cell_type": "code",
   "execution_count": 24,
   "metadata": {},
   "outputs": [
    {
     "name": "stdout",
     "output_type": "stream",
     "text": [
      "torch.Size([87648, 16])\n",
      "torch.Size([3652, 5])\n",
      "torch.Size([87648, 1])\n",
      "torch.Size([3652, 1])\n"
     ]
    }
   ],
   "source": [
    "print(ds.x_d['01022500']['1H'].shape)\n",
    "print(ds.x_d['01022500']['1D'].shape)\n",
    "\n",
    "print(ds.y['01022500']['1H'].shape)\n",
    "print(ds.y['01022500']['1D'].shape)"
   ]
  },
  {
   "cell_type": "markdown",
   "metadata": {},
   "source": [
    "### Storing the numpy arrays seperately "
   ]
  },
  {
   "cell_type": "code",
   "execution_count": 241,
   "metadata": {},
   "outputs": [],
   "source": [
    "x_d_1H_array = ds.x_d['01022500']['1H'].numpy()\n",
    "x_d_1D_array = ds.x_d['01022500']['1D'].numpy()\n",
    "\n",
    "y_1H_array = ds.y['01022500']['1H'].numpy()\n",
    "y_1D_array = ds.y['01022500']['1D'].numpy()\n",
    "\n",
    "np.save(\"x_d_1H_array.npy\", x_d_1H_array)\n",
    "np.save(\"x_d_1D_array.npy\", x_d_1D_array)\n",
    "\n",
    "np.save(\"y_1H_array.npy\", y_1H_array)\n",
    "np.save(\"y_1D_array.npy\", y_1D_array)\n",
    "\n"
   ]
  },
  {
   "cell_type": "code",
   "execution_count": 56,
   "metadata": {},
   "outputs": [
    {
     "data": {
      "text/plain": [
       "['1H', '1D']"
      ]
     },
     "execution_count": 56,
     "metadata": {},
     "output_type": "execute_result"
    }
   ],
   "source": [
    "ds.frequencies"
   ]
  },
  {
   "cell_type": "markdown",
   "metadata": {},
   "source": [
    "## Also get the validation and test dataset"
   ]
  },
  {
   "cell_type": "code",
   "execution_count": 30,
   "metadata": {},
   "outputs": [],
   "source": [
    "ds_validate = get_dataset(cfg=conf_obj, period=\"validation\", is_train=False)\n",
    "ds_test = get_dataset(cfg=conf_obj, period=\"test\", is_train=False)"
   ]
  },
  {
   "cell_type": "code",
   "execution_count": 31,
   "metadata": {},
   "outputs": [
    {
     "name": "stdout",
     "output_type": "stream",
     "text": [
      "2739 1095 2557\n"
     ]
    }
   ],
   "source": [
    "print(len(ds), len(ds_validate), len(ds_test))"
   ]
  },
  {
   "cell_type": "code",
   "execution_count": 36,
   "metadata": {},
   "outputs": [
    {
     "name": "stdout",
     "output_type": "stream",
     "text": [
      "TRAIN: {'01022500': {'start_dates': [Timestamp('1999-10-01 00:00:00')], 'end_dates': [Timestamp('2008-09-30 00:00:00')]}}\n",
      "VAL: {'01022500': {'start_dates': [Timestamp('1996-10-01 00:00:00')], 'end_dates': [Timestamp('1999-09-30 00:00:00')]}}\n",
      "TEST: {'01022500': {'start_dates': [Timestamp('1989-10-01 00:00:00')], 'end_dates': [Timestamp('1996-09-30 00:00:00')]}}\n"
     ]
    }
   ],
   "source": [
    "print(\"TRAIN:\", ds.dates)\n",
    "print(\"VAL:\", ds_validate.dates)\n",
    "print(\"TEST:\", ds_test.dates)"
   ]
  },
  {
   "cell_type": "code",
   "execution_count": 41,
   "metadata": {},
   "outputs": [],
   "source": [
    "def check_dim(dds):\n",
    "    print('1H x_d shape', dds.x_d['01022500']['1H'].shape)\n",
    "    print('1D x_d shape', dds.x_d['01022500']['1D'].shape)\n",
    "    \n",
    "    print('1H y shape', dds.y['01022500']['1H'].shape)\n",
    "    print('1D y shape', dds.y['01022500']['1D'].shape)\n",
    "    "
   ]
  },
  {
   "cell_type": "code",
   "execution_count": 42,
   "metadata": {},
   "outputs": [
    {
     "name": "stdout",
     "output_type": "stream",
     "text": [
      "1H x_d shape torch.Size([87648, 16])\n",
      "1D x_d shape torch.Size([3652, 5])\n",
      "1H y shape torch.Size([87648, 1])\n",
      "1D y shape torch.Size([3652, 1])\n"
     ]
    }
   ],
   "source": [
    "check_dim(ds)"
   ]
  },
  {
   "cell_type": "code",
   "execution_count": 43,
   "metadata": {},
   "outputs": [
    {
     "name": "stdout",
     "output_type": "stream",
     "text": [
      "1H x_d shape torch.Size([35016, 16])\n",
      "1D x_d shape torch.Size([1459, 5])\n",
      "1H y shape torch.Size([35016, 1])\n",
      "1D y shape torch.Size([1459, 1])\n"
     ]
    }
   ],
   "source": [
    "check_dim(ds_validate)"
   ]
  },
  {
   "cell_type": "code",
   "execution_count": 44,
   "metadata": {},
   "outputs": [
    {
     "name": "stdout",
     "output_type": "stream",
     "text": [
      "1H x_d shape torch.Size([70104, 16])\n",
      "1D x_d shape torch.Size([2921, 5])\n",
      "1H y shape torch.Size([70104, 1])\n",
      "1D y shape torch.Size([2921, 1])\n"
     ]
    }
   ],
   "source": [
    "check_dim(ds_test)"
   ]
  },
  {
   "cell_type": "code",
   "execution_count": 50,
   "metadata": {},
   "outputs": [],
   "source": [
    "# save dataset lookup\n",
    "\n",
    "def save_lookup_tables(dds, name):\n",
    "    all_dds_start_id_D = []\n",
    "    all_dds_start_id_H = []\n",
    "\n",
    "    for i in range(len(dds)):\n",
    "        all_dds_start_id_D.append(dds.lookup_table[i][1][1])\n",
    "        all_dds_start_id_H.append(dds.lookup_table[i][1][0])\n",
    "        \n",
    "    plt.plot(all_dds_start_id_D)\n",
    "    plt.plot(all_dds_start_id_H)\n",
    "    plt.show()\n",
    "    \n",
    "    np.save(\"H_lookup\"+name+\".npy\", np.array(all_dds_start_id_H))\n",
    "    np.save(\"D_lookup\"+name+\".npy\", np.array(all_dds_start_id_D))\n",
    "    "
   ]
  },
  {
   "cell_type": "code",
   "execution_count": 51,
   "metadata": {},
   "outputs": [
    {
     "data": {
      "image/png": "[encoded data removed]",
      "text/plain": [
       "<Figure size 432x288 with 1 Axes>"
      ]
     },
     "metadata": {
      "needs_background": "light"
     },
     "output_type": "display_data"
    }
   ],
   "source": [
    "save_lookup_tables(ds_validate, \"_val\")"
   ]
  },
  {
   "cell_type": "code",
   "execution_count": 52,
   "metadata": {},
   "outputs": [
    {
     "data": {
      "image/png": "[encoded data removed]",
      "text/plain": [
       "<Figure size 432x288 with 1 Axes>"
      ]
     },
     "metadata": {
      "needs_background": "light"
     },
     "output_type": "display_data"
    }
   ],
   "source": [
    "save_lookup_tables(ds_test, \"_test\")"
   ]
  },
  {
   "cell_type": "code",
   "execution_count": 53,
   "metadata": {},
   "outputs": [],
   "source": [
    "# save full datasets\n",
    "def save_full_data_arrays(dds, name):\n",
    "    temp_x_d_1H_array = dds.x_d['01022500']['1H'].numpy()\n",
    "    temp_x_d_1D_array = dds.x_d['01022500']['1D'].numpy()\n",
    "\n",
    "    temp_y_1H_array = dds.y['01022500']['1H'].numpy()\n",
    "    temp_y_1D_array = dds.y['01022500']['1D'].numpy()\n",
    "\n",
    "    np.save(\"x_d_1H_array\"+name+\".npy\", temp_x_d_1H_array)\n",
    "    np.save(\"x_d_1D_array\"+name+\".npy\", temp_x_d_1D_array)\n",
    "\n",
    "    np.save(\"y_1H_array\"+name+\".npy\", temp_y_1H_array)\n",
    "    np.save(\"y_1D_array\"+name+\".npy\", temp_y_1D_array)\n",
    "    \n",
    "\n"
   ]
  },
  {
   "cell_type": "code",
   "execution_count": 54,
   "metadata": {},
   "outputs": [],
   "source": [
    "save_full_data_arrays(ds_validate, \"_val\")"
   ]
  },
  {
   "cell_type": "code",
   "execution_count": 55,
   "metadata": {},
   "outputs": [],
   "source": [
    "save_full_data_arrays(ds_test, \"_test\")"
   ]
  },
  {
   "cell_type": "code",
   "execution_count": null,
   "metadata": {},
   "outputs": [],
   "source": []
  },
  {
   "cell_type": "code",
   "execution_count": 193,
   "metadata": {},
   "outputs": [],
   "source": [
    "ds_sample = ds.__getitem__(1000)"
   ]
  },
  {
   "cell_type": "code",
   "execution_count": 199,
   "metadata": {},
   "outputs": [
    {
     "name": "stdout",
     "output_type": "stream",
     "text": [
      "torch.Size([336, 16])\n",
      "torch.Size([365, 5])\n",
      "torch.Size([336, 1])\n",
      "torch.Size([365, 1])\n"
     ]
    }
   ],
   "source": [
    "print(ds_sample['x_d_1H'].shape)\n",
    "print(ds_sample['x_d_1D'].shape)\n",
    "\n",
    "print(ds_sample['y_1H'].shape)\n",
    "print(ds_sample['y_1D'].shape)"
   ]
  },
  {
   "cell_type": "code",
   "execution_count": 198,
   "metadata": {},
   "outputs": [
    {
     "data": {
      "text/plain": [
       "dict_keys(['x_d_1H', 'y_1H', 'x_d_1D', 'y_1D'])"
      ]
     },
     "execution_count": 198,
     "metadata": {},
     "output_type": "execute_result"
    }
   ],
   "source": [
    "ds_sample.keys()"
   ]
  },
  {
   "cell_type": "code",
   "execution_count": 218,
   "metadata": {},
   "outputs": [],
   "source": [
    "ds.one_hot"
   ]
  },
  {
   "cell_type": "code",
   "execution_count": 18,
   "metadata": {},
   "outputs": [
    {
     "data": {
      "text/plain": [
       "2739"
      ]
     },
     "execution_count": 18,
     "metadata": {},
     "output_type": "execute_result"
    }
   ],
   "source": [
    "len(ds)"
   ]
  },
  {
   "cell_type": "code",
   "execution_count": 202,
   "metadata": {},
   "outputs": [
    {
     "data": {
      "text/plain": [
       "{}"
      ]
     },
     "execution_count": 202,
     "metadata": {},
     "output_type": "execute_result"
    }
   ],
   "source": [
    "ds.x_s"
   ]
  },
  {
   "cell_type": "code",
   "execution_count": 24,
   "metadata": {},
   "outputs": [
    {
     "data": {
      "text/plain": [
       "4"
      ]
     },
     "execution_count": 24,
     "metadata": {},
     "output_type": "execute_result"
    }
   ],
   "source": [
    "len(ds[10])"
   ]
  },
  {
   "cell_type": "code",
   "execution_count": 27,
   "metadata": {},
   "outputs": [
    {
     "data": {
      "text/plain": [
       "dict_keys(['x_d_1H', 'y_1H', 'x_d_1D', 'y_1D'])"
      ]
     },
     "execution_count": 27,
     "metadata": {},
     "output_type": "execute_result"
    }
   ],
   "source": [
    "ds[10].keys()"
   ]
  },
  {
   "cell_type": "code",
   "execution_count": 29,
   "metadata": {},
   "outputs": [
    {
     "data": {
      "text/plain": [
       "torch.Size([336, 16])"
      ]
     },
     "execution_count": 29,
     "metadata": {},
     "output_type": "execute_result"
    }
   ],
   "source": [
    "ds[10]['x_d_1H'].shape"
   ]
  },
  {
   "cell_type": "code",
   "execution_count": 30,
   "metadata": {},
   "outputs": [
    {
     "data": {
      "text/plain": [
       "torch.Size([336, 1])"
      ]
     },
     "execution_count": 30,
     "metadata": {},
     "output_type": "execute_result"
    }
   ],
   "source": [
    "ds[10]['y_1H'].shape"
   ]
  },
  {
   "cell_type": "code",
   "execution_count": 31,
   "metadata": {},
   "outputs": [
    {
     "data": {
      "text/plain": [
       "torch.Size([365, 5])"
      ]
     },
     "execution_count": 31,
     "metadata": {},
     "output_type": "execute_result"
    }
   ],
   "source": [
    "ds[10]['x_d_1D'].shape"
   ]
  },
  {
   "cell_type": "code",
   "execution_count": 33,
   "metadata": {},
   "outputs": [
    {
     "data": {
      "text/plain": [
       "torch.Size([365, 1])"
      ]
     },
     "execution_count": 33,
     "metadata": {},
     "output_type": "execute_result"
    }
   ],
   "source": [
    "ds[10]['y_1D'].shape"
   ]
  },
  {
   "cell_type": "code",
   "execution_count": 222,
   "metadata": {},
   "outputs": [
    {
     "data": {
      "image/png": "[encoded data removed]",
      "text/plain": [
       "<Figure size 1296x360 with 1 Axes>"
      ]
     },
     "metadata": {
      "needs_background": "light"
     },
     "output_type": "display_data"
    },
    {
     "data": {
      "image/png": "[encoded data removed]",
      "text/plain": [
       "<Figure size 1296x360 with 1 Axes>"
      ]
     },
     "metadata": {
      "needs_background": "light"
     },
     "output_type": "display_data"
    }
   ],
   "source": [
    "plt.figure(figsize=(18,5))\n",
    "plt.plot(ds[2000]['y_1D'][:,0] , c='k')\n",
    "\n",
    "plt.plot(ds[2000]['x_d_1D'][:,0])\n",
    "plt.plot(ds[2000]['x_d_1D'][:,1])\n",
    "plt.plot(ds[2000]['x_d_1D'][:,2])\n",
    "plt.plot(ds[2000]['x_d_1D'][:,3])\n",
    "plt.plot(ds[2000]['x_d_1D'][:,4])\n",
    "\n",
    "\n",
    "plt.show()\n",
    "\n",
    "plt.figure(figsize=(18,5))\n",
    "plt.plot(ds[2000]['y_1H'][:,0] , c='k')\n",
    "\n",
    "plt.plot(ds[2000]['x_d_1H'][:,0])\n",
    "plt.plot(ds[2000]['x_d_1H'][:,1])\n",
    "plt.plot(ds[2000]['x_d_1H'][:,2])\n",
    "plt.plot(ds[2000]['x_d_1H'][:,3])\n",
    "plt.plot(ds[2000]['x_d_1H'][:,14])\n",
    "\n",
    "plt.show()\n",
    "\n",
    "\n",
    "\n"
   ]
  },
  {
   "cell_type": "code",
   "execution_count": 49,
   "metadata": {},
   "outputs": [],
   "source": [
    "dl = DataLoader(ds, batch_size=256, shuffle=True, num_workers=8)"
   ]
  },
  {
   "cell_type": "code",
   "execution_count": 47,
   "metadata": {},
   "outputs": [
    {
     "name": "stdout",
     "output_type": "stream",
     "text": [
      "256\n",
      "8\n"
     ]
    }
   ],
   "source": [
    "print(conf_obj.batch_size)\n",
    "print(conf_obj.num_workers)"
   ]
  },
  {
   "cell_type": "code",
   "execution_count": 250,
   "metadata": {},
   "outputs": [
    {
     "data": {
      "text/plain": [
       "{'01022500': {'1H': tensor([[-0.2065, -0.2315, -0.2172,  ...,  0.2588,  0.1923, -0.0349],\n",
       "          [-0.2065, -0.2315, -0.2230,  ...,  0.2588,  0.1923, -0.0349],\n",
       "          [-0.2065, -0.2316, -0.2286,  ...,  0.2588,  0.1923, -0.0349],\n",
       "          ...,\n",
       "          [-0.2065,  0.9599, -0.1812,  ...,  0.6129,  0.8718,  1.0105],\n",
       "          [-0.2065,  0.9598, -0.1981,  ...,  0.6129,  0.8718,  1.0105],\n",
       "          [-0.2065,  0.9598, -0.2150,  ...,  0.6129,  0.8718,  1.0105]]),\n",
       "  '1D': tensor([[-0.0923, -0.0912,  0.2588,  0.1923, -0.0349],\n",
       "          [-0.5239,  0.0636,  0.0908,  0.2170, -0.1450],\n",
       "          [-0.5349,  0.2534,  0.0698, -0.0059, -0.3074],\n",
       "          ...,\n",
       "          [ 5.6961, -1.9729,  0.4812,  1.3363,  1.7429],\n",
       "          [ 1.1315, -1.3138,  0.7322,  1.2850,  1.6097],\n",
       "          [-0.4325, -0.1638,  0.6129,  0.8718,  1.0105]])}}"
      ]
     },
     "execution_count": 250,
     "metadata": {},
     "output_type": "execute_result"
    }
   ],
   "source": []
  },
  {
   "cell_type": "code",
   "execution_count": 79,
   "metadata": {},
   "outputs": [
    {
     "name": "stderr",
     "output_type": "stream",
     "text": [
      "  0%|          | 0/11 [00:00<?, ?it/s]"
     ]
    }
   ],
   "source": [
    "pbar = tqdm(dl)"
   ]
  },
  {
   "cell_type": "code",
   "execution_count": 100,
   "metadata": {},
   "outputs": [
    {
     "name": "stdout",
     "output_type": "stream",
     "text": [
      "torch.Size([256, 365, 5])\n",
      "torch.Size([256, 365, 5])\n",
      "torch.Size([256, 365, 5])\n",
      "torch.Size([256, 365, 5])\n",
      "torch.Size([256, 365, 5])\n",
      "torch.Size([256, 365, 5])\n",
      "torch.Size([256, 365, 5])\n",
      "torch.Size([256, 365, 5])\n",
      "torch.Size([256, 365, 5])\n",
      "torch.Size([256, 365, 5])\n",
      "torch.Size([179, 365, 5])\n"
     ]
    }
   ],
   "source": [
    "for d in dl:\n",
    "    print(d['x_d_1D'].shape)"
   ]
  },
  {
   "cell_type": "code",
   "execution_count": 106,
   "metadata": {},
   "outputs": [],
   "source": [
    "dd1 = next(iter(dl))  "
   ]
  },
  {
   "cell_type": "code",
   "execution_count": 111,
   "metadata": {},
   "outputs": [
    {
     "data": {
      "text/plain": [
       "torch.Size([256, 336, 16])"
      ]
     },
     "execution_count": 111,
     "metadata": {},
     "output_type": "execute_result"
    }
   ],
   "source": [
    "dd1['x_d_1H'].shape"
   ]
  },
  {
   "cell_type": "code",
   "execution_count": 210,
   "metadata": {},
   "outputs": [
    {
     "data": {
      "text/plain": [
       "dict_keys(['x_d_1H', 'y_1H', 'x_d_1D', 'y_1D'])"
      ]
     },
     "execution_count": 210,
     "metadata": {},
     "output_type": "execute_result"
    }
   ],
   "source": [
    "dd1.keys()"
   ]
  },
  {
   "cell_type": "code",
   "execution_count": 206,
   "metadata": {},
   "outputs": [],
   "source": [
    "import copy"
   ]
  },
  {
   "cell_type": "code",
   "execution_count": 209,
   "metadata": {},
   "outputs": [],
   "source": [
    "dd2_copy = copy.deepcopy(dd1)\n",
    "del dd2_copy['y_1H']\n",
    "del dd2_copy['y_1D']\n"
   ]
  },
  {
   "cell_type": "code",
   "execution_count": 211,
   "metadata": {},
   "outputs": [
    {
     "data": {
      "text/plain": [
       "dict_keys(['x_d_1H', 'x_d_1D'])"
      ]
     },
     "execution_count": 211,
     "metadata": {},
     "output_type": "execute_result"
    }
   ],
   "source": [
    "dd2_copy.keys()"
   ]
  },
  {
   "cell_type": "code",
   "execution_count": 224,
   "metadata": {},
   "outputs": [],
   "source": [
    "pred = mymodel(dd1)"
   ]
  },
  {
   "cell_type": "code",
   "execution_count": 212,
   "metadata": {},
   "outputs": [],
   "source": [
    "pred_copy = mymodel(dd2_copy)"
   ]
  },
  {
   "cell_type": "code",
   "execution_count": 115,
   "metadata": {},
   "outputs": [
    {
     "data": {
      "text/plain": [
       "dict_keys(['y_hat_1D', 'y_hat_1H'])"
      ]
     },
     "execution_count": 115,
     "metadata": {},
     "output_type": "execute_result"
    }
   ],
   "source": [
    "pred.keys()"
   ]
  },
  {
   "cell_type": "code",
   "execution_count": 213,
   "metadata": {},
   "outputs": [
    {
     "data": {
      "text/plain": [
       "dict_keys(['y_hat_1D', 'y_hat_1H'])"
      ]
     },
     "execution_count": 213,
     "metadata": {},
     "output_type": "execute_result"
    }
   ],
   "source": [
    "pred_copy.keys()"
   ]
  },
  {
   "cell_type": "code",
   "execution_count": 214,
   "metadata": {},
   "outputs": [
    {
     "data": {
      "text/plain": [
       "tensor(1.0621, grad_fn=<SumBackward0>)"
      ]
     },
     "execution_count": 214,
     "metadata": {},
     "output_type": "execute_result"
    }
   ],
   "source": [
    "trainer._get_loss_obj()(pred_copy, dd1)"
   ]
  },
  {
   "cell_type": "code",
   "execution_count": 118,
   "metadata": {},
   "outputs": [
    {
     "data": {
      "text/plain": [
       "torch.Size([256, 336, 1])"
      ]
     },
     "execution_count": 118,
     "metadata": {},
     "output_type": "execute_result"
    }
   ],
   "source": [
    "pred['y_hat_1H'].shape"
   ]
  },
  {
   "cell_type": "code",
   "execution_count": null,
   "metadata": {},
   "outputs": [],
   "source": [
    "mymodel.loss"
   ]
  },
  {
   "cell_type": "code",
   "execution_count": 225,
   "metadata": {},
   "outputs": [
    {
     "data": {
      "text/plain": [
       "tensor(1.0621, grad_fn=<SumBackward0>)"
      ]
     },
     "execution_count": 225,
     "metadata": {},
     "output_type": "execute_result"
    }
   ],
   "source": [
    "trainer._get_loss_obj()(pred, dd1)"
   ]
  },
  {
   "cell_type": "code",
   "execution_count": 226,
   "metadata": {},
   "outputs": [
    {
     "data": {
      "text/plain": [
       "tensor(1.4493, grad_fn=<AddBackward0>)"
      ]
     },
     "execution_count": 226,
     "metadata": {},
     "output_type": "execute_result"
    }
   ],
   "source": [
    "trainer.loss_obj(pred, dd1)"
   ]
  },
  {
   "cell_type": "code",
   "execution_count": 215,
   "metadata": {},
   "outputs": [
    {
     "data": {
      "text/plain": [
       "tensor(1.4493, grad_fn=<AddBackward0>)"
      ]
     },
     "execution_count": 215,
     "metadata": {},
     "output_type": "execute_result"
    }
   ],
   "source": [
    "trainer.loss_obj(pred_copy, dd1)"
   ]
  },
  {
   "cell_type": "code",
   "execution_count": 90,
   "metadata": {},
   "outputs": [
    {
     "data": {
      "text/plain": [
       "2739"
      ]
     },
     "execution_count": 90,
     "metadata": {},
     "output_type": "execute_result"
    }
   ],
   "source": [
    "256*10 + 179"
   ]
  },
  {
   "cell_type": "code",
   "execution_count": null,
   "metadata": {},
   "outputs": [],
   "source": []
  },
  {
   "cell_type": "code",
   "execution_count": 72,
   "metadata": {},
   "outputs": [
    {
     "name": "stdout",
     "output_type": "stream",
     "text": [
      "2022-02-16 19:05:29,464: No specific hidden size for frequencies are specified. Same hidden size is used for all.\n"
     ]
    }
   ],
   "source": [
    "mymodel = MTSLSTM(conf_obj)"
   ]
  },
  {
   "cell_type": "code",
   "execution_count": 73,
   "metadata": {},
   "outputs": [
    {
     "data": {
      "text/plain": [
       "MTSLSTM(\n",
       "  (lstms): ModuleDict(\n",
       "    (1D): LSTM(5, 20)\n",
       "    (1H): LSTM(16, 20)\n",
       "  )\n",
       "  (transfer_fcs): ModuleDict(\n",
       "    (c_1D): Linear(in_features=20, out_features=20, bias=True)\n",
       "    (h_1D): Linear(in_features=20, out_features=20, bias=True)\n",
       "  )\n",
       "  (heads): ModuleDict(\n",
       "    (1D): Regression(\n",
       "      (net): Sequential(\n",
       "        (0): Linear(in_features=20, out_features=1, bias=True)\n",
       "      )\n",
       "    )\n",
       "    (1H): Regression(\n",
       "      (net): Sequential(\n",
       "        (0): Linear(in_features=20, out_features=1, bias=True)\n",
       "      )\n",
       "    )\n",
       "  )\n",
       "  (dropout): Dropout(p=0.4, inplace=False)\n",
       ")"
      ]
     },
     "execution_count": 73,
     "metadata": {},
     "output_type": "execute_result"
    }
   ],
   "source": [
    "mymodel.eval()"
   ]
  },
  {
   "cell_type": "code",
   "execution_count": 74,
   "metadata": {},
   "outputs": [
    {
     "data": {
      "text/plain": [
       "Dropout(p=0.4, inplace=False)"
      ]
     },
     "execution_count": 74,
     "metadata": {},
     "output_type": "execute_result"
    }
   ],
   "source": [
    "mymodel.dropout"
   ]
  },
  {
   "cell_type": "code",
   "execution_count": 75,
   "metadata": {},
   "outputs": [
    {
     "data": {
      "text/plain": [
       "['1D', '1H']"
      ]
     },
     "execution_count": 75,
     "metadata": {},
     "output_type": "execute_result"
    }
   ],
   "source": [
    "mymodel._frequencies"
   ]
  },
  {
   "cell_type": "code",
   "execution_count": 121,
   "metadata": {},
   "outputs": [
    {
     "data": {
      "text/plain": [
       "{'1D': 1, '1H': 24}"
      ]
     },
     "execution_count": 121,
     "metadata": {},
     "output_type": "execute_result"
    }
   ],
   "source": [
    "conf_obj.predict_last_n"
   ]
  },
  {
   "cell_type": "code",
   "execution_count": 77,
   "metadata": {},
   "outputs": [
    {
     "data": {
      "text/plain": [
       "1"
      ]
     },
     "execution_count": 77,
     "metadata": {},
     "output_type": "execute_result"
    }
   ],
   "source": [
    "mymodel.output_size"
   ]
  },
  {
   "cell_type": "code",
   "execution_count": 122,
   "metadata": {},
   "outputs": [],
   "source": [
    "import neuralhydrology.training.loss as loss"
   ]
  },
  {
   "cell_type": "code",
   "execution_count": 123,
   "metadata": {},
   "outputs": [],
   "source": [
    "myloss = loss.MaskedMSELoss(conf_obj)"
   ]
  },
  {
   "cell_type": "code",
   "execution_count": 135,
   "metadata": {},
   "outputs": [
    {
     "data": {
      "text/plain": [
       "tensor(1.0621, grad_fn=<SumBackward0>)"
      ]
     },
     "execution_count": 135,
     "metadata": {},
     "output_type": "execute_result"
    }
   ],
   "source": [
    "myloss(pred, dd1)"
   ]
  },
  {
   "cell_type": "code",
   "execution_count": 131,
   "metadata": {},
   "outputs": [
    {
     "data": {
      "text/plain": [
       "{'1D': 1, '1H': 24}"
      ]
     },
     "execution_count": 131,
     "metadata": {},
     "output_type": "execute_result"
    }
   ],
   "source": [
    "myloss._predict_last_n"
   ]
  },
  {
   "cell_type": "code",
   "execution_count": 132,
   "metadata": {},
   "outputs": [
    {
     "data": {
      "text/plain": [
       "{'1D': 1, '1H': 24}"
      ]
     },
     "execution_count": 132,
     "metadata": {},
     "output_type": "execute_result"
    }
   ],
   "source": [
    "trainer.loss_obj._predict_last_n"
   ]
  },
  {
   "cell_type": "code",
   "execution_count": 134,
   "metadata": {},
   "outputs": [],
   "source": [
    "myloss(pred, dd1).backward()"
   ]
  },
  {
   "cell_type": "code",
   "execution_count": 137,
   "metadata": {},
   "outputs": [
    {
     "data": {
      "text/plain": [
       "[]"
      ]
     },
     "execution_count": 137,
     "metadata": {},
     "output_type": "execute_result"
    }
   ],
   "source": [
    "trainer.loss_obj._additional_data"
   ]
  },
  {
   "cell_type": "code",
   "execution_count": 145,
   "metadata": {},
   "outputs": [],
   "source": [
    "pred_1d = pred['y_hat_1D'][0,-1:]"
   ]
  },
  {
   "cell_type": "code",
   "execution_count": 287,
   "metadata": {},
   "outputs": [],
   "source": [
    "pred_24h = pred['y_hat_1H'][0,-24:]"
   ]
  },
  {
   "cell_type": "code",
   "execution_count": 149,
   "metadata": {},
   "outputs": [
    {
     "data": {
      "text/plain": [
       "tensor([[0.6886]], grad_fn=<SliceBackward0>)"
      ]
     },
     "execution_count": 149,
     "metadata": {},
     "output_type": "execute_result"
    }
   ],
   "source": [
    "pred_1d"
   ]
  },
  {
   "cell_type": "code",
   "execution_count": 161,
   "metadata": {},
   "outputs": [
    {
     "data": {
      "text/plain": [
       "dict_keys(['x_d_1H', 'y_1H', 'x_d_1D', 'y_1D'])"
      ]
     },
     "execution_count": 161,
     "metadata": {},
     "output_type": "execute_result"
    }
   ],
   "source": [
    "dd1.keys()"
   ]
  },
  {
   "cell_type": "code",
   "execution_count": 164,
   "metadata": {},
   "outputs": [],
   "source": [
    "dd1_array  = dd1['y_1H'][0,-24:]"
   ]
  },
  {
   "cell_type": "code",
   "execution_count": 271,
   "metadata": {},
   "outputs": [],
   "source": [
    "new_pred = trainer.model(dd1)\n"
   ]
  },
  {
   "cell_type": "code",
   "execution_count": 274,
   "metadata": {},
   "outputs": [
    {
     "data": {
      "text/plain": [
       "tensor(0.0689, grad_fn=<AddBackward0>)"
      ]
     },
     "execution_count": 274,
     "metadata": {},
     "output_type": "execute_result"
    }
   ],
   "source": [
    "trainer.loss_obj(new_pred, dd1)"
   ]
  },
  {
   "cell_type": "code",
   "execution_count": 285,
   "metadata": {},
   "outputs": [],
   "source": [
    "new_pred_1d = new_pred['y_hat_1D'][0,-1:]\n",
    "new_pred_24h = new_pred['y_hat_1H'][0,-24:]"
   ]
  },
  {
   "cell_type": "code",
   "execution_count": 290,
   "metadata": {},
   "outputs": [
    {
     "data": {
      "text/plain": [
       "[<matplotlib.lines.Line2D at 0x7f88ca038a10>]"
      ]
     },
     "execution_count": 290,
     "metadata": {},
     "output_type": "execute_result"
    },
    {
     "data": {
      "image/png": "[encoded data removed]",
      "text/plain": [
       "<Figure size 432x288 with 1 Axes>"
      ]
     },
     "metadata": {
      "needs_background": "light"
     },
     "output_type": "display_data"
    }
   ],
   "source": [
    "\n",
    "plt.plot(dd1_array.detach().numpy(), c='k')\n",
    "plt.plot(new_pred_24h[:,0].detach().numpy())\n",
    "plt.plot(pred_24h[:,0].detach().numpy())  "
   ]
  },
  {
   "cell_type": "code",
   "execution_count": 223,
   "metadata": {},
   "outputs": [
    {
     "name": "stdout",
     "output_type": "stream",
     "text": [
      "# Epoch 1:   0%|          | 0/11 [00:00<?, ?it/s]"
     ]
    },
    {
     "name": "stderr",
     "output_type": "stream",
     "text": [
      "[W ParallelNative.cpp:214] Warning: Cannot set number of intraop threads after parallel work has started or after set_num_threads call when using native parallel backend (function set_num_threads)\n",
      "[W ParallelNative.cpp:214] Warning: Cannot set number of intraop threads after parallel work has started or after set_num_threads call when using native parallel backend (function set_num_threads)\n",
      "[W ParallelNative.cpp:214] Warning: Cannot set number of intraop threads after parallel work has started or after set_num_threads call when using native parallel backend (function set_num_threads)\n",
      "[W ParallelNative.cpp:214] Warning: Cannot set number of intraop threads after parallel work has started or after set_num_threads call when using native parallel backend (function set_num_threads)\n",
      "[W ParallelNative.cpp:214] Warning: Cannot set number of intraop threads after parallel work has started or after set_num_threads call when using native parallel backend (function set_num_threads)\n",
      "[W ParallelNative.cpp:214] Warning: Cannot set number of intraop threads after parallel work has started or after set_num_threads call when using native parallel backend (function set_num_threads)\n",
      "[W ParallelNative.cpp:214] Warning: Cannot set number of intraop threads after parallel work has started or after set_num_threads call when using native parallel backend (function set_num_threads)\n",
      "[W ParallelNative.cpp:214] Warning: Cannot set number of intraop threads after parallel work has started or after set_num_threads call when using native parallel backend (function set_num_threads)\n"
     ]
    },
    {
     "name": "stdout",
     "output_type": "stream",
     "text": [
      "# Epoch 1: 100%|██████████| 11/11 [00:04<00:00,  2.62it/s, Loss: 0.8434]\n",
      "2022-02-17 11:43:00,458: Epoch 1 average loss: 0.9051135074008595\n",
      "# Epoch 2:   0%|          | 0/11 [00:00<?, ?it/s]"
     ]
    },
    {
     "name": "stderr",
     "output_type": "stream",
     "text": [
      "[W ParallelNative.cpp:214] Warning: Cannot set number of intraop threads after parallel work has started or after set_num_threads call when using native parallel backend (function set_num_threads)\n",
      "[W ParallelNative.cpp:214] Warning: Cannot set number of intraop threads after parallel work has started or after set_num_threads call when using native parallel backend (function set_num_threads)\n",
      "[W ParallelNative.cpp:214] Warning: Cannot set number of intraop threads after parallel work has started or after set_num_threads call when using native parallel backend (function set_num_threads)\n",
      "[W ParallelNative.cpp:214] Warning: Cannot set number of intraop threads after parallel work has started or after set_num_threads call when using native parallel backend (function set_num_threads)\n",
      "[W ParallelNative.cpp:214] Warning: Cannot set number of intraop threads after parallel work has started or after set_num_threads call when using native parallel backend (function set_num_threads)\n",
      "[W ParallelNative.cpp:214] Warning: Cannot set number of intraop threads after parallel work has started or after set_num_threads call when using native parallel backend (function set_num_threads)\n",
      "[W ParallelNative.cpp:214] Warning: Cannot set number of intraop threads after parallel work has started or after set_num_threads call when using native parallel backend (function set_num_threads)\n",
      "[W ParallelNative.cpp:214] Warning: Cannot set number of intraop threads after parallel work has started or after set_num_threads call when using native parallel backend (function set_num_threads)\n"
     ]
    },
    {
     "name": "stdout",
     "output_type": "stream",
     "text": [
      "# Epoch 2: 100%|██████████| 11/11 [00:04<00:00,  2.66it/s, Loss: 0.4320]\n",
      "2022-02-17 11:43:04,618: Epoch 2 average loss: 0.6576044153083455\n",
      "# Epoch 3:   0%|          | 0/11 [00:00<?, ?it/s]"
     ]
    },
    {
     "name": "stderr",
     "output_type": "stream",
     "text": [
      "[W ParallelNative.cpp:214] Warning: Cannot set number of intraop threads after parallel work has started or after set_num_threads call when using native parallel backend (function set_num_threads)\n",
      "[W ParallelNative.cpp:214] Warning: Cannot set number of intraop threads after parallel work has started or after set_num_threads call when using native parallel backend (function set_num_threads)\n",
      "[W ParallelNative.cpp:214] Warning: Cannot set number of intraop threads after parallel work has started or after set_num_threads call when using native parallel backend (function set_num_threads)\n",
      "[W ParallelNative.cpp:214] Warning: Cannot set number of intraop threads after parallel work has started or after set_num_threads call when using native parallel backend (function set_num_threads)\n",
      "[W ParallelNative.cpp:214] Warning: Cannot set number of intraop threads after parallel work has started or after set_num_threads call when using native parallel backend (function set_num_threads)\n",
      "[W ParallelNative.cpp:214] Warning: Cannot set number of intraop threads after parallel work has started or after set_num_threads call when using native parallel backend (function set_num_threads)\n",
      "[W ParallelNative.cpp:214] Warning: Cannot set number of intraop threads after parallel work has started or after set_num_threads call when using native parallel backend (function set_num_threads)\n",
      "[W ParallelNative.cpp:214] Warning: Cannot set number of intraop threads after parallel work has started or after set_num_threads call when using native parallel backend (function set_num_threads)\n"
     ]
    },
    {
     "name": "stdout",
     "output_type": "stream",
     "text": [
      "# Epoch 3: 100%|██████████| 11/11 [00:04<00:00,  3.09it/s, Loss: 0.4239]"
     ]
    },
    {
     "name": "stderr",
     "output_type": "stream",
     "text": [
      "[W ParallelNative.cpp:214] Warning: Cannot set number of intraop threads after parallel work has started or after set_num_threads call when using native parallel backend (function set_num_threads)\n"
     ]
    },
    {
     "name": "stdout",
     "output_type": "stream",
     "text": [
      "# Epoch 3: 100%|██████████| 11/11 [00:04<00:00,  2.68it/s, Loss: 0.4239]\n",
      "2022-02-17 11:43:08,744: Epoch 3 average loss: 0.5497382472861897\n",
      "# Epoch 4:   0%|          | 0/11 [00:00<?, ?it/s]"
     ]
    },
    {
     "name": "stderr",
     "output_type": "stream",
     "text": [
      "[W ParallelNative.cpp:214] Warning: Cannot set number of intraop threads after parallel work has started or after set_num_threads call when using native parallel backend (function set_num_threads)\n",
      "[W ParallelNative.cpp:214] Warning: Cannot set number of intraop threads after parallel work has started or after set_num_threads call when using native parallel backend (function set_num_threads)\n",
      "[W ParallelNative.cpp:214] Warning: Cannot set number of intraop threads after parallel work has started or after set_num_threads call when using native parallel backend (function set_num_threads)\n",
      "[W ParallelNative.cpp:214] Warning: Cannot set number of intraop threads after parallel work has started or after set_num_threads call when using native parallel backend (function set_num_threads)\n",
      "[W ParallelNative.cpp:214] Warning: Cannot set number of intraop threads after parallel work has started or after set_num_threads call when using native parallel backend (function set_num_threads)\n",
      "[W ParallelNative.cpp:214] Warning: Cannot set number of intraop threads after parallel work has started or after set_num_threads call when using native parallel backend (function set_num_threads)\n",
      "[W ParallelNative.cpp:214] Warning: Cannot set number of intraop threads after parallel work has started or after set_num_threads call when using native parallel backend (function set_num_threads)\n",
      "[W ParallelNative.cpp:214] Warning: Cannot set number of intraop threads after parallel work has started or after set_num_threads call when using native parallel backend (function set_num_threads)\n"
     ]
    },
    {
     "name": "stdout",
     "output_type": "stream",
     "text": [
      "# Epoch 4: 100%|██████████| 11/11 [00:04<00:00,  3.03it/s, Loss: 0.5734]"
     ]
    },
    {
     "name": "stderr",
     "output_type": "stream",
     "text": [
      "[W ParallelNative.cpp:214] Warning: Cannot set number of intraop threads after parallel work has started or after set_num_threads call when using native parallel backend (function set_num_threads)\n"
     ]
    },
    {
     "name": "stdout",
     "output_type": "stream",
     "text": [
      "# Epoch 4: 100%|██████████| 11/11 [00:04<00:00,  2.68it/s, Loss: 0.5734]\n",
      "2022-02-17 11:43:12,865: Epoch 4 average loss: 0.5154290984977375\n",
      "# Epoch 5:   0%|          | 0/11 [00:00<?, ?it/s]"
     ]
    },
    {
     "name": "stderr",
     "output_type": "stream",
     "text": [
      "[W ParallelNative.cpp:214] Warning: Cannot set number of intraop threads after parallel work has started or after set_num_threads call when using native parallel backend (function set_num_threads)\n",
      "[W ParallelNative.cpp:214] Warning: Cannot set number of intraop threads after parallel work has started or after set_num_threads call when using native parallel backend (function set_num_threads)\n",
      "[W ParallelNative.cpp:214] Warning: Cannot set number of intraop threads after parallel work has started or after set_num_threads call when using native parallel backend (function set_num_threads)\n",
      "[W ParallelNative.cpp:214] Warning: Cannot set number of intraop threads after parallel work has started or after set_num_threads call when using native parallel backend (function set_num_threads)\n",
      "[W ParallelNative.cpp:214] Warning: Cannot set number of intraop threads after parallel work has started or after set_num_threads call when using native parallel backend (function set_num_threads)\n",
      "[W ParallelNative.cpp:214] Warning: Cannot set number of intraop threads after parallel work has started or after set_num_threads call when using native parallel backend (function set_num_threads)\n",
      "[W ParallelNative.cpp:214] Warning: Cannot set number of intraop threads after parallel work has started or after set_num_threads call when using native parallel backend (function set_num_threads)\n",
      "[W ParallelNative.cpp:214] Warning: Cannot set number of intraop threads after parallel work has started or after set_num_threads call when using native parallel backend (function set_num_threads)\n"
     ]
    },
    {
     "name": "stdout",
     "output_type": "stream",
     "text": [
      "# Epoch 5: 100%|██████████| 11/11 [00:04<00:00,  2.69it/s, Loss: 0.6620]\n",
      "2022-02-17 11:43:16,983: Epoch 5 average loss: 0.4810669449242679\n",
      "# Validation: 100%|██████████| 1/1 [00:01<00:00,  1.67s/it]\n",
      "2022-02-17 11:43:18,663: Epoch 5 average validation loss: 0.28264 -- Median validation metrics: NSE_1H: 0.49883, NSE_1D: 0.54974\n",
      "# Epoch 6:   0%|          | 0/11 [00:00<?, ?it/s]"
     ]
    },
    {
     "name": "stderr",
     "output_type": "stream",
     "text": [
      "[W ParallelNative.cpp:214] Warning: Cannot set number of intraop threads after parallel work has started or after set_num_threads call when using native parallel backend (function set_num_threads)\n",
      "[W ParallelNative.cpp:214] Warning: Cannot set number of intraop threads after parallel work has started or after set_num_threads call when using native parallel backend (function set_num_threads)\n",
      "[W ParallelNative.cpp:214] Warning: Cannot set number of intraop threads after parallel work has started or after set_num_threads call when using native parallel backend (function set_num_threads)\n",
      "[W ParallelNative.cpp:214] Warning: Cannot set number of intraop threads after parallel work has started or after set_num_threads call when using native parallel backend (function set_num_threads)\n",
      "[W ParallelNative.cpp:214] Warning: Cannot set number of intraop threads after parallel work has started or after set_num_threads call when using native parallel backend (function set_num_threads)\n",
      "[W ParallelNative.cpp:214] Warning: Cannot set number of intraop threads after parallel work has started or after set_num_threads call when using native parallel backend (function set_num_threads)\n",
      "[W ParallelNative.cpp:214] Warning: Cannot set number of intraop threads after parallel work has started or after set_num_threads call when using native parallel backend (function set_num_threads)\n",
      "[W ParallelNative.cpp:214] Warning: Cannot set number of intraop threads after parallel work has started or after set_num_threads call when using native parallel backend (function set_num_threads)\n"
     ]
    },
    {
     "name": "stdout",
     "output_type": "stream",
     "text": [
      "# Epoch 6: 100%|██████████| 11/11 [00:04<00:00,  2.95it/s, Loss: 0.5652]"
     ]
    },
    {
     "name": "stderr",
     "output_type": "stream",
     "text": [
      "[W ParallelNative.cpp:214] Warning: Cannot set number of intraop threads after parallel work has started or after set_num_threads call when using native parallel backend (function set_num_threads)\n"
     ]
    },
    {
     "name": "stdout",
     "output_type": "stream",
     "text": [
      "# Epoch 6: 100%|██████████| 11/11 [00:04<00:00,  2.58it/s, Loss: 0.5652]\n",
      "2022-02-17 11:43:22,933: Epoch 6 average loss: 0.43417353521693836\n",
      "# Epoch 7:   0%|          | 0/11 [00:00<?, ?it/s]"
     ]
    },
    {
     "name": "stderr",
     "output_type": "stream",
     "text": [
      "[W ParallelNative.cpp:214] Warning: Cannot set number of intraop threads after parallel work has started or after set_num_threads call when using native parallel backend (function set_num_threads)\n",
      "[W ParallelNative.cpp:214] Warning: Cannot set number of intraop threads after parallel work has started or after set_num_threads call when using native parallel backend (function set_num_threads)\n",
      "[W ParallelNative.cpp:214] Warning: Cannot set number of intraop threads after parallel work has started or after set_num_threads call when using native parallel backend (function set_num_threads)\n",
      "[W ParallelNative.cpp:214] Warning: Cannot set number of intraop threads after parallel work has started or after set_num_threads call when using native parallel backend (function set_num_threads)\n",
      "[W ParallelNative.cpp:214] Warning: Cannot set number of intraop threads after parallel work has started or after set_num_threads call when using native parallel backend (function set_num_threads)\n",
      "[W ParallelNative.cpp:214] Warning: Cannot set number of intraop threads after parallel work has started or after set_num_threads call when using native parallel backend (function set_num_threads)\n",
      "[W ParallelNative.cpp:214] Warning: Cannot set number of intraop threads after parallel work has started or after set_num_threads call when using native parallel backend (function set_num_threads)\n",
      "[W ParallelNative.cpp:214] Warning: Cannot set number of intraop threads after parallel work has started or after set_num_threads call when using native parallel backend (function set_num_threads)\n"
     ]
    },
    {
     "name": "stdout",
     "output_type": "stream",
     "text": [
      "# Epoch 7: 100%|██████████| 11/11 [00:04<00:00,  2.62it/s, Loss: 0.4111]\n",
      "2022-02-17 11:43:27,151: Epoch 7 average loss: 0.40168279951268976\n",
      "# Epoch 8:   0%|          | 0/11 [00:00<?, ?it/s]"
     ]
    },
    {
     "name": "stderr",
     "output_type": "stream",
     "text": [
      "[W ParallelNative.cpp:214] Warning: Cannot set number of intraop threads after parallel work has started or after set_num_threads call when using native parallel backend (function set_num_threads)\n",
      "[W ParallelNative.cpp:214] Warning: Cannot set number of intraop threads after parallel work has started or after set_num_threads call when using native parallel backend (function set_num_threads)\n",
      "[W ParallelNative.cpp:214] Warning: Cannot set number of intraop threads after parallel work has started or after set_num_threads call when using native parallel backend (function set_num_threads)\n",
      "[W ParallelNative.cpp:214] Warning: Cannot set number of intraop threads after parallel work has started or after set_num_threads call when using native parallel backend (function set_num_threads)\n",
      "[W ParallelNative.cpp:214] Warning: Cannot set number of intraop threads after parallel work has started or after set_num_threads call when using native parallel backend (function set_num_threads)\n",
      "[W ParallelNative.cpp:214] Warning: Cannot set number of intraop threads after parallel work has started or after set_num_threads call when using native parallel backend (function set_num_threads)\n",
      "[W ParallelNative.cpp:214] Warning: Cannot set number of intraop threads after parallel work has started or after set_num_threads call when using native parallel backend (function set_num_threads)\n",
      "[W ParallelNative.cpp:214] Warning: Cannot set number of intraop threads after parallel work has started or after set_num_threads call when using native parallel backend (function set_num_threads)\n"
     ]
    },
    {
     "name": "stdout",
     "output_type": "stream",
     "text": [
      "# Epoch 8: 100%|██████████| 11/11 [00:04<00:00,  2.65it/s, Loss: 0.3382]\n",
      "2022-02-17 11:43:31,320: Epoch 8 average loss: 0.39800375970927154\n",
      "# Epoch 9:   0%|          | 0/11 [00:00<?, ?it/s]"
     ]
    },
    {
     "name": "stderr",
     "output_type": "stream",
     "text": [
      "[W ParallelNative.cpp:214] Warning: Cannot set number of intraop threads after parallel work has started or after set_num_threads call when using native parallel backend (function set_num_threads)\n",
      "[W ParallelNative.cpp:214] Warning: Cannot set number of intraop threads after parallel work has started or after set_num_threads call when using native parallel backend (function set_num_threads)\n",
      "[W ParallelNative.cpp:214] Warning: Cannot set number of intraop threads after parallel work has started or after set_num_threads call when using native parallel backend (function set_num_threads)\n",
      "[W ParallelNative.cpp:214] Warning: Cannot set number of intraop threads after parallel work has started or after set_num_threads call when using native parallel backend (function set_num_threads)\n",
      "[W ParallelNative.cpp:214] Warning: Cannot set number of intraop threads after parallel work has started or after set_num_threads call when using native parallel backend (function set_num_threads)\n",
      "[W ParallelNative.cpp:214] Warning: Cannot set number of intraop threads after parallel work has started or after set_num_threads call when using native parallel backend (function set_num_threads)\n",
      "[W ParallelNative.cpp:214] Warning: Cannot set number of intraop threads after parallel work has started or after set_num_threads call when using native parallel backend (function set_num_threads)\n",
      "[W ParallelNative.cpp:214] Warning: Cannot set number of intraop threads after parallel work has started or after set_num_threads call when using native parallel backend (function set_num_threads)\n"
     ]
    },
    {
     "name": "stdout",
     "output_type": "stream",
     "text": [
      "# Epoch 9: 100%|██████████| 11/11 [00:04<00:00,  3.02it/s, Loss: 0.3246]"
     ]
    },
    {
     "name": "stderr",
     "output_type": "stream",
     "text": [
      "[W ParallelNative.cpp:214] Warning: Cannot set number of intraop threads after parallel work has started or after set_num_threads call when using native parallel backend (function set_num_threads)\n"
     ]
    },
    {
     "name": "stdout",
     "output_type": "stream",
     "text": [
      "# Epoch 9: 100%|██████████| 11/11 [00:04<00:00,  2.58it/s, Loss: 0.3246]\n",
      "2022-02-17 11:43:35,614: Epoch 9 average loss: 0.3880440646951849\n",
      "# Epoch 10:   0%|          | 0/11 [00:00<?, ?it/s]"
     ]
    },
    {
     "name": "stderr",
     "output_type": "stream",
     "text": [
      "[W ParallelNative.cpp:214] Warning: Cannot set number of intraop threads after parallel work has started or after set_num_threads call when using native parallel backend (function set_num_threads)\n",
      "[W ParallelNative.cpp:214] Warning: Cannot set number of intraop threads after parallel work has started or after set_num_threads call when using native parallel backend (function set_num_threads)\n",
      "[W ParallelNative.cpp:214] Warning: Cannot set number of intraop threads after parallel work has started or after set_num_threads call when using native parallel backend (function set_num_threads)\n",
      "[W ParallelNative.cpp:214] Warning: Cannot set number of intraop threads after parallel work has started or after set_num_threads call when using native parallel backend (function set_num_threads)\n",
      "[W ParallelNative.cpp:214] Warning: Cannot set number of intraop threads after parallel work has started or after set_num_threads call when using native parallel backend (function set_num_threads)\n",
      "[W ParallelNative.cpp:214] Warning: Cannot set number of intraop threads after parallel work has started or after set_num_threads call when using native parallel backend (function set_num_threads)\n",
      "[W ParallelNative.cpp:214] Warning: Cannot set number of intraop threads after parallel work has started or after set_num_threads call when using native parallel backend (function set_num_threads)\n",
      "[W ParallelNative.cpp:214] Warning: Cannot set number of intraop threads after parallel work has started or after set_num_threads call when using native parallel backend (function set_num_threads)\n"
     ]
    },
    {
     "name": "stdout",
     "output_type": "stream",
     "text": [
      "# Epoch 10: 100%|██████████| 11/11 [00:04<00:00,  2.64it/s, Loss: 0.3018]\n",
      "2022-02-17 11:43:39,802: Epoch 10 average loss: 0.3696336908773942\n",
      "# Validation: 100%|██████████| 1/1 [00:00<00:00,  1.57it/s]\n",
      "2022-02-17 11:43:40,449: Epoch 10 average validation loss: 0.24880 -- Median validation metrics: NSE_1H: 0.54019, NSE_1D: 0.63311\n",
      "# Epoch 11:   0%|          | 0/11 [00:00<?, ?it/s]"
     ]
    },
    {
     "name": "stderr",
     "output_type": "stream",
     "text": [
      "[W ParallelNative.cpp:214] Warning: Cannot set number of intraop threads after parallel work has started or after set_num_threads call when using native parallel backend (function set_num_threads)\n",
      "[W ParallelNative.cpp:214] Warning: Cannot set number of intraop threads after parallel work has started or after set_num_threads call when using native parallel backend (function set_num_threads)\n",
      "[W ParallelNative.cpp:214] Warning: Cannot set number of intraop threads after parallel work has started or after set_num_threads call when using native parallel backend (function set_num_threads)\n",
      "[W ParallelNative.cpp:214] Warning: Cannot set number of intraop threads after parallel work has started or after set_num_threads call when using native parallel backend (function set_num_threads)\n",
      "[W ParallelNative.cpp:214] Warning: Cannot set number of intraop threads after parallel work has started or after set_num_threads call when using native parallel backend (function set_num_threads)\n",
      "[W ParallelNative.cpp:214] Warning: Cannot set number of intraop threads after parallel work has started or after set_num_threads call when using native parallel backend (function set_num_threads)\n",
      "[W ParallelNative.cpp:214] Warning: Cannot set number of intraop threads after parallel work has started or after set_num_threads call when using native parallel backend (function set_num_threads)\n",
      "[W ParallelNative.cpp:214] Warning: Cannot set number of intraop threads after parallel work has started or after set_num_threads call when using native parallel backend (function set_num_threads)\n"
     ]
    },
    {
     "name": "stdout",
     "output_type": "stream",
     "text": [
      "# Epoch 11: 100%|██████████| 11/11 [00:04<00:00,  3.02it/s, Loss: 0.6148]"
     ]
    },
    {
     "name": "stderr",
     "output_type": "stream",
     "text": [
      "[W ParallelNative.cpp:214] Warning: Cannot set number of intraop threads after parallel work has started or after set_num_threads call when using native parallel backend (function set_num_threads)\n"
     ]
    },
    {
     "name": "stdout",
     "output_type": "stream",
     "text": [
      "# Epoch 11: 100%|██████████| 11/11 [00:04<00:00,  2.65it/s, Loss: 0.6148]\n",
      "2022-02-17 11:43:44,608: Epoch 11 average loss: 0.369941383600235\n",
      "# Epoch 12:   0%|          | 0/11 [00:00<?, ?it/s]"
     ]
    },
    {
     "name": "stderr",
     "output_type": "stream",
     "text": [
      "[W ParallelNative.cpp:214] Warning: Cannot set number of intraop threads after parallel work has started or after set_num_threads call when using native parallel backend (function set_num_threads)\n",
      "[W ParallelNative.cpp:214] Warning: Cannot set number of intraop threads after parallel work has started or after set_num_threads call when using native parallel backend (function set_num_threads)\n",
      "[W ParallelNative.cpp:214] Warning: Cannot set number of intraop threads after parallel work has started or after set_num_threads call when using native parallel backend (function set_num_threads)\n",
      "[W ParallelNative.cpp:214] Warning: Cannot set number of intraop threads after parallel work has started or after set_num_threads call when using native parallel backend (function set_num_threads)\n",
      "[W ParallelNative.cpp:214] Warning: Cannot set number of intraop threads after parallel work has started or after set_num_threads call when using native parallel backend (function set_num_threads)\n",
      "[W ParallelNative.cpp:214] Warning: Cannot set number of intraop threads after parallel work has started or after set_num_threads call when using native parallel backend (function set_num_threads)\n",
      "[W ParallelNative.cpp:214] Warning: Cannot set number of intraop threads after parallel work has started or after set_num_threads call when using native parallel backend (function set_num_threads)\n",
      "[W ParallelNative.cpp:214] Warning: Cannot set number of intraop threads after parallel work has started or after set_num_threads call when using native parallel backend (function set_num_threads)\n"
     ]
    },
    {
     "name": "stdout",
     "output_type": "stream",
     "text": [
      "# Epoch 12: 100%|██████████| 11/11 [00:04<00:00,  3.06it/s, Loss: 0.4851]"
     ]
    },
    {
     "name": "stderr",
     "output_type": "stream",
     "text": [
      "[W ParallelNative.cpp:214] Warning: Cannot set number of intraop threads after parallel work has started or after set_num_threads call when using native parallel backend (function set_num_threads)\n"
     ]
    },
    {
     "name": "stdout",
     "output_type": "stream",
     "text": [
      "# Epoch 12: 100%|██████████| 11/11 [00:04<00:00,  2.67it/s, Loss: 0.4851]\n",
      "2022-02-17 11:43:48,753: Epoch 12 average loss: 0.36754779653115704\n",
      "# Epoch 13:   0%|          | 0/11 [00:00<?, ?it/s]"
     ]
    },
    {
     "name": "stderr",
     "output_type": "stream",
     "text": [
      "[W ParallelNative.cpp:214] Warning: Cannot set number of intraop threads after parallel work has started or after set_num_threads call when using native parallel backend (function set_num_threads)\n",
      "[W ParallelNative.cpp:214] Warning: Cannot set number of intraop threads after parallel work has started or after set_num_threads call when using native parallel backend (function set_num_threads)\n",
      "[W ParallelNative.cpp:214] Warning: Cannot set number of intraop threads after parallel work has started or after set_num_threads call when using native parallel backend (function set_num_threads)\n",
      "[W ParallelNative.cpp:214] Warning: Cannot set number of intraop threads after parallel work has started or after set_num_threads call when using native parallel backend (function set_num_threads)\n",
      "[W ParallelNative.cpp:214] Warning: Cannot set number of intraop threads after parallel work has started or after set_num_threads call when using native parallel backend (function set_num_threads)\n",
      "[W ParallelNative.cpp:214] Warning: Cannot set number of intraop threads after parallel work has started or after set_num_threads call when using native parallel backend (function set_num_threads)\n",
      "[W ParallelNative.cpp:214] Warning: Cannot set number of intraop threads after parallel work has started or after set_num_threads call when using native parallel backend (function set_num_threads)\n",
      "[W ParallelNative.cpp:214] Warning: Cannot set number of intraop threads after parallel work has started or after set_num_threads call when using native parallel backend (function set_num_threads)\n"
     ]
    },
    {
     "name": "stdout",
     "output_type": "stream",
     "text": [
      "# Epoch 13: 100%|██████████| 11/11 [00:04<00:00,  3.09it/s, Loss: 0.5007]"
     ]
    },
    {
     "name": "stderr",
     "output_type": "stream",
     "text": [
      "[W ParallelNative.cpp:214] Warning: Cannot set number of intraop threads after parallel work has started or after set_num_threads call when using native parallel backend (function set_num_threads)\n"
     ]
    },
    {
     "name": "stdout",
     "output_type": "stream",
     "text": [
      "# Epoch 13: 100%|██████████| 11/11 [00:04<00:00,  2.67it/s, Loss: 0.5007]\n",
      "2022-02-17 11:43:52,891: Epoch 13 average loss: 0.34710176289081573\n",
      "# Epoch 14:   0%|          | 0/11 [00:00<?, ?it/s]"
     ]
    },
    {
     "name": "stderr",
     "output_type": "stream",
     "text": [
      "[W ParallelNative.cpp:214] Warning: Cannot set number of intraop threads after parallel work has started or after set_num_threads call when using native parallel backend (function set_num_threads)\n",
      "[W ParallelNative.cpp:214] Warning: Cannot set number of intraop threads after parallel work has started or after set_num_threads call when using native parallel backend (function set_num_threads)\n",
      "[W ParallelNative.cpp:214] Warning: Cannot set number of intraop threads after parallel work has started or after set_num_threads call when using native parallel backend (function set_num_threads)\n",
      "[W ParallelNative.cpp:214] Warning: Cannot set number of intraop threads after parallel work has started or after set_num_threads call when using native parallel backend (function set_num_threads)\n",
      "[W ParallelNative.cpp:214] Warning: Cannot set number of intraop threads after parallel work has started or after set_num_threads call when using native parallel backend (function set_num_threads)\n",
      "[W ParallelNative.cpp:214] Warning: Cannot set number of intraop threads after parallel work has started or after set_num_threads call when using native parallel backend (function set_num_threads)\n",
      "[W ParallelNative.cpp:214] Warning: Cannot set number of intraop threads after parallel work has started or after set_num_threads call when using native parallel backend (function set_num_threads)\n",
      "[W ParallelNative.cpp:214] Warning: Cannot set number of intraop threads after parallel work has started or after set_num_threads call when using native parallel backend (function set_num_threads)\n"
     ]
    },
    {
     "name": "stdout",
     "output_type": "stream",
     "text": [
      "# Epoch 14: 100%|██████████| 11/11 [00:04<00:00,  3.06it/s, Loss: 0.4254]"
     ]
    },
    {
     "name": "stderr",
     "output_type": "stream",
     "text": [
      "[W ParallelNative.cpp:214] Warning: Cannot set number of intraop threads after parallel work has started or after set_num_threads call when using native parallel backend (function set_num_threads)\n"
     ]
    },
    {
     "name": "stdout",
     "output_type": "stream",
     "text": [
      "# Epoch 14: 100%|██████████| 11/11 [00:04<00:00,  2.67it/s, Loss: 0.4254]\n",
      "2022-02-17 11:43:57,035: Epoch 14 average loss: 0.32883882793513214\n",
      "# Epoch 15:   0%|          | 0/11 [00:00<?, ?it/s]"
     ]
    },
    {
     "name": "stderr",
     "output_type": "stream",
     "text": [
      "[W ParallelNative.cpp:214] Warning: Cannot set number of intraop threads after parallel work has started or after set_num_threads call when using native parallel backend (function set_num_threads)\n",
      "[W ParallelNative.cpp:214] Warning: Cannot set number of intraop threads after parallel work has started or after set_num_threads call when using native parallel backend (function set_num_threads)\n",
      "[W ParallelNative.cpp:214] Warning: Cannot set number of intraop threads after parallel work has started or after set_num_threads call when using native parallel backend (function set_num_threads)\n",
      "[W ParallelNative.cpp:214] Warning: Cannot set number of intraop threads after parallel work has started or after set_num_threads call when using native parallel backend (function set_num_threads)\n",
      "[W ParallelNative.cpp:214] Warning: Cannot set number of intraop threads after parallel work has started or after set_num_threads call when using native parallel backend (function set_num_threads)\n",
      "[W ParallelNative.cpp:214] Warning: Cannot set number of intraop threads after parallel work has started or after set_num_threads call when using native parallel backend (function set_num_threads)\n",
      "[W ParallelNative.cpp:214] Warning: Cannot set number of intraop threads after parallel work has started or after set_num_threads call when using native parallel backend (function set_num_threads)\n",
      "[W ParallelNative.cpp:214] Warning: Cannot set number of intraop threads after parallel work has started or after set_num_threads call when using native parallel backend (function set_num_threads)\n"
     ]
    },
    {
     "name": "stdout",
     "output_type": "stream",
     "text": [
      "# Epoch 15: 100%|██████████| 11/11 [00:04<00:00,  3.09it/s, Loss: 0.3811]"
     ]
    },
    {
     "name": "stderr",
     "output_type": "stream",
     "text": [
      "[W ParallelNative.cpp:214] Warning: Cannot set number of intraop threads after parallel work has started or after set_num_threads call when using native parallel backend (function set_num_threads)\n"
     ]
    },
    {
     "name": "stdout",
     "output_type": "stream",
     "text": [
      "# Epoch 15: 100%|██████████| 11/11 [00:04<00:00,  2.69it/s, Loss: 0.3811]\n",
      "2022-02-17 11:44:01,150: Epoch 15 average loss: 0.33419162170453504\n",
      "# Validation: 100%|██████████| 1/1 [00:00<00:00,  1.53it/s]\n",
      "2022-02-17 11:44:01,812: Epoch 15 average validation loss: 0.22951 -- Median validation metrics: NSE_1H: 0.56797, NSE_1D: 0.66355\n",
      "# Epoch 16:   0%|          | 0/11 [00:00<?, ?it/s]"
     ]
    },
    {
     "name": "stderr",
     "output_type": "stream",
     "text": [
      "[W ParallelNative.cpp:214] Warning: Cannot set number of intraop threads after parallel work has started or after set_num_threads call when using native parallel backend (function set_num_threads)\n",
      "[W ParallelNative.cpp:214] Warning: Cannot set number of intraop threads after parallel work has started or after set_num_threads call when using native parallel backend (function set_num_threads)\n",
      "[W ParallelNative.cpp:214] Warning: Cannot set number of intraop threads after parallel work has started or after set_num_threads call when using native parallel backend (function set_num_threads)\n",
      "[W ParallelNative.cpp:214] Warning: Cannot set number of intraop threads after parallel work has started or after set_num_threads call when using native parallel backend (function set_num_threads)\n",
      "[W ParallelNative.cpp:214] Warning: Cannot set number of intraop threads after parallel work has started or after set_num_threads call when using native parallel backend (function set_num_threads)\n",
      "[W ParallelNative.cpp:214] Warning: Cannot set number of intraop threads after parallel work has started or after set_num_threads call when using native parallel backend (function set_num_threads)\n",
      "[W ParallelNative.cpp:214] Warning: Cannot set number of intraop threads after parallel work has started or after set_num_threads call when using native parallel backend (function set_num_threads)\n",
      "[W ParallelNative.cpp:214] Warning: Cannot set number of intraop threads after parallel work has started or after set_num_threads call when using native parallel backend (function set_num_threads)\n"
     ]
    },
    {
     "name": "stdout",
     "output_type": "stream",
     "text": [
      "# Epoch 16: 100%|██████████| 11/11 [00:04<00:00,  2.68it/s, Loss: 0.3965]\n",
      "2022-02-17 11:44:05,939: Epoch 16 average loss: 0.30338090658187866\n",
      "# Epoch 17:   0%|          | 0/11 [00:00<?, ?it/s]"
     ]
    },
    {
     "name": "stderr",
     "output_type": "stream",
     "text": [
      "[W ParallelNative.cpp:214] Warning: Cannot set number of intraop threads after parallel work has started or after set_num_threads call when using native parallel backend (function set_num_threads)\n",
      "[W ParallelNative.cpp:214] Warning: Cannot set number of intraop threads after parallel work has started or after set_num_threads call when using native parallel backend (function set_num_threads)\n",
      "[W ParallelNative.cpp:214] Warning: Cannot set number of intraop threads after parallel work has started or after set_num_threads call when using native parallel backend (function set_num_threads)\n",
      "[W ParallelNative.cpp:214] Warning: Cannot set number of intraop threads after parallel work has started or after set_num_threads call when using native parallel backend (function set_num_threads)\n",
      "[W ParallelNative.cpp:214] Warning: Cannot set number of intraop threads after parallel work has started or after set_num_threads call when using native parallel backend (function set_num_threads)\n",
      "[W ParallelNative.cpp:214] Warning: Cannot set number of intraop threads after parallel work has started or after set_num_threads call when using native parallel backend (function set_num_threads)\n",
      "[W ParallelNative.cpp:214] Warning: Cannot set number of intraop threads after parallel work has started or after set_num_threads call when using native parallel backend (function set_num_threads)\n",
      "[W ParallelNative.cpp:214] Warning: Cannot set number of intraop threads after parallel work has started or after set_num_threads call when using native parallel backend (function set_num_threads)\n"
     ]
    },
    {
     "name": "stdout",
     "output_type": "stream",
     "text": [
      "# Epoch 17: 100%|██████████| 11/11 [00:04<00:00,  2.67it/s, Loss: 0.2313]\n",
      "2022-02-17 11:44:10,083: Epoch 17 average loss: 0.3004616471854123\n",
      "# Epoch 18:   0%|          | 0/11 [00:00<?, ?it/s]"
     ]
    },
    {
     "name": "stderr",
     "output_type": "stream",
     "text": [
      "[W ParallelNative.cpp:214] Warning: Cannot set number of intraop threads after parallel work has started or after set_num_threads call when using native parallel backend (function set_num_threads)\n",
      "[W ParallelNative.cpp:214] Warning: Cannot set number of intraop threads after parallel work has started or after set_num_threads call when using native parallel backend (function set_num_threads)\n",
      "[W ParallelNative.cpp:214] Warning: Cannot set number of intraop threads after parallel work has started or after set_num_threads call when using native parallel backend (function set_num_threads)\n",
      "[W ParallelNative.cpp:214] Warning: Cannot set number of intraop threads after parallel work has started or after set_num_threads call when using native parallel backend (function set_num_threads)\n",
      "[W ParallelNative.cpp:214] Warning: Cannot set number of intraop threads after parallel work has started or after set_num_threads call when using native parallel backend (function set_num_threads)\n",
      "[W ParallelNative.cpp:214] Warning: Cannot set number of intraop threads after parallel work has started or after set_num_threads call when using native parallel backend (function set_num_threads)\n",
      "[W ParallelNative.cpp:214] Warning: Cannot set number of intraop threads after parallel work has started or after set_num_threads call when using native parallel backend (function set_num_threads)\n",
      "[W ParallelNative.cpp:214] Warning: Cannot set number of intraop threads after parallel work has started or after set_num_threads call when using native parallel backend (function set_num_threads)\n"
     ]
    },
    {
     "name": "stdout",
     "output_type": "stream",
     "text": [
      "# Epoch 18: 100%|██████████| 11/11 [00:04<00:00,  3.12it/s, Loss: 0.3324]"
     ]
    },
    {
     "name": "stderr",
     "output_type": "stream",
     "text": [
      "[W ParallelNative.cpp:214] Warning: Cannot set number of intraop threads after parallel work has started or after set_num_threads call when using native parallel backend (function set_num_threads)\n"
     ]
    },
    {
     "name": "stdout",
     "output_type": "stream",
     "text": [
      "# Epoch 18: 100%|██████████| 11/11 [00:04<00:00,  2.70it/s, Loss: 0.3324]\n",
      "2022-02-17 11:44:14,184: Epoch 18 average loss: 0.29467474872415717\n",
      "# Epoch 19:   0%|          | 0/11 [00:00<?, ?it/s]"
     ]
    },
    {
     "name": "stderr",
     "output_type": "stream",
     "text": [
      "[W ParallelNative.cpp:214] Warning: Cannot set number of intraop threads after parallel work has started or after set_num_threads call when using native parallel backend (function set_num_threads)\n",
      "[W ParallelNative.cpp:214] Warning: Cannot set number of intraop threads after parallel work has started or after set_num_threads call when using native parallel backend (function set_num_threads)\n",
      "[W ParallelNative.cpp:214] Warning: Cannot set number of intraop threads after parallel work has started or after set_num_threads call when using native parallel backend (function set_num_threads)\n",
      "[W ParallelNative.cpp:214] Warning: Cannot set number of intraop threads after parallel work has started or after set_num_threads call when using native parallel backend (function set_num_threads)\n",
      "[W ParallelNative.cpp:214] Warning: Cannot set number of intraop threads after parallel work has started or after set_num_threads call when using native parallel backend (function set_num_threads)\n",
      "[W ParallelNative.cpp:214] Warning: Cannot set number of intraop threads after parallel work has started or after set_num_threads call when using native parallel backend (function set_num_threads)\n",
      "[W ParallelNative.cpp:214] Warning: Cannot set number of intraop threads after parallel work has started or after set_num_threads call when using native parallel backend (function set_num_threads)\n",
      "[W ParallelNative.cpp:214] Warning: Cannot set number of intraop threads after parallel work has started or after set_num_threads call when using native parallel backend (function set_num_threads)\n"
     ]
    },
    {
     "name": "stdout",
     "output_type": "stream",
     "text": [
      "# Epoch 19: 100%|██████████| 11/11 [00:04<00:00,  2.70it/s, Loss: 0.3768]\n",
      "2022-02-17 11:44:18,285: Epoch 19 average loss: 0.27644162286411633\n",
      "# Epoch 20:   0%|          | 0/11 [00:00<?, ?it/s]"
     ]
    },
    {
     "name": "stderr",
     "output_type": "stream",
     "text": [
      "[W ParallelNative.cpp:214] Warning: Cannot set number of intraop threads after parallel work has started or after set_num_threads call when using native parallel backend (function set_num_threads)\n",
      "[W ParallelNative.cpp:214] Warning: Cannot set number of intraop threads after parallel work has started or after set_num_threads call when using native parallel backend (function set_num_threads)\n",
      "[W ParallelNative.cpp:214] Warning: Cannot set number of intraop threads after parallel work has started or after set_num_threads call when using native parallel backend (function set_num_threads)\n",
      "[W ParallelNative.cpp:214] Warning: Cannot set number of intraop threads after parallel work has started or after set_num_threads call when using native parallel backend (function set_num_threads)\n",
      "[W ParallelNative.cpp:214] Warning: Cannot set number of intraop threads after parallel work has started or after set_num_threads call when using native parallel backend (function set_num_threads)\n",
      "[W ParallelNative.cpp:214] Warning: Cannot set number of intraop threads after parallel work has started or after set_num_threads call when using native parallel backend (function set_num_threads)\n",
      "[W ParallelNative.cpp:214] Warning: Cannot set number of intraop threads after parallel work has started or after set_num_threads call when using native parallel backend (function set_num_threads)\n",
      "[W ParallelNative.cpp:214] Warning: Cannot set number of intraop threads after parallel work has started or after set_num_threads call when using native parallel backend (function set_num_threads)\n"
     ]
    },
    {
     "name": "stdout",
     "output_type": "stream",
     "text": [
      "# Epoch 20: 100%|██████████| 11/11 [00:04<00:00,  2.68it/s, Loss: 0.1267]\n",
      "2022-02-17 11:44:22,421: Epoch 20 average loss: 0.2566983279856769\n",
      "# Validation: 100%|██████████| 1/1 [00:00<00:00,  1.57it/s]\n",
      "2022-02-17 11:44:23,069: Epoch 20 average validation loss: 0.20793 -- Median validation metrics: NSE_1H: 0.63625, NSE_1D: 0.68148\n",
      "# Epoch 21:   0%|          | 0/11 [00:00<?, ?it/s]"
     ]
    },
    {
     "name": "stderr",
     "output_type": "stream",
     "text": [
      "[W ParallelNative.cpp:214] Warning: Cannot set number of intraop threads after parallel work has started or after set_num_threads call when using native parallel backend (function set_num_threads)\n",
      "[W ParallelNative.cpp:214] Warning: Cannot set number of intraop threads after parallel work has started or after set_num_threads call when using native parallel backend (function set_num_threads)\n",
      "[W ParallelNative.cpp:214] Warning: Cannot set number of intraop threads after parallel work has started or after set_num_threads call when using native parallel backend (function set_num_threads)\n",
      "[W ParallelNative.cpp:214] Warning: Cannot set number of intraop threads after parallel work has started or after set_num_threads call when using native parallel backend (function set_num_threads)\n",
      "[W ParallelNative.cpp:214] Warning: Cannot set number of intraop threads after parallel work has started or after set_num_threads call when using native parallel backend (function set_num_threads)\n",
      "[W ParallelNative.cpp:214] Warning: Cannot set number of intraop threads after parallel work has started or after set_num_threads call when using native parallel backend (function set_num_threads)\n",
      "[W ParallelNative.cpp:214] Warning: Cannot set number of intraop threads after parallel work has started or after set_num_threads call when using native parallel backend (function set_num_threads)\n",
      "[W ParallelNative.cpp:214] Warning: Cannot set number of intraop threads after parallel work has started or after set_num_threads call when using native parallel backend (function set_num_threads)\n"
     ]
    },
    {
     "name": "stdout",
     "output_type": "stream",
     "text": [
      "# Epoch 21: 100%|██████████| 11/11 [00:04<00:00,  2.61it/s, Loss: 0.2690]\n",
      "2022-02-17 11:44:27,308: Epoch 21 average loss: 0.2703783336010846\n",
      "# Epoch 22:   0%|          | 0/11 [00:00<?, ?it/s]"
     ]
    },
    {
     "name": "stderr",
     "output_type": "stream",
     "text": [
      "[W ParallelNative.cpp:214] Warning: Cannot set number of intraop threads after parallel work has started or after set_num_threads call when using native parallel backend (function set_num_threads)\n",
      "[W ParallelNative.cpp:214] Warning: Cannot set number of intraop threads after parallel work has started or after set_num_threads call when using native parallel backend (function set_num_threads)\n",
      "[W ParallelNative.cpp:214] Warning: Cannot set number of intraop threads after parallel work has started or after set_num_threads call when using native parallel backend (function set_num_threads)\n",
      "[W ParallelNative.cpp:214] Warning: Cannot set number of intraop threads after parallel work has started or after set_num_threads call when using native parallel backend (function set_num_threads)\n",
      "[W ParallelNative.cpp:214] Warning: Cannot set number of intraop threads after parallel work has started or after set_num_threads call when using native parallel backend (function set_num_threads)\n",
      "[W ParallelNative.cpp:214] Warning: Cannot set number of intraop threads after parallel work has started or after set_num_threads call when using native parallel backend (function set_num_threads)\n",
      "[W ParallelNative.cpp:214] Warning: Cannot set number of intraop threads after parallel work has started or after set_num_threads call when using native parallel backend (function set_num_threads)\n",
      "[W ParallelNative.cpp:214] Warning: Cannot set number of intraop threads after parallel work has started or after set_num_threads call when using native parallel backend (function set_num_threads)\n"
     ]
    },
    {
     "name": "stdout",
     "output_type": "stream",
     "text": [
      "# Epoch 22: 100%|██████████| 11/11 [00:04<00:00,  3.02it/s, Loss: 0.2558]"
     ]
    },
    {
     "name": "stderr",
     "output_type": "stream",
     "text": [
      "[W ParallelNative.cpp:214] Warning: Cannot set number of intraop threads after parallel work has started or after set_num_threads call when using native parallel backend (function set_num_threads)\n"
     ]
    },
    {
     "name": "stdout",
     "output_type": "stream",
     "text": [
      "# Epoch 22: 100%|██████████| 11/11 [00:04<00:00,  2.64it/s, Loss: 0.2558]\n",
      "2022-02-17 11:44:31,499: Epoch 22 average loss: 0.2587499835274436\n",
      "# Epoch 23:   0%|          | 0/11 [00:00<?, ?it/s]"
     ]
    },
    {
     "name": "stderr",
     "output_type": "stream",
     "text": [
      "[W ParallelNative.cpp:214] Warning: Cannot set number of intraop threads after parallel work has started or after set_num_threads call when using native parallel backend (function set_num_threads)\n",
      "[W ParallelNative.cpp:214] Warning: Cannot set number of intraop threads after parallel work has started or after set_num_threads call when using native parallel backend (function set_num_threads)\n",
      "[W ParallelNative.cpp:214] Warning: Cannot set number of intraop threads after parallel work has started or after set_num_threads call when using native parallel backend (function set_num_threads)\n",
      "[W ParallelNative.cpp:214] Warning: Cannot set number of intraop threads after parallel work has started or after set_num_threads call when using native parallel backend (function set_num_threads)\n",
      "[W ParallelNative.cpp:214] Warning: Cannot set number of intraop threads after parallel work has started or after set_num_threads call when using native parallel backend (function set_num_threads)\n",
      "[W ParallelNative.cpp:214] Warning: Cannot set number of intraop threads after parallel work has started or after set_num_threads call when using native parallel backend (function set_num_threads)\n",
      "[W ParallelNative.cpp:214] Warning: Cannot set number of intraop threads after parallel work has started or after set_num_threads call when using native parallel backend (function set_num_threads)\n",
      "[W ParallelNative.cpp:214] Warning: Cannot set number of intraop threads after parallel work has started or after set_num_threads call when using native parallel backend (function set_num_threads)\n"
     ]
    },
    {
     "name": "stdout",
     "output_type": "stream",
     "text": [
      "# Epoch 23: 100%|██████████| 11/11 [00:04<00:00,  3.04it/s, Loss: 0.3369]"
     ]
    },
    {
     "name": "stderr",
     "output_type": "stream",
     "text": [
      "[W ParallelNative.cpp:214] Warning: Cannot set number of intraop threads after parallel work has started or after set_num_threads call when using native parallel backend (function set_num_threads)\n",
      "[W ParallelNative.cpp:214] Warning: Cannot set number of intraop threads after parallel work has started or after set_num_threads call when using native parallel backend (function set_num_threads)\n"
     ]
    },
    {
     "name": "stdout",
     "output_type": "stream",
     "text": [
      "# Epoch 23: 100%|██████████| 11/11 [00:04<00:00,  2.66it/s, Loss: 0.3369]\n",
      "2022-02-17 11:44:35,653: Epoch 23 average loss: 0.2575817663561214\n",
      "# Epoch 24:   0%|          | 0/11 [00:00<?, ?it/s]"
     ]
    },
    {
     "name": "stderr",
     "output_type": "stream",
     "text": [
      "[W ParallelNative.cpp:214] Warning: Cannot set number of intraop threads after parallel work has started or after set_num_threads call when using native parallel backend (function set_num_threads)\n",
      "[W ParallelNative.cpp:214] Warning: Cannot set number of intraop threads after parallel work has started or after set_num_threads call when using native parallel backend (function set_num_threads)\n",
      "[W ParallelNative.cpp:214] Warning: Cannot set number of intraop threads after parallel work has started or after set_num_threads call when using native parallel backend (function set_num_threads)\n",
      "[W ParallelNative.cpp:214] Warning: Cannot set number of intraop threads after parallel work has started or after set_num_threads call when using native parallel backend (function set_num_threads)\n",
      "[W ParallelNative.cpp:214] Warning: Cannot set number of intraop threads after parallel work has started or after set_num_threads call when using native parallel backend (function set_num_threads)\n",
      "[W ParallelNative.cpp:214] Warning: Cannot set number of intraop threads after parallel work has started or after set_num_threads call when using native parallel backend (function set_num_threads)\n",
      "[W ParallelNative.cpp:214] Warning: Cannot set number of intraop threads after parallel work has started or after set_num_threads call when using native parallel backend (function set_num_threads)\n",
      "[W ParallelNative.cpp:214] Warning: Cannot set number of intraop threads after parallel work has started or after set_num_threads call when using native parallel backend (function set_num_threads)\n"
     ]
    },
    {
     "name": "stdout",
     "output_type": "stream",
     "text": [
      "# Epoch 24: 100%|██████████| 11/11 [00:04<00:00,  2.67it/s, Loss: 0.2905]\n",
      "2022-02-17 11:44:39,799: Epoch 24 average loss: 0.2410585406151685\n",
      "# Epoch 25:   0%|          | 0/11 [00:00<?, ?it/s]"
     ]
    },
    {
     "name": "stderr",
     "output_type": "stream",
     "text": [
      "[W ParallelNative.cpp:214] Warning: Cannot set number of intraop threads after parallel work has started or after set_num_threads call when using native parallel backend (function set_num_threads)\n",
      "[W ParallelNative.cpp:214] Warning: Cannot set number of intraop threads after parallel work has started or after set_num_threads call when using native parallel backend (function set_num_threads)\n",
      "[W ParallelNative.cpp:214] Warning: Cannot set number of intraop threads after parallel work has started or after set_num_threads call when using native parallel backend (function set_num_threads)\n",
      "[W ParallelNative.cpp:214] Warning: Cannot set number of intraop threads after parallel work has started or after set_num_threads call when using native parallel backend (function set_num_threads)\n",
      "[W ParallelNative.cpp:214] Warning: Cannot set number of intraop threads after parallel work has started or after set_num_threads call when using native parallel backend (function set_num_threads)\n",
      "[W ParallelNative.cpp:214] Warning: Cannot set number of intraop threads after parallel work has started or after set_num_threads call when using native parallel backend (function set_num_threads)\n",
      "[W ParallelNative.cpp:214] Warning: Cannot set number of intraop threads after parallel work has started or after set_num_threads call when using native parallel backend (function set_num_threads)\n",
      "[W ParallelNative.cpp:214] Warning: Cannot set number of intraop threads after parallel work has started or after set_num_threads call when using native parallel backend (function set_num_threads)\n"
     ]
    },
    {
     "name": "stdout",
     "output_type": "stream",
     "text": [
      "# Epoch 25: 100%|██████████| 11/11 [00:04<00:00,  2.67it/s, Loss: 0.2850]\n",
      "2022-02-17 11:44:43,939: Epoch 25 average loss: 0.25575169785456225\n",
      "# Validation: 100%|██████████| 1/1 [00:00<00:00,  1.33it/s]\n",
      "2022-02-17 11:44:44,701: Epoch 25 average validation loss: 0.18906 -- Median validation metrics: NSE_1H: 0.63393, NSE_1D: 0.70815\n",
      "# Epoch 26:   0%|          | 0/11 [00:00<?, ?it/s]"
     ]
    },
    {
     "name": "stderr",
     "output_type": "stream",
     "text": [
      "[W ParallelNative.cpp:214] Warning: Cannot set number of intraop threads after parallel work has started or after set_num_threads call when using native parallel backend (function set_num_threads)\n",
      "[W ParallelNative.cpp:214] Warning: Cannot set number of intraop threads after parallel work has started or after set_num_threads call when using native parallel backend (function set_num_threads)\n",
      "[W ParallelNative.cpp:214] Warning: Cannot set number of intraop threads after parallel work has started or after set_num_threads call when using native parallel backend (function set_num_threads)\n",
      "[W ParallelNative.cpp:214] Warning: Cannot set number of intraop threads after parallel work has started or after set_num_threads call when using native parallel backend (function set_num_threads)\n",
      "[W ParallelNative.cpp:214] Warning: Cannot set number of intraop threads after parallel work has started or after set_num_threads call when using native parallel backend (function set_num_threads)\n",
      "[W ParallelNative.cpp:214] Warning: Cannot set number of intraop threads after parallel work has started or after set_num_threads call when using native parallel backend (function set_num_threads)\n",
      "[W ParallelNative.cpp:214] Warning: Cannot set number of intraop threads after parallel work has started or after set_num_threads call when using native parallel backend (function set_num_threads)\n",
      "[W ParallelNative.cpp:214] Warning: Cannot set number of intraop threads after parallel work has started or after set_num_threads call when using native parallel backend (function set_num_threads)\n"
     ]
    },
    {
     "name": "stdout",
     "output_type": "stream",
     "text": [
      "# Epoch 26: 100%|██████████| 11/11 [00:04<00:00,  2.64it/s, Loss: 0.1937]\n",
      "2022-02-17 11:44:48,881: Epoch 26 average loss: 0.251892471855337\n",
      "# Epoch 27:   0%|          | 0/11 [00:00<?, ?it/s]"
     ]
    },
    {
     "name": "stderr",
     "output_type": "stream",
     "text": [
      "[W ParallelNative.cpp:214] Warning: Cannot set number of intraop threads after parallel work has started or after set_num_threads call when using native parallel backend (function set_num_threads)\n",
      "[W ParallelNative.cpp:214] Warning: Cannot set number of intraop threads after parallel work has started or after set_num_threads call when using native parallel backend (function set_num_threads)\n",
      "[W ParallelNative.cpp:214] Warning: Cannot set number of intraop threads after parallel work has started or after set_num_threads call when using native parallel backend (function set_num_threads)\n",
      "[W ParallelNative.cpp:214] Warning: Cannot set number of intraop threads after parallel work has started or after set_num_threads call when using native parallel backend (function set_num_threads)\n",
      "[W ParallelNative.cpp:214] Warning: Cannot set number of intraop threads after parallel work has started or after set_num_threads call when using native parallel backend (function set_num_threads)\n",
      "[W ParallelNative.cpp:214] Warning: Cannot set number of intraop threads after parallel work has started or after set_num_threads call when using native parallel backend (function set_num_threads)\n",
      "[W ParallelNative.cpp:214] Warning: Cannot set number of intraop threads after parallel work has started or after set_num_threads call when using native parallel backend (function set_num_threads)\n",
      "[W ParallelNative.cpp:214] Warning: Cannot set number of intraop threads after parallel work has started or after set_num_threads call when using native parallel backend (function set_num_threads)\n"
     ]
    },
    {
     "name": "stdout",
     "output_type": "stream",
     "text": [
      "# Epoch 27: 100%|██████████| 11/11 [00:04<00:00,  3.11it/s, Loss: 0.1435]"
     ]
    },
    {
     "name": "stderr",
     "output_type": "stream",
     "text": [
      "[W ParallelNative.cpp:214] Warning: Cannot set number of intraop threads after parallel work has started or after set_num_threads call when using native parallel backend (function set_num_threads)\n"
     ]
    },
    {
     "name": "stdout",
     "output_type": "stream",
     "text": [
      "# Epoch 27: 100%|██████████| 11/11 [00:04<00:00,  2.67it/s, Loss: 0.1435]\n",
      "2022-02-17 11:44:53,022: Epoch 27 average loss: 0.23293233866041357\n",
      "# Epoch 28:   0%|          | 0/11 [00:00<?, ?it/s]"
     ]
    },
    {
     "name": "stderr",
     "output_type": "stream",
     "text": [
      "[W ParallelNative.cpp:214] Warning: Cannot set number of intraop threads after parallel work has started or after set_num_threads call when using native parallel backend (function set_num_threads)\n",
      "[W ParallelNative.cpp:214] Warning: Cannot set number of intraop threads after parallel work has started or after set_num_threads call when using native parallel backend (function set_num_threads)\n",
      "[W ParallelNative.cpp:214] Warning: Cannot set number of intraop threads after parallel work has started or after set_num_threads call when using native parallel backend (function set_num_threads)\n",
      "[W ParallelNative.cpp:214] Warning: Cannot set number of intraop threads after parallel work has started or after set_num_threads call when using native parallel backend (function set_num_threads)\n",
      "[W ParallelNative.cpp:214] Warning: Cannot set number of intraop threads after parallel work has started or after set_num_threads call when using native parallel backend (function set_num_threads)\n",
      "[W ParallelNative.cpp:214] Warning: Cannot set number of intraop threads after parallel work has started or after set_num_threads call when using native parallel backend (function set_num_threads)\n",
      "[W ParallelNative.cpp:214] Warning: Cannot set number of intraop threads after parallel work has started or after set_num_threads call when using native parallel backend (function set_num_threads)\n",
      "[W ParallelNative.cpp:214] Warning: Cannot set number of intraop threads after parallel work has started or after set_num_threads call when using native parallel backend (function set_num_threads)\n"
     ]
    },
    {
     "name": "stdout",
     "output_type": "stream",
     "text": [
      "# Epoch 28: 100%|██████████| 11/11 [00:04<00:00,  2.65it/s, Loss: 0.1690]\n",
      "2022-02-17 11:44:57,193: Epoch 28 average loss: 0.230271268974651\n",
      "# Epoch 29:   0%|          | 0/11 [00:00<?, ?it/s]"
     ]
    },
    {
     "name": "stderr",
     "output_type": "stream",
     "text": [
      "[W ParallelNative.cpp:214] Warning: Cannot set number of intraop threads after parallel work has started or after set_num_threads call when using native parallel backend (function set_num_threads)\n",
      "[W ParallelNative.cpp:214] Warning: Cannot set number of intraop threads after parallel work has started or after set_num_threads call when using native parallel backend (function set_num_threads)\n",
      "[W ParallelNative.cpp:214] Warning: Cannot set number of intraop threads after parallel work has started or after set_num_threads call when using native parallel backend (function set_num_threads)\n",
      "[W ParallelNative.cpp:214] Warning: Cannot set number of intraop threads after parallel work has started or after set_num_threads call when using native parallel backend (function set_num_threads)\n",
      "[W ParallelNative.cpp:214] Warning: Cannot set number of intraop threads after parallel work has started or after set_num_threads call when using native parallel backend (function set_num_threads)\n",
      "[W ParallelNative.cpp:214] Warning: Cannot set number of intraop threads after parallel work has started or after set_num_threads call when using native parallel backend (function set_num_threads)\n",
      "[W ParallelNative.cpp:214] Warning: Cannot set number of intraop threads after parallel work has started or after set_num_threads call when using native parallel backend (function set_num_threads)\n",
      "[W ParallelNative.cpp:214] Warning: Cannot set number of intraop threads after parallel work has started or after set_num_threads call when using native parallel backend (function set_num_threads)\n"
     ]
    },
    {
     "name": "stdout",
     "output_type": "stream",
     "text": [
      "# Epoch 29: 100%|██████████| 11/11 [00:04<00:00,  2.66it/s, Loss: 0.1679]\n",
      "2022-02-17 11:45:01,349: Epoch 29 average loss: 0.23443296958099713\n",
      "2022-02-17 11:45:01,357: Setting learning rate to 0.005\n",
      "# Epoch 30:   0%|          | 0/11 [00:00<?, ?it/s]"
     ]
    },
    {
     "name": "stderr",
     "output_type": "stream",
     "text": [
      "[W ParallelNative.cpp:214] Warning: Cannot set number of intraop threads after parallel work has started or after set_num_threads call when using native parallel backend (function set_num_threads)\n",
      "[W ParallelNative.cpp:214] Warning: Cannot set number of intraop threads after parallel work has started or after set_num_threads call when using native parallel backend (function set_num_threads)\n",
      "[W ParallelNative.cpp:214] Warning: Cannot set number of intraop threads after parallel work has started or after set_num_threads call when using native parallel backend (function set_num_threads)\n",
      "[W ParallelNative.cpp:214] Warning: Cannot set number of intraop threads after parallel work has started or after set_num_threads call when using native parallel backend (function set_num_threads)\n",
      "[W ParallelNative.cpp:214] Warning: Cannot set number of intraop threads after parallel work has started or after set_num_threads call when using native parallel backend (function set_num_threads)\n",
      "[W ParallelNative.cpp:214] Warning: Cannot set number of intraop threads after parallel work has started or after set_num_threads call when using native parallel backend (function set_num_threads)\n",
      "[W ParallelNative.cpp:214] Warning: Cannot set number of intraop threads after parallel work has started or after set_num_threads call when using native parallel backend (function set_num_threads)\n",
      "[W ParallelNative.cpp:214] Warning: Cannot set number of intraop threads after parallel work has started or after set_num_threads call when using native parallel backend (function set_num_threads)\n"
     ]
    },
    {
     "name": "stdout",
     "output_type": "stream",
     "text": [
      "# Epoch 30: 100%|██████████| 11/11 [00:04<00:00,  3.09it/s, Loss: 0.2153]"
     ]
    },
    {
     "name": "stderr",
     "output_type": "stream",
     "text": [
      "[W ParallelNative.cpp:214] Warning: Cannot set number of intraop threads after parallel work has started or after set_num_threads call when using native parallel backend (function set_num_threads)\n",
      "[W ParallelNative.cpp:214] Warning: Cannot set number of intraop threads after parallel work has started or after set_num_threads call when using native parallel backend (function set_num_threads)\n",
      "[W ParallelNative.cpp:214] Warning: Cannot set number of intraop threads after parallel work has started or after set_num_threads call when using native parallel backend (function set_num_threads)\n"
     ]
    },
    {
     "name": "stdout",
     "output_type": "stream",
     "text": [
      "# Epoch 30: 100%|██████████| 11/11 [00:04<00:00,  2.68it/s, Loss: 0.2153]\n",
      "2022-02-17 11:45:05,481: Epoch 30 average loss: 0.21280017359690231\n",
      "# Validation: 100%|██████████| 1/1 [00:00<00:00,  1.58it/s]\n",
      "2022-02-17 11:45:06,122: Epoch 30 average validation loss: 0.17881 -- Median validation metrics: NSE_1H: 0.67462, NSE_1D: 0.70788\n",
      "# Epoch 31:   0%|          | 0/11 [00:00<?, ?it/s]"
     ]
    },
    {
     "name": "stderr",
     "output_type": "stream",
     "text": [
      "[W ParallelNative.cpp:214] Warning: Cannot set number of intraop threads after parallel work has started or after set_num_threads call when using native parallel backend (function set_num_threads)\n",
      "[W ParallelNative.cpp:214] Warning: Cannot set number of intraop threads after parallel work has started or after set_num_threads call when using native parallel backend (function set_num_threads)\n",
      "[W ParallelNative.cpp:214] Warning: Cannot set number of intraop threads after parallel work has started or after set_num_threads call when using native parallel backend (function set_num_threads)\n",
      "[W ParallelNative.cpp:214] Warning: Cannot set number of intraop threads after parallel work has started or after set_num_threads call when using native parallel backend (function set_num_threads)\n",
      "[W ParallelNative.cpp:214] Warning: Cannot set number of intraop threads after parallel work has started or after set_num_threads call when using native parallel backend (function set_num_threads)\n",
      "[W ParallelNative.cpp:214] Warning: Cannot set number of intraop threads after parallel work has started or after set_num_threads call when using native parallel backend (function set_num_threads)\n",
      "[W ParallelNative.cpp:214] Warning: Cannot set number of intraop threads after parallel work has started or after set_num_threads call when using native parallel backend (function set_num_threads)\n",
      "[W ParallelNative.cpp:214] Warning: Cannot set number of intraop threads after parallel work has started or after set_num_threads call when using native parallel backend (function set_num_threads)\n"
     ]
    },
    {
     "name": "stdout",
     "output_type": "stream",
     "text": [
      "# Epoch 31: 100%|██████████| 11/11 [00:04<00:00,  2.70it/s, Loss: 0.2182]\n",
      "2022-02-17 11:45:10,209: Epoch 31 average loss: 0.21449311483990063\n",
      "# Epoch 32:   0%|          | 0/11 [00:00<?, ?it/s]"
     ]
    },
    {
     "name": "stderr",
     "output_type": "stream",
     "text": [
      "[W ParallelNative.cpp:214] Warning: Cannot set number of intraop threads after parallel work has started or after set_num_threads call when using native parallel backend (function set_num_threads)\n",
      "[W ParallelNative.cpp:214] Warning: Cannot set number of intraop threads after parallel work has started or after set_num_threads call when using native parallel backend (function set_num_threads)\n",
      "[W ParallelNative.cpp:214] Warning: Cannot set number of intraop threads after parallel work has started or after set_num_threads call when using native parallel backend (function set_num_threads)\n",
      "[W ParallelNative.cpp:214] Warning: Cannot set number of intraop threads after parallel work has started or after set_num_threads call when using native parallel backend (function set_num_threads)\n",
      "[W ParallelNative.cpp:214] Warning: Cannot set number of intraop threads after parallel work has started or after set_num_threads call when using native parallel backend (function set_num_threads)\n",
      "[W ParallelNative.cpp:214] Warning: Cannot set number of intraop threads after parallel work has started or after set_num_threads call when using native parallel backend (function set_num_threads)\n",
      "[W ParallelNative.cpp:214] Warning: Cannot set number of intraop threads after parallel work has started or after set_num_threads call when using native parallel backend (function set_num_threads)\n",
      "[W ParallelNative.cpp:214] Warning: Cannot set number of intraop threads after parallel work has started or after set_num_threads call when using native parallel backend (function set_num_threads)\n"
     ]
    },
    {
     "name": "stdout",
     "output_type": "stream",
     "text": [
      "# Epoch 32: 100%|██████████| 11/11 [00:04<00:00,  2.58it/s, Loss: 0.2446]\n",
      "2022-02-17 11:45:14,493: Epoch 32 average loss: 0.21102078665386548\n",
      "# Epoch 33:   0%|          | 0/11 [00:00<?, ?it/s]"
     ]
    },
    {
     "name": "stderr",
     "output_type": "stream",
     "text": [
      "[W ParallelNative.cpp:214] Warning: Cannot set number of intraop threads after parallel work has started or after set_num_threads call when using native parallel backend (function set_num_threads)\n",
      "[W ParallelNative.cpp:214] Warning: Cannot set number of intraop threads after parallel work has started or after set_num_threads call when using native parallel backend (function set_num_threads)\n",
      "[W ParallelNative.cpp:214] Warning: Cannot set number of intraop threads after parallel work has started or after set_num_threads call when using native parallel backend (function set_num_threads)\n",
      "[W ParallelNative.cpp:214] Warning: Cannot set number of intraop threads after parallel work has started or after set_num_threads call when using native parallel backend (function set_num_threads)\n",
      "[W ParallelNative.cpp:214] Warning: Cannot set number of intraop threads after parallel work has started or after set_num_threads call when using native parallel backend (function set_num_threads)\n",
      "[W ParallelNative.cpp:214] Warning: Cannot set number of intraop threads after parallel work has started or after set_num_threads call when using native parallel backend (function set_num_threads)\n",
      "[W ParallelNative.cpp:214] Warning: Cannot set number of intraop threads after parallel work has started or after set_num_threads call when using native parallel backend (function set_num_threads)\n",
      "[W ParallelNative.cpp:214] Warning: Cannot set number of intraop threads after parallel work has started or after set_num_threads call when using native parallel backend (function set_num_threads)\n"
     ]
    },
    {
     "name": "stdout",
     "output_type": "stream",
     "text": [
      "# Epoch 33: 100%|██████████| 11/11 [00:04<00:00,  2.68it/s, Loss: 0.2678]\n",
      "2022-02-17 11:45:18,623: Epoch 33 average loss: 0.21716924011707306\n",
      "# Epoch 34:   0%|          | 0/11 [00:00<?, ?it/s]"
     ]
    },
    {
     "name": "stderr",
     "output_type": "stream",
     "text": [
      "[W ParallelNative.cpp:214] Warning: Cannot set number of intraop threads after parallel work has started or after set_num_threads call when using native parallel backend (function set_num_threads)\n",
      "[W ParallelNative.cpp:214] Warning: Cannot set number of intraop threads after parallel work has started or after set_num_threads call when using native parallel backend (function set_num_threads)\n",
      "[W ParallelNative.cpp:214] Warning: Cannot set number of intraop threads after parallel work has started or after set_num_threads call when using native parallel backend (function set_num_threads)\n",
      "[W ParallelNative.cpp:214] Warning: Cannot set number of intraop threads after parallel work has started or after set_num_threads call when using native parallel backend (function set_num_threads)\n",
      "[W ParallelNative.cpp:214] Warning: Cannot set number of intraop threads after parallel work has started or after set_num_threads call when using native parallel backend (function set_num_threads)\n",
      "[W ParallelNative.cpp:214] Warning: Cannot set number of intraop threads after parallel work has started or after set_num_threads call when using native parallel backend (function set_num_threads)\n",
      "[W ParallelNative.cpp:214] Warning: Cannot set number of intraop threads after parallel work has started or after set_num_threads call when using native parallel backend (function set_num_threads)\n",
      "[W ParallelNative.cpp:214] Warning: Cannot set number of intraop threads after parallel work has started or after set_num_threads call when using native parallel backend (function set_num_threads)\n"
     ]
    },
    {
     "name": "stdout",
     "output_type": "stream",
     "text": [
      "# Epoch 34: 100%|██████████| 11/11 [00:04<00:00,  3.08it/s, Loss: 0.1645]"
     ]
    },
    {
     "name": "stderr",
     "output_type": "stream",
     "text": [
      "[W ParallelNative.cpp:214] Warning: Cannot set number of intraop threads after parallel work has started or after set_num_threads call when using native parallel backend (function set_num_threads)\n"
     ]
    },
    {
     "name": "stdout",
     "output_type": "stream",
     "text": [
      "# Epoch 34: 100%|██████████| 11/11 [00:04<00:00,  2.67it/s, Loss: 0.1645]\n",
      "2022-02-17 11:45:22,767: Epoch 34 average loss: 0.1989688534628261\n",
      "# Epoch 35:   0%|          | 0/11 [00:00<?, ?it/s]"
     ]
    },
    {
     "name": "stderr",
     "output_type": "stream",
     "text": [
      "[W ParallelNative.cpp:214] Warning: Cannot set number of intraop threads after parallel work has started or after set_num_threads call when using native parallel backend (function set_num_threads)\n",
      "[W ParallelNative.cpp:214] Warning: Cannot set number of intraop threads after parallel work has started or after set_num_threads call when using native parallel backend (function set_num_threads)\n",
      "[W ParallelNative.cpp:214] Warning: Cannot set number of intraop threads after parallel work has started or after set_num_threads call when using native parallel backend (function set_num_threads)\n",
      "[W ParallelNative.cpp:214] Warning: Cannot set number of intraop threads after parallel work has started or after set_num_threads call when using native parallel backend (function set_num_threads)\n",
      "[W ParallelNative.cpp:214] Warning: Cannot set number of intraop threads after parallel work has started or after set_num_threads call when using native parallel backend (function set_num_threads)\n",
      "[W ParallelNative.cpp:214] Warning: Cannot set number of intraop threads after parallel work has started or after set_num_threads call when using native parallel backend (function set_num_threads)\n",
      "[W ParallelNative.cpp:214] Warning: Cannot set number of intraop threads after parallel work has started or after set_num_threads call when using native parallel backend (function set_num_threads)\n",
      "[W ParallelNative.cpp:214] Warning: Cannot set number of intraop threads after parallel work has started or after set_num_threads call when using native parallel backend (function set_num_threads)\n"
     ]
    },
    {
     "name": "stdout",
     "output_type": "stream",
     "text": [
      "# Epoch 35: 100%|██████████| 11/11 [00:04<00:00,  2.70it/s, Loss: 0.1824]\n",
      "2022-02-17 11:45:26,864: Epoch 35 average loss: 0.2051033011891625\n",
      "# Validation: 100%|██████████| 1/1 [00:00<00:00,  1.58it/s]\n",
      "2022-02-17 11:45:27,506: Epoch 35 average validation loss: 0.18555 -- Median validation metrics: NSE_1H: 0.66033, NSE_1D: 0.70617\n",
      "# Epoch 36:   0%|          | 0/11 [00:00<?, ?it/s]"
     ]
    },
    {
     "name": "stderr",
     "output_type": "stream",
     "text": [
      "[W ParallelNative.cpp:214] Warning: Cannot set number of intraop threads after parallel work has started or after set_num_threads call when using native parallel backend (function set_num_threads)\n",
      "[W ParallelNative.cpp:214] Warning: Cannot set number of intraop threads after parallel work has started or after set_num_threads call when using native parallel backend (function set_num_threads)\n",
      "[W ParallelNative.cpp:214] Warning: Cannot set number of intraop threads after parallel work has started or after set_num_threads call when using native parallel backend (function set_num_threads)\n",
      "[W ParallelNative.cpp:214] Warning: Cannot set number of intraop threads after parallel work has started or after set_num_threads call when using native parallel backend (function set_num_threads)\n",
      "[W ParallelNative.cpp:214] Warning: Cannot set number of intraop threads after parallel work has started or after set_num_threads call when using native parallel backend (function set_num_threads)\n",
      "[W ParallelNative.cpp:214] Warning: Cannot set number of intraop threads after parallel work has started or after set_num_threads call when using native parallel backend (function set_num_threads)\n",
      "[W ParallelNative.cpp:214] Warning: Cannot set number of intraop threads after parallel work has started or after set_num_threads call when using native parallel backend (function set_num_threads)\n",
      "[W ParallelNative.cpp:214] Warning: Cannot set number of intraop threads after parallel work has started or after set_num_threads call when using native parallel backend (function set_num_threads)\n"
     ]
    },
    {
     "name": "stdout",
     "output_type": "stream",
     "text": [
      "# Epoch 36: 100%|██████████| 11/11 [00:04<00:00,  3.09it/s, Loss: 0.1883]"
     ]
    },
    {
     "name": "stderr",
     "output_type": "stream",
     "text": [
      "[W ParallelNative.cpp:214] Warning: Cannot set number of intraop threads after parallel work has started or after set_num_threads call when using native parallel backend (function set_num_threads)\n"
     ]
    },
    {
     "name": "stdout",
     "output_type": "stream",
     "text": [
      "# Epoch 36: 100%|██████████| 11/11 [00:04<00:00,  2.69it/s, Loss: 0.1883]\n",
      "2022-02-17 11:45:31,615: Epoch 36 average loss: 0.20543552257797934\n",
      "# Epoch 37:   0%|          | 0/11 [00:00<?, ?it/s]"
     ]
    },
    {
     "name": "stderr",
     "output_type": "stream",
     "text": [
      "[W ParallelNative.cpp:214] Warning: Cannot set number of intraop threads after parallel work has started or after set_num_threads call when using native parallel backend (function set_num_threads)\n",
      "[W ParallelNative.cpp:214] Warning: Cannot set number of intraop threads after parallel work has started or after set_num_threads call when using native parallel backend (function set_num_threads)\n",
      "[W ParallelNative.cpp:214] Warning: Cannot set number of intraop threads after parallel work has started or after set_num_threads call when using native parallel backend (function set_num_threads)\n",
      "[W ParallelNative.cpp:214] Warning: Cannot set number of intraop threads after parallel work has started or after set_num_threads call when using native parallel backend (function set_num_threads)\n",
      "[W ParallelNative.cpp:214] Warning: Cannot set number of intraop threads after parallel work has started or after set_num_threads call when using native parallel backend (function set_num_threads)\n",
      "[W ParallelNative.cpp:214] Warning: Cannot set number of intraop threads after parallel work has started or after set_num_threads call when using native parallel backend (function set_num_threads)\n",
      "[W ParallelNative.cpp:214] Warning: Cannot set number of intraop threads after parallel work has started or after set_num_threads call when using native parallel backend (function set_num_threads)\n",
      "[W ParallelNative.cpp:214] Warning: Cannot set number of intraop threads after parallel work has started or after set_num_threads call when using native parallel backend (function set_num_threads)\n"
     ]
    },
    {
     "name": "stdout",
     "output_type": "stream",
     "text": [
      "# Epoch 37: 100%|██████████| 11/11 [00:04<00:00,  2.70it/s, Loss: 0.2173]\n",
      "2022-02-17 11:45:35,720: Epoch 37 average loss: 0.19220046292651782\n",
      "# Epoch 38:   0%|          | 0/11 [00:00<?, ?it/s]"
     ]
    },
    {
     "name": "stderr",
     "output_type": "stream",
     "text": [
      "[W ParallelNative.cpp:214] Warning: Cannot set number of intraop threads after parallel work has started or after set_num_threads call when using native parallel backend (function set_num_threads)\n",
      "[W ParallelNative.cpp:214] Warning: Cannot set number of intraop threads after parallel work has started or after set_num_threads call when using native parallel backend (function set_num_threads)\n",
      "[W ParallelNative.cpp:214] Warning: Cannot set number of intraop threads after parallel work has started or after set_num_threads call when using native parallel backend (function set_num_threads)\n",
      "[W ParallelNative.cpp:214] Warning: Cannot set number of intraop threads after parallel work has started or after set_num_threads call when using native parallel backend (function set_num_threads)\n",
      "[W ParallelNative.cpp:214] Warning: Cannot set number of intraop threads after parallel work has started or after set_num_threads call when using native parallel backend (function set_num_threads)\n",
      "[W ParallelNative.cpp:214] Warning: Cannot set number of intraop threads after parallel work has started or after set_num_threads call when using native parallel backend (function set_num_threads)\n",
      "[W ParallelNative.cpp:214] Warning: Cannot set number of intraop threads after parallel work has started or after set_num_threads call when using native parallel backend (function set_num_threads)\n",
      "[W ParallelNative.cpp:214] Warning: Cannot set number of intraop threads after parallel work has started or after set_num_threads call when using native parallel backend (function set_num_threads)\n"
     ]
    },
    {
     "name": "stdout",
     "output_type": "stream",
     "text": [
      "# Epoch 38: 100%|██████████| 11/11 [00:04<00:00,  2.70it/s, Loss: 0.2211]\n",
      "2022-02-17 11:45:39,823: Epoch 38 average loss: 0.20778737826780838\n",
      "# Epoch 39:   0%|          | 0/11 [00:00<?, ?it/s]"
     ]
    },
    {
     "name": "stderr",
     "output_type": "stream",
     "text": [
      "[W ParallelNative.cpp:214] Warning: Cannot set number of intraop threads after parallel work has started or after set_num_threads call when using native parallel backend (function set_num_threads)\n",
      "[W ParallelNative.cpp:214] Warning: Cannot set number of intraop threads after parallel work has started or after set_num_threads call when using native parallel backend (function set_num_threads)\n",
      "[W ParallelNative.cpp:214] Warning: Cannot set number of intraop threads after parallel work has started or after set_num_threads call when using native parallel backend (function set_num_threads)\n",
      "[W ParallelNative.cpp:214] Warning: Cannot set number of intraop threads after parallel work has started or after set_num_threads call when using native parallel backend (function set_num_threads)\n",
      "[W ParallelNative.cpp:214] Warning: Cannot set number of intraop threads after parallel work has started or after set_num_threads call when using native parallel backend (function set_num_threads)\n",
      "[W ParallelNative.cpp:214] Warning: Cannot set number of intraop threads after parallel work has started or after set_num_threads call when using native parallel backend (function set_num_threads)\n",
      "[W ParallelNative.cpp:214] Warning: Cannot set number of intraop threads after parallel work has started or after set_num_threads call when using native parallel backend (function set_num_threads)\n",
      "[W ParallelNative.cpp:214] Warning: Cannot set number of intraop threads after parallel work has started or after set_num_threads call when using native parallel backend (function set_num_threads)\n"
     ]
    },
    {
     "name": "stdout",
     "output_type": "stream",
     "text": [
      "# Epoch 39: 100%|██████████| 11/11 [00:04<00:00,  3.09it/s, Loss: 0.1636]"
     ]
    },
    {
     "name": "stderr",
     "output_type": "stream",
     "text": [
      "[W ParallelNative.cpp:214] Warning: Cannot set number of intraop threads after parallel work has started or after set_num_threads call when using native parallel backend (function set_num_threads)\n",
      "[W ParallelNative.cpp:214] Warning: Cannot set number of intraop threads after parallel work has started or after set_num_threads call when using native parallel backend (function set_num_threads)\n"
     ]
    },
    {
     "name": "stdout",
     "output_type": "stream",
     "text": [
      "# Epoch 39: 100%|██████████| 11/11 [00:04<00:00,  2.69it/s, Loss: 0.1636]\n",
      "2022-02-17 11:45:43,939: Epoch 39 average loss: 0.19071454757993872\n",
      "2022-02-17 11:45:43,947: Setting learning rate to 0.001\n",
      "# Epoch 40:   0%|          | 0/11 [00:00<?, ?it/s]"
     ]
    },
    {
     "name": "stderr",
     "output_type": "stream",
     "text": [
      "[W ParallelNative.cpp:214] Warning: Cannot set number of intraop threads after parallel work has started or after set_num_threads call when using native parallel backend (function set_num_threads)\n",
      "[W ParallelNative.cpp:214] Warning: Cannot set number of intraop threads after parallel work has started or after set_num_threads call when using native parallel backend (function set_num_threads)\n",
      "[W ParallelNative.cpp:214] Warning: Cannot set number of intraop threads after parallel work has started or after set_num_threads call when using native parallel backend (function set_num_threads)\n",
      "[W ParallelNative.cpp:214] Warning: Cannot set number of intraop threads after parallel work has started or after set_num_threads call when using native parallel backend (function set_num_threads)\n",
      "[W ParallelNative.cpp:214] Warning: Cannot set number of intraop threads after parallel work has started or after set_num_threads call when using native parallel backend (function set_num_threads)\n",
      "[W ParallelNative.cpp:214] Warning: Cannot set number of intraop threads after parallel work has started or after set_num_threads call when using native parallel backend (function set_num_threads)\n",
      "[W ParallelNative.cpp:214] Warning: Cannot set number of intraop threads after parallel work has started or after set_num_threads call when using native parallel backend (function set_num_threads)\n",
      "[W ParallelNative.cpp:214] Warning: Cannot set number of intraop threads after parallel work has started or after set_num_threads call when using native parallel backend (function set_num_threads)\n"
     ]
    },
    {
     "name": "stdout",
     "output_type": "stream",
     "text": [
      "# Epoch 40: 100%|██████████| 11/11 [00:04<00:00,  2.69it/s, Loss: 0.1847]\n",
      "2022-02-17 11:45:48,063: Epoch 40 average loss: 0.19542409073222766\n",
      "# Validation: 100%|██████████| 1/1 [00:00<00:00,  1.58it/s]\n",
      "2022-02-17 11:45:48,707: Epoch 40 average validation loss: 0.17970 -- Median validation metrics: NSE_1H: 0.66749, NSE_1D: 0.71208\n",
      "# Epoch 41:   0%|          | 0/11 [00:00<?, ?it/s]"
     ]
    },
    {
     "name": "stderr",
     "output_type": "stream",
     "text": [
      "[W ParallelNative.cpp:214] Warning: Cannot set number of intraop threads after parallel work has started or after set_num_threads call when using native parallel backend (function set_num_threads)\n",
      "[W ParallelNative.cpp:214] Warning: Cannot set number of intraop threads after parallel work has started or after set_num_threads call when using native parallel backend (function set_num_threads)\n",
      "[W ParallelNative.cpp:214] Warning: Cannot set number of intraop threads after parallel work has started or after set_num_threads call when using native parallel backend (function set_num_threads)\n",
      "[W ParallelNative.cpp:214] Warning: Cannot set number of intraop threads after parallel work has started or after set_num_threads call when using native parallel backend (function set_num_threads)\n",
      "[W ParallelNative.cpp:214] Warning: Cannot set number of intraop threads after parallel work has started or after set_num_threads call when using native parallel backend (function set_num_threads)\n",
      "[W ParallelNative.cpp:214] Warning: Cannot set number of intraop threads after parallel work has started or after set_num_threads call when using native parallel backend (function set_num_threads)\n",
      "[W ParallelNative.cpp:214] Warning: Cannot set number of intraop threads after parallel work has started or after set_num_threads call when using native parallel backend (function set_num_threads)\n",
      "[W ParallelNative.cpp:214] Warning: Cannot set number of intraop threads after parallel work has started or after set_num_threads call when using native parallel backend (function set_num_threads)\n"
     ]
    },
    {
     "name": "stdout",
     "output_type": "stream",
     "text": [
      "# Epoch 41: 100%|██████████| 11/11 [00:04<00:00,  2.71it/s, Loss: 0.1739]\n",
      "2022-02-17 11:45:52,781: Epoch 41 average loss: 0.1892206533388658\n",
      "# Epoch 42:   0%|          | 0/11 [00:00<?, ?it/s]"
     ]
    },
    {
     "name": "stderr",
     "output_type": "stream",
     "text": [
      "[W ParallelNative.cpp:214] Warning: Cannot set number of intraop threads after parallel work has started or after set_num_threads call when using native parallel backend (function set_num_threads)\n",
      "[W ParallelNative.cpp:214] Warning: Cannot set number of intraop threads after parallel work has started or after set_num_threads call when using native parallel backend (function set_num_threads)\n",
      "[W ParallelNative.cpp:214] Warning: Cannot set number of intraop threads after parallel work has started or after set_num_threads call when using native parallel backend (function set_num_threads)\n",
      "[W ParallelNative.cpp:214] Warning: Cannot set number of intraop threads after parallel work has started or after set_num_threads call when using native parallel backend (function set_num_threads)\n",
      "[W ParallelNative.cpp:214] Warning: Cannot set number of intraop threads after parallel work has started or after set_num_threads call when using native parallel backend (function set_num_threads)\n",
      "[W ParallelNative.cpp:214] Warning: Cannot set number of intraop threads after parallel work has started or after set_num_threads call when using native parallel backend (function set_num_threads)\n",
      "[W ParallelNative.cpp:214] Warning: Cannot set number of intraop threads after parallel work has started or after set_num_threads call when using native parallel backend (function set_num_threads)\n",
      "[W ParallelNative.cpp:214] Warning: Cannot set number of intraop threads after parallel work has started or after set_num_threads call when using native parallel backend (function set_num_threads)\n"
     ]
    },
    {
     "name": "stdout",
     "output_type": "stream",
     "text": [
      "# Epoch 42: 100%|██████████| 11/11 [00:04<00:00,  3.09it/s, Loss: 0.2254]"
     ]
    },
    {
     "name": "stderr",
     "output_type": "stream",
     "text": [
      "[W ParallelNative.cpp:214] Warning: Cannot set number of intraop threads after parallel work has started or after set_num_threads call when using native parallel backend (function set_num_threads)\n"
     ]
    },
    {
     "name": "stdout",
     "output_type": "stream",
     "text": [
      "# Epoch 42: 100%|██████████| 11/11 [00:04<00:00,  2.69it/s, Loss: 0.2254]\n",
      "2022-02-17 11:45:56,905: Epoch 42 average loss: 0.18786140328103845\n",
      "# Epoch 43:   0%|          | 0/11 [00:00<?, ?it/s]"
     ]
    },
    {
     "name": "stderr",
     "output_type": "stream",
     "text": [
      "[W ParallelNative.cpp:214] Warning: Cannot set number of intraop threads after parallel work has started or after set_num_threads call when using native parallel backend (function set_num_threads)\n",
      "[W ParallelNative.cpp:214] Warning: Cannot set number of intraop threads after parallel work has started or after set_num_threads call when using native parallel backend (function set_num_threads)\n",
      "[W ParallelNative.cpp:214] Warning: Cannot set number of intraop threads after parallel work has started or after set_num_threads call when using native parallel backend (function set_num_threads)\n",
      "[W ParallelNative.cpp:214] Warning: Cannot set number of intraop threads after parallel work has started or after set_num_threads call when using native parallel backend (function set_num_threads)\n",
      "[W ParallelNative.cpp:214] Warning: Cannot set number of intraop threads after parallel work has started or after set_num_threads call when using native parallel backend (function set_num_threads)\n",
      "[W ParallelNative.cpp:214] Warning: Cannot set number of intraop threads after parallel work has started or after set_num_threads call when using native parallel backend (function set_num_threads)\n",
      "[W ParallelNative.cpp:214] Warning: Cannot set number of intraop threads after parallel work has started or after set_num_threads call when using native parallel backend (function set_num_threads)\n",
      "[W ParallelNative.cpp:214] Warning: Cannot set number of intraop threads after parallel work has started or after set_num_threads call when using native parallel backend (function set_num_threads)\n"
     ]
    },
    {
     "name": "stdout",
     "output_type": "stream",
     "text": [
      "# Epoch 43: 100%|██████████| 11/11 [00:04<00:00,  2.63it/s, Loss: 0.1289]\n",
      "2022-02-17 11:46:01,121: Epoch 43 average loss: 0.177114414897832\n",
      "# Epoch 44:   0%|          | 0/11 [00:00<?, ?it/s]"
     ]
    },
    {
     "name": "stderr",
     "output_type": "stream",
     "text": [
      "[W ParallelNative.cpp:214] Warning: Cannot set number of intraop threads after parallel work has started or after set_num_threads call when using native parallel backend (function set_num_threads)\n",
      "[W ParallelNative.cpp:214] Warning: Cannot set number of intraop threads after parallel work has started or after set_num_threads call when using native parallel backend (function set_num_threads)\n",
      "[W ParallelNative.cpp:214] Warning: Cannot set number of intraop threads after parallel work has started or after set_num_threads call when using native parallel backend (function set_num_threads)\n",
      "[W ParallelNative.cpp:214] Warning: Cannot set number of intraop threads after parallel work has started or after set_num_threads call when using native parallel backend (function set_num_threads)\n",
      "[W ParallelNative.cpp:214] Warning: Cannot set number of intraop threads after parallel work has started or after set_num_threads call when using native parallel backend (function set_num_threads)\n",
      "[W ParallelNative.cpp:214] Warning: Cannot set number of intraop threads after parallel work has started or after set_num_threads call when using native parallel backend (function set_num_threads)\n",
      "[W ParallelNative.cpp:214] Warning: Cannot set number of intraop threads after parallel work has started or after set_num_threads call when using native parallel backend (function set_num_threads)\n",
      "[W ParallelNative.cpp:214] Warning: Cannot set number of intraop threads after parallel work has started or after set_num_threads call when using native parallel backend (function set_num_threads)\n"
     ]
    },
    {
     "name": "stdout",
     "output_type": "stream",
     "text": [
      "# Epoch 44: 100%|██████████| 11/11 [00:04<00:00,  2.66it/s, Loss: 0.3400]\n",
      "2022-02-17 11:46:05,286: Epoch 44 average loss: 0.19543106041171335\n",
      "# Epoch 45:   0%|          | 0/11 [00:00<?, ?it/s]"
     ]
    },
    {
     "name": "stderr",
     "output_type": "stream",
     "text": [
      "[W ParallelNative.cpp:214] Warning: Cannot set number of intraop threads after parallel work has started or after set_num_threads call when using native parallel backend (function set_num_threads)\n",
      "[W ParallelNative.cpp:214] Warning: Cannot set number of intraop threads after parallel work has started or after set_num_threads call when using native parallel backend (function set_num_threads)\n",
      "[W ParallelNative.cpp:214] Warning: Cannot set number of intraop threads after parallel work has started or after set_num_threads call when using native parallel backend (function set_num_threads)\n",
      "[W ParallelNative.cpp:214] Warning: Cannot set number of intraop threads after parallel work has started or after set_num_threads call when using native parallel backend (function set_num_threads)\n",
      "[W ParallelNative.cpp:214] Warning: Cannot set number of intraop threads after parallel work has started or after set_num_threads call when using native parallel backend (function set_num_threads)\n",
      "[W ParallelNative.cpp:214] Warning: Cannot set number of intraop threads after parallel work has started or after set_num_threads call when using native parallel backend (function set_num_threads)\n",
      "[W ParallelNative.cpp:214] Warning: Cannot set number of intraop threads after parallel work has started or after set_num_threads call when using native parallel backend (function set_num_threads)\n",
      "[W ParallelNative.cpp:214] Warning: Cannot set number of intraop threads after parallel work has started or after set_num_threads call when using native parallel backend (function set_num_threads)\n"
     ]
    },
    {
     "name": "stdout",
     "output_type": "stream",
     "text": [
      "# Epoch 45: 100%|██████████| 11/11 [00:04<00:00,  2.71it/s, Loss: 0.1664]\n",
      "2022-02-17 11:46:09,365: Epoch 45 average loss: 0.1893347759138454\n",
      "# Validation: 100%|██████████| 1/1 [00:00<00:00,  1.57it/s]\n",
      "2022-02-17 11:46:10,011: Epoch 45 average validation loss: 0.17729 -- Median validation metrics: NSE_1H: 0.67210, NSE_1D: 0.71434\n",
      "# Epoch 46:   0%|          | 0/11 [00:00<?, ?it/s]"
     ]
    },
    {
     "name": "stderr",
     "output_type": "stream",
     "text": [
      "[W ParallelNative.cpp:214] Warning: Cannot set number of intraop threads after parallel work has started or after set_num_threads call when using native parallel backend (function set_num_threads)\n",
      "[W ParallelNative.cpp:214] Warning: Cannot set number of intraop threads after parallel work has started or after set_num_threads call when using native parallel backend (function set_num_threads)\n",
      "[W ParallelNative.cpp:214] Warning: Cannot set number of intraop threads after parallel work has started or after set_num_threads call when using native parallel backend (function set_num_threads)\n",
      "[W ParallelNative.cpp:214] Warning: Cannot set number of intraop threads after parallel work has started or after set_num_threads call when using native parallel backend (function set_num_threads)\n",
      "[W ParallelNative.cpp:214] Warning: Cannot set number of intraop threads after parallel work has started or after set_num_threads call when using native parallel backend (function set_num_threads)\n",
      "[W ParallelNative.cpp:214] Warning: Cannot set number of intraop threads after parallel work has started or after set_num_threads call when using native parallel backend (function set_num_threads)\n",
      "[W ParallelNative.cpp:214] Warning: Cannot set number of intraop threads after parallel work has started or after set_num_threads call when using native parallel backend (function set_num_threads)\n",
      "[W ParallelNative.cpp:214] Warning: Cannot set number of intraop threads after parallel work has started or after set_num_threads call when using native parallel backend (function set_num_threads)\n"
     ]
    },
    {
     "name": "stdout",
     "output_type": "stream",
     "text": [
      "# Epoch 46: 100%|██████████| 11/11 [00:04<00:00,  2.69it/s, Loss: 0.2264]\n",
      "2022-02-17 11:46:14,122: Epoch 46 average loss: 0.1898575100031766\n",
      "# Epoch 47:   0%|          | 0/11 [00:00<?, ?it/s]"
     ]
    },
    {
     "name": "stderr",
     "output_type": "stream",
     "text": [
      "[W ParallelNative.cpp:214] Warning: Cannot set number of intraop threads after parallel work has started or after set_num_threads call when using native parallel backend (function set_num_threads)\n",
      "[W ParallelNative.cpp:214] Warning: Cannot set number of intraop threads after parallel work has started or after set_num_threads call when using native parallel backend (function set_num_threads)\n",
      "[W ParallelNative.cpp:214] Warning: Cannot set number of intraop threads after parallel work has started or after set_num_threads call when using native parallel backend (function set_num_threads)\n",
      "[W ParallelNative.cpp:214] Warning: Cannot set number of intraop threads after parallel work has started or after set_num_threads call when using native parallel backend (function set_num_threads)\n",
      "[W ParallelNative.cpp:214] Warning: Cannot set number of intraop threads after parallel work has started or after set_num_threads call when using native parallel backend (function set_num_threads)\n",
      "[W ParallelNative.cpp:214] Warning: Cannot set number of intraop threads after parallel work has started or after set_num_threads call when using native parallel backend (function set_num_threads)\n",
      "[W ParallelNative.cpp:214] Warning: Cannot set number of intraop threads after parallel work has started or after set_num_threads call when using native parallel backend (function set_num_threads)\n",
      "[W ParallelNative.cpp:214] Warning: Cannot set number of intraop threads after parallel work has started or after set_num_threads call when using native parallel backend (function set_num_threads)\n"
     ]
    },
    {
     "name": "stdout",
     "output_type": "stream",
     "text": [
      "# Epoch 47: 100%|██████████| 11/11 [00:04<00:00,  2.67it/s, Loss: 0.1664]\n",
      "2022-02-17 11:46:18,261: Epoch 47 average loss: 0.17946001209995963\n",
      "# Epoch 48:   0%|          | 0/11 [00:00<?, ?it/s]"
     ]
    },
    {
     "name": "stderr",
     "output_type": "stream",
     "text": [
      "[W ParallelNative.cpp:214] Warning: Cannot set number of intraop threads after parallel work has started or after set_num_threads call when using native parallel backend (function set_num_threads)\n",
      "[W ParallelNative.cpp:214] Warning: Cannot set number of intraop threads after parallel work has started or after set_num_threads call when using native parallel backend (function set_num_threads)\n",
      "[W ParallelNative.cpp:214] Warning: Cannot set number of intraop threads after parallel work has started or after set_num_threads call when using native parallel backend (function set_num_threads)\n",
      "[W ParallelNative.cpp:214] Warning: Cannot set number of intraop threads after parallel work has started or after set_num_threads call when using native parallel backend (function set_num_threads)\n",
      "[W ParallelNative.cpp:214] Warning: Cannot set number of intraop threads after parallel work has started or after set_num_threads call when using native parallel backend (function set_num_threads)\n",
      "[W ParallelNative.cpp:214] Warning: Cannot set number of intraop threads after parallel work has started or after set_num_threads call when using native parallel backend (function set_num_threads)\n",
      "[W ParallelNative.cpp:214] Warning: Cannot set number of intraop threads after parallel work has started or after set_num_threads call when using native parallel backend (function set_num_threads)\n",
      "[W ParallelNative.cpp:214] Warning: Cannot set number of intraop threads after parallel work has started or after set_num_threads call when using native parallel backend (function set_num_threads)\n"
     ]
    },
    {
     "name": "stdout",
     "output_type": "stream",
     "text": [
      "# Epoch 48: 100%|██████████| 11/11 [00:04<00:00,  2.67it/s, Loss: 0.1682]\n",
      "2022-02-17 11:46:22,406: Epoch 48 average loss: 0.18066004731438376\n",
      "# Epoch 49:   0%|          | 0/11 [00:00<?, ?it/s]"
     ]
    },
    {
     "name": "stderr",
     "output_type": "stream",
     "text": [
      "[W ParallelNative.cpp:214] Warning: Cannot set number of intraop threads after parallel work has started or after set_num_threads call when using native parallel backend (function set_num_threads)\n",
      "[W ParallelNative.cpp:214] Warning: Cannot set number of intraop threads after parallel work has started or after set_num_threads call when using native parallel backend (function set_num_threads)\n",
      "[W ParallelNative.cpp:214] Warning: Cannot set number of intraop threads after parallel work has started or after set_num_threads call when using native parallel backend (function set_num_threads)\n",
      "[W ParallelNative.cpp:214] Warning: Cannot set number of intraop threads after parallel work has started or after set_num_threads call when using native parallel backend (function set_num_threads)\n",
      "[W ParallelNative.cpp:214] Warning: Cannot set number of intraop threads after parallel work has started or after set_num_threads call when using native parallel backend (function set_num_threads)\n",
      "[W ParallelNative.cpp:214] Warning: Cannot set number of intraop threads after parallel work has started or after set_num_threads call when using native parallel backend (function set_num_threads)\n",
      "[W ParallelNative.cpp:214] Warning: Cannot set number of intraop threads after parallel work has started or after set_num_threads call when using native parallel backend (function set_num_threads)\n",
      "[W ParallelNative.cpp:214] Warning: Cannot set number of intraop threads after parallel work has started or after set_num_threads call when using native parallel backend (function set_num_threads)\n"
     ]
    },
    {
     "name": "stdout",
     "output_type": "stream",
     "text": [
      "# Epoch 49: 100%|██████████| 11/11 [00:04<00:00,  2.66it/s, Loss: 0.1724]\n",
      "2022-02-17 11:46:26,565: Epoch 49 average loss: 0.18465721742673355\n",
      "# Epoch 50:   0%|          | 0/11 [00:00<?, ?it/s]"
     ]
    },
    {
     "name": "stderr",
     "output_type": "stream",
     "text": [
      "[W ParallelNative.cpp:214] Warning: Cannot set number of intraop threads after parallel work has started or after set_num_threads call when using native parallel backend (function set_num_threads)\n",
      "[W ParallelNative.cpp:214] Warning: Cannot set number of intraop threads after parallel work has started or after set_num_threads call when using native parallel backend (function set_num_threads)\n",
      "[W ParallelNative.cpp:214] Warning: Cannot set number of intraop threads after parallel work has started or after set_num_threads call when using native parallel backend (function set_num_threads)\n",
      "[W ParallelNative.cpp:214] Warning: Cannot set number of intraop threads after parallel work has started or after set_num_threads call when using native parallel backend (function set_num_threads)\n",
      "[W ParallelNative.cpp:214] Warning: Cannot set number of intraop threads after parallel work has started or after set_num_threads call when using native parallel backend (function set_num_threads)\n",
      "[W ParallelNative.cpp:214] Warning: Cannot set number of intraop threads after parallel work has started or after set_num_threads call when using native parallel backend (function set_num_threads)\n",
      "[W ParallelNative.cpp:214] Warning: Cannot set number of intraop threads after parallel work has started or after set_num_threads call when using native parallel backend (function set_num_threads)\n",
      "[W ParallelNative.cpp:214] Warning: Cannot set number of intraop threads after parallel work has started or after set_num_threads call when using native parallel backend (function set_num_threads)\n"
     ]
    },
    {
     "name": "stdout",
     "output_type": "stream",
     "text": [
      "# Epoch 50: 100%|██████████| 11/11 [00:04<00:00,  2.65it/s, Loss: 0.2008]\n",
      "2022-02-17 11:46:30,744: Epoch 50 average loss: 0.18731968240304428\n",
      "# Validation: 100%|██████████| 1/1 [00:00<00:00,  1.56it/s]\n",
      "2022-02-17 11:46:31,394: Epoch 50 average validation loss: 0.17594 -- Median validation metrics: NSE_1H: 0.67443, NSE_1D: 0.71587\n"
     ]
    }
   ],
   "source": [
    "trainer.train_and_validate()"
   ]
  },
  {
   "cell_type": "code",
   "execution_count": 228,
   "metadata": {},
   "outputs": [],
   "source": [
    "new_pred = trainer.model(dd1)"
   ]
  },
  {
   "cell_type": "code",
   "execution_count": 229,
   "metadata": {},
   "outputs": [
    {
     "data": {
      "text/plain": [
       "tensor(0.0542, grad_fn=<SumBackward0>)"
      ]
     },
     "execution_count": 229,
     "metadata": {},
     "output_type": "execute_result"
    }
   ],
   "source": [
    "myloss(new_pred, dd1)"
   ]
  },
  {
   "cell_type": "code",
   "execution_count": 230,
   "metadata": {},
   "outputs": [
    {
     "data": {
      "text/plain": [
       "tensor(1.0621, grad_fn=<SumBackward0>)"
      ]
     },
     "execution_count": 230,
     "metadata": {},
     "output_type": "execute_result"
    }
   ],
   "source": [
    "myloss(pred, dd1)"
   ]
  },
  {
   "cell_type": "code",
   "execution_count": 231,
   "metadata": {},
   "outputs": [
    {
     "data": {
      "text/plain": [
       "tensor(0.0689, grad_fn=<AddBackward0>)"
      ]
     },
     "execution_count": 231,
     "metadata": {},
     "output_type": "execute_result"
    }
   ],
   "source": [
    "trainer.loss_obj(new_pred, dd1)"
   ]
  },
  {
   "cell_type": "code",
   "execution_count": 233,
   "metadata": {},
   "outputs": [
    {
     "data": {
      "text/plain": [
       "2739"
      ]
     },
     "execution_count": 233,
     "metadata": {},
     "output_type": "execute_result"
    }
   ],
   "source": [
    "len(ds)"
   ]
  },
  {
   "cell_type": "code",
   "execution_count": null,
   "metadata": {},
   "outputs": [],
   "source": []
  }
 ],
 "metadata": {
  "interpreter": {
   "hash": "64bcadabe4cd61f3d117ba0da9d14bf2f8e35582ff79e821f2e71056f2723d1e"
  },
  "kernelspec": {
   "display_name": "Python 3.8.2 64-bit ('py38': conda)",
   "language": "python",
   "name": "python3"
  },
  "language_info": {
   "codemirror_mode": {
    "name": "ipython",
    "version": 3
   },
   "file_extension": ".py",
   "mimetype": "text/x-python",
   "name": "python",
   "nbconvert_exporter": "python",
   "pygments_lexer": "ipython3",
   "version": "3.7.11"
  },
  "orig_nbformat": 4
 },
 "nbformat": 4,
 "nbformat_minor": 2
}
