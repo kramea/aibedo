{
 "cells": [
  {
   "cell_type": "code",
   "execution_count": 1,
   "metadata": {},
   "outputs": [],
   "source": [
    "import numpy as np\n",
    "import matplotlib.pyplot as plt\n",
    "from typing import List, Dict, Union\n",
    "\n",
    "import logging\n",
    "import pandas as pd\n",
    "from pathlib import Path\n",
    "\n",
    "import torch\n",
    "import torch.nn as nn\n",
    "import xarray\n",
    "\n",
    "from tqdm import tqdm\n",
    "\n",
    "LOGGER = logging.getLogger(__name__)"
   ]
  },
  {
   "cell_type": "code",
   "execution_count": 2,
   "metadata": {},
   "outputs": [],
   "source": [
    "from torch.utils.data import Dataset, DataLoader"
   ]
  },
  {
   "cell_type": "code",
   "execution_count": 3,
   "metadata": {},
   "outputs": [],
   "source": [
    "x_d_1H_array = torch.tensor(np.load(\"x_d_1H_array.npy\"))\n",
    "x_d_1D_array = torch.tensor(np.load(\"x_d_1D_array.npy\"))\n",
    "y_1H_array = torch.tensor(np.load(\"y_1H_array.npy\"))\n",
    "y_1D_array = torch.tensor(np.load(\"y_1D_array.npy\"))"
   ]
  },
  {
   "cell_type": "code",
   "execution_count": 4,
   "metadata": {},
   "outputs": [
    {
     "name": "stdout",
     "output_type": "stream",
     "text": [
      "torch.Size([87648, 16]) torch.float32\n",
      "torch.Size([3652, 5]) torch.float32\n",
      "torch.Size([87648, 1]) torch.float32\n",
      "torch.Size([3652, 1]) torch.float32\n"
     ]
    }
   ],
   "source": [
    "print(x_d_1H_array.shape, x_d_1H_array.dtype)\n",
    "print(x_d_1D_array.shape, x_d_1D_array.dtype)\n",
    "\n",
    "print(y_1H_array.shape, y_1H_array.dtype)\n",
    "print(y_1D_array.shape, y_1D_array.dtype)\n"
   ]
  },
  {
   "cell_type": "code",
   "execution_count": 5,
   "metadata": {},
   "outputs": [],
   "source": [
    "array_list = [x_d_1H_array, y_1H_array, x_d_1D_array,  y_1D_array]\n",
    "key_list = ['in_highres', 'out_highres', 'in_lowres', 'out_lowres']"
   ]
  },
  {
   "cell_type": "code",
   "execution_count": 6,
   "metadata": {},
   "outputs": [],
   "source": [
    "data_dict = dict(zip(key_list,array_list))"
   ]
  },
  {
   "cell_type": "code",
   "execution_count": 7,
   "metadata": {},
   "outputs": [],
   "source": [
    "hr_slen = 336\n",
    "lr_slen = 365\n"
   ]
  },
  {
   "cell_type": "code",
   "execution_count": 8,
   "metadata": {},
   "outputs": [],
   "source": [
    "H_lookup = np.load(\"H_lookup.npy\")\n",
    "D_lookup = np.load(\"D_lookup.npy\")\n"
   ]
  },
  {
   "cell_type": "code",
   "execution_count": 9,
   "metadata": {},
   "outputs": [
    {
     "data": {
      "text/plain": [
       "array([ 8759,  8783,  8807, ..., 87599, 87623, 87647])"
      ]
     },
     "execution_count": 9,
     "metadata": {},
     "output_type": "execute_result"
    }
   ],
   "source": [
    "H_lookup"
   ]
  },
  {
   "cell_type": "code",
   "execution_count": 10,
   "metadata": {},
   "outputs": [
    {
     "data": {
      "text/plain": [
       "array([ 364,  365,  366, ..., 3649, 3650, 3651])"
      ]
     },
     "execution_count": 10,
     "metadata": {},
     "output_type": "execute_result"
    }
   ],
   "source": [
    "np.arange(364, 3652)"
   ]
  },
  {
   "cell_type": "code",
   "execution_count": 11,
   "metadata": {},
   "outputs": [
    {
     "data": {
      "text/plain": [
       "87624"
      ]
     },
     "execution_count": 11,
     "metadata": {},
     "output_type": "execute_result"
    }
   ],
   "source": [
    "3651*24"
   ]
  },
  {
   "cell_type": "code",
   "execution_count": 12,
   "metadata": {},
   "outputs": [
    {
     "data": {
      "text/plain": [
       "dtype('int64')"
      ]
     },
     "execution_count": 12,
     "metadata": {},
     "output_type": "execute_result"
    }
   ],
   "source": [
    "D_lookup.dtype"
   ]
  },
  {
   "cell_type": "code",
   "execution_count": null,
   "metadata": {},
   "outputs": [],
   "source": []
  },
  {
   "cell_type": "code",
   "execution_count": null,
   "metadata": {},
   "outputs": [],
   "source": []
  },
  {
   "cell_type": "code",
   "execution_count": 13,
   "metadata": {},
   "outputs": [
    {
     "data": {
      "text/plain": [
       "torch.Size([336, 16])"
      ]
     },
     "execution_count": 13,
     "metadata": {},
     "output_type": "execute_result"
    }
   ],
   "source": [
    "data_dict['in_highres'][8759 - 336 + 1: 8759+1].shape"
   ]
  },
  {
   "cell_type": "code",
   "execution_count": 32,
   "metadata": {},
   "outputs": [
    {
     "data": {
      "text/plain": [
       "'x_d_1H'"
      ]
     },
     "execution_count": 32,
     "metadata": {},
     "output_type": "execute_result"
    }
   ],
   "source": [
    "f'x_d_1H'"
   ]
  },
  {
   "cell_type": "markdown",
   "metadata": {},
   "source": [
    "Load validation and test data (rainfall)"
   ]
  },
  {
   "cell_type": "code",
   "execution_count": 35,
   "metadata": {},
   "outputs": [],
   "source": [
    "x_d_1H_array_val = torch.tensor(np.load(\"x_d_1H_array_val.npy\"))\n",
    "x_d_1D_array_val = torch.tensor(np.load(\"x_d_1D_array_val.npy\"))\n",
    "y_1H_array_val = torch.tensor(np.load(\"y_1H_array_val.npy\"))\n",
    "y_1D_array_val = torch.tensor(np.load(\"y_1D_array_val.npy\"))\n",
    "\n",
    "H_lookup_val = np.load(\"H_lookup_val.npy\")\n",
    "D_lookup_val = np.load(\"D_lookup_val.npy\")\n",
    "\n",
    "\n",
    "data_dict_val = dict(zip(key_list,[x_d_1H_array_val, y_1H_array_val, x_d_1D_array_val,  y_1D_array_val]))\n",
    "\n"
   ]
  },
  {
   "cell_type": "code",
   "execution_count": 36,
   "metadata": {},
   "outputs": [
    {
     "data": {
      "text/plain": [
       "{'in_highres': tensor([[-0.2065, -0.0408, -0.2343,  ...,  0.8076,  0.5197,  0.3650],\n",
       "         [-0.2065, -0.0409, -0.2343,  ...,  0.8076,  0.5197,  0.3650],\n",
       "         [-0.2065, -0.0409, -0.2343,  ...,  0.8076,  0.5197,  0.3650],\n",
       "         ...,\n",
       "         [ 7.9878,  1.3757, -0.1260,  ...,  0.7227,  1.0108,  1.0089],\n",
       "         [ 0.2825,  1.3756, -0.1619,  ...,  0.7227,  1.0108,  1.0089],\n",
       "         [-0.2065,  1.3756, -0.1982,  ...,  0.7227,  1.0108,  1.0089]]),\n",
       " 'out_highres': tensor([[    nan],\n",
       "         [    nan],\n",
       "         [    nan],\n",
       "         ...,\n",
       "         [-0.4820],\n",
       "         [-0.4809],\n",
       "         [-0.4780]]),\n",
       " 'in_lowres': tensor([[-0.5128,  0.2444,  0.8076,  0.5197,  0.3650],\n",
       "         [ 0.1786, -0.7620,  0.6196,  0.6479,  0.5313],\n",
       "         [ 0.1345, -1.6310,  0.2321,  0.6795,  0.5259],\n",
       "         ...,\n",
       "         [-0.5349,  0.4120,  0.8449,  0.5661,  0.6113],\n",
       "         [-0.5317, -0.5012,  0.8048,  0.9862,  1.1195],\n",
       "         [-0.1837, -0.8999,  0.7227,  1.0108,  1.0089]]),\n",
       " 'out_lowres': tensor([[    nan],\n",
       "         [    nan],\n",
       "         [    nan],\n",
       "         ...,\n",
       "         [-0.2913],\n",
       "         [-0.3914],\n",
       "         [-0.4617]])}"
      ]
     },
     "execution_count": 36,
     "metadata": {},
     "output_type": "execute_result"
    }
   ],
   "source": [
    "data_dict_val"
   ]
  },
  {
   "cell_type": "code",
   "execution_count": null,
   "metadata": {},
   "outputs": [],
   "source": []
  },
  {
   "cell_type": "code",
   "execution_count": 42,
   "metadata": {},
   "outputs": [],
   "source": [
    "\n",
    "class TemporalDS(Dataset):\n",
    "    def __init__(self, data_dict, hr_seq_len, lr_seq_len, hlkup, dlkup):\n",
    "        self.datadict = data_dict\n",
    "        self.hr_seq_len = hr_seq_len\n",
    "        self.lr_seq_len = lr_seq_len\n",
    "        self.freq_factor = 24.0\n",
    "        self.hlookup = hlkup\n",
    "        self.dlookup = dlkup\n",
    "        self.num_samples = self.hlookup.shape[0] #hardcoded right now for this example DS\n",
    "        \n",
    "        \n",
    "    def __getitem__(self, index)-> Dict[str, torch.Tensor]:\n",
    "        hr_idx = self.hlookup[index]\n",
    "        lr_idx = self.dlookup[index]\n",
    "        \n",
    "        \n",
    "        sample = {}\n",
    "        \n",
    "        #populate for high res first (i.e. hourly)\n",
    "        sample[f'x_d_1H'] = self.datadict['in_highres'][hr_idx - self.hr_seq_len + 1: hr_idx+1]\n",
    "        sample[f'y_1H'] = self.datadict['out_highres'][hr_idx - self.hr_seq_len + 1: hr_idx+1]\n",
    "        \n",
    "        sample[f'x_d_1D'] = self.datadict['in_lowres'][lr_idx - self.lr_seq_len + 1: lr_idx+1]\n",
    "        sample[f'y_1D'] = self.datadict['out_lowres'][lr_idx - self.lr_seq_len + 1: lr_idx+1]\n",
    "\n",
    "        return sample\n",
    "\n",
    "    def __len__(self):\n",
    "        return self.num_samples"
   ]
  },
  {
   "cell_type": "code",
   "execution_count": 44,
   "metadata": {},
   "outputs": [],
   "source": [
    "t_ds = TemporalDS(data_dict, hr_seq_len=336, lr_seq_len=365, hlkup=H_lookup, dlkup=D_lookup)"
   ]
  },
  {
   "cell_type": "code",
   "execution_count": 45,
   "metadata": {},
   "outputs": [
    {
     "data": {
      "text/plain": [
       "2739"
      ]
     },
     "execution_count": 45,
     "metadata": {},
     "output_type": "execute_result"
    }
   ],
   "source": [
    "len(t_ds)"
   ]
  },
  {
   "cell_type": "code",
   "execution_count": 46,
   "metadata": {},
   "outputs": [],
   "source": [
    "t_dl = DataLoader(t_ds, batch_size=256, shuffle=True)"
   ]
  },
  {
   "cell_type": "code",
   "execution_count": 47,
   "metadata": {},
   "outputs": [
    {
     "name": "stdout",
     "output_type": "stream",
     "text": [
      "torch.Size([256, 336, 16])\n",
      "torch.Size([256, 336, 16])\n",
      "torch.Size([256, 336, 16])\n",
      "torch.Size([256, 336, 16])\n",
      "torch.Size([256, 336, 16])\n",
      "torch.Size([256, 336, 16])\n",
      "torch.Size([256, 336, 16])\n",
      "torch.Size([256, 336, 16])\n",
      "torch.Size([256, 336, 16])\n",
      "torch.Size([256, 336, 16])\n",
      "torch.Size([179, 336, 16])\n"
     ]
    }
   ],
   "source": [
    "for d in t_dl:\n",
    "    print(d['x_d_1H'].shape)"
   ]
  },
  {
   "cell_type": "code",
   "execution_count": 48,
   "metadata": {},
   "outputs": [],
   "source": [
    "t_ds_val = TemporalDS(data_dict_val, hr_seq_len=336, lr_seq_len=365, hlkup=H_lookup_val, dlkup=D_lookup_val)"
   ]
  },
  {
   "cell_type": "code",
   "execution_count": 49,
   "metadata": {},
   "outputs": [
    {
     "data": {
      "text/plain": [
       "1095"
      ]
     },
     "execution_count": 49,
     "metadata": {},
     "output_type": "execute_result"
    }
   ],
   "source": [
    "len(t_ds_val)"
   ]
  },
  {
   "cell_type": "code",
   "execution_count": 64,
   "metadata": {},
   "outputs": [],
   "source": [
    "t_dl_val = DataLoader(t_ds_val, batch_size=256, shuffle=False, num_workers=0)"
   ]
  },
  {
   "cell_type": "code",
   "execution_count": 65,
   "metadata": {},
   "outputs": [
    {
     "name": "stdout",
     "output_type": "stream",
     "text": [
      "torch.Size([256, 336, 16])\n",
      "torch.Size([256, 336, 16])\n",
      "torch.Size([256, 336, 16])\n",
      "torch.Size([256, 336, 16])\n",
      "torch.Size([71, 336, 16])\n"
     ]
    }
   ],
   "source": [
    "for d in t_dl_val:\n",
    "    print(d['x_d_1H'].shape)"
   ]
  },
  {
   "cell_type": "code",
   "execution_count": null,
   "metadata": {},
   "outputs": [],
   "source": []
  },
  {
   "cell_type": "code",
   "execution_count": null,
   "metadata": {},
   "outputs": [],
   "source": []
  },
  {
   "cell_type": "markdown",
   "metadata": {},
   "source": [
    "Custom dataset and dataloader in partially done at this point\n",
    "\n",
    "Now, create model and train. Will have to use neuralhydrology lib"
   ]
  },
  {
   "cell_type": "code",
   "execution_count": 118,
   "metadata": {},
   "outputs": [],
   "source": [
    "from neuralhydrology.utils.config import Config\n",
    "from neuralhydrology.utils.samplingutils import sample_pointpredictions\n",
    "from neuralhydrology.datautils.utils import get_frequency_factor, sort_frequencies\n",
    "from neuralhydrology.modelzoo.head import get_head\n",
    "\n",
    "import neuralhydrology.training.loss as loss\n"
   ]
  },
  {
   "cell_type": "code",
   "execution_count": 51,
   "metadata": {},
   "outputs": [],
   "source": [
    "class BaseModel(nn.Module):\n",
    "    \n",
    "    # specify submodules of the model that can later be used for finetuning. Names must match class attributes\n",
    "    module_parts = []\n",
    "\n",
    "    def __init__(self, cfg: Config):\n",
    "        super(BaseModel, self).__init__()\n",
    "        self.cfg = cfg\n",
    "        self.output_size = len(cfg.target_variables)\n",
    "        # if cfg.head.lower() == 'gmm':\n",
    "        #     self.output_size *= 3 * cfg.n_distributions\n",
    "        # elif cfg.head.lower() == 'cmal':\n",
    "        #     self.output_size *= 4 * cfg.n_distributions\n",
    "        # elif cfg.head.lower() == 'umal':\n",
    "        #     self.output_size *= 2\n",
    "\n",
    "    def sample(self, data: Dict[str, torch.Tensor], n_samples: int) -> Dict[str, torch.Tensor]:\n",
    "        \n",
    "        return sample_pointpredictions(self, data, n_samples)\n",
    "\n",
    "    def forward(self, data: Dict[str, torch.Tensor]) -> Dict[str, torch.Tensor]:\n",
    "        \n",
    "        raise NotImplementedError"
   ]
  },
  {
   "cell_type": "code",
   "execution_count": 52,
   "metadata": {},
   "outputs": [],
   "source": [
    "class MTSLSTM(BaseModel):\n",
    "    \n",
    "    # specify submodules of the model that can later be used for finetuning. Names must match class attributes\n",
    "    module_parts = ['lstms', 'transfer_fcs', 'heads']\n",
    "\n",
    "    def __init__(self, cfg: Config):\n",
    "        super(MTSLSTM, self).__init__(cfg=cfg)\n",
    "        self.lstms = None\n",
    "        self.transfer_fcs = None\n",
    "        self.heads = None\n",
    "        self.dropout = None\n",
    "\n",
    "        self._slice_timestep = {}\n",
    "        self._frequency_factors = []\n",
    "\n",
    "        self._seq_lengths = cfg.seq_length\n",
    "        self._is_shared_mtslstm = self.cfg.shared_mtslstm  # default: a distinct LSTM per timescale\n",
    "        self._transfer_mtslstm_states = self.cfg.transfer_mtslstm_states  # default: linear transfer layer\n",
    "        transfer_modes = [None, \"None\", \"identity\", \"linear\"]\n",
    "        if self._transfer_mtslstm_states[\"h\"] not in transfer_modes \\\n",
    "                or self._transfer_mtslstm_states[\"c\"] not in transfer_modes:\n",
    "            raise ValueError(f\"MTS-LSTM supports state transfer modes {transfer_modes}\")\n",
    "\n",
    "        if len(cfg.use_frequencies) < 2:\n",
    "            raise ValueError(\"MTS-LSTM expects more than one input frequency\")\n",
    "        self._frequencies = sort_frequencies(cfg.use_frequencies)\n",
    "\n",
    "        # start to count the number of inputs\n",
    "        input_sizes = len(cfg.static_attributes + cfg.hydroatlas_attributes + cfg.evolving_attributes)\n",
    "\n",
    "        # if is_shared_mtslstm, the LSTM gets an additional frequency flag as input.\n",
    "        if self._is_shared_mtslstm:\n",
    "            input_sizes += len(self._frequencies)\n",
    "\n",
    "        if cfg.use_basin_id_encoding:\n",
    "            input_sizes += cfg.number_of_basins\n",
    "        if cfg.head.lower() == \"umal\":\n",
    "            input_sizes += 1\n",
    "\n",
    "        if isinstance(cfg.dynamic_inputs, list):\n",
    "            input_sizes = {freq: input_sizes + len(cfg.dynamic_inputs) for freq in self._frequencies}\n",
    "        else:\n",
    "            if self._is_shared_mtslstm:\n",
    "                raise ValueError(f'Different inputs not allowed if shared_mtslstm is used.')\n",
    "            input_sizes = {freq: input_sizes + len(cfg.dynamic_inputs[freq]) for freq in self._frequencies}\n",
    "\n",
    "        if not isinstance(cfg.hidden_size, dict):\n",
    "            LOGGER.info(\"No specific hidden size for frequencies are specified. Same hidden size is used for all.\")\n",
    "            self._hidden_size = {freq: cfg.hidden_size for freq in self._frequencies}\n",
    "        else:\n",
    "            self._hidden_size = cfg.hidden_size\n",
    "\n",
    "        if (self._is_shared_mtslstm\n",
    "            or self._transfer_mtslstm_states[\"h\"] == \"identity\"\n",
    "            or self._transfer_mtslstm_states[\"c\"] == \"identity\") \\\n",
    "                and any(size != self._hidden_size[self._frequencies[0]] for size in self._hidden_size.values()):\n",
    "            raise ValueError(\"All hidden sizes must be equal if shared_mtslstm is used or state transfer=identity.\")\n",
    "\n",
    "        # create layer depending on selected frequencies\n",
    "        self._init_modules(input_sizes)\n",
    "        self._reset_parameters()\n",
    "\n",
    "        # frequency factors are needed to determine the time step of information transfer\n",
    "        self._init_frequency_factors_and_slice_timesteps()\n",
    "\n",
    "    def _init_modules(self, input_sizes: Dict[str, int]):\n",
    "        self.lstms = nn.ModuleDict()\n",
    "        self.transfer_fcs = nn.ModuleDict()\n",
    "        self.heads = nn.ModuleDict()\n",
    "        self.dropout = nn.Dropout(p=self.cfg.output_dropout)\n",
    "        for idx, freq in enumerate(self._frequencies):\n",
    "            freq_input_size = input_sizes[freq]\n",
    "\n",
    "            if self._is_shared_mtslstm and idx > 0:\n",
    "                self.lstms[freq] = self.lstms[self._frequencies[idx - 1]]  # same LSTM for all frequencies.\n",
    "                self.heads[freq] = self.heads[self._frequencies[idx - 1]]  # same head for all frequencies.\n",
    "            else:\n",
    "                self.lstms[freq] = nn.LSTM(input_size=freq_input_size, hidden_size=self._hidden_size[freq])\n",
    "                self.heads[freq] = get_head(self.cfg, n_in=self._hidden_size[freq], n_out=self.output_size)\n",
    "\n",
    "            if idx < len(self._frequencies) - 1:\n",
    "                for state in [\"c\", \"h\"]:\n",
    "                    if self._transfer_mtslstm_states[state] == \"linear\":\n",
    "                        self.transfer_fcs[f\"{state}_{freq}\"] = nn.Linear(self._hidden_size[freq],\n",
    "                                                                         self._hidden_size[self._frequencies[idx + 1]])\n",
    "                    elif self._transfer_mtslstm_states[state] == \"identity\":\n",
    "                        self.transfer_fcs[f\"{state}_{freq}\"] = nn.Identity()\n",
    "                    else:\n",
    "                        pass\n",
    "\n",
    "    def _init_frequency_factors_and_slice_timesteps(self):\n",
    "        for idx, freq in enumerate(self._frequencies):\n",
    "            if idx < len(self._frequencies) - 1:\n",
    "                frequency_factor = get_frequency_factor(freq, self._frequencies[idx + 1])\n",
    "                if frequency_factor != int(frequency_factor):\n",
    "                    raise ValueError('Adjacent frequencies must be multiples of each other.')\n",
    "                self._frequency_factors.append(int(frequency_factor))\n",
    "                # we want to pass the state of the day _before_ the next higher frequency starts,\n",
    "                # because e.g. the mean of a day is stored at the same date at 00:00 in the morning.\n",
    "                slice_timestep = int(self._seq_lengths[self._frequencies[idx + 1]] / self._frequency_factors[idx])\n",
    "                self._slice_timestep[freq] = slice_timestep\n",
    "\n",
    "    def _reset_parameters(self):\n",
    "        if self.cfg.initial_forget_bias is not None:\n",
    "            for freq in self._frequencies:\n",
    "                hidden_size = self._hidden_size[freq]\n",
    "                self.lstms[freq].bias_hh_l0.data[hidden_size:2 * hidden_size] = self.cfg.initial_forget_bias\n",
    "\n",
    "    def _prepare_inputs(self, data: Dict[str, torch.Tensor], freq: str) -> torch.Tensor:\n",
    "        \"\"\"Concat all different inputs to the time series input\"\"\"\n",
    "        suffix = f\"_{freq}\"\n",
    "        # transpose to [seq_length, batch_size, n_features]\n",
    "        x_d = data[f'x_d{suffix}'].transpose(0, 1)\n",
    "\n",
    "        # concat all inputs\n",
    "        if f'x_s{suffix}' in data and 'x_one_hot' in data:\n",
    "            x_s = data[f'x_s{suffix}'].unsqueeze(0).repeat(x_d.shape[0], 1, 1)\n",
    "            x_one_hot = data['x_one_hot'].unsqueeze(0).repeat(x_d.shape[0], 1, 1)\n",
    "            x_d = torch.cat([x_d, x_s, x_one_hot], dim=-1)\n",
    "        elif f'x_s{suffix}' in data:\n",
    "            x_s = data[f'x_s{suffix}'].unsqueeze(0).repeat(x_d.shape[0], 1, 1)\n",
    "            x_d = torch.cat([x_d, x_s], dim=-1)\n",
    "        elif 'x_one_hot' in data:\n",
    "            x_one_hot = data['x_one_hot'].unsqueeze(0).repeat(x_d.shape[0], 1, 1)\n",
    "            x_d = torch.cat([x_d, x_one_hot], dim=-1)\n",
    "        else:\n",
    "            pass\n",
    "\n",
    "        if self._is_shared_mtslstm:\n",
    "            # add frequency one-hot encoding\n",
    "            idx = self._frequencies.index(freq)\n",
    "            one_hot_freq = torch.zeros(x_d.shape[0], x_d.shape[1], len(self._frequencies)).to(x_d)\n",
    "            one_hot_freq[:, :, idx] = 1\n",
    "            x_d = torch.cat([x_d, one_hot_freq], dim=2)\n",
    "\n",
    "        return x_d\n",
    "\n",
    "    def forward(self, data: Dict[str, torch.Tensor]) -> Dict[str, torch.Tensor]:\n",
    "        \"\"\"Perform a forward pass on the MTS-LSTM model.\n",
    "        \n",
    "        Parameters\n",
    "        ----------\n",
    "        data : Dict[str, torch.Tensor]\n",
    "            Input data for the forward pass. See the documentation overview of all models for details on the dict keys.\n",
    "        Returns\n",
    "        -------\n",
    "        Dict[str, torch.Tensor]\n",
    "            Model predictions for each target timescale.\n",
    "        \"\"\"\n",
    "        x_d = {freq: self._prepare_inputs(data, freq) for freq in self._frequencies}\n",
    "\n",
    "        # initial states for lowest frequencies are set to zeros\n",
    "        batch_size = x_d[self._frequencies[0]].shape[1]\n",
    "        lowest_freq_hidden_size = self._hidden_size[self._frequencies[0]]\n",
    "        h_0_transfer = x_d[self._frequencies[0]].new_zeros((1, batch_size, lowest_freq_hidden_size))\n",
    "        c_0_transfer = torch.zeros_like(h_0_transfer)\n",
    "\n",
    "        outputs = {}\n",
    "        for idx, freq in enumerate(self._frequencies):\n",
    "            if idx < len(self._frequencies) - 1:\n",
    "                # get predictions and state up to the time step of information transfer\n",
    "                slice_timestep = self._slice_timestep[freq]\n",
    "                lstm_output_slice1, (h_n_slice1, c_n_slice1) = self.lstms[freq](x_d[freq][:-slice_timestep],\n",
    "                                                                                (h_0_transfer, c_0_transfer))\n",
    "\n",
    "                # project the states through a hidden layer to the dimensions of the next LSTM\n",
    "                if self._transfer_mtslstm_states[\"h\"] is not None:\n",
    "                    h_0_transfer = self.transfer_fcs[f\"h_{freq}\"](h_n_slice1)\n",
    "                if self._transfer_mtslstm_states[\"c\"] is not None:\n",
    "                    c_0_transfer = self.transfer_fcs[f\"c_{freq}\"](c_n_slice1)\n",
    "\n",
    "                # get predictions of remaining part and concat results\n",
    "                lstm_output_slice2, _ = self.lstms[freq](x_d[freq][-slice_timestep:], (h_n_slice1, c_n_slice1))\n",
    "                lstm_output = torch.cat([lstm_output_slice1, lstm_output_slice2], dim=0)\n",
    "\n",
    "            else:\n",
    "                # for highest frequency, we can pass the entire sequence at once\n",
    "                lstm_output, _ = self.lstms[freq](x_d[freq], (h_0_transfer, c_0_transfer))\n",
    "\n",
    "            head_out = self.heads[freq](self.dropout(lstm_output.transpose(0, 1)))\n",
    "            outputs.update({f'{key}_{freq}': value for key, value in head_out.items()})\n",
    "\n",
    "        return outputs"
   ]
  },
  {
   "cell_type": "code",
   "execution_count": 111,
   "metadata": {},
   "outputs": [],
   "source": [
    "def _get_predictions_and_loss(model, data, l_obj):\n",
    "    predictions = model(data)\n",
    "    loss = l_obj(predictions, data)\n",
    "    return predictions, loss.item()\n",
    "\n",
    "def _subset_targets(data, predictions, predict_last_n, freq):\n",
    "    y_hat_sub = predictions[f'y_hat{freq}'][:, -predict_last_n:, :]\n",
    "    y_sub = data[f'y{freq}'][:, -predict_last_n:, :]\n",
    "    return y_hat_sub, y_sub\n",
    "\n",
    "\n",
    "def _evaluate(model, loader, l_obj, frequencies):\n",
    "    \"\"\"Evaluate model\"\"\"\n",
    "    predict_last_n = conf_obj.predict_last_n\n",
    "    # if isinstance(predict_last_n, int):\n",
    "    #     predict_last_n = {frequencies[0]: predict_last_n}  # if predict_last_n is int, there's only one frequency\n",
    "\n",
    "    preds, obs = {}, {}\n",
    "    losses = []\n",
    "    with torch.no_grad():\n",
    "        for data in loader:\n",
    "\n",
    "            # for key in data:\n",
    "            #     data[key] = data[key].to(self.device)\n",
    "            predictions, loss = _get_predictions_and_loss(model, data, l_obj)\n",
    "\n",
    "            for freq in frequencies:\n",
    "                freq_key = f'_{freq}'\n",
    "                y_hat_sub, y_sub = _subset_targets(data, predictions, predict_last_n[freq], freq_key)\n",
    "\n",
    "                if freq not in preds:\n",
    "                    preds[freq] = y_hat_sub.detach().cpu()\n",
    "                    obs[freq] = y_sub.cpu()\n",
    "                else:\n",
    "                    preds[freq] = torch.cat((preds[freq], y_hat_sub.detach().cpu()), 0)\n",
    "                    obs[freq] = torch.cat((obs[freq], y_sub.detach().cpu()), 0)\n",
    "\n",
    "            losses.append(loss)\n",
    "\n",
    "        for freq in preds.keys():\n",
    "            preds[freq] = preds[freq].numpy()\n",
    "            obs[freq] = obs[freq].numpy()\n",
    "\n",
    "    # set to NaN explicitly if all losses are NaN to avoid RuntimeWarning\n",
    "    mean_loss = np.nanmean(losses) if len(losses) > 0 and not all(np.isnan(l) for l in losses) else np.nan\n",
    "    return preds, obs, mean_loss"
   ]
  },
  {
   "cell_type": "code",
   "execution_count": 53,
   "metadata": {},
   "outputs": [
    {
     "data": {
      "text/plain": [
       "False"
      ]
     },
     "execution_count": 53,
     "metadata": {},
     "output_type": "execute_result"
    }
   ],
   "source": [
    "mymodel._is_shared_mtslstm"
   ]
  },
  {
   "cell_type": "code",
   "execution_count": 142,
   "metadata": {},
   "outputs": [
    {
     "data": {
      "text/plain": [
       "['1D', '1H']"
      ]
     },
     "execution_count": 142,
     "metadata": {},
     "output_type": "execute_result"
    }
   ],
   "source": [
    "mymodel._frequencies"
   ]
  },
  {
   "cell_type": "code",
   "execution_count": 54,
   "metadata": {},
   "outputs": [],
   "source": [
    "conf_obj = Config(Path('1_basin.yml'))"
   ]
  },
  {
   "cell_type": "code",
   "execution_count": 146,
   "metadata": {},
   "outputs": [
    {
     "data": {
      "text/plain": [
       "{'1D': ['prcp(mm/day)_maurer_extended',\n",
       "  'srad(W/m2)_maurer_extended',\n",
       "  'tmax(C)_maurer_extended',\n",
       "  'tmin(C)_maurer_extended',\n",
       "  'vp(Pa)_maurer_extended'],\n",
       " '1H': ['convective_fraction_nldas_hourly',\n",
       "  'longwave_radiation_nldas_hourly',\n",
       "  'potential_energy_nldas_hourly',\n",
       "  'potential_evaporation_nldas_hourly',\n",
       "  'pressure_nldas_hourly',\n",
       "  'shortwave_radiation_nldas_hourly',\n",
       "  'specific_humidity_nldas_hourly',\n",
       "  'temperature_nldas_hourly',\n",
       "  'total_precipitation_nldas_hourly',\n",
       "  'wind_u_nldas_hourly',\n",
       "  'wind_v_nldas_hourly',\n",
       "  'prcp(mm/day)_maurer_extended',\n",
       "  'srad(W/m2)_maurer_extended',\n",
       "  'tmax(C)_maurer_extended',\n",
       "  'tmin(C)_maurer_extended',\n",
       "  'vp(Pa)_maurer_extended']}"
      ]
     },
     "execution_count": 146,
     "metadata": {},
     "output_type": "execute_result"
    }
   ],
   "source": [
    "conf_obj.dynamic_inputs"
   ]
  },
  {
   "cell_type": "code",
   "execution_count": 150,
   "metadata": {},
   "outputs": [
    {
     "data": {
      "text/plain": [
       "True"
      ]
     },
     "execution_count": 150,
     "metadata": {},
     "output_type": "execute_result"
    }
   ],
   "source": [
    "isinstance(conf_obj.dynamic_inputs['1H'], list)"
   ]
  },
  {
   "cell_type": "code",
   "execution_count": 156,
   "metadata": {},
   "outputs": [
    {
     "data": {
      "text/plain": [
       "[24]"
      ]
     },
     "execution_count": 156,
     "metadata": {},
     "output_type": "execute_result"
    }
   ],
   "source": [
    "mymodel._frequency_factors\n"
   ]
  },
  {
   "cell_type": "code",
   "execution_count": 151,
   "metadata": {},
   "outputs": [
    {
     "data": {
      "text/plain": [
       "{'1D': 2, '1H': 2}"
      ]
     },
     "execution_count": 151,
     "metadata": {},
     "output_type": "execute_result"
    }
   ],
   "source": [
    "{freq: 0 + len(conf_obj.dynamic_inputs) for freq in mymodel._frequencies}"
   ]
  },
  {
   "cell_type": "code",
   "execution_count": 124,
   "metadata": {},
   "outputs": [],
   "source": [
    "mymodel = MTSLSTM(conf_obj)"
   ]
  },
  {
   "cell_type": "code",
   "execution_count": 157,
   "metadata": {},
   "outputs": [
    {
     "data": {
      "text/plain": [
       "False"
      ]
     },
     "execution_count": 157,
     "metadata": {},
     "output_type": "execute_result"
    }
   ],
   "source": [
    "mymodel._is_shared_mtslstm"
   ]
  },
  {
   "cell_type": "code",
   "execution_count": 125,
   "metadata": {},
   "outputs": [
    {
     "data": {
      "text/plain": [
       "MTSLSTM(\n",
       "  (lstms): ModuleDict(\n",
       "    (1D): LSTM(5, 20)\n",
       "    (1H): LSTM(16, 20)\n",
       "  )\n",
       "  (transfer_fcs): ModuleDict(\n",
       "    (c_1D): Linear(in_features=20, out_features=20, bias=True)\n",
       "    (h_1D): Linear(in_features=20, out_features=20, bias=True)\n",
       "  )\n",
       "  (heads): ModuleDict(\n",
       "    (1D): Regression(\n",
       "      (net): Sequential(\n",
       "        (0): Linear(in_features=20, out_features=1, bias=True)\n",
       "      )\n",
       "    )\n",
       "    (1H): Regression(\n",
       "      (net): Sequential(\n",
       "        (0): Linear(in_features=20, out_features=1, bias=True)\n",
       "      )\n",
       "    )\n",
       "  )\n",
       "  (dropout): Dropout(p=0.4, inplace=False)\n",
       ")"
      ]
     },
     "execution_count": 125,
     "metadata": {},
     "output_type": "execute_result"
    }
   ],
   "source": [
    "mymodel"
   ]
  },
  {
   "cell_type": "code",
   "execution_count": 126,
   "metadata": {},
   "outputs": [
    {
     "data": {
      "text/plain": [
       "{'1D': 1, '1H': 24}"
      ]
     },
     "execution_count": 126,
     "metadata": {},
     "output_type": "execute_result"
    }
   ],
   "source": [
    "conf_obj.predict_last_n"
   ]
  },
  {
   "cell_type": "code",
   "execution_count": 127,
   "metadata": {},
   "outputs": [],
   "source": [
    "optimizer = torch.optim.Adam(mymodel.parameters(), lr=1e-2)"
   ]
  },
  {
   "cell_type": "code",
   "execution_count": 128,
   "metadata": {},
   "outputs": [],
   "source": [
    "loss_obj = loss.MaskedMSELoss(conf_obj)"
   ]
  },
  {
   "cell_type": "code",
   "execution_count": 129,
   "metadata": {},
   "outputs": [
    {
     "data": {
      "text/plain": [
       "MaskedMSELoss()"
      ]
     },
     "execution_count": 129,
     "metadata": {},
     "output_type": "execute_result"
    }
   ],
   "source": [
    "loss_obj"
   ]
  },
  {
   "cell_type": "code",
   "execution_count": 160,
   "metadata": {},
   "outputs": [
    {
     "data": {
      "text/plain": [
       "tensor([1.])"
      ]
     },
     "execution_count": 160,
     "metadata": {},
     "output_type": "execute_result"
    }
   ],
   "source": [
    "loss_obj._target_weights"
   ]
  },
  {
   "cell_type": "code",
   "execution_count": 164,
   "metadata": {},
   "outputs": [],
   "source": [
    "conf_obj.target_loss_weights"
   ]
  },
  {
   "cell_type": "code",
   "execution_count": 130,
   "metadata": {},
   "outputs": [
    {
     "data": {
      "text/plain": [
       "False"
      ]
     },
     "execution_count": 130,
     "metadata": {},
     "output_type": "execute_result"
    }
   ],
   "source": [
    "conf_obj.mc_dropout"
   ]
  },
  {
   "cell_type": "code",
   "execution_count": 161,
   "metadata": {},
   "outputs": [],
   "source": [
    "tt = [1.0]"
   ]
  },
  {
   "cell_type": "code",
   "execution_count": 162,
   "metadata": {},
   "outputs": [
    {
     "data": {
      "text/plain": [
       "tensor([1.])"
      ]
     },
     "execution_count": 162,
     "metadata": {},
     "output_type": "execute_result"
    }
   ],
   "source": [
    "torch.tensor(tt)"
   ]
  },
  {
   "cell_type": "code",
   "execution_count": null,
   "metadata": {},
   "outputs": [],
   "source": []
  },
  {
   "cell_type": "code",
   "execution_count": 137,
   "metadata": {},
   "outputs": [
    {
     "name": "stderr",
     "output_type": "stream",
     "text": [
      "100%|██████████| 11/11 [00:03<00:00,  2.83it/s, Loss: 0.0751]\n"
     ]
    },
    {
     "name": "stdout",
     "output_type": "stream",
     "text": [
      "Avg. validation loss 0.21961527168750763\n"
     ]
    },
    {
     "name": "stderr",
     "output_type": "stream",
     "text": [
      "100%|██████████| 11/11 [00:03<00:00,  2.87it/s, Loss: 0.0607]\n",
      "100%|██████████| 11/11 [00:03<00:00,  2.88it/s, Loss: 0.1014]\n",
      "100%|██████████| 11/11 [00:03<00:00,  2.86it/s, Loss: 0.0817]\n",
      "100%|██████████| 11/11 [00:03<00:00,  2.84it/s, Loss: 0.1427]\n",
      "100%|██████████| 11/11 [00:03<00:00,  2.79it/s, Loss: 0.0670]\n"
     ]
    },
    {
     "name": "stdout",
     "output_type": "stream",
     "text": [
      "Avg. validation loss 0.2222240149974823\n"
     ]
    },
    {
     "name": "stderr",
     "output_type": "stream",
     "text": [
      "100%|██████████| 11/11 [00:03<00:00,  2.84it/s, Loss: 0.0842]\n",
      "100%|██████████| 11/11 [00:03<00:00,  2.88it/s, Loss: 0.1274]\n",
      "100%|██████████| 11/11 [00:03<00:00,  2.88it/s, Loss: 0.0754]\n",
      "100%|██████████| 11/11 [00:03<00:00,  2.85it/s, Loss: 0.0742]\n",
      "100%|██████████| 11/11 [00:03<00:00,  2.86it/s, Loss: 0.1262]\n"
     ]
    },
    {
     "name": "stdout",
     "output_type": "stream",
     "text": [
      "Avg. validation loss 0.22537840902805328\n"
     ]
    },
    {
     "name": "stderr",
     "output_type": "stream",
     "text": [
      "100%|██████████| 11/11 [00:03<00:00,  2.88it/s, Loss: 0.0634]\n",
      "100%|██████████| 11/11 [00:03<00:00,  2.83it/s, Loss: 0.0815]\n",
      "100%|██████████| 11/11 [00:03<00:00,  2.88it/s, Loss: 0.0890]\n",
      "100%|██████████| 11/11 [00:03<00:00,  2.84it/s, Loss: 0.0539]\n",
      "100%|██████████| 11/11 [00:03<00:00,  2.84it/s, Loss: 0.0753]\n"
     ]
    },
    {
     "name": "stdout",
     "output_type": "stream",
     "text": [
      "Avg. validation loss 0.19415228068828583\n"
     ]
    },
    {
     "name": "stderr",
     "output_type": "stream",
     "text": [
      "100%|██████████| 11/11 [00:03<00:00,  2.85it/s, Loss: 0.1110]\n",
      "100%|██████████| 11/11 [00:03<00:00,  2.85it/s, Loss: 0.1195]\n",
      "100%|██████████| 11/11 [00:03<00:00,  2.87it/s, Loss: 0.0907]\n",
      "100%|██████████| 11/11 [00:03<00:00,  2.87it/s, Loss: 0.0768]\n",
      "100%|██████████| 11/11 [00:03<00:00,  2.84it/s, Loss: 0.0656]\n"
     ]
    },
    {
     "name": "stdout",
     "output_type": "stream",
     "text": [
      "Avg. validation loss 0.22728019654750825\n"
     ]
    },
    {
     "name": "stderr",
     "output_type": "stream",
     "text": [
      "100%|██████████| 11/11 [00:03<00:00,  2.85it/s, Loss: 0.0787]\n",
      "100%|██████████| 11/11 [00:03<00:00,  2.85it/s, Loss: 0.0695]\n",
      "100%|██████████| 11/11 [00:03<00:00,  2.83it/s, Loss: 0.0763]\n",
      "100%|██████████| 11/11 [00:03<00:00,  2.87it/s, Loss: 0.0759]\n",
      "100%|██████████| 11/11 [00:03<00:00,  2.86it/s, Loss: 0.0558]\n"
     ]
    },
    {
     "name": "stdout",
     "output_type": "stream",
     "text": [
      "Avg. validation loss 0.2216474086046219\n"
     ]
    },
    {
     "name": "stderr",
     "output_type": "stream",
     "text": [
      "100%|██████████| 11/11 [00:03<00:00,  2.86it/s, Loss: 0.0664]\n",
      "100%|██████████| 11/11 [00:03<00:00,  2.80it/s, Loss: 0.1150]\n",
      "100%|██████████| 11/11 [00:03<00:00,  2.85it/s, Loss: 0.0923]\n",
      "100%|██████████| 11/11 [00:03<00:00,  2.85it/s, Loss: 0.0603]\n",
      "100%|██████████| 11/11 [00:03<00:00,  2.87it/s, Loss: 0.0719]\n"
     ]
    },
    {
     "name": "stdout",
     "output_type": "stream",
     "text": [
      "Avg. validation loss 0.2123498350381851\n"
     ]
    },
    {
     "name": "stderr",
     "output_type": "stream",
     "text": [
      "100%|██████████| 11/11 [00:03<00:00,  2.86it/s, Loss: 0.0711]\n",
      "100%|██████████| 11/11 [00:03<00:00,  2.84it/s, Loss: 0.0612]\n",
      "100%|██████████| 11/11 [00:03<00:00,  2.80it/s, Loss: 0.0614]\n",
      "100%|██████████| 11/11 [00:03<00:00,  2.84it/s, Loss: 0.0627]\n",
      "100%|██████████| 11/11 [00:03<00:00,  2.82it/s, Loss: 0.0828]\n"
     ]
    },
    {
     "name": "stdout",
     "output_type": "stream",
     "text": [
      "Avg. validation loss 0.20367392152547836\n"
     ]
    },
    {
     "name": "stderr",
     "output_type": "stream",
     "text": [
      "100%|██████████| 11/11 [00:03<00:00,  2.83it/s, Loss: 0.0754]\n",
      "100%|██████████| 11/11 [00:03<00:00,  2.86it/s, Loss: 0.0781]\n",
      "100%|██████████| 11/11 [00:03<00:00,  2.84it/s, Loss: 0.0763]\n",
      "100%|██████████| 11/11 [00:03<00:00,  2.86it/s, Loss: 0.0902]\n",
      "100%|██████████| 11/11 [00:03<00:00,  2.85it/s, Loss: 0.0640]\n"
     ]
    },
    {
     "name": "stdout",
     "output_type": "stream",
     "text": [
      "Avg. validation loss 0.22627511620521545\n"
     ]
    },
    {
     "name": "stderr",
     "output_type": "stream",
     "text": [
      "100%|██████████| 11/11 [00:03<00:00,  2.83it/s, Loss: 0.0535]\n",
      "100%|██████████| 11/11 [00:03<00:00,  2.85it/s, Loss: 0.0516]\n",
      "100%|██████████| 11/11 [00:03<00:00,  2.85it/s, Loss: 0.0511]\n",
      "100%|██████████| 11/11 [00:03<00:00,  2.82it/s, Loss: 0.0818]\n",
      "100%|██████████| 11/11 [00:03<00:00,  2.88it/s, Loss: 0.0553]\n"
     ]
    },
    {
     "name": "stdout",
     "output_type": "stream",
     "text": [
      "Avg. validation loss 0.21722330451011657\n"
     ]
    },
    {
     "name": "stderr",
     "output_type": "stream",
     "text": [
      "100%|██████████| 11/11 [00:03<00:00,  2.85it/s, Loss: 0.0857]\n",
      "100%|██████████| 11/11 [00:03<00:00,  2.82it/s, Loss: 0.1106]\n",
      "100%|██████████| 11/11 [00:03<00:00,  2.83it/s, Loss: 0.0894]\n",
      "100%|██████████| 11/11 [00:03<00:00,  2.82it/s, Loss: 0.0449]\n"
     ]
    }
   ],
   "source": [
    "for epoch in range(50):\n",
    "    mymodel.train()\n",
    "    pbar = tqdm(t_dl)\n",
    "    \n",
    "    for data in pbar:\n",
    "        predictions = mymodel(data)\n",
    "        loss_val = loss_obj(predictions, data)\n",
    "        optimizer.zero_grad()\n",
    "        loss_val.backward()\n",
    "        \n",
    "        torch.nn.utils.clip_grad_norm_(mymodel.parameters(), 1)\n",
    "        optimizer.step()\n",
    "        \n",
    "        pbar.set_postfix_str(f\"Loss: {loss_val.item():.4f}\")\n",
    "    \n",
    "    if epoch%5 == 0:    \n",
    "        ## validate\n",
    "        mymodel.eval()\n",
    "        _, _, avg_val_loss = _evaluate(mymodel, t_dl_val, loss_obj, conf_obj.use_frequencies)\n",
    "        print(\"Avg. validation loss\", avg_val_loss)\n",
    "        \n",
    "        \n",
    "        \n",
    "        \n",
    "        \n",
    "        \n",
    "        \n",
    "        \n",
    "    \n",
    "    "
   ]
  },
  {
   "cell_type": "code",
   "execution_count": 91,
   "metadata": {},
   "outputs": [],
   "source": []
  },
  {
   "cell_type": "code",
   "execution_count": 136,
   "metadata": {},
   "outputs": [
    {
     "name": "stdout",
     "output_type": "stream",
     "text": [
      "0.1406838446855545\n",
      "0.23654897511005402\n",
      "0.31690919399261475\n",
      "0.18032002449035645\n",
      "0.1600254774093628\n",
      "avg loss: 0.2068975031375885\n"
     ]
    }
   ],
   "source": [
    "ll_val = []\n",
    "for d in t_dl_val:\n",
    "    mymodel.eval()\n",
    "    pred, l = _get_predictions_and_loss(mymodel, d, loss_obj)\n",
    "    print(l)\n",
    "    ll_val.append(l)\n",
    "    \n",
    "print(\"avg loss:\", np.mean(ll_val))"
   ]
  },
  {
   "cell_type": "code",
   "execution_count": null,
   "metadata": {},
   "outputs": [],
   "source": []
  },
  {
   "cell_type": "code",
   "execution_count": 88,
   "metadata": {},
   "outputs": [
    {
     "data": {
      "text/plain": [
       "dict_keys(['y_hat_1D', 'y_hat_1H'])"
      ]
     },
     "execution_count": 88,
     "metadata": {},
     "output_type": "execute_result"
    }
   ],
   "source": [
    "pred.keys()"
   ]
  },
  {
   "cell_type": "code",
   "execution_count": 92,
   "metadata": {},
   "outputs": [],
   "source": []
  },
  {
   "cell_type": "code",
   "execution_count": 93,
   "metadata": {},
   "outputs": [],
   "source": [
    "p1, o1, mean_l1 = _evaluate(mymodel, t_dl_val, loss_obj, conf_obj.use_frequencies)"
   ]
  },
  {
   "cell_type": "code",
   "execution_count": 94,
   "metadata": {},
   "outputs": [
    {
     "data": {
      "text/plain": [
       "0.17049912214279175"
      ]
     },
     "execution_count": 94,
     "metadata": {},
     "output_type": "execute_result"
    }
   ],
   "source": [
    "mean_l1"
   ]
  },
  {
   "cell_type": "code",
   "execution_count": 109,
   "metadata": {},
   "outputs": [
    {
     "data": {
      "text/plain": [
       "(1095, 24)"
      ]
     },
     "execution_count": 109,
     "metadata": {},
     "output_type": "execute_result"
    }
   ],
   "source": [
    "o1['1H'][:,:,0].shape"
   ]
  },
  {
   "cell_type": "code",
   "execution_count": 107,
   "metadata": {},
   "outputs": [
    {
     "data": {
      "image/png": "[encoded data removed]",
      "text/plain": [
       "<Figure size 1440x360 with 1 Axes>"
      ]
     },
     "metadata": {
      "needs_background": "light"
     },
     "output_type": "display_data"
    }
   ],
   "source": [
    "plt.figure(figsize=(20,5))\n",
    "plt.plot(o1['1D'][:,0,0])\n",
    "plt.plot(p1['1D'][:,0,0])\n",
    "plt.show()"
   ]
  },
  {
   "cell_type": "code",
   "execution_count": 110,
   "metadata": {},
   "outputs": [
    {
     "data": {
      "image/png": "[encoded data removed]",
      "text/plain": [
       "<Figure size 1440x360 with 1 Axes>"
      ]
     },
     "metadata": {
      "needs_background": "light"
     },
     "output_type": "display_data"
    }
   ],
   "source": [
    "plt.figure(figsize=(20,5))\n",
    "plt.plot(o1['1H'][:,:,0].flatten())\n",
    "plt.plot(p1['1H'][:,:,0].flatten())\n",
    "plt.show()"
   ]
  },
  {
   "cell_type": "code",
   "execution_count": null,
   "metadata": {},
   "outputs": [],
   "source": []
  },
  {
   "cell_type": "code",
   "execution_count": 69,
   "metadata": {},
   "outputs": [
    {
     "data": {
      "text/plain": [
       "24"
      ]
     },
     "execution_count": 69,
     "metadata": {},
     "output_type": "execute_result"
    }
   ],
   "source": [
    "conf_obj.predict_last_n['1H']"
   ]
  },
  {
   "cell_type": "code",
   "execution_count": 70,
   "metadata": {},
   "outputs": [
    {
     "data": {
      "text/plain": [
       "['1H', '1D']"
      ]
     },
     "execution_count": 70,
     "metadata": {},
     "output_type": "execute_result"
    }
   ],
   "source": [
    "conf_obj.use_frequencies"
   ]
  },
  {
   "cell_type": "code",
   "execution_count": null,
   "metadata": {},
   "outputs": [],
   "source": []
  },
  {
   "cell_type": "code",
   "execution_count": null,
   "metadata": {},
   "outputs": [],
   "source": []
  },
  {
   "cell_type": "code",
   "execution_count": 119,
   "metadata": {},
   "outputs": [],
   "source": [
    "dd1 = next(iter(t_dl))  "
   ]
  },
  {
   "cell_type": "code",
   "execution_count": 120,
   "metadata": {},
   "outputs": [],
   "source": [
    "pred = mymodel(dd1)"
   ]
  },
  {
   "cell_type": "code",
   "execution_count": 121,
   "metadata": {},
   "outputs": [
    {
     "data": {
      "text/plain": [
       "tensor(0.0745, grad_fn=<SumBackward0>)"
      ]
     },
     "execution_count": 121,
     "metadata": {},
     "output_type": "execute_result"
    }
   ],
   "source": [
    "loss_obj(pred, dd1)"
   ]
  },
  {
   "cell_type": "code",
   "execution_count": 122,
   "metadata": {},
   "outputs": [
    {
     "data": {
      "text/plain": [
       "torch.Size([256, 336, 1])"
      ]
     },
     "execution_count": 122,
     "metadata": {},
     "output_type": "execute_result"
    }
   ],
   "source": [
    "pred['y_hat_1H'].shape"
   ]
  },
  {
   "cell_type": "code",
   "execution_count": 123,
   "metadata": {},
   "outputs": [
    {
     "data": {
      "text/plain": [
       "torch.Size([256, 365, 1])"
      ]
     },
     "execution_count": 123,
     "metadata": {},
     "output_type": "execute_result"
    }
   ],
   "source": [
    "pred['y_hat_1D'].shape"
   ]
  },
  {
   "cell_type": "code",
   "execution_count": 124,
   "metadata": {},
   "outputs": [
    {
     "data": {
      "text/plain": [
       "{'x_d_1H': tensor([[-0.2065, -0.8359, -0.2343,  ..., -0.2920, -0.5966, -0.6735],\n",
       "         [-0.2065, -0.8360, -0.2343,  ..., -0.2920, -0.5966, -0.6735],\n",
       "         [-0.2065, -0.8360, -0.2343,  ..., -0.2920, -0.5966, -0.6735],\n",
       "         ...,\n",
       "         [-0.2065,  0.0515, -0.2343,  ..., -0.3254, -0.0049, -0.3113],\n",
       "         [-0.2065,  0.0515, -0.2343,  ..., -0.3254, -0.0049, -0.3113],\n",
       "         [-0.2065,  0.0514, -0.2343,  ..., -0.3254, -0.0049, -0.3113]]),\n",
       " 'y_1H': tensor([[1.1504],\n",
       "         [1.1395],\n",
       "         [1.1359],\n",
       "         [1.1214],\n",
       "         [1.1214],\n",
       "         [1.1250],\n",
       "         [1.1033],\n",
       "         [1.0924],\n",
       "         [1.0888],\n",
       "         [1.0743],\n",
       "         [1.0670],\n",
       "         [1.0670],\n",
       "         [1.0489],\n",
       "         [1.0381],\n",
       "         [1.0344],\n",
       "         [1.0199],\n",
       "         [1.0091],\n",
       "         [0.9909],\n",
       "         [0.9909],\n",
       "         [0.9801],\n",
       "         [0.9656],\n",
       "         [0.9656],\n",
       "         [0.9511],\n",
       "         [0.9402],\n",
       "         [0.9438],\n",
       "         [0.9257],\n",
       "         [0.9257],\n",
       "         [0.9112],\n",
       "         [0.9076],\n",
       "         [0.8967],\n",
       "         [0.8931],\n",
       "         [0.8895],\n",
       "         [0.8786],\n",
       "         [0.8678],\n",
       "         [0.8605],\n",
       "         [0.8460],\n",
       "         [0.8388],\n",
       "         [0.8315],\n",
       "         [0.8206],\n",
       "         [0.8170],\n",
       "         [0.8062],\n",
       "         [0.7953],\n",
       "         [0.7917],\n",
       "         [0.7880],\n",
       "         [0.7808],\n",
       "         [0.7735],\n",
       "         [0.7699],\n",
       "         [0.7663],\n",
       "         [0.7590],\n",
       "         [0.7554],\n",
       "         [0.7554],\n",
       "         [0.7409],\n",
       "         [0.7373],\n",
       "         [0.7337],\n",
       "         [0.7337],\n",
       "         [0.7264],\n",
       "         [0.7264],\n",
       "         [0.7228],\n",
       "         [0.7192],\n",
       "         [0.7264],\n",
       "         [0.7264],\n",
       "         [0.7228],\n",
       "         [0.7192],\n",
       "         [0.7192],\n",
       "         [0.7119],\n",
       "         [0.7192],\n",
       "         [0.7119],\n",
       "         [0.7083],\n",
       "         [0.7119],\n",
       "         [0.7083],\n",
       "         [0.7119],\n",
       "         [0.7192],\n",
       "         [0.7192],\n",
       "         [0.7119],\n",
       "         [0.7192],\n",
       "         [0.7156],\n",
       "         [0.7192],\n",
       "         [0.7192],\n",
       "         [0.7192],\n",
       "         [0.7192],\n",
       "         [0.7192],\n",
       "         [0.7119],\n",
       "         [0.7119],\n",
       "         [0.7156],\n",
       "         [0.7083],\n",
       "         [0.6975],\n",
       "         [0.6938],\n",
       "         [0.6866],\n",
       "         [0.6902],\n",
       "         [0.6902],\n",
       "         [0.6830],\n",
       "         [0.6793],\n",
       "         [0.6757],\n",
       "         [0.6612],\n",
       "         [0.6612],\n",
       "         [0.6540],\n",
       "         [0.6467],\n",
       "         [0.6467],\n",
       "         [0.6467],\n",
       "         [0.6467],\n",
       "         [0.6467],\n",
       "         [0.6348],\n",
       "         [0.6246],\n",
       "         [0.6192],\n",
       "         [0.6105],\n",
       "         [0.6018],\n",
       "         [0.5913],\n",
       "         [0.5855],\n",
       "         [0.5793],\n",
       "         [0.5685],\n",
       "         [0.5601],\n",
       "         [0.5525],\n",
       "         [0.5416],\n",
       "         [0.5377],\n",
       "         [0.5315],\n",
       "         [0.5257],\n",
       "         [0.5137],\n",
       "         [0.5076],\n",
       "         [0.5032],\n",
       "         [0.4960],\n",
       "         [0.4960],\n",
       "         [0.4916],\n",
       "         [0.4855],\n",
       "         [0.4837],\n",
       "         [0.4757],\n",
       "         [0.4717],\n",
       "         [0.4677],\n",
       "         [0.4598],\n",
       "         [0.4518],\n",
       "         [0.4416],\n",
       "         [0.4376],\n",
       "         [0.4286],\n",
       "         [0.4184],\n",
       "         [0.4126],\n",
       "         [0.4014],\n",
       "         [0.3974],\n",
       "         [0.3876],\n",
       "         [0.3764],\n",
       "         [0.3670],\n",
       "         [0.3626],\n",
       "         [0.3572],\n",
       "         [0.3536],\n",
       "         [0.3500],\n",
       "         [0.3463],\n",
       "         [0.3409],\n",
       "         [0.3337],\n",
       "         [0.3264],\n",
       "         [0.3210],\n",
       "         [0.3174],\n",
       "         [0.3119],\n",
       "         [0.3054],\n",
       "         [0.2996],\n",
       "         [0.2960],\n",
       "         [0.2851],\n",
       "         [0.2815],\n",
       "         [0.2760],\n",
       "         [0.2728],\n",
       "         [0.2684],\n",
       "         [0.2648],\n",
       "         [0.2539],\n",
       "         [0.2521],\n",
       "         [0.2431],\n",
       "         [0.2431],\n",
       "         [0.2394],\n",
       "         [0.2394],\n",
       "         [0.2376],\n",
       "         [0.2322],\n",
       "         [0.2340],\n",
       "         [0.2286],\n",
       "         [0.2268],\n",
       "         [0.2250],\n",
       "         [0.2195],\n",
       "         [0.2163],\n",
       "         [0.2177],\n",
       "         [0.2148],\n",
       "         [0.2134],\n",
       "         [0.2119],\n",
       "         [0.2083],\n",
       "         [0.2047],\n",
       "         [0.2010],\n",
       "         [0.1974],\n",
       "         [0.1974],\n",
       "         [0.1956],\n",
       "         [0.1920],\n",
       "         [0.1902],\n",
       "         [0.1902],\n",
       "         [0.1884],\n",
       "         [0.1829],\n",
       "         [0.1920],\n",
       "         [0.1884],\n",
       "         [0.1847],\n",
       "         [0.1829],\n",
       "         [0.1847],\n",
       "         [0.1902],\n",
       "         [0.1920],\n",
       "         [0.1902],\n",
       "         [0.1956],\n",
       "         [0.1956],\n",
       "         [0.1956],\n",
       "         [0.1902],\n",
       "         [0.1884],\n",
       "         [0.1847],\n",
       "         [0.1829],\n",
       "         [0.1793],\n",
       "         [0.1829],\n",
       "         [0.1775],\n",
       "         [0.1775],\n",
       "         [0.1757],\n",
       "         [0.1757],\n",
       "         [0.1775],\n",
       "         [0.1811],\n",
       "         [0.1847],\n",
       "         [0.1884],\n",
       "         [0.1902],\n",
       "         [0.1974],\n",
       "         [0.1974],\n",
       "         [0.2029],\n",
       "         [0.2083],\n",
       "         [0.2163],\n",
       "         [0.2250],\n",
       "         [0.2322],\n",
       "         [0.2449],\n",
       "         [0.2594],\n",
       "         [0.2728],\n",
       "         [0.2942],\n",
       "         [0.3097],\n",
       "         [0.3264],\n",
       "         [0.3409],\n",
       "         [0.3612],\n",
       "         [0.3840],\n",
       "         [0.4054],\n",
       "         [0.4322],\n",
       "         [0.4540],\n",
       "         [0.4739],\n",
       "         [0.4996],\n",
       "         [0.5195],\n",
       "         [0.5377],\n",
       "         [0.5601],\n",
       "         [0.5793],\n",
       "         [0.5974],\n",
       "         [0.6127],\n",
       "         [0.6192],\n",
       "         [0.6301],\n",
       "         [0.6467],\n",
       "         [0.6467],\n",
       "         [0.6540],\n",
       "         [0.6648],\n",
       "         [0.6721],\n",
       "         [0.6757],\n",
       "         [0.6757],\n",
       "         [0.6757],\n",
       "         [0.6757],\n",
       "         [0.6757],\n",
       "         [0.6757],\n",
       "         [0.6757],\n",
       "         [0.6757],\n",
       "         [0.6721],\n",
       "         [0.6721],\n",
       "         [0.6685],\n",
       "         [0.6648],\n",
       "         [0.6648],\n",
       "         [0.6540],\n",
       "         [0.6648],\n",
       "         [0.6540],\n",
       "         [0.6540],\n",
       "         [0.6503],\n",
       "         [0.6576],\n",
       "         [0.6540],\n",
       "         [0.6576],\n",
       "         [0.6576],\n",
       "         [0.6576],\n",
       "         [0.6576],\n",
       "         [0.6576],\n",
       "         [0.6576],\n",
       "         [0.6612],\n",
       "         [0.6612],\n",
       "         [0.6612],\n",
       "         [0.6503],\n",
       "         [0.6467],\n",
       "         [0.6467],\n",
       "         [0.6467],\n",
       "         [0.6467],\n",
       "         [0.6467],\n",
       "         [0.6467],\n",
       "         [0.6467],\n",
       "         [0.6467],\n",
       "         [0.6467],\n",
       "         [0.6431],\n",
       "         [0.6348],\n",
       "         [0.6290],\n",
       "         [0.6268],\n",
       "         [0.6214],\n",
       "         [0.6214],\n",
       "         [0.6105],\n",
       "         [0.6061],\n",
       "         [0.5996],\n",
       "         [0.5974],\n",
       "         [0.5913],\n",
       "         [0.5837],\n",
       "         [0.5750],\n",
       "         [0.5663],\n",
       "         [0.5598],\n",
       "         [0.5543],\n",
       "         [0.5460],\n",
       "         [0.5351],\n",
       "         [0.5315],\n",
       "         [0.5214],\n",
       "         [0.5214],\n",
       "         [0.5174],\n",
       "         [0.5116],\n",
       "         [0.5119],\n",
       "         [0.5032],\n",
       "         [0.5032],\n",
       "         [0.4996],\n",
       "         [0.4996],\n",
       "         [0.4938],\n",
       "         [0.4855],\n",
       "         [0.4873],\n",
       "         [0.4956],\n",
       "         [0.5054],\n",
       "         [0.5098],\n",
       "         [0.5192],\n",
       "         [0.5315],\n",
       "         [0.5460],\n",
       "         [0.5579],\n",
       "         [0.5728],\n",
       "         [0.5956],\n",
       "         [0.6083],\n",
       "         [0.6279],\n",
       "         [0.6503],\n",
       "         [0.6685],\n",
       "         [0.6830],\n",
       "         [0.7083],\n",
       "         [0.7264],\n",
       "         [0.7373],\n",
       "         [0.7446]]),\n",
       " 'x_d_1D': tensor([[ 0.5929,  1.0089, -0.2853, -0.4605, -0.6199],\n",
       "         [ 0.9299,  0.2813, -0.6118, -0.2357, -0.5234],\n",
       "         [ 0.0778, -0.0638, -0.7463, -0.2396, -0.5172],\n",
       "         ...,\n",
       "         [-0.1600,  0.2339, -0.4504, -0.0414, -0.3762],\n",
       "         [ 0.4338,  0.7659, -0.3044, -0.2041, -0.4513],\n",
       "         [ 0.4810,  0.4363, -0.3254, -0.0049, -0.3113]]),\n",
       " 'y_1D': tensor([[ 2.3967e-01],\n",
       "         [ 2.2414e-01],\n",
       "         [ 3.8761e-01],\n",
       "         [ 4.8543e-01],\n",
       "         [ 4.8179e-01],\n",
       "         [ 6.6886e-01],\n",
       "         [ 6.5281e-01],\n",
       "         [ 4.4715e-01],\n",
       "         [ 2.5082e-01],\n",
       "         [ 8.4364e-02],\n",
       "         [-3.4047e-02],\n",
       "         [-1.3556e-01],\n",
       "         [-1.5658e-01],\n",
       "         [-1.3410e-01],\n",
       "         [-1.8937e-01],\n",
       "         [-2.3910e-01],\n",
       "         [-7.9265e-02],\n",
       "         [ 4.5581e-01],\n",
       "         [ 3.5158e-01],\n",
       "         [ 2.0800e-01],\n",
       "         [ 1.0376e-01],\n",
       "         [ 2.0832e-01],\n",
       "         [ 1.2117e-01],\n",
       "         [-9.7401e-03],\n",
       "         [-1.1924e-01],\n",
       "         [-2.0646e-01],\n",
       "         [-2.7556e-01],\n",
       "         [-3.3075e-01],\n",
       "         [-3.8197e-01],\n",
       "         [-4.0900e-01],\n",
       "         [-4.3134e-01],\n",
       "         [-4.5544e-01],\n",
       "         [-4.7312e-01],\n",
       "         [-4.7710e-01],\n",
       "         [-4.8255e-01],\n",
       "         [-4.9803e-01],\n",
       "         [-5.0221e-01],\n",
       "         [-5.2960e-01],\n",
       "         [-5.5369e-01],\n",
       "         [-5.2803e-01],\n",
       "         [-4.2443e-01],\n",
       "         [-4.4087e-01],\n",
       "         [-4.7910e-01],\n",
       "         [-4.6696e-01],\n",
       "         [-4.8405e-01],\n",
       "         [-4.5650e-01],\n",
       "         [-2.0438e-01],\n",
       "         [-2.3720e-01],\n",
       "         [-3.3668e-01],\n",
       "         [-3.1808e-01],\n",
       "         [-2.9703e-01],\n",
       "         [-3.3442e-01],\n",
       "         [-3.7726e-01],\n",
       "         [-4.3590e-01],\n",
       "         [-4.8802e-01],\n",
       "         [-5.3111e-01],\n",
       "         [-5.6617e-01],\n",
       "         [-5.8268e-01],\n",
       "         [-6.0406e-01],\n",
       "         [-6.3007e-01],\n",
       "         [-6.2426e-01],\n",
       "         [-6.0636e-01],\n",
       "         [-6.1775e-01],\n",
       "         [-6.3815e-01],\n",
       "         [-6.5459e-01],\n",
       "         [-6.4694e-01],\n",
       "         [-5.6337e-01],\n",
       "         [-3.1178e-01],\n",
       "         [-1.7221e-01],\n",
       "         [-2.1860e-01],\n",
       "         [-2.9720e-01],\n",
       "         [-3.8280e-01],\n",
       "         [-4.6096e-01],\n",
       "         [-5.1959e-01],\n",
       "         [-5.7575e-01],\n",
       "         [-6.1884e-01],\n",
       "         [-6.4507e-01],\n",
       "         [-6.6427e-01],\n",
       "         [-6.7553e-01],\n",
       "         [-6.7020e-01],\n",
       "         [-6.6113e-01],\n",
       "         [-6.7324e-01],\n",
       "         [-6.8529e-01],\n",
       "         [-6.8417e-01],\n",
       "         [-6.9619e-01],\n",
       "         [-7.0540e-01],\n",
       "         [-7.1175e-01],\n",
       "         [-7.1743e-01],\n",
       "         [-7.2311e-01],\n",
       "         [-7.3212e-01],\n",
       "         [-7.3807e-01],\n",
       "         [-7.3564e-01],\n",
       "         [-7.3013e-01],\n",
       "         [-6.7657e-01],\n",
       "         [-6.5289e-01],\n",
       "         [-6.7869e-01],\n",
       "         [-7.0601e-01],\n",
       "         [-7.2077e-01],\n",
       "         [-7.2842e-01],\n",
       "         [-7.3262e-01],\n",
       "         [-7.3663e-01],\n",
       "         [-7.4393e-01],\n",
       "         [-7.4679e-01],\n",
       "         [-7.5030e-01],\n",
       "         [-7.5389e-01],\n",
       "         [-7.5718e-01],\n",
       "         [-7.5993e-01],\n",
       "         [-7.6216e-01],\n",
       "         [-7.6367e-01],\n",
       "         [-7.6625e-01],\n",
       "         [-7.6622e-01],\n",
       "         [-7.6606e-01],\n",
       "         [-7.6943e-01],\n",
       "         [-7.7170e-01],\n",
       "         [-7.7258e-01],\n",
       "         [-7.7441e-01],\n",
       "         [-7.7578e-01],\n",
       "         [-7.7503e-01],\n",
       "         [-7.7531e-01],\n",
       "         [-7.6776e-01],\n",
       "         [-7.6440e-01],\n",
       "         [-7.6859e-01],\n",
       "         [-7.6918e-01],\n",
       "         [-7.6956e-01],\n",
       "         [-7.6494e-01],\n",
       "         [-7.6459e-01],\n",
       "         [-7.6831e-01],\n",
       "         [-7.7181e-01],\n",
       "         [-7.7136e-01],\n",
       "         [-7.6307e-01],\n",
       "         [-7.5265e-01],\n",
       "         [-7.6105e-01],\n",
       "         [-7.6636e-01],\n",
       "         [-7.7015e-01],\n",
       "         [-7.7275e-01],\n",
       "         [-7.7459e-01],\n",
       "         [-7.7574e-01],\n",
       "         [-7.6926e-01],\n",
       "         [-7.6792e-01],\n",
       "         [-7.7097e-01],\n",
       "         [-7.7009e-01],\n",
       "         [-7.5019e-01],\n",
       "         [-7.2043e-01],\n",
       "         [-7.3410e-01],\n",
       "         [-7.4864e-01],\n",
       "         [-7.5543e-01],\n",
       "         [-7.5908e-01],\n",
       "         [-7.6123e-01],\n",
       "         [-7.4909e-01],\n",
       "         [-7.2111e-01],\n",
       "         [-7.3151e-01],\n",
       "         [-7.4411e-01],\n",
       "         [-7.4790e-01],\n",
       "         [-6.8100e-01],\n",
       "         [-5.7608e-01],\n",
       "         [-6.4390e-01],\n",
       "         [-6.8459e-01],\n",
       "         [-7.0156e-01],\n",
       "         [-7.1021e-01],\n",
       "         [-7.1823e-01],\n",
       "         [-7.2480e-01],\n",
       "         [-7.2442e-01],\n",
       "         [-7.2830e-01],\n",
       "         [-7.3609e-01],\n",
       "         [-7.4503e-01],\n",
       "         [-7.4874e-01],\n",
       "         [-7.5137e-01],\n",
       "         [-7.5291e-01],\n",
       "         [-7.5390e-01],\n",
       "         [-7.4716e-01],\n",
       "         [-7.4477e-01],\n",
       "         [-7.4577e-01],\n",
       "         [-6.7813e-01],\n",
       "         [-6.2343e-01],\n",
       "         [-6.4339e-01],\n",
       "         [-6.4579e-01],\n",
       "         [-6.4793e-01],\n",
       "         [-6.6051e-01],\n",
       "         [-6.6898e-01],\n",
       "         [-6.7789e-01],\n",
       "         [-6.8752e-01],\n",
       "         [-6.9727e-01],\n",
       "         [-6.4783e-01],\n",
       "         [-6.0681e-01],\n",
       "         [-6.2988e-01],\n",
       "         [-6.5251e-01],\n",
       "         [-6.6750e-01],\n",
       "         [-6.7573e-01],\n",
       "         [-6.7342e-01],\n",
       "         [-6.8621e-01],\n",
       "         [-6.9943e-01],\n",
       "         [-6.9182e-01],\n",
       "         [-6.4513e-01],\n",
       "         [-2.3337e-01],\n",
       "         [-2.1658e-01],\n",
       "         [-3.3214e-01],\n",
       "         [-3.3931e-01],\n",
       "         [-1.5921e-01],\n",
       "         [-1.0729e-01],\n",
       "         [-1.9508e-02],\n",
       "         [ 4.5098e-01],\n",
       "         [ 3.3363e-01],\n",
       "         [ 8.7610e-02],\n",
       "         [-4.2412e-02],\n",
       "         [ 4.0366e-01],\n",
       "         [ 4.5377e-01],\n",
       "         [ 1.7430e-01],\n",
       "         [ 4.9443e-02],\n",
       "         [ 2.0210e-03],\n",
       "         [ 5.4388e-01],\n",
       "         [ 7.4169e-01],\n",
       "         [ 5.8112e-01],\n",
       "         [ 3.2848e-01],\n",
       "         [ 1.0665e-01],\n",
       "         [-5.7494e-02],\n",
       "         [-2.2261e-01],\n",
       "         [        nan],\n",
       "         [        nan],\n",
       "         [        nan],\n",
       "         [        nan],\n",
       "         [        nan],\n",
       "         [        nan],\n",
       "         [        nan],\n",
       "         [        nan],\n",
       "         [        nan],\n",
       "         [        nan],\n",
       "         [        nan],\n",
       "         [        nan],\n",
       "         [        nan],\n",
       "         [        nan],\n",
       "         [        nan],\n",
       "         [ 1.2658e+00],\n",
       "         [ 1.5757e+00],\n",
       "         [ 1.4862e+00],\n",
       "         [ 9.3358e-01],\n",
       "         [ 4.3369e-01],\n",
       "         [ 2.1343e-01],\n",
       "         [ 2.4182e+00],\n",
       "         [ 3.5554e+00],\n",
       "         [ 2.8424e+00],\n",
       "         [ 1.8209e+00],\n",
       "         [ 1.2866e+00],\n",
       "         [        nan],\n",
       "         [        nan],\n",
       "         [        nan],\n",
       "         [        nan],\n",
       "         [        nan],\n",
       "         [        nan],\n",
       "         [        nan],\n",
       "         [        nan],\n",
       "         [        nan],\n",
       "         [        nan],\n",
       "         [        nan],\n",
       "         [        nan],\n",
       "         [        nan],\n",
       "         [        nan],\n",
       "         [        nan],\n",
       "         [        nan],\n",
       "         [        nan],\n",
       "         [        nan],\n",
       "         [        nan],\n",
       "         [        nan],\n",
       "         [        nan],\n",
       "         [        nan],\n",
       "         [        nan],\n",
       "         [        nan],\n",
       "         [        nan],\n",
       "         [        nan],\n",
       "         [        nan],\n",
       "         [        nan],\n",
       "         [        nan],\n",
       "         [        nan],\n",
       "         [        nan],\n",
       "         [        nan],\n",
       "         [        nan],\n",
       "         [        nan],\n",
       "         [        nan],\n",
       "         [        nan],\n",
       "         [        nan],\n",
       "         [        nan],\n",
       "         [        nan],\n",
       "         [        nan],\n",
       "         [        nan],\n",
       "         [        nan],\n",
       "         [        nan],\n",
       "         [        nan],\n",
       "         [        nan],\n",
       "         [        nan],\n",
       "         [        nan],\n",
       "         [        nan],\n",
       "         [        nan],\n",
       "         [        nan],\n",
       "         [        nan],\n",
       "         [        nan],\n",
       "         [        nan],\n",
       "         [        nan],\n",
       "         [        nan],\n",
       "         [        nan],\n",
       "         [        nan],\n",
       "         [        nan],\n",
       "         [        nan],\n",
       "         [        nan],\n",
       "         [        nan],\n",
       "         [        nan],\n",
       "         [        nan],\n",
       "         [        nan],\n",
       "         [        nan],\n",
       "         [        nan],\n",
       "         [        nan],\n",
       "         [        nan],\n",
       "         [        nan],\n",
       "         [        nan],\n",
       "         [        nan],\n",
       "         [        nan],\n",
       "         [        nan],\n",
       "         [        nan],\n",
       "         [        nan],\n",
       "         [        nan],\n",
       "         [        nan],\n",
       "         [        nan],\n",
       "         [        nan],\n",
       "         [        nan],\n",
       "         [        nan],\n",
       "         [        nan],\n",
       "         [        nan],\n",
       "         [        nan],\n",
       "         [        nan],\n",
       "         [        nan],\n",
       "         [        nan],\n",
       "         [        nan],\n",
       "         [ 1.7904e+00],\n",
       "         [ 1.7994e+00],\n",
       "         [ 1.6516e+00],\n",
       "         [ 1.7360e+00],\n",
       "         [ 2.3940e+00],\n",
       "         [ 2.3523e+00],\n",
       "         [ 2.4707e+00],\n",
       "         [ 3.9688e+00],\n",
       "         [ 4.0274e+00],\n",
       "         [ 3.0877e+00],\n",
       "         [ 2.0347e+00],\n",
       "         [ 1.3865e+00],\n",
       "         [ 9.6679e-01],\n",
       "         [ 7.1054e-01],\n",
       "         [ 5.1676e-01],\n",
       "         [ 4.0388e-01],\n",
       "         [ 3.0245e-01],\n",
       "         [ 2.3889e-01],\n",
       "         [ 2.7728e-01],\n",
       "         [ 6.9185e-01],\n",
       "         [ 1.2348e+00],\n",
       "         [ 1.0509e+00],\n",
       "         [ 8.4692e-01],\n",
       "         [ 7.2614e-01],\n",
       "         [ 6.9926e-01],\n",
       "         [ 5.7995e-01],\n",
       "         [ 4.2175e-01],\n",
       "         [ 2.7816e-01],\n",
       "         [ 2.0291e-01],\n",
       "         [ 1.8647e-01],\n",
       "         [ 3.7238e-01],\n",
       "         [ 6.6113e-01],\n",
       "         [ 6.5246e-01],\n",
       "         [ 5.6986e-01],\n",
       "         [ 5.8156e-01]])}"
      ]
     },
     "execution_count": 124,
     "metadata": {},
     "output_type": "execute_result"
    }
   ],
   "source": [
    "t_ds[1000]"
   ]
  },
  {
   "cell_type": "code",
   "execution_count": 125,
   "metadata": {},
   "outputs": [
    {
     "data": {
      "text/plain": [
       "dict_keys(['x_d_1H', 'y_1H', 'x_d_1D', 'y_1D'])"
      ]
     },
     "execution_count": 125,
     "metadata": {},
     "output_type": "execute_result"
    }
   ],
   "source": [
    "dd1.keys()"
   ]
  },
  {
   "cell_type": "code",
   "execution_count": 126,
   "metadata": {},
   "outputs": [
    {
     "data": {
      "text/plain": [
       "torch.Size([336, 16])"
      ]
     },
     "execution_count": 126,
     "metadata": {},
     "output_type": "execute_result"
    }
   ],
   "source": [
    "t_ds[1000]['x_d_1H'].shape"
   ]
  },
  {
   "cell_type": "code",
   "execution_count": 127,
   "metadata": {},
   "outputs": [],
   "source": [
    "new_dl = DataLoader(t_ds, batch_size=1, shuffle=False)"
   ]
  },
  {
   "cell_type": "code",
   "execution_count": 128,
   "metadata": {},
   "outputs": [
    {
     "data": {
      "text/plain": [
       "2739"
      ]
     },
     "execution_count": 128,
     "metadata": {},
     "output_type": "execute_result"
    }
   ],
   "source": [
    "len(new_dl)"
   ]
  },
  {
   "cell_type": "code",
   "execution_count": 129,
   "metadata": {},
   "outputs": [],
   "source": [
    "new_dl_instances = []\n",
    "c = 0\n",
    "for d in new_dl:\n",
    "    if c == 200:\n",
    "        new_dl_instances.append(d)\n",
    "    c += 1\n",
    "    "
   ]
  },
  {
   "cell_type": "code",
   "execution_count": 130,
   "metadata": {},
   "outputs": [
    {
     "data": {
      "text/plain": [
       "torch.Size([1, 336, 16])"
      ]
     },
     "execution_count": 130,
     "metadata": {},
     "output_type": "execute_result"
    }
   ],
   "source": [
    "new_dl_instances[0]['x_d_1H'].shape"
   ]
  },
  {
   "cell_type": "code",
   "execution_count": 131,
   "metadata": {},
   "outputs": [],
   "source": [
    "new_pred_1 = mymodel(new_dl_instances[0])"
   ]
  },
  {
   "cell_type": "code",
   "execution_count": 132,
   "metadata": {},
   "outputs": [
    {
     "name": "stdout",
     "output_type": "stream",
     "text": [
      "torch.Size([1, 365, 1])\n",
      "torch.Size([1, 336, 1])\n"
     ]
    }
   ],
   "source": [
    "print(new_pred_1['y_hat_1D'].shape)\n",
    "print(new_pred_1['y_hat_1H'].shape)\n"
   ]
  },
  {
   "cell_type": "code",
   "execution_count": 133,
   "metadata": {},
   "outputs": [
    {
     "data": {
      "text/plain": [
       "tensor(0.0071, grad_fn=<SumBackward0>)"
      ]
     },
     "execution_count": 133,
     "metadata": {},
     "output_type": "execute_result"
    }
   ],
   "source": [
    "loss_obj(new_pred_1, new_dl_instances[0])"
   ]
  },
  {
   "cell_type": "code",
   "execution_count": 134,
   "metadata": {},
   "outputs": [],
   "source": [
    "new_pred_24h = new_pred_1['y_hat_1H'][0,-24:]"
   ]
  },
  {
   "cell_type": "code",
   "execution_count": 135,
   "metadata": {},
   "outputs": [
    {
     "data": {
      "text/plain": [
       "array([-0.27909568, -0.20366031, -0.36688223, -0.29269677, -0.23723349,\n",
       "       -0.28814092, -0.41222063, -0.16816851, -0.38252708, -0.29071572,\n",
       "       -0.35250932, -0.16406035, -0.30993822, -0.19621018, -0.16983306,\n",
       "       -0.18326929, -0.35739467, -0.13446903, -0.30246398, -0.26967147,\n",
       "       -0.18143278, -0.19726369, -0.30271497, -0.24550736], dtype=float32)"
      ]
     },
     "execution_count": 135,
     "metadata": {},
     "output_type": "execute_result"
    }
   ],
   "source": [
    "new_pred_24h[:,0].detach().numpy()"
   ]
  },
  {
   "cell_type": "code",
   "execution_count": 136,
   "metadata": {},
   "outputs": [
    {
     "data": {
      "text/plain": [
       "[<matplotlib.lines.Line2D at 0x7ff710480310>]"
      ]
     },
     "execution_count": 136,
     "metadata": {},
     "output_type": "execute_result"
    },
    {
     "data": {
      "image/png": "[encoded data removed]",
      "text/plain": [
       "<Figure size 432x288 with 1 Axes>"
      ]
     },
     "metadata": {
      "needs_background": "light"
     },
     "output_type": "display_data"
    }
   ],
   "source": [
    "plt.plot(new_dl_instances[0]['y_1H'][0,-24:], c='k')\n",
    "plt.plot(new_pred_24h[:,0].detach().numpy())"
   ]
  },
  {
   "cell_type": "code",
   "execution_count": null,
   "metadata": {},
   "outputs": [],
   "source": []
  }
 ],
 "metadata": {
  "interpreter": {
   "hash": "5b2be1aad1cbda8021d4bcdd37194b6ed78504de481fbbde97ff2b2ee94503eb"
  },
  "kernelspec": {
   "display_name": "Python 3.7.11 ('neuralhydrology')",
   "language": "python",
   "name": "python3"
  },
  "language_info": {
   "codemirror_mode": {
    "name": "ipython",
    "version": 3
   },
   "file_extension": ".py",
   "mimetype": "text/x-python",
   "name": "python",
   "nbconvert_exporter": "python",
   "pygments_lexer": "ipython3",
   "version": "3.8.12"
  },
  "orig_nbformat": 4
 },
 "nbformat": 4,
 "nbformat_minor": 2
}
