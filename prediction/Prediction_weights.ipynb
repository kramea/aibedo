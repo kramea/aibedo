{
 "cells": [
  {
   "cell_type": "markdown",
   "id": "f52a2a42",
   "metadata": {},
   "source": [
    "## Predictions from weights file\n",
    "\n",
    "This code works, but the model does not load properly, hence leading to poor inference. \n",
    "\n",
    "## Don't use this."
   ]
  },
  {
   "cell_type": "code",
   "execution_count": null,
   "id": "d37f271b",
   "metadata": {},
   "outputs": [],
   "source": [
    "import numpy as np\n",
    "import xarray as xr\n",
    "import torch\n",
    "from spherical_unet.models.spherical_unet.unet_model import SphericalUNet\n",
    "from pathlib import Path\n",
    "import re\n",
    "import time"
   ]
  },
  {
   "cell_type": "code",
   "execution_count": 2,
   "id": "ab33472d",
   "metadata": {},
   "outputs": [],
   "source": [
    "input_file = '/Users/kramea/Documents/AIBEDO_dir/data_aibedo/compress.isosph.CESM2.historical.r1i1p1f1.Input.Exp8_fixed.nc'"
   ]
  },
  {
   "cell_type": "code",
   "execution_count": 3,
   "id": "964988de",
   "metadata": {},
   "outputs": [],
   "source": [
    "output_file = '/Users/kramea/Documents/AIBEDO_dir/data_aibedo/compress.isosph.CESM2.historical.r1i1p1f1.Output.nc'"
   ]
  },
  {
   "cell_type": "code",
   "execution_count": 4,
   "id": "9b564192",
   "metadata": {},
   "outputs": [],
   "source": [
    "inDS = xr.open_dataset(input_file)\n",
    "outDS = xr.open_dataset(output_file)\n",
    "n_pixels = len(inDS.ncells)"
   ]
  },
  {
   "cell_type": "code",
   "execution_count": 5,
   "id": "dc872f67",
   "metadata": {},
   "outputs": [],
   "source": [
    "in_vars = [ 'crelSurf_pre', 'crel_pre', 'cresSurf_pre', 'cres_pre', 'netTOAcs_pre', 'lsMask', 'netSurfcs_pre']\n",
    "out_vars = ['tas_pre', 'psl_pre', 'pr_pre']"
   ]
  },
  {
   "cell_type": "code",
   "execution_count": 6,
   "id": "064ae348",
   "metadata": {},
   "outputs": [],
   "source": [
    "weights_file = torch.load('/Users/kramea/Documents/AIBEDO_dir/data_aibedo/sunet_state_6.pt', \n",
    "                          map_location=torch.device('cpu'))\n",
    "weights_file = {key.replace(\"module.\", \"\"): value for key, value in weights_file.items()}"
   ]
  },
  {
   "cell_type": "code",
   "execution_count": 7,
   "id": "660b5a43",
   "metadata": {},
   "outputs": [],
   "source": [
    "unet = SphericalUNet('icosahedron', n_pixels, 6, 'combinatorial', 3, 7, 3)"
   ]
  },
  {
   "cell_type": "code",
   "execution_count": 8,
   "id": "cb9fcdf6",
   "metadata": {},
   "outputs": [],
   "source": [
    "modelfilename = Path(output_file).stem\n",
    "p = re.compile('compress.isosph.(.*).historical.r1i1p1f1.Output')\n",
    "modelname = p.findall(modelfilename)[0]"
   ]
  },
  {
   "cell_type": "code",
   "execution_count": 9,
   "id": "4a1a7214",
   "metadata": {},
   "outputs": [],
   "source": [
    "data_all = []\n",
    "for var in in_vars:\n",
    "    temp_data = np.reshape(np.concatenate(inDS[var].data, axis=0), [-1, n_pixels, 1])\n",
    "    data_all.append(temp_data)\n",
    "dataset_in = np.concatenate(data_all, axis=2)"
   ]
  },
  {
   "cell_type": "code",
   "execution_count": 10,
   "id": "4e884208",
   "metadata": {},
   "outputs": [],
   "source": [
    "data_all = []\n",
    "for var in out_vars:\n",
    "    temp_data = np.reshape(np.concatenate(outDS[var].data, axis=0), [-1, n_pixels, 1])\n",
    "    data_all.append(temp_data)\n",
    "dataset_out = np.concatenate(data_all, axis=2)"
   ]
  },
  {
   "cell_type": "code",
   "execution_count": 11,
   "id": "26755664",
   "metadata": {},
   "outputs": [
    {
     "ename": "RuntimeError",
     "evalue": "Error(s) in loading state_dict for SphericalUNet:\n\tMissing key(s) in state_dict: \"encoder.enc_l5.spherical_cheb_bn_1.spherical_cheb.laplacian\", \"encoder.enc_l5.spherical_cheb_bn_2.spherical_cheb.laplacian\", \"encoder.enc_l4.spherical_cheb_bn.spherical_cheb.laplacian\", \"encoder.enc_l3.spherical_cheb_bn.spherical_cheb.laplacian\", \"encoder.enc_l2.spherical_cheb_bn.spherical_cheb.laplacian\", \"encoder.enc_l1.spherical_cheb_bn.spherical_cheb.laplacian\", \"encoder.enc_l0.spherical_cheb.laplacian\", \"decoder.dec_l1.spherical_cheb_bn_pool.spherical_cheb_bn.spherical_cheb.laplacian\", \"decoder.dec_l1.spherical_cheb_bn.spherical_cheb.laplacian\", \"decoder.dec_l2.spherical_cheb_bn_pool.spherical_cheb_bn.spherical_cheb.laplacian\", \"decoder.dec_l2.spherical_cheb_bn.spherical_cheb.laplacian\", \"decoder.dec_l3.spherical_cheb_bn_pool.spherical_cheb_bn.spherical_cheb.laplacian\", \"decoder.dec_l3.spherical_cheb_bn.spherical_cheb.laplacian\", \"decoder.dec_l4.spherical_cheb_bn_pool.spherical_cheb_bn.spherical_cheb.laplacian\", \"decoder.dec_l4.spherical_cheb_bn.spherical_cheb.laplacian\", \"decoder.dec_l5.spherical_cheb_bn_pool.spherical_cheb_bn.spherical_cheb.laplacian\", \"decoder.dec_l5.spherical_cheb.laplacian\". ",
     "output_type": "error",
     "traceback": [
      "\u001b[0;31m---------------------------------------------------------------------------\u001b[0m",
      "\u001b[0;31mRuntimeError\u001b[0m                              Traceback (most recent call last)",
      "Input \u001b[0;32mIn [11]\u001b[0m, in \u001b[0;36m<cell line: 2>\u001b[0;34m()\u001b[0m\n\u001b[1;32m      1\u001b[0m before \u001b[38;5;241m=\u001b[39m time\u001b[38;5;241m.\u001b[39mperf_counter()\n\u001b[0;32m----> 2\u001b[0m \u001b[43munet\u001b[49m\u001b[38;5;241;43m.\u001b[39;49m\u001b[43mload_state_dict\u001b[49m\u001b[43m(\u001b[49m\u001b[43mweights_file\u001b[49m\u001b[43m,\u001b[49m\u001b[43m \u001b[49m\u001b[43mstrict\u001b[49m\u001b[38;5;241;43m=\u001b[39;49m\u001b[38;5;28;43;01mTrue\u001b[39;49;00m\u001b[43m)\u001b[49m\n\u001b[1;32m      3\u001b[0m after \u001b[38;5;241m=\u001b[39m time\u001b[38;5;241m.\u001b[39mperf_counter()\n\u001b[1;32m      4\u001b[0m \u001b[38;5;28mprint\u001b[39m(\u001b[38;5;124m\"\u001b[39m\u001b[38;5;124mtime taken to load model weights\u001b[39m\u001b[38;5;124m\"\u001b[39m, after \u001b[38;5;241m-\u001b[39m before)\n",
      "File \u001b[0;32m/opt/anaconda3/envs/snpred/lib/python3.9/site-packages/torch/nn/modules/module.py:1497\u001b[0m, in \u001b[0;36mModule.load_state_dict\u001b[0;34m(self, state_dict, strict)\u001b[0m\n\u001b[1;32m   1492\u001b[0m         error_msgs\u001b[38;5;241m.\u001b[39minsert(\n\u001b[1;32m   1493\u001b[0m             \u001b[38;5;241m0\u001b[39m, \u001b[38;5;124m'\u001b[39m\u001b[38;5;124mMissing key(s) in state_dict: \u001b[39m\u001b[38;5;132;01m{}\u001b[39;00m\u001b[38;5;124m. \u001b[39m\u001b[38;5;124m'\u001b[39m\u001b[38;5;241m.\u001b[39mformat(\n\u001b[1;32m   1494\u001b[0m                 \u001b[38;5;124m'\u001b[39m\u001b[38;5;124m, \u001b[39m\u001b[38;5;124m'\u001b[39m\u001b[38;5;241m.\u001b[39mjoin(\u001b[38;5;124m'\u001b[39m\u001b[38;5;124m\"\u001b[39m\u001b[38;5;132;01m{}\u001b[39;00m\u001b[38;5;124m\"\u001b[39m\u001b[38;5;124m'\u001b[39m\u001b[38;5;241m.\u001b[39mformat(k) \u001b[38;5;28;01mfor\u001b[39;00m k \u001b[38;5;129;01min\u001b[39;00m missing_keys)))\n\u001b[1;32m   1496\u001b[0m \u001b[38;5;28;01mif\u001b[39;00m \u001b[38;5;28mlen\u001b[39m(error_msgs) \u001b[38;5;241m>\u001b[39m \u001b[38;5;241m0\u001b[39m:\n\u001b[0;32m-> 1497\u001b[0m     \u001b[38;5;28;01mraise\u001b[39;00m \u001b[38;5;167;01mRuntimeError\u001b[39;00m(\u001b[38;5;124m'\u001b[39m\u001b[38;5;124mError(s) in loading state_dict for \u001b[39m\u001b[38;5;132;01m{}\u001b[39;00m\u001b[38;5;124m:\u001b[39m\u001b[38;5;130;01m\\n\u001b[39;00m\u001b[38;5;130;01m\\t\u001b[39;00m\u001b[38;5;132;01m{}\u001b[39;00m\u001b[38;5;124m'\u001b[39m\u001b[38;5;241m.\u001b[39mformat(\n\u001b[1;32m   1498\u001b[0m                        \u001b[38;5;28mself\u001b[39m\u001b[38;5;241m.\u001b[39m\u001b[38;5;18m__class__\u001b[39m\u001b[38;5;241m.\u001b[39m\u001b[38;5;18m__name__\u001b[39m, \u001b[38;5;124m\"\u001b[39m\u001b[38;5;130;01m\\n\u001b[39;00m\u001b[38;5;130;01m\\t\u001b[39;00m\u001b[38;5;124m\"\u001b[39m\u001b[38;5;241m.\u001b[39mjoin(error_msgs)))\n\u001b[1;32m   1499\u001b[0m \u001b[38;5;28;01mreturn\u001b[39;00m _IncompatibleKeys(missing_keys, unexpected_keys)\n",
      "\u001b[0;31mRuntimeError\u001b[0m: Error(s) in loading state_dict for SphericalUNet:\n\tMissing key(s) in state_dict: \"encoder.enc_l5.spherical_cheb_bn_1.spherical_cheb.laplacian\", \"encoder.enc_l5.spherical_cheb_bn_2.spherical_cheb.laplacian\", \"encoder.enc_l4.spherical_cheb_bn.spherical_cheb.laplacian\", \"encoder.enc_l3.spherical_cheb_bn.spherical_cheb.laplacian\", \"encoder.enc_l2.spherical_cheb_bn.spherical_cheb.laplacian\", \"encoder.enc_l1.spherical_cheb_bn.spherical_cheb.laplacian\", \"encoder.enc_l0.spherical_cheb.laplacian\", \"decoder.dec_l1.spherical_cheb_bn_pool.spherical_cheb_bn.spherical_cheb.laplacian\", \"decoder.dec_l1.spherical_cheb_bn.spherical_cheb.laplacian\", \"decoder.dec_l2.spherical_cheb_bn_pool.spherical_cheb_bn.spherical_cheb.laplacian\", \"decoder.dec_l2.spherical_cheb_bn.spherical_cheb.laplacian\", \"decoder.dec_l3.spherical_cheb_bn_pool.spherical_cheb_bn.spherical_cheb.laplacian\", \"decoder.dec_l3.spherical_cheb_bn.spherical_cheb.laplacian\", \"decoder.dec_l4.spherical_cheb_bn_pool.spherical_cheb_bn.spherical_cheb.laplacian\", \"decoder.dec_l4.spherical_cheb_bn.spherical_cheb.laplacian\", \"decoder.dec_l5.spherical_cheb_bn_pool.spherical_cheb_bn.spherical_cheb.laplacian\", \"decoder.dec_l5.spherical_cheb.laplacian\". "
     ]
    }
   ],
   "source": [
    "before = time.perf_counter()\n",
    "unet.load_state_dict(weights_file, strict=False)\n",
    "after = time.perf_counter()\n",
    "print(\"time taken to load model weights\", after - before)\n",
    "unet.eval()"
   ]
  },
  {
   "cell_type": "code",
   "execution_count": null,
   "id": "b4f7a414",
   "metadata": {},
   "outputs": [],
   "source": [
    "# timesteps to predict\n",
    "inPredict = dataset_in[100:120]\n",
    "outPredict = dataset_out[100:120]"
   ]
  },
  {
   "cell_type": "code",
   "execution_count": null,
   "id": "6077a034",
   "metadata": {},
   "outputs": [],
   "source": [
    "before = time.perf_counter()\n",
    "preds = unet(torch.Tensor(inPredict)) # Change this to the desired number of timesteps\n",
    "after = time.perf_counter()\n",
    "print(\"time taken to perform prediction\", after - before)"
   ]
  },
  {
   "cell_type": "code",
   "execution_count": null,
   "id": "50c9b4b0",
   "metadata": {},
   "outputs": [],
   "source": [
    "#Predictions\n",
    "pred_numpy = preds.detach().cpu().numpy()"
   ]
  },
  {
   "cell_type": "code",
   "execution_count": null,
   "id": "d412b1ab",
   "metadata": {},
   "outputs": [],
   "source": [
    "np.save((\"/Users/kramea/Documents/AIBEDO_dir/data_aibedo/\"+ modelname + \"_predictions.npy\"), pred_numpy)\n",
    "np.save((\"/Users/kramea/Documents/AIBEDO_dir/data_aibedo/\" + modelname + \"_groundtruth.npy\"), outPredict)"
   ]
  },
  {
   "cell_type": "code",
   "execution_count": null,
   "id": "40027130",
   "metadata": {},
   "outputs": [],
   "source": []
  }
 ],
 "metadata": {
  "kernelspec": {
   "display_name": "Python 3 (ipykernel)",
   "language": "python",
   "name": "python3"
  },
  "language_info": {
   "codemirror_mode": {
    "name": "ipython",
    "version": 3
   },
   "file_extension": ".py",
   "mimetype": "text/x-python",
   "name": "python",
   "nbconvert_exporter": "python",
   "pygments_lexer": "ipython3",
   "version": "3.9.12"
  }
 },
 "nbformat": 4,
 "nbformat_minor": 5
}
