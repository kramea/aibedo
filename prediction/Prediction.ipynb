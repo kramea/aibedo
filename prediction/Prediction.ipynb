{
 "cells": [
  {
   "cell_type": "code",
   "execution_count": 2,
   "id": "6b20b087",
   "metadata": {},
   "outputs": [],
   "source": [
    "import numpy as np\n",
    "import xarray as xr\n",
    "import torch\n",
    "from spherical_unet.models.spherical_unet.unet_model import SphericalUNet\n",
    "from pathlib import Path\n",
    "import re\n",
    "import time"
   ]
  },
  {
   "cell_type": "code",
   "execution_count": 3,
   "id": "ab33472d",
   "metadata": {},
   "outputs": [],
   "source": [
    "input_file = '/Users/kramea/Documents/AIBEDO_dir/data_aibedo/compress.isosph.CESM2.historical.r1i1p1f1.Input.Exp8_fixed.nc'"
   ]
  },
  {
   "cell_type": "code",
   "execution_count": 4,
   "id": "964988de",
   "metadata": {},
   "outputs": [],
   "source": [
    "output_file = '/Users/kramea/Documents/AIBEDO_dir/data_aibedo/compress.isosph.CESM2.historical.r1i1p1f1.Output.nc'"
   ]
  },
  {
   "cell_type": "code",
   "execution_count": 5,
   "id": "9b564192",
   "metadata": {},
   "outputs": [],
   "source": [
    "inDS = xr.open_dataset(input_file)\n",
    "outDS = xr.open_dataset(output_file)\n",
    "n_pixels = len(inDS.ncells)"
   ]
  },
  {
   "cell_type": "code",
   "execution_count": 6,
   "id": "dc872f67",
   "metadata": {},
   "outputs": [],
   "source": [
    "in_vars = [ 'crelSurf_pre', 'crel_pre', 'cresSurf_pre', 'cres_pre', 'netTOAcs_pre', 'lsMask', 'netSurfcs_pre']\n",
    "out_vars = ['tas_pre', 'psl_pre', 'pr_pre']"
   ]
  },
  {
   "cell_type": "code",
   "execution_count": 7,
   "id": "064ae348",
   "metadata": {},
   "outputs": [],
   "source": [
    "weights_file = torch.load('/Users/kramea/Documents/AIBEDO_dir/data_aibedo/sunet_state_6.pt', \n",
    "                          map_location=torch.device('cpu'))\n",
    "weights_file = {key.replace(\"module.\", \"\"): value for key, value in weights_file.items()}"
   ]
  },
  {
   "cell_type": "code",
   "execution_count": 8,
   "id": "660b5a43",
   "metadata": {},
   "outputs": [],
   "source": [
    "unet = SphericalUNet('icosahedron', n_pixels, 6, 'combinatorial', 3, 7, 3)"
   ]
  },
  {
   "cell_type": "code",
   "execution_count": 9,
   "id": "cb9fcdf6",
   "metadata": {},
   "outputs": [],
   "source": [
    "modelfilename = Path(output_file).stem\n",
    "p = re.compile('compress.isosph.(.*).historical.r1i1p1f1.Output')\n",
    "modelname = p.findall(modelfilename)[0]"
   ]
  },
  {
   "cell_type": "code",
   "execution_count": null,
   "id": "4a1a7214",
   "metadata": {},
   "outputs": [],
   "source": [
    "data_all = []\n",
    "for var in in_vars:\n",
    "    temp_data = np.reshape(np.concatenate(inDS[var].data, axis=0), [-1, n_pixels, 1])\n",
    "    data_all.append(temp_data)\n",
    "dataset_in = np.concatenate(data_all, axis=2)"
   ]
  },
  {
   "cell_type": "code",
   "execution_count": null,
   "id": "4e884208",
   "metadata": {},
   "outputs": [],
   "source": [
    "data_all = []\n",
    "for var in out_vars:\n",
    "    temp_data = np.reshape(np.concatenate(outDS[var].data, axis=0), [-1, n_pixels, 1])\n",
    "    data_all.append(temp_data)\n",
    "dataset_out = np.concatenate(data_all, axis=2)"
   ]
  },
  {
   "cell_type": "code",
   "execution_count": null,
   "id": "26755664",
   "metadata": {},
   "outputs": [],
   "source": [
    "before = time.perf_counter()\n",
    "unet.load_state_dict(weights_file, strict=False)\n",
    "after = time.perf_counter()\n",
    "print(\"time taken to load model weights\", after - before)\n",
    "unet.eval()"
   ]
  },
  {
   "cell_type": "code",
   "execution_count": null,
   "id": "b4f7a414",
   "metadata": {},
   "outputs": [],
   "source": [
    "# timesteps to predict\n",
    "inPredict = dataset_in[100:120]\n",
    "outPredict = dataset_out[100:120]"
   ]
  },
  {
   "cell_type": "code",
   "execution_count": null,
   "id": "6077a034",
   "metadata": {},
   "outputs": [],
   "source": [
    "before = time.perf_counter()\n",
    "preds = unet(torch.Tensor(inPredict)) # Change this to the desired number of timesteps\n",
    "after = time.perf_counter()\n",
    "print(\"time taken to perform prediction\", after - before)"
   ]
  },
  {
   "cell_type": "code",
   "execution_count": null,
   "id": "50c9b4b0",
   "metadata": {},
   "outputs": [],
   "source": [
    "#Predictions\n",
    "pred_numpy = preds.detach().cpu().numpy()"
   ]
  },
  {
   "cell_type": "code",
   "execution_count": null,
   "id": "d412b1ab",
   "metadata": {},
   "outputs": [],
   "source": [
    "np.save((\"/Users/kramea/Documents/AIBEDO_dir/data_aibedo/\"+ modelname + \"_predictions.npy\"), pred_numpy)\n",
    "np.save((\"/Users/kramea/Documents/AIBEDO_dir/data_aibedo/\" + modelname + \"_groundtruth.npy\"), outPredict)"
   ]
  },
  {
   "cell_type": "code",
   "execution_count": null,
   "id": "40027130",
   "metadata": {},
   "outputs": [],
   "source": []
  }
 ],
 "metadata": {
  "kernelspec": {
   "display_name": "Python 3 (ipykernel)",
   "language": "python",
   "name": "python3"
  },
  "language_info": {
   "codemirror_mode": {
    "name": "ipython",
    "version": 3
   },
   "file_extension": ".py",
   "mimetype": "text/x-python",
   "name": "python",
   "nbconvert_exporter": "python",
   "pygments_lexer": "ipython3",
   "version": "3.9.12"
  }
 },
 "nbformat": 4,
 "nbformat_minor": 5
}
