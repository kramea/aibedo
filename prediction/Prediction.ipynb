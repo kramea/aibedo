{
 "cells": [
  {
   "cell_type": "code",
   "execution_count": 17,
   "id": "6b20b087",
   "metadata": {},
   "outputs": [],
   "source": [
    "import numpy as np\n",
    "import xarray as xr\n",
    "import torch\n",
    "from pathlib import Path\n",
    "import re\n",
    "import time"
   ]
  },
  {
   "cell_type": "code",
   "execution_count": 18,
   "id": "ab33472d",
   "metadata": {},
   "outputs": [],
   "source": [
    "input_file = '/Users/kramea/Documents/AIBEDO_dir/data_aibedo/compress.isosph.CESM2.historical.r1i1p1f1.Input.Exp8_fixed.nc'"
   ]
  },
  {
   "cell_type": "code",
   "execution_count": 19,
   "id": "964988de",
   "metadata": {},
   "outputs": [],
   "source": [
    "output_file = '/Users/kramea/Documents/AIBEDO_dir/data_aibedo/compress.isosph.CESM2.historical.r1i1p1f1.Output.nc'"
   ]
  },
  {
   "cell_type": "code",
   "execution_count": 20,
   "id": "9b564192",
   "metadata": {},
   "outputs": [],
   "source": [
    "inDS = xr.open_dataset(input_file)\n",
    "outDS = xr.open_dataset(output_file)\n",
    "n_pixels = len(inDS.ncells)"
   ]
  },
  {
   "cell_type": "code",
   "execution_count": 21,
   "id": "dc872f67",
   "metadata": {},
   "outputs": [],
   "source": [
    "in_vars = [ 'crelSurf_pre', 'crel_pre', 'cresSurf_pre', 'cres_pre', 'netTOAcs_pre', 'lsMask', 'netSurfcs_pre']\n",
    "out_vars = ['tas_pre', 'psl_pre', 'pr_pre']"
   ]
  },
  {
   "cell_type": "code",
   "execution_count": 22,
   "id": "aaf090b3",
   "metadata": {},
   "outputs": [],
   "source": [
    "unet = torch.load('/Users/kramea/Documents/AIBEDO_dir/data_aibedo/unet_model_4.pt', \n",
    "                        map_location=torch.device('cpu'))"
   ]
  },
  {
   "cell_type": "code",
   "execution_count": 23,
   "id": "a268b448",
   "metadata": {},
   "outputs": [],
   "source": [
    "device = torch.device(\"cuda\" if torch.cuda.is_available() else \"cpu\")"
   ]
  },
  {
   "cell_type": "code",
   "execution_count": 24,
   "id": "465228fd",
   "metadata": {},
   "outputs": [],
   "source": [
    "unet = unet.module.to(device)"
   ]
  },
  {
   "cell_type": "code",
   "execution_count": 25,
   "id": "edf47008",
   "metadata": {},
   "outputs": [
    {
     "data": {
      "text/plain": [
       "SphericalUNet(\n",
       "  (encoder): Encoder(\n",
       "    (pooling): IcosahedronPool()\n",
       "    (enc_l5): SphericalChebBN2(\n",
       "      (spherical_cheb_bn_1): SphericalChebBN(\n",
       "        (spherical_cheb): SphericalChebConv(\n",
       "          (chebconv): ChebConv()\n",
       "        )\n",
       "        (batchnorm): BatchNorm1d(32, eps=1e-05, momentum=0.1, affine=True, track_running_stats=True)\n",
       "      )\n",
       "      (spherical_cheb_bn_2): SphericalChebBN(\n",
       "        (spherical_cheb): SphericalChebConv(\n",
       "          (chebconv): ChebConv()\n",
       "        )\n",
       "        (batchnorm): BatchNorm1d(64, eps=1e-05, momentum=0.1, affine=True, track_running_stats=True)\n",
       "      )\n",
       "    )\n",
       "    (enc_l4): SphericalChebBNPool(\n",
       "      (pooling): IcosahedronPool()\n",
       "      (spherical_cheb_bn): SphericalChebBN(\n",
       "        (spherical_cheb): SphericalChebConv(\n",
       "          (chebconv): ChebConv()\n",
       "        )\n",
       "        (batchnorm): BatchNorm1d(128, eps=1e-05, momentum=0.1, affine=True, track_running_stats=True)\n",
       "      )\n",
       "    )\n",
       "    (enc_l3): SphericalChebBNPool(\n",
       "      (pooling): IcosahedronPool()\n",
       "      (spherical_cheb_bn): SphericalChebBN(\n",
       "        (spherical_cheb): SphericalChebConv(\n",
       "          (chebconv): ChebConv()\n",
       "        )\n",
       "        (batchnorm): BatchNorm1d(256, eps=1e-05, momentum=0.1, affine=True, track_running_stats=True)\n",
       "      )\n",
       "    )\n",
       "    (enc_l2): SphericalChebBNPool(\n",
       "      (pooling): IcosahedronPool()\n",
       "      (spherical_cheb_bn): SphericalChebBN(\n",
       "        (spherical_cheb): SphericalChebConv(\n",
       "          (chebconv): ChebConv()\n",
       "        )\n",
       "        (batchnorm): BatchNorm1d(512, eps=1e-05, momentum=0.1, affine=True, track_running_stats=True)\n",
       "      )\n",
       "    )\n",
       "    (enc_l1): SphericalChebBNPool(\n",
       "      (pooling): IcosahedronPool()\n",
       "      (spherical_cheb_bn): SphericalChebBN(\n",
       "        (spherical_cheb): SphericalChebConv(\n",
       "          (chebconv): ChebConv()\n",
       "        )\n",
       "        (batchnorm): BatchNorm1d(512, eps=1e-05, momentum=0.1, affine=True, track_running_stats=True)\n",
       "      )\n",
       "    )\n",
       "    (enc_l0): SphericalChebPool(\n",
       "      (pooling): IcosahedronPool()\n",
       "      (spherical_cheb): SphericalChebConv(\n",
       "        (chebconv): ChebConv()\n",
       "      )\n",
       "    )\n",
       "  )\n",
       "  (decoder): Decoder(\n",
       "    (unpooling): IcosahedronUnpool()\n",
       "    (dec_l1): SphericalChebBNPoolConcat(\n",
       "      (spherical_cheb_bn_pool): SphericalChebBNPool(\n",
       "        (pooling): IcosahedronUnpool()\n",
       "        (spherical_cheb_bn): SphericalChebBN(\n",
       "          (spherical_cheb): SphericalChebConv(\n",
       "            (chebconv): ChebConv()\n",
       "          )\n",
       "          (batchnorm): BatchNorm1d(512, eps=1e-05, momentum=0.1, affine=True, track_running_stats=True)\n",
       "        )\n",
       "      )\n",
       "      (spherical_cheb_bn): SphericalChebBN(\n",
       "        (spherical_cheb): SphericalChebConv(\n",
       "          (chebconv): ChebConv()\n",
       "        )\n",
       "        (batchnorm): BatchNorm1d(512, eps=1e-05, momentum=0.1, affine=True, track_running_stats=True)\n",
       "      )\n",
       "    )\n",
       "    (dec_l2): SphericalChebBNPoolConcat(\n",
       "      (spherical_cheb_bn_pool): SphericalChebBNPool(\n",
       "        (pooling): IcosahedronUnpool()\n",
       "        (spherical_cheb_bn): SphericalChebBN(\n",
       "          (spherical_cheb): SphericalChebConv(\n",
       "            (chebconv): ChebConv()\n",
       "          )\n",
       "          (batchnorm): BatchNorm1d(256, eps=1e-05, momentum=0.1, affine=True, track_running_stats=True)\n",
       "        )\n",
       "      )\n",
       "      (spherical_cheb_bn): SphericalChebBN(\n",
       "        (spherical_cheb): SphericalChebConv(\n",
       "          (chebconv): ChebConv()\n",
       "        )\n",
       "        (batchnorm): BatchNorm1d(256, eps=1e-05, momentum=0.1, affine=True, track_running_stats=True)\n",
       "      )\n",
       "    )\n",
       "    (dec_l3): SphericalChebBNPoolConcat(\n",
       "      (spherical_cheb_bn_pool): SphericalChebBNPool(\n",
       "        (pooling): IcosahedronUnpool()\n",
       "        (spherical_cheb_bn): SphericalChebBN(\n",
       "          (spherical_cheb): SphericalChebConv(\n",
       "            (chebconv): ChebConv()\n",
       "          )\n",
       "          (batchnorm): BatchNorm1d(128, eps=1e-05, momentum=0.1, affine=True, track_running_stats=True)\n",
       "        )\n",
       "      )\n",
       "      (spherical_cheb_bn): SphericalChebBN(\n",
       "        (spherical_cheb): SphericalChebConv(\n",
       "          (chebconv): ChebConv()\n",
       "        )\n",
       "        (batchnorm): BatchNorm1d(128, eps=1e-05, momentum=0.1, affine=True, track_running_stats=True)\n",
       "      )\n",
       "    )\n",
       "    (dec_l4): SphericalChebBNPoolConcat(\n",
       "      (spherical_cheb_bn_pool): SphericalChebBNPool(\n",
       "        (pooling): IcosahedronUnpool()\n",
       "        (spherical_cheb_bn): SphericalChebBN(\n",
       "          (spherical_cheb): SphericalChebConv(\n",
       "            (chebconv): ChebConv()\n",
       "          )\n",
       "          (batchnorm): BatchNorm1d(64, eps=1e-05, momentum=0.1, affine=True, track_running_stats=True)\n",
       "        )\n",
       "      )\n",
       "      (spherical_cheb_bn): SphericalChebBN(\n",
       "        (spherical_cheb): SphericalChebConv(\n",
       "          (chebconv): ChebConv()\n",
       "        )\n",
       "        (batchnorm): BatchNorm1d(64, eps=1e-05, momentum=0.1, affine=True, track_running_stats=True)\n",
       "      )\n",
       "    )\n",
       "    (dec_l5): SphericalChebBNPoolCheb(\n",
       "      (spherical_cheb_bn_pool): SphericalChebBNPool(\n",
       "        (pooling): IcosahedronUnpool()\n",
       "        (spherical_cheb_bn): SphericalChebBN(\n",
       "          (spherical_cheb): SphericalChebConv(\n",
       "            (chebconv): ChebConv()\n",
       "          )\n",
       "          (batchnorm): BatchNorm1d(32, eps=1e-05, momentum=0.1, affine=True, track_running_stats=True)\n",
       "        )\n",
       "      )\n",
       "      (spherical_cheb): SphericalChebConv(\n",
       "        (chebconv): ChebConv()\n",
       "      )\n",
       "    )\n",
       "  )\n",
       ")"
      ]
     },
     "execution_count": 25,
     "metadata": {},
     "output_type": "execute_result"
    }
   ],
   "source": [
    "unet.eval()"
   ]
  },
  {
   "cell_type": "code",
   "execution_count": 26,
   "id": "cb9fcdf6",
   "metadata": {},
   "outputs": [],
   "source": [
    "modelfilename = Path(output_file).stem\n",
    "p = re.compile('compress.isosph.(.*).historical.r1i1p1f1.Output')\n",
    "modelname = p.findall(modelfilename)[0]"
   ]
  },
  {
   "cell_type": "code",
   "execution_count": 27,
   "id": "4a1a7214",
   "metadata": {},
   "outputs": [],
   "source": [
    "data_all = []\n",
    "for var in in_vars:\n",
    "    temp_data = np.reshape(np.concatenate(inDS[var].data, axis=0), [-1, n_pixels, 1])\n",
    "    data_all.append(temp_data)\n",
    "dataset_in = np.concatenate(data_all, axis=2)"
   ]
  },
  {
   "cell_type": "code",
   "execution_count": 28,
   "id": "4e884208",
   "metadata": {},
   "outputs": [],
   "source": [
    "data_all = []\n",
    "for var in out_vars:\n",
    "    temp_data = np.reshape(np.concatenate(outDS[var].data, axis=0), [-1, n_pixels, 1])\n",
    "    data_all.append(temp_data)\n",
    "dataset_out = np.concatenate(data_all, axis=2)"
   ]
  },
  {
   "cell_type": "code",
   "execution_count": 29,
   "id": "b4f7a414",
   "metadata": {},
   "outputs": [],
   "source": [
    "# timesteps to predict\n",
    "inPredict = dataset_in[1000:1020]\n",
    "outPredict = dataset_out[1000:1020]"
   ]
  },
  {
   "cell_type": "code",
   "execution_count": 30,
   "id": "6077a034",
   "metadata": {},
   "outputs": [
    {
     "name": "stdout",
     "output_type": "stream",
     "text": [
      "time taken to perform prediction 11.01708124999999\n"
     ]
    }
   ],
   "source": [
    "before = time.perf_counter()\n",
    "preds = unet(torch.Tensor(inPredict)) # Change this to the desired number of timesteps\n",
    "after = time.perf_counter()\n",
    "print(\"time taken to perform prediction\", after - before)"
   ]
  },
  {
   "cell_type": "code",
   "execution_count": 31,
   "id": "50c9b4b0",
   "metadata": {},
   "outputs": [],
   "source": [
    "#Predictions\n",
    "pred_numpy = preds.detach().cpu().numpy()"
   ]
  },
  {
   "cell_type": "code",
   "execution_count": 32,
   "id": "d412b1ab",
   "metadata": {},
   "outputs": [],
   "source": [
    "np.save((\"/Users/kramea/Documents/AIBEDO_dir/data_aibedo/\"+ modelname + \"_predictions.npy\"), pred_numpy)\n",
    "np.save((\"/Users/kramea/Documents/AIBEDO_dir/data_aibedo/\" + modelname + \"_groundtruth.npy\"), outPredict)"
   ]
  },
  {
   "cell_type": "code",
   "execution_count": null,
   "id": "40027130",
   "metadata": {},
   "outputs": [],
   "source": []
  }
 ],
 "metadata": {
  "kernelspec": {
   "display_name": "Python 3 (ipykernel)",
   "language": "python",
   "name": "python3"
  },
  "language_info": {
   "codemirror_mode": {
    "name": "ipython",
    "version": 3
   },
   "file_extension": ".py",
   "mimetype": "text/x-python",
   "name": "python",
   "nbconvert_exporter": "python",
   "pygments_lexer": "ipython3",
   "version": "3.9.12"
  }
 },
 "nbformat": 4,
 "nbformat_minor": 5
}
