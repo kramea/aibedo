{
 "cells": [
  {
   "cell_type": "code",
   "execution_count": 1,
   "id": "4c5837bd-f610-48d3-a714-5ef55ea35b27",
   "metadata": {},
   "outputs": [],
   "source": [
    "import numpy as np\n",
    "import os\n",
    "import torch\n",
    "import torch.optim as optim\n",
    "from torchsummary import summary\n",
    "from data_loader import load_ncdf, normalize, load_ncdf_to_SphereIcosahedral\n",
    "from spherical_unet.models.spherical_unet.unet_model import SphericalUNet\n",
    "from spherical_unet.utils.parser import create_parser, parse_config\n",
    "from spherical_unet.utils.initialization import init_device"
   ]
  },
  {
   "cell_type": "code",
   "execution_count": 3,
   "id": "2c61d9d6-cf3d-4bb0-b5df-c24c0d211414",
   "metadata": {},
   "outputs": [
    {
     "ename": "ValueError",
     "evalue": "did not find a match in any of xarray's currently installed IO backends ['netcdf4', 'scipy']. Consider explicitly selecting one of the installed engines via the ``engine`` parameter, or installing additional IO dependencies, see:\nhttp://xarray.pydata.org/en/stable/getting-started-guide/installing.html\nhttp://xarray.pydata.org/en/stable/user-guide/io.html",
     "output_type": "error",
     "traceback": [
      "\u001b[0;31m---------------------------------------------------------------------------\u001b[0m",
      "\u001b[0;31mValueError\u001b[0m                                Traceback (most recent call last)",
      "\u001b[0;32m/var/folders/hn/57__37595t3fdb1t0_66m7642mmx98/T/ipykernel_80113/821206166.py\u001b[0m in \u001b[0;36m<module>\u001b[0;34m\u001b[0m\n\u001b[1;32m      1\u001b[0m \u001b[0mpath\u001b[0m \u001b[0;34m=\u001b[0m \u001b[0;34m\"./data/\"\u001b[0m\u001b[0;34m\u001b[0m\u001b[0;34m\u001b[0m\u001b[0m\n\u001b[0;32m----> 2\u001b[0;31m \u001b[0mlon_list\u001b[0m\u001b[0;34m,\u001b[0m \u001b[0mlat_list\u001b[0m\u001b[0;34m,\u001b[0m \u001b[0mdataset\u001b[0m \u001b[0;34m=\u001b[0m \u001b[0mload_ncdf_to_SphereIcosahedral\u001b[0m\u001b[0;34m(\u001b[0m\u001b[0mpath\u001b[0m\u001b[0;34m+\u001b[0m\u001b[0;34m\"MPI_ESM1_2_LR_r1i1p1f1_historical_Input.nc \"\u001b[0m\u001b[0;34m)\u001b[0m\u001b[0;34m\u001b[0m\u001b[0;34m\u001b[0m\u001b[0m\n\u001b[0m",
      "\u001b[0;32m~/Desktop/aibedo_sunet/aibedo/skeleton_framework/data_loader.py\u001b[0m in \u001b[0;36mload_ncdf_to_SphereIcosahedral\u001b[0;34m(data_path)\u001b[0m\n\u001b[1;32m     50\u001b[0m \u001b[0;32mdef\u001b[0m \u001b[0mload_ncdf_to_SphereIcosahedral\u001b[0m\u001b[0;34m(\u001b[0m\u001b[0mdata_path\u001b[0m\u001b[0;34m)\u001b[0m\u001b[0;34m:\u001b[0m\u001b[0;34m\u001b[0m\u001b[0;34m\u001b[0m\u001b[0m\n\u001b[1;32m     51\u001b[0m     \u001b[0;31m#data_path = \"/Users/sookim/aibedo/skeleton_framework/data/Processed_CESM2_r1i1p1f1_historical_Input.nc\"\u001b[0m\u001b[0;34m\u001b[0m\u001b[0;34m\u001b[0m\u001b[0;34m\u001b[0m\u001b[0m\n\u001b[0;32m---> 52\u001b[0;31m     \u001b[0mds\u001b[0m\u001b[0;34m=\u001b[0m \u001b[0mxr\u001b[0m\u001b[0;34m.\u001b[0m\u001b[0mopen_dataset\u001b[0m\u001b[0;34m(\u001b[0m\u001b[0mdata_path\u001b[0m\u001b[0;34m)\u001b[0m\u001b[0;34m\u001b[0m\u001b[0;34m\u001b[0m\u001b[0m\n\u001b[0m\u001b[1;32m     53\u001b[0m     \u001b[0mvar_list\u001b[0m \u001b[0;34m=\u001b[0m \u001b[0mlist\u001b[0m\u001b[0;34m(\u001b[0m\u001b[0mds\u001b[0m\u001b[0;34m.\u001b[0m\u001b[0mdata_vars\u001b[0m\u001b[0;34m)\u001b[0m\u001b[0;34m\u001b[0m\u001b[0;34m\u001b[0m\u001b[0m\n\u001b[1;32m     54\u001b[0m     \u001b[0mfile_all\u001b[0m \u001b[0;34m=\u001b[0m \u001b[0;34m[\u001b[0m\u001b[0;34m]\u001b[0m\u001b[0;34m\u001b[0m\u001b[0;34m\u001b[0m\u001b[0m\n",
      "\u001b[0;32m~/miniconda3/envs/deepsphere/lib/python3.7/site-packages/xarray/backends/api.py\u001b[0m in \u001b[0;36mopen_dataset\u001b[0;34m(filename_or_obj, engine, chunks, cache, decode_cf, mask_and_scale, decode_times, decode_timedelta, use_cftime, concat_characters, decode_coords, drop_variables, backend_kwargs, *args, **kwargs)\u001b[0m\n\u001b[1;32m    477\u001b[0m \u001b[0;34m\u001b[0m\u001b[0m\n\u001b[1;32m    478\u001b[0m     \u001b[0;32mif\u001b[0m \u001b[0mengine\u001b[0m \u001b[0;32mis\u001b[0m \u001b[0;32mNone\u001b[0m\u001b[0;34m:\u001b[0m\u001b[0;34m\u001b[0m\u001b[0;34m\u001b[0m\u001b[0m\n\u001b[0;32m--> 479\u001b[0;31m         \u001b[0mengine\u001b[0m \u001b[0;34m=\u001b[0m \u001b[0mplugins\u001b[0m\u001b[0;34m.\u001b[0m\u001b[0mguess_engine\u001b[0m\u001b[0;34m(\u001b[0m\u001b[0mfilename_or_obj\u001b[0m\u001b[0;34m)\u001b[0m\u001b[0;34m\u001b[0m\u001b[0;34m\u001b[0m\u001b[0m\n\u001b[0m\u001b[1;32m    480\u001b[0m \u001b[0;34m\u001b[0m\u001b[0m\n\u001b[1;32m    481\u001b[0m     \u001b[0mbackend\u001b[0m \u001b[0;34m=\u001b[0m \u001b[0mplugins\u001b[0m\u001b[0;34m.\u001b[0m\u001b[0mget_backend\u001b[0m\u001b[0;34m(\u001b[0m\u001b[0mengine\u001b[0m\u001b[0;34m)\u001b[0m\u001b[0;34m\u001b[0m\u001b[0;34m\u001b[0m\u001b[0m\n",
      "\u001b[0;32m~/miniconda3/envs/deepsphere/lib/python3.7/site-packages/xarray/backends/plugins.py\u001b[0m in \u001b[0;36mguess_engine\u001b[0;34m(store_spec)\u001b[0m\n\u001b[1;32m    150\u001b[0m         )\n\u001b[1;32m    151\u001b[0m \u001b[0;34m\u001b[0m\u001b[0m\n\u001b[0;32m--> 152\u001b[0;31m     \u001b[0;32mraise\u001b[0m \u001b[0mValueError\u001b[0m\u001b[0;34m(\u001b[0m\u001b[0merror_msg\u001b[0m\u001b[0;34m)\u001b[0m\u001b[0;34m\u001b[0m\u001b[0;34m\u001b[0m\u001b[0m\n\u001b[0m\u001b[1;32m    153\u001b[0m \u001b[0;34m\u001b[0m\u001b[0m\n\u001b[1;32m    154\u001b[0m \u001b[0;34m\u001b[0m\u001b[0m\n",
      "\u001b[0;31mValueError\u001b[0m: did not find a match in any of xarray's currently installed IO backends ['netcdf4', 'scipy']. Consider explicitly selecting one of the installed engines via the ``engine`` parameter, or installing additional IO dependencies, see:\nhttp://xarray.pydata.org/en/stable/getting-started-guide/installing.html\nhttp://xarray.pydata.org/en/stable/user-guide/io.html"
     ]
    }
   ],
   "source": [
    "path = \"./data/\"\n",
    "lon_list, lat_list, dataset = load_ncdf_to_SphereIcosahedral(path+\"MPI_ESM1_2_LR_r1i1p1f1_historical_Input.nc \")\n"
   ]
  },
  {
   "cell_type": "code",
   "execution_count": null,
   "id": "828bed7c-f2e2-426e-8ff1-a42c5ab0da24",
   "metadata": {},
   "outputs": [],
   "source": [
    "path = \"./data/\"\n",
    "lon_list, lat_list, dataset = load_ncdf_to_SphereIcosahedral(path+\"Exp_CESM2_r1i1p1f1_historical_Output.nc\")\n",
    "np.save(\"./data/Exp_CESM2_r1i1p1f1_historical_Output_5.npy\",dataset)\n",
    "lon_list, lat_list, dataset = load_ncdf_to_SphereIcosahedral(path+\"Exp1_CESM2_r1i1p1f1_historical_Input.nc\")\n",
    "np.save(\"./data/Exp1_CESM2_r1i1p1f1_historical_Input_5.npy\",dataset)\n",
    "lon_list, lat_list, dataset = load_ncdf_to_SphereIcosahedral(path+\"Exp2_CESM2_r1i1p1f1_historical_Input.nc\")\n",
    "np.save(\"./data/Exp2_CESM2_r1i1p1f1_historical_Input_5.npy\",dataset)\n",
    "lon_list, lat_list, dataset = load_ncdf_to_SphereIcosahedral(path+\"Exp3_CESM2_r1i1p1f1_historical_Input.nc\")\n",
    "np.save(\"./data/Exp3_CESM2_r1i1p1f1_historical_Input_5.npy\",dataset)"
   ]
  },
  {
   "cell_type": "code",
   "execution_count": 4,
   "id": "3eb42673-a2d9-4c24-862c-56666f8ff128",
   "metadata": {},
   "outputs": [
    {
     "name": "stdout",
     "output_type": "stream",
     "text": [
      "(1980, 10242, 4) (1980, 10242, 1) (1980, 10242, 3)\n"
     ]
    }
   ],
   "source": [
    "#Exp1_CESM2_r1i1p1f1_historical_Input.nc: ['cres_pre',  'crel_Pre',  'netTOAcs_Pre']\n",
    "#Exp2_CESM2_r1i1p1f1_historical_Input.nc: ['cres_pre',  'crel_Pre',  'netTOAcs_Pre',  'netSurf_Pre']\n",
    "#Exp3_CESM2_r1i1p1f1_historical_Input.nc: [‘netTOA_Pre’]\n",
    "#Exp_CESM2_r1i1p1f1_historical_Output.nc: [‘pst_pre’, ‘tas_pre’, ‘pr_pre’]\n",
    "exp2 = np.load(\"./data/Exp2_CESM2_r1i1p1f1_historical_Input_5.npy\")\n",
    "exp3 = np.load(\"./data/Exp3_CESM2_r1i1p1f1_historical_Input_5.npy\")\n",
    "output = np.load(\"./data/Exp_CESM2_r1i1p1f1_historical_Output_5.npy\")\n",
    "print(np.shape(exp2), np.shape(exp3), np.shape(output))"
   ]
  },
  {
   "cell_type": "code",
   "execution_count": 5,
   "id": "689a37e4-93c9-4b1d-9a3c-b73e5d0e491b",
   "metadata": {},
   "outputs": [],
   "source": [
    "inputs = np.concatenate([exp2, exp3], axis =2 )\n"
   ]
  },
  {
   "cell_type": "code",
   "execution_count": 6,
   "id": "712d2379-1b93-41ca-9e84-18778348aab3",
   "metadata": {},
   "outputs": [
    {
     "name": "stdout",
     "output_type": "stream",
     "text": [
      "(1980, 10242, 5)\n"
     ]
    }
   ],
   "source": [
    "print(np.shape(inputs))"
   ]
  },
  {
   "cell_type": "code",
   "execution_count": 7,
   "id": "24e387a1-c45b-429f-86f1-da49cebb0061",
   "metadata": {},
   "outputs": [],
   "source": [
    "np.save(\"./data/Exp_All_CESM2_r1i1p1f1_historical_Input_5.npy\", inputs)"
   ]
  },
  {
   "cell_type": "code",
   "execution_count": 16,
   "id": "3d7e2ddf-37b0-48a5-b37a-6c95a4d412b3",
   "metadata": {},
   "outputs": [
    {
     "name": "stdout",
     "output_type": "stream",
     "text": [
      "(1980, 10242, 13)\n",
      "(1980, 10242, 13)\n"
     ]
    }
   ],
   "source": [
    "inn = np.load(\"./data/MPI_ESM1_2_LR_r1i1p1f1_historical_Input_level_5.npy\")\n",
    "out = np.load(\"./data/MPI_ESM1_2_LR_r1i1p1f1_historical_Output_level_5.npy\")\n",
    "print(np.shape(inn))\n",
    "print(np.shape(out))\n",
    "\n"
   ]
  },
  {
   "cell_type": "code",
   "execution_count": 17,
   "id": "09ca20da-ebc6-45b5-9b7b-f50707060e69",
   "metadata": {},
   "outputs": [],
   "source": [
    "index_in = [0,2,4,6,8,10,12]\n",
    "index_out = [0,2,4]"
   ]
  },
  {
   "cell_type": "code",
   "execution_count": 19,
   "id": "41e975bc-9304-40c9-b702-2dbc5a440a02",
   "metadata": {},
   "outputs": [],
   "source": [
    "input_f =np.load(\"MPI_ESM1_Input_level_5.npy\" )\n",
    "output_f = np.load(\"MPI_ESM1_Output_level_5.npy\" )"
   ]
  },
  {
   "cell_type": "code",
   "execution_count": 20,
   "id": "8b3a4bc9-bbbb-4100-9f25-0c12f6fd7b0b",
   "metadata": {},
   "outputs": [
    {
     "name": "stdout",
     "output_type": "stream",
     "text": [
      "(1980, 10242, 7) (1980, 10242, 3)\n"
     ]
    }
   ],
   "source": [
    "print(np.shape(input_f), np.shape(output_f))"
   ]
  },
  {
   "cell_type": "code",
   "execution_count": null,
   "id": "d2f95e4c-6447-4e4b-9c39-93138f53abfc",
   "metadata": {},
   "outputs": [],
   "source": []
  }
 ],
 "metadata": {
  "kernelspec": {
   "display_name": "Python 3 (ipykernel)",
   "language": "python",
   "name": "python3"
  },
  "language_info": {
   "codemirror_mode": {
    "name": "ipython",
    "version": 3
   },
   "file_extension": ".py",
   "mimetype": "text/x-python",
   "name": "python",
   "nbconvert_exporter": "python",
   "pygments_lexer": "ipython3",
   "version": "3.7.11"
  }
 },
 "nbformat": 4,
 "nbformat_minor": 5
}
