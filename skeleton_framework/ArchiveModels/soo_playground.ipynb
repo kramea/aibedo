{
 "cells": [
  {
   "cell_type": "code",
   "execution_count": 31,
   "id": "c57e1499-7af0-410a-add5-ab4765d810bb",
   "metadata": {},
   "outputs": [],
   "source": [
    "from soo_remap import *"
   ]
  },
  {
   "cell_type": "code",
   "execution_count": 32,
   "id": "a4aba8d0-8996-424c-9984-b651339cdd3e",
   "metadata": {},
   "outputs": [],
   "source": [
    "import sys\n",
    "\n",
    "import numpy as np\n",
    "from scipy import sparse\n",
    "from matplotlib import pyplot as plt\n",
    "import pygsp as pg"
   ]
  },
  {
   "cell_type": "code",
   "execution_count": 33,
   "id": "247b89fe-3de0-468d-9d5b-1ff2f22cb7a5",
   "metadata": {},
   "outputs": [
    {
     "name": "stderr",
     "output_type": "stream",
     "text": [
      "2022-02-01 15:32:35,142:[WARNING](pygsp.graphs.graph.__init__): Adjacency: there are self-loops (non-zeros on the diagonal). The Laplacian will not see them.\n"
     ]
    }
   ],
   "source": [
    "graph1 = pg.graphs.Graph(np.asarray([[1,2,3],[4,5,6],[7,8,9]]))\n"
   ]
  },
  {
   "cell_type": "code",
   "execution_count": 34,
   "id": "2fcc7422-3c2b-4177-a83d-ae75c998cdfe",
   "metadata": {},
   "outputs": [],
   "source": [
    "graph2 = pg.graphs.SphereIcosahedral(16)"
   ]
  },
  {
   "cell_type": "code",
   "execution_count": 35,
   "id": "c3bc17da-506d-485d-b7ad-b91f6ec1ed63",
   "metadata": {},
   "outputs": [],
   "source": [
    "path = \"/Users/sookim/Desktop/ALBEDO/aibedo/scripts/data/ours/rsut_Amon_CESM2_historical_r1i1p1f1_gn_185001-201412.nc\""
   ]
  },
  {
   "cell_type": "code",
   "execution_count": 49,
   "id": "886eb407-4220-4dff-9697-964297da38f7",
   "metadata": {},
   "outputs": [
    {
     "name": "stdout",
     "output_type": "stream",
     "text": [
      "(4, 1980, 192, 288, 2)\n"
     ]
    }
   ],
   "source": [
    "ds = xr.open_dataset(path)\n",
    "src_ds=ds\n",
    "print(np.shape(src_ds.to_array()))"
   ]
  },
  {
   "cell_type": "code",
   "execution_count": 37,
   "id": "b1865764-6ba4-46e0-8434-f1c625edaace",
   "metadata": {},
   "outputs": [
    {
     "name": "stderr",
     "output_type": "stream",
     "text": [
      "2022-02-01 15:32:37,210:[WARNING](pygsp.graphs.graph.__init__): Adjacency: there are self-loops (non-zeros on the diagonal). The Laplacian will not see them.\n"
     ]
    }
   ],
   "source": [
    "graph1 = pg.graphs.Graph(src_ds)"
   ]
  },
  {
   "cell_type": "code",
   "execution_count": 58,
   "id": "2f123445-e75f-43c5-8b5e-498e51764d8c",
   "metadata": {},
   "outputs": [
    {
     "data": {
      "text/plain": [
       "TrackedArray([[ 0.        , -0.52573111,  0.85065081],\n",
       "              [ 0.        , -0.52573111, -0.85065081],\n",
       "              [ 0.        ,  0.52573111,  0.85065081],\n",
       "              ...,\n",
       "              [ 0.94161806, -0.33414006,  0.04130198],\n",
       "              [ 0.87934451, -0.46088161,  0.11975549],\n",
       "              [ 0.91609203, -0.40096808,  0.        ]])"
      ]
     },
     "execution_count": 58,
     "metadata": {},
     "output_type": "execute_result"
    }
   ],
   "source": [
    "graph2.coords"
   ]
  },
  {
   "cell_type": "code",
   "execution_count": 25,
   "id": "3aa2fef7-be0a-4f3c-937e-19701141729a",
   "metadata": {},
   "outputs": [
    {
     "data": {
      "text/plain": [
       "2562"
      ]
     },
     "execution_count": 25,
     "metadata": {},
     "output_type": "execute_result"
    }
   ],
   "source": [
    "graph2.n_vertices"
   ]
  },
  {
   "cell_type": "code",
   "execution_count": 50,
   "id": "1bdacf0f-776c-45eb-8576-5673d91e7a40",
   "metadata": {},
   "outputs": [
    {
     "data": {
      "text/plain": [
       "SphereIcosahedral(n_vertices=2562, n_edges=13620, subdivisions=16, dual=False, standardize=False, metric=euclidean, order=2, kind=knn, k=10, kernel=gaussian, kernel_width=9.88e-02, backend=scipy-ckdtree)"
      ]
     },
     "execution_count": 50,
     "metadata": {},
     "output_type": "execute_result"
    }
   ],
   "source": [
    "graph2"
   ]
  },
  {
   "cell_type": "code",
   "execution_count": 51,
   "id": "5d6abf41-f4a2-4238-82f8-6a2ad946114d",
   "metadata": {},
   "outputs": [
    {
     "name": "stderr",
     "output_type": "stream",
     "text": [
      "2022-02-01 15:51:00,701:[WARNING](pygsp.graphs.graph._check_fourier_properties): The eigenvalues vector G.e is not available, we need to compute the Fourier basis. Explicitly call G.compute_fourier_basis() once beforehand to suppress the warning.\n"
     ]
    },
    {
     "data": {
      "text/plain": [
       "array([0.        , 0.02248903, 0.02255133, ..., 7.60511054, 7.60518873,\n",
       "       7.60524288])"
      ]
     },
     "execution_count": 51,
     "metadata": {},
     "output_type": "execute_result"
    }
   ],
   "source": [
    "graph2.e"
   ]
  },
  {
   "cell_type": "code",
   "execution_count": 53,
   "id": "0c729b64-77fc-488d-aa3f-2c126daebc25",
   "metadata": {},
   "outputs": [
    {
     "data": {
      "text/plain": [
       "2562"
      ]
     },
     "execution_count": 53,
     "metadata": {},
     "output_type": "execute_result"
    }
   ],
   "source": [
    "graph2.n_vertices"
   ]
  },
  {
   "cell_type": "code",
   "execution_count": 54,
   "id": "db953663-8187-4ff0-b93a-67b03ae55fce",
   "metadata": {},
   "outputs": [
    {
     "data": {
      "text/plain": [
       "SphereIcosahedral(n_vertices=2562, n_edges=13620, subdivisions=16, dual=False, standardize=False, metric=euclidean, order=2, kind=knn, k=10, kernel=gaussian, kernel_width=9.88e-02, backend=scipy-ckdtree)"
      ]
     },
     "execution_count": 54,
     "metadata": {},
     "output_type": "execute_result"
    }
   ],
   "source": [
    "graph2\n"
   ]
  },
  {
   "cell_type": "code",
   "execution_count": 59,
   "id": "d0081557-4239-4c52-a3c6-a59524e9973d",
   "metadata": {},
   "outputs": [],
   "source": [
    "coord = graph2.coords"
   ]
  },
  {
   "cell_type": "code",
   "execution_count": 66,
   "id": "64dcc85a-3ccf-4e19-b6e2-d3ca51b4f2fd",
   "metadata": {},
   "outputs": [
    {
     "name": "stdout",
     "output_type": "stream",
     "text": [
      "(2562, 3)\n"
     ]
    }
   ],
   "source": [
    "graph = graph2\n",
    "radius = 1\n",
    "\n",
    "def xyz2lonlat(x,y,z, radius=6371.0e6):\n",
    "    \"\"\"From cartesian geocentric coordinates to 2D geographic coordinates.\"\"\"\n",
    "    latitude = np.arcsin(z / radius)/np.pi*180\n",
    "    longitude = np.arctan2(y, x)/np.pi*180\n",
    "    return longitude, latitude \n",
    "\n",
    "# Hack to get HEALPix true vertices (quadrilateral polygons).\n",
    "import healpy as hp\n",
    "npix = graph.n_vertices\n",
    "nside = np.sqrt(npix/12)\n",
    "step = 8  # number of vertices per edge (edges are not geodesics)\n",
    "vertices = graph2.coords\n",
    "print(np.shape(vertices))\n",
    "list_polygons_lonlat = []\n",
    "lon = []\n",
    "lat = []\n",
    "for tmp_xyz in vertices:\n",
    "    tmp_lon, tmp_lat = xyz2lonlat(tmp_xyz[0],tmp_xyz[1],tmp_xyz[2], radius=radius)\n",
    "    lon.append(tmp_lon)\n",
    "    lat.append(tmp_lat)"
   ]
  },
  {
   "cell_type": "code",
   "execution_count": 67,
   "id": "a02132d6-634c-4988-ad54-ef3b0b373d3a",
   "metadata": {},
   "outputs": [
    {
     "data": {
      "text/plain": [
       "<matplotlib.collections.PathCollection at 0x7fc089f5c850>"
      ]
     },
     "execution_count": 67,
     "metadata": {},
     "output_type": "execute_result"
    },
    {
     "data": {
      "image/png": "[encoded data removed]",
      "text/plain": [
       "<Figure size 432x288 with 1 Axes>"
      ]
     },
     "metadata": {
      "needs_background": "light"
     },
     "output_type": "display_data"
    }
   ],
   "source": [
    "\n",
    "plt.scatter(lon,lat)\n"
   ]
  },
  {
   "cell_type": "code",
   "execution_count": null,
   "id": "a258a6ff-c699-4541-aef5-8594b2ab3f85",
   "metadata": {},
   "outputs": [],
   "source": []
  }
 ],
 "metadata": {
  "kernelspec": {
   "display_name": "Python 3 (ipykernel)",
   "language": "python",
   "name": "python3"
  },
  "language_info": {
   "codemirror_mode": {
    "name": "ipython",
    "version": 3
   },
   "file_extension": ".py",
   "mimetype": "text/x-python",
   "name": "python",
   "nbconvert_exporter": "python",
   "pygments_lexer": "ipython3",
   "version": "3.7.12"
  }
 },
 "nbformat": 4,
 "nbformat_minor": 5
}
