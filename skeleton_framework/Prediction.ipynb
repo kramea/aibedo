{
 "cells": [
  {
   "cell_type": "code",
   "execution_count": 1,
   "id": "6b20b087",
   "metadata": {},
   "outputs": [],
   "source": [
    "import numpy as np\n",
    "import xarray as xr\n",
    "import torch\n",
    "from spherical_unet.models.spherical_unet.unet_model import SphericalUNet\n",
    "#from spherical_unet.utils.parser import create_parser, parse_config\n",
    "from pathlib import Path\n",
    "import re\n",
    "import time\n",
    "from torch.utils.data import DataLoader"
   ]
  },
  {
   "cell_type": "code",
   "execution_count": 2,
   "id": "ab33472d",
   "metadata": {},
   "outputs": [],
   "source": [
    "input_file = '/Users/kalairamea/Documents/DARPA-AIBEDO/aibedo_local/compress.isosph.CESM2-WACCM-FV2.historical.r1i1p1f1.Input.Exp8_fixed.nc'"
   ]
  },
  {
   "cell_type": "code",
   "execution_count": 3,
   "id": "964988de",
   "metadata": {},
   "outputs": [],
   "source": [
    "output_file = '/Users/kalairamea/Documents/DARPA-AIBEDO/aibedo_local/compress.isosph.CESM2-WACCM-FV2.historical.r1i1p1f1.Output.nc'"
   ]
  },
  {
   "cell_type": "code",
   "execution_count": 4,
   "id": "9b564192",
   "metadata": {},
   "outputs": [],
   "source": [
    "inDS = xr.open_dataset(input_file)\n",
    "outDS = xr.open_dataset(output_file)\n",
    "n_pixels = len(inDS.ncells)"
   ]
  },
  {
   "cell_type": "code",
   "execution_count": 5,
   "id": "dc872f67",
   "metadata": {},
   "outputs": [],
   "source": [
    "in_vars = [ 'crelSurf_pre', 'crel_pre', 'cresSurf_pre', 'cres_pre', 'netTOAcs_pre', 'lsMask', 'netSurfcs_pre']\n",
    "out_vars = ['tas_pre', 'psl_pre', 'pr_pre']"
   ]
  },
  {
   "cell_type": "code",
   "execution_count": 6,
   "id": "064ae348",
   "metadata": {},
   "outputs": [],
   "source": [
    "weights_file = torch.load('/Users/kalairamea/Documents/DARPA-AIBEDO/aibedo_local/sunet_state_6.pt', \n",
    "                          map_location=torch.device('cpu'))\n",
    "weights_file = {key.replace(\"module.\", \"\"): value for key, value in weights_file.items()}"
   ]
  },
  {
   "cell_type": "code",
   "execution_count": 7,
   "id": "660b5a43",
   "metadata": {},
   "outputs": [],
   "source": [
    "unet = SphericalUNet('icosahedron', n_pixels, 6, 'combinatorial', 3, 7, 3)"
   ]
  },
  {
   "cell_type": "code",
   "execution_count": 8,
   "id": "cb9fcdf6",
   "metadata": {},
   "outputs": [],
   "source": [
    "modelfilename = Path(output_file).stem\n",
    "p = re.compile('compress.isosph.(.*).historical.r1i1p1f1.Output')\n",
    "modelname = p.findall(modelfilename)[0]"
   ]
  },
  {
   "cell_type": "code",
   "execution_count": 9,
   "id": "4a1a7214",
   "metadata": {},
   "outputs": [],
   "source": [
    "data_all = []\n",
    "for var in in_vars:\n",
    "    temp_data = np.reshape(np.concatenate(inDS[var].data, axis=0), [-1, n_pixels, 1])\n",
    "    data_all.append(temp_data)\n",
    "dataset_in = np.concatenate(data_all, axis=2)"
   ]
  },
  {
   "cell_type": "code",
   "execution_count": 10,
   "id": "4e884208",
   "metadata": {},
   "outputs": [],
   "source": [
    "data_all = []\n",
    "for var in out_vars:\n",
    "    temp_data = np.reshape(np.concatenate(outDS[var].data, axis=0), [-1, n_pixels, 1])\n",
    "    data_all.append(temp_data)\n",
    "dataset_out = np.concatenate(data_all, axis=2)"
   ]
  },
  {
   "cell_type": "code",
   "execution_count": 11,
   "id": "26755664",
   "metadata": {},
   "outputs": [
    {
     "data": {
      "text/plain": [
       "SphericalUNet(\n",
       "  (encoder): Encoder(\n",
       "    (pooling): IcosahedronPool()\n",
       "    (enc_l5): SphericalChebBN2(\n",
       "      (spherical_cheb_bn_1): SphericalChebBN(\n",
       "        (spherical_cheb): SphericalChebConv(\n",
       "          (chebconv): ChebConv()\n",
       "        )\n",
       "        (batchnorm): BatchNorm1d(32, eps=1e-05, momentum=0.1, affine=True, track_running_stats=True)\n",
       "      )\n",
       "      (spherical_cheb_bn_2): SphericalChebBN(\n",
       "        (spherical_cheb): SphericalChebConv(\n",
       "          (chebconv): ChebConv()\n",
       "        )\n",
       "        (batchnorm): BatchNorm1d(64, eps=1e-05, momentum=0.1, affine=True, track_running_stats=True)\n",
       "      )\n",
       "    )\n",
       "    (enc_l4): SphericalChebBNPool(\n",
       "      (pooling): IcosahedronPool()\n",
       "      (spherical_cheb_bn): SphericalChebBN(\n",
       "        (spherical_cheb): SphericalChebConv(\n",
       "          (chebconv): ChebConv()\n",
       "        )\n",
       "        (batchnorm): BatchNorm1d(128, eps=1e-05, momentum=0.1, affine=True, track_running_stats=True)\n",
       "      )\n",
       "    )\n",
       "    (enc_l3): SphericalChebBNPool(\n",
       "      (pooling): IcosahedronPool()\n",
       "      (spherical_cheb_bn): SphericalChebBN(\n",
       "        (spherical_cheb): SphericalChebConv(\n",
       "          (chebconv): ChebConv()\n",
       "        )\n",
       "        (batchnorm): BatchNorm1d(256, eps=1e-05, momentum=0.1, affine=True, track_running_stats=True)\n",
       "      )\n",
       "    )\n",
       "    (enc_l2): SphericalChebBNPool(\n",
       "      (pooling): IcosahedronPool()\n",
       "      (spherical_cheb_bn): SphericalChebBN(\n",
       "        (spherical_cheb): SphericalChebConv(\n",
       "          (chebconv): ChebConv()\n",
       "        )\n",
       "        (batchnorm): BatchNorm1d(512, eps=1e-05, momentum=0.1, affine=True, track_running_stats=True)\n",
       "      )\n",
       "    )\n",
       "    (enc_l1): SphericalChebBNPool(\n",
       "      (pooling): IcosahedronPool()\n",
       "      (spherical_cheb_bn): SphericalChebBN(\n",
       "        (spherical_cheb): SphericalChebConv(\n",
       "          (chebconv): ChebConv()\n",
       "        )\n",
       "        (batchnorm): BatchNorm1d(512, eps=1e-05, momentum=0.1, affine=True, track_running_stats=True)\n",
       "      )\n",
       "    )\n",
       "    (enc_l0): SphericalChebPool(\n",
       "      (pooling): IcosahedronPool()\n",
       "      (spherical_cheb): SphericalChebConv(\n",
       "        (chebconv): ChebConv()\n",
       "      )\n",
       "    )\n",
       "  )\n",
       "  (decoder): Decoder(\n",
       "    (unpooling): IcosahedronUnpool()\n",
       "    (dec_l1): SphericalChebBNPoolConcat(\n",
       "      (spherical_cheb_bn_pool): SphericalChebBNPool(\n",
       "        (pooling): IcosahedronUnpool()\n",
       "        (spherical_cheb_bn): SphericalChebBN(\n",
       "          (spherical_cheb): SphericalChebConv(\n",
       "            (chebconv): ChebConv()\n",
       "          )\n",
       "          (batchnorm): BatchNorm1d(512, eps=1e-05, momentum=0.1, affine=True, track_running_stats=True)\n",
       "        )\n",
       "      )\n",
       "      (spherical_cheb_bn): SphericalChebBN(\n",
       "        (spherical_cheb): SphericalChebConv(\n",
       "          (chebconv): ChebConv()\n",
       "        )\n",
       "        (batchnorm): BatchNorm1d(512, eps=1e-05, momentum=0.1, affine=True, track_running_stats=True)\n",
       "      )\n",
       "    )\n",
       "    (dec_l2): SphericalChebBNPoolConcat(\n",
       "      (spherical_cheb_bn_pool): SphericalChebBNPool(\n",
       "        (pooling): IcosahedronUnpool()\n",
       "        (spherical_cheb_bn): SphericalChebBN(\n",
       "          (spherical_cheb): SphericalChebConv(\n",
       "            (chebconv): ChebConv()\n",
       "          )\n",
       "          (batchnorm): BatchNorm1d(256, eps=1e-05, momentum=0.1, affine=True, track_running_stats=True)\n",
       "        )\n",
       "      )\n",
       "      (spherical_cheb_bn): SphericalChebBN(\n",
       "        (spherical_cheb): SphericalChebConv(\n",
       "          (chebconv): ChebConv()\n",
       "        )\n",
       "        (batchnorm): BatchNorm1d(256, eps=1e-05, momentum=0.1, affine=True, track_running_stats=True)\n",
       "      )\n",
       "    )\n",
       "    (dec_l3): SphericalChebBNPoolConcat(\n",
       "      (spherical_cheb_bn_pool): SphericalChebBNPool(\n",
       "        (pooling): IcosahedronUnpool()\n",
       "        (spherical_cheb_bn): SphericalChebBN(\n",
       "          (spherical_cheb): SphericalChebConv(\n",
       "            (chebconv): ChebConv()\n",
       "          )\n",
       "          (batchnorm): BatchNorm1d(128, eps=1e-05, momentum=0.1, affine=True, track_running_stats=True)\n",
       "        )\n",
       "      )\n",
       "      (spherical_cheb_bn): SphericalChebBN(\n",
       "        (spherical_cheb): SphericalChebConv(\n",
       "          (chebconv): ChebConv()\n",
       "        )\n",
       "        (batchnorm): BatchNorm1d(128, eps=1e-05, momentum=0.1, affine=True, track_running_stats=True)\n",
       "      )\n",
       "    )\n",
       "    (dec_l4): SphericalChebBNPoolConcat(\n",
       "      (spherical_cheb_bn_pool): SphericalChebBNPool(\n",
       "        (pooling): IcosahedronUnpool()\n",
       "        (spherical_cheb_bn): SphericalChebBN(\n",
       "          (spherical_cheb): SphericalChebConv(\n",
       "            (chebconv): ChebConv()\n",
       "          )\n",
       "          (batchnorm): BatchNorm1d(64, eps=1e-05, momentum=0.1, affine=True, track_running_stats=True)\n",
       "        )\n",
       "      )\n",
       "      (spherical_cheb_bn): SphericalChebBN(\n",
       "        (spherical_cheb): SphericalChebConv(\n",
       "          (chebconv): ChebConv()\n",
       "        )\n",
       "        (batchnorm): BatchNorm1d(64, eps=1e-05, momentum=0.1, affine=True, track_running_stats=True)\n",
       "      )\n",
       "    )\n",
       "    (dec_l5): SphericalChebBNPoolCheb(\n",
       "      (spherical_cheb_bn_pool): SphericalChebBNPool(\n",
       "        (pooling): IcosahedronUnpool()\n",
       "        (spherical_cheb_bn): SphericalChebBN(\n",
       "          (spherical_cheb): SphericalChebConv(\n",
       "            (chebconv): ChebConv()\n",
       "          )\n",
       "          (batchnorm): BatchNorm1d(32, eps=1e-05, momentum=0.1, affine=True, track_running_stats=True)\n",
       "        )\n",
       "      )\n",
       "      (spherical_cheb): SphericalChebConv(\n",
       "        (chebconv): ChebConv()\n",
       "      )\n",
       "    )\n",
       "  )\n",
       ")"
      ]
     },
     "execution_count": 11,
     "metadata": {},
     "output_type": "execute_result"
    }
   ],
   "source": [
    "unet.load_state_dict(weights_file, strict=False)\n",
    "#unet, device = init_device(parser_args.device, unet)\n",
    "unet.eval()"
   ]
  },
  {
   "cell_type": "code",
   "execution_count": 22,
   "id": "b4f7a414",
   "metadata": {},
   "outputs": [],
   "source": [
    "# timesteps to predict\n",
    "inPredict = dataset_in[0:1]\n",
    "groundTruth = dataset_out[0:1]"
   ]
  },
  {
   "cell_type": "code",
   "execution_count": 23,
   "id": "6077a034",
   "metadata": {},
   "outputs": [
    {
     "name": "stdout",
     "output_type": "stream",
     "text": [
      "time taken to perform 1 prediction 0.4386239169999726\n"
     ]
    }
   ],
   "source": [
    "before = time.perf_counter()\n",
    "preds = unet(torch.Tensor(inPredict)) # Change this to the desired number of timesteps\n",
    "after = time.perf_counter()\n",
    "print(\"time taken to perform 1 prediction\", after - before)"
   ]
  },
  {
   "cell_type": "code",
   "execution_count": 27,
   "id": "50c9b4b0",
   "metadata": {},
   "outputs": [],
   "source": [
    "#Predictions\n",
    "pred_numpy = preds.detach().cpu().numpy()"
   ]
  },
  {
   "cell_type": "code",
   "execution_count": null,
   "id": "d412b1ab",
   "metadata": {},
   "outputs": [],
   "source": []
  }
 ],
 "metadata": {
  "kernelspec": {
   "display_name": "aibedoviz",
   "language": "python",
   "name": "aibedoviz"
  },
  "language_info": {
   "codemirror_mode": {
    "name": "ipython",
    "version": 3
   },
   "file_extension": ".py",
   "mimetype": "text/x-python",
   "name": "python",
   "nbconvert_exporter": "python",
   "pygments_lexer": "ipython3",
   "version": "3.7.13"
  }
 },
 "nbformat": 4,
 "nbformat_minor": 5
}
