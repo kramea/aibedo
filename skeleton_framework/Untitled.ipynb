{
 "cells": [
  {
   "cell_type": "code",
   "execution_count": 1,
   "id": "69676a3d",
   "metadata": {},
   "outputs": [],
   "source": [
    "import numpy as np\n",
    "import pandas as pd\n",
    "import xarray as xr"
   ]
  },
  {
   "cell_type": "code",
   "execution_count": 2,
   "id": "a6c5f5c4",
   "metadata": {},
   "outputs": [],
   "source": [
    "ds_all_resuts = xr.open_dataset('/Users/kramea/Documents/AIBEDO_dir/data_aibedo/predictions_CESM2_val_3b6fg6sb_MLP_spherical_0constraints.nc')\n",
    "ds_all = xr.open_dataset('/Users/kramea/Documents/AIBEDO_dir/data_aibedo/compress.isosph.CESM2.historical.r1i1p1f1.Input.Exp8_fixed.nc')"
   ]
  },
  {
   "cell_type": "code",
   "execution_count": 3,
   "id": "b4804581",
   "metadata": {},
   "outputs": [],
   "source": [
    "from sklearn.metrics import mean_squared_error"
   ]
  },
  {
   "cell_type": "code",
   "execution_count": 4,
   "id": "c5c092fd",
   "metadata": {},
   "outputs": [],
   "source": [
    "lon = ds_all.lon.data\n",
    "lat = ds_all.lat.data"
   ]
  },
  {
   "cell_type": "code",
   "execution_count": 5,
   "id": "31f84994",
   "metadata": {},
   "outputs": [],
   "source": [
    "#create parition information dataframe\n",
    "def get_lat_lon_df(lat, lon, gt, pred):\n",
    "    new_array = np.vstack((lat, lon, gt, pred))\n",
    "    # print(new_array.shape)\n",
    "    column_name = ['lat', 'lon', 'gt', 'pred']\n",
    "    # creating the dataframe\n",
    "    new_df = pd.DataFrame(data = new_array.T, columns = column_name)\n",
    "    return new_df"
   ]
  },
  {
   "cell_type": "code",
   "execution_count": 18,
   "id": "84c91981",
   "metadata": {},
   "outputs": [],
   "source": [
    "rmselist_time_1 = []\n",
    "for t in range(297):\n",
    "    rmse_list = []\n",
    "    temp_gt = ds_all_resuts.tas_targets.data[t,:]\n",
    "    temp_pred = ds_all_resuts.tas_preds.data[t,:]\n",
    "    temp_df = get_lat_lon_df(lat, lon, temp_gt, temp_pred)\n",
    "    \n",
    "    temp_mean = np.mean(temp_gt)\n",
    "\n",
    "    for lt in range(-90, 90, 5):\n",
    "\n",
    "        tt_gt = temp_df[(temp_df['lat'] > lt) & (temp_df['lat'] <= lt+5)]['gt'].values\n",
    "        tt_pred = temp_df[(temp_df['lat'] > lt) & (temp_df['lat'] <= lt+5)]['pred'].values\n",
    "\n",
    "        rr = mean_squared_error(tt_gt, tt_pred, squared=False)\n",
    "        #rmse_list.append(rr/temp_mean)\n",
    "        rmse_list.append(rr)\n",
    "        # print(rr)\n",
    "        # print(lt, lt+5)\n",
    "    rmselist_time_1.append(rmse_list)"
   ]
  },
  {
   "cell_type": "code",
   "execution_count": 26,
   "id": "5f810f29",
   "metadata": {},
   "outputs": [],
   "source": [
    "## Actual values\n",
    "\n",
    "gt_list_tas = []\n",
    "for t in range(297):\n",
    "    gt_list = []\n",
    "    temp_gt = ds_all_resuts.tas_targets.data[t,:]\n",
    "    temp_pred = ds_all_resuts.tas_preds.data[t,:]\n",
    "    temp_df = get_lat_lon_df(lat, lon, temp_gt, temp_pred)\n",
    "    \n",
    "    temp_mean = np.mean(temp_gt)\n",
    "\n",
    "    for lt in range(-90, 90, 5):\n",
    "\n",
    "        tt_gt = temp_df[(temp_df['lat'] > lt) & (temp_df['lat'] <= lt+5)]['gt'].values\n",
    "        #tt_pred = temp_df[(temp_df['lat'] > lt) & (temp_df['lat'] <= lt+5)]['pred'].values\n",
    "\n",
    "        #rr = mean_squared_error(tt_gt, tt_pred, squared=False)\n",
    "        #rmse_list.append(rr/temp_mean)\n",
    "        gt_list.append(np.mean(tt_gt))\n",
    "        # print(rr)\n",
    "        # print(lt, lt+5)\n",
    "    gt_list_tas.append(gt_list)"
   ]
  },
  {
   "cell_type": "code",
   "execution_count": 32,
   "id": "7e2b8080",
   "metadata": {},
   "outputs": [],
   "source": [
    "## predicted values\n",
    "\n",
    "pd_list_tas = []\n",
    "for t in range(297):\n",
    "    pd_list = []\n",
    "    temp_gt = ds_all_resuts.tas_targets.data[t,:]\n",
    "    temp_pred = ds_all_resuts.tas_preds.data[t,:]\n",
    "    temp_df = get_lat_lon_df(lat, lon, temp_gt, temp_pred)\n",
    "    \n",
    "    temp_mean = np.mean(temp_gt)\n",
    "\n",
    "    for lt in range(-90, 90, 5):\n",
    "\n",
    "        #tt_gt = temp_df[(temp_df['lat'] > lt) & (temp_df['lat'] <= lt+5)]['gt'].values\n",
    "        tt_pred = temp_df[(temp_df['lat'] > lt) & (temp_df['lat'] <= lt+5)]['pred'].values\n",
    "\n",
    "        #rr = mean_squared_error(tt_gt, tt_pred, squared=False)\n",
    "        #rmse_list.append(rr/temp_mean)\n",
    "        pd_list.append(np.mean(tt_pred))\n",
    "        # print(rr)\n",
    "        # print(lt, lt+5)\n",
    "    pd_list_tas.append(pd_list)"
   ]
  },
  {
   "cell_type": "code",
   "execution_count": 19,
   "id": "5a615beb",
   "metadata": {},
   "outputs": [],
   "source": [
    "rmselist_time_array = np.array(rmselist_time_1)\n",
    "tas_mean_curve = np.mean(rmselist_time_array, axis=0)\n",
    "tas_std_curve = np.std(rmselist_time_array, axis=0)"
   ]
  },
  {
   "cell_type": "code",
   "execution_count": 27,
   "id": "74071795",
   "metadata": {},
   "outputs": [],
   "source": [
    "gtlist_time_array = np.array(gt_list_tas)\n",
    "tas_gt_mean_curve = np.mean(gtlist_time_array, axis=0)\n",
    "tas_gt_std_curve = np.std(gtlist_time_array, axis=0)"
   ]
  },
  {
   "cell_type": "code",
   "execution_count": 33,
   "id": "ad03ff54",
   "metadata": {},
   "outputs": [],
   "source": [
    "pdlist_time_array = np.array(pd_list_tas)\n",
    "tas_pd_mean_curve = np.mean(pdlist_time_array, axis=0)\n",
    "tas_pd_std_curve = np.std(pdlist_time_array, axis=0)"
   ]
  },
  {
   "cell_type": "code",
   "execution_count": 28,
   "id": "15cf29e1",
   "metadata": {},
   "outputs": [
    {
     "data": {
      "text/plain": [
       "array([229.96290679, 236.24519029, 238.86596524, 247.69645849,\n",
       "       260.36835913, 269.85333905, 274.66611883, 277.69220106,\n",
       "       280.82090039, 284.30196187, 287.7776199 , 290.72677483,\n",
       "       293.25776161, 295.33572698, 296.82220191, 298.15772023,\n",
       "       299.09327749, 299.31632702, 299.64212936, 299.99353987,\n",
       "       299.89804722, 298.8090864 , 297.11411269, 294.40170677,\n",
       "       290.19882078, 287.23799159, 284.15695072, 280.06599061,\n",
       "       276.65806804, 273.78682551, 269.29772148, 264.6212016 ,\n",
       "       261.28320383, 258.05899499, 256.42086463, 256.36659545])"
      ]
     },
     "execution_count": 28,
     "metadata": {},
     "output_type": "execute_result"
    }
   ],
   "source": [
    "tas_gt_mean_curve"
   ]
  },
  {
   "cell_type": "code",
   "execution_count": 29,
   "id": "8ce14312",
   "metadata": {},
   "outputs": [],
   "source": [
    "import matplotlib.pyplot as plt"
   ]
  },
  {
   "cell_type": "code",
   "execution_count": 43,
   "id": "4f96c9a4",
   "metadata": {},
   "outputs": [],
   "source": [
    "x = np.linspace(-90,90, 36)"
   ]
  },
  {
   "cell_type": "code",
   "execution_count": 45,
   "id": "bfb6f0f6",
   "metadata": {},
   "outputs": [
    {
     "data": {
      "image/png": "[encoded data removed]",
      "text/plain": [
       "<Figure size 720x360 with 1 Axes>"
      ]
     },
     "metadata": {
      "needs_background": "light"
     },
     "output_type": "display_data"
    }
   ],
   "source": [
    "plt.figure(figsize=(10,5))\n",
    "#x = np.arange(len(tas_mean_curve))\n",
    "plt.plot(x, tas_gt_mean_curve, 'b-', label='Actual')\n",
    "#plt.fill_between(x, tas_gt_mean_curve - tas_gt_std_curve, tas_gt_mean_curve + tas_gt_std_curve, color='b', alpha=0.2)\n",
    "\n",
    "plt.plot(x, tas_pd_mean_curve, 'b--', label='Predicted')\n",
    "#plt.fill_between(x, tas_pd_mean_curve - tas_pd_std_curve, tas_pd_mean_curve + tas_pd_std_curve, color='r', alpha=0.2)\n",
    "\n",
    "# plt.plot(x, pr_mean_curve, 'g-', label='pr')\n",
    "# plt.fill_between(x, pr_mean_curve - pr_std_curve, pr_mean_curve + pr_std_curve, color='g', alpha=0.2)\n",
    "\n",
    "plt.xlabel('Latitude')\n",
    "# plt.ylabel('RMSE (K)')\n",
    "plt.ylabel('Temperature (K)')\n",
    "\n",
    "\n",
    "plt.legend()\n",
    "plt.show()"
   ]
  },
  {
   "cell_type": "code",
   "execution_count": 46,
   "id": "ddb4d601",
   "metadata": {},
   "outputs": [],
   "source": [
    "rmselist_time_1 = []\n",
    "for t in range(297):\n",
    "    rmse_list = []\n",
    "    temp_gt = ds_all_resuts.ps_targets.data[t,:]\n",
    "    temp_pred = ds_all_resuts.ps_preds.data[t,:]\n",
    "    temp_df = get_lat_lon_df(lat, lon, temp_gt, temp_pred)\n",
    "    \n",
    "    temp_mean = np.mean(temp_gt)\n",
    "\n",
    "    for lt in range(-90, 90, 5):\n",
    "\n",
    "        tt_gt = temp_df[(temp_df['lat'] > lt) & (temp_df['lat'] <= lt+5)]['gt'].values\n",
    "        tt_pred = temp_df[(temp_df['lat'] > lt) & (temp_df['lat'] <= lt+5)]['pred'].values\n",
    "\n",
    "        rr = mean_squared_error(tt_gt, tt_pred, squared=False)\n",
    "        #rmse_list.append(rr/temp_mean)\n",
    "        rmse_list.append(rr)\n",
    "        # print(rr)\n",
    "        # print(lt, lt+5)\n",
    "    rmselist_time_1.append(rmse_list)"
   ]
  },
  {
   "cell_type": "code",
   "execution_count": 47,
   "id": "cb58e856",
   "metadata": {},
   "outputs": [],
   "source": [
    "## Actual values\n",
    "\n",
    "gt_list_tas = []\n",
    "for t in range(297):\n",
    "    gt_list = []\n",
    "    temp_gt = ds_all_resuts.ps_targets.data[t,:]\n",
    "    temp_pred = ds_all_resuts.ps_preds.data[t,:]\n",
    "    temp_df = get_lat_lon_df(lat, lon, temp_gt, temp_pred)\n",
    "    \n",
    "    temp_mean = np.mean(temp_gt)\n",
    "\n",
    "    for lt in range(-90, 90, 5):\n",
    "\n",
    "        tt_gt = temp_df[(temp_df['lat'] > lt) & (temp_df['lat'] <= lt+5)]['gt'].values\n",
    "        #tt_pred = temp_df[(temp_df['lat'] > lt) & (temp_df['lat'] <= lt+5)]['pred'].values\n",
    "\n",
    "        #rr = mean_squared_error(tt_gt, tt_pred, squared=False)\n",
    "        #rmse_list.append(rr/temp_mean)\n",
    "        gt_list.append(np.mean(tt_gt))\n",
    "        # print(rr)\n",
    "        # print(lt, lt+5)\n",
    "    gt_list_tas.append(gt_list)"
   ]
  },
  {
   "cell_type": "code",
   "execution_count": 48,
   "id": "44d44192",
   "metadata": {},
   "outputs": [],
   "source": [
    "## predicted values\n",
    "\n",
    "pd_list_tas = []\n",
    "for t in range(297):\n",
    "    pd_list = []\n",
    "    temp_gt = ds_all_resuts.ps_targets.data[t,:]\n",
    "    temp_pred = ds_all_resuts.ps_preds.data[t,:]\n",
    "    temp_df = get_lat_lon_df(lat, lon, temp_gt, temp_pred)\n",
    "    \n",
    "    temp_mean = np.mean(temp_gt)\n",
    "\n",
    "    for lt in range(-90, 90, 5):\n",
    "\n",
    "        #tt_gt = temp_df[(temp_df['lat'] > lt) & (temp_df['lat'] <= lt+5)]['gt'].values\n",
    "        tt_pred = temp_df[(temp_df['lat'] > lt) & (temp_df['lat'] <= lt+5)]['pred'].values\n",
    "\n",
    "        #rr = mean_squared_error(tt_gt, tt_pred, squared=False)\n",
    "        #rmse_list.append(rr/temp_mean)\n",
    "        pd_list.append(np.mean(tt_pred))\n",
    "        # print(rr)\n",
    "        # print(lt, lt+5)\n",
    "    pd_list_tas.append(pd_list)"
   ]
  },
  {
   "cell_type": "code",
   "execution_count": 49,
   "id": "f7c25b4d",
   "metadata": {},
   "outputs": [],
   "source": [
    "rmselist_time_array = np.array(rmselist_time_1)\n",
    "tas_mean_curve = np.mean(rmselist_time_array, axis=0)\n",
    "tas_std_curve = np.std(rmselist_time_array, axis=0)"
   ]
  },
  {
   "cell_type": "code",
   "execution_count": 50,
   "id": "2f270327",
   "metadata": {},
   "outputs": [],
   "source": [
    "gtlist_time_array = np.array(gt_list_tas)\n",
    "tas_gt_mean_curve = np.mean(gtlist_time_array, axis=0)\n",
    "tas_gt_std_curve = np.std(gtlist_time_array, axis=0)"
   ]
  },
  {
   "cell_type": "code",
   "execution_count": 51,
   "id": "162f5ea3",
   "metadata": {},
   "outputs": [],
   "source": [
    "pdlist_time_array = np.array(pd_list_tas)\n",
    "tas_pd_mean_curve = np.mean(pdlist_time_array, axis=0)\n",
    "tas_pd_std_curve = np.std(pdlist_time_array, axis=0)"
   ]
  },
  {
   "cell_type": "code",
   "execution_count": 52,
   "id": "708af455",
   "metadata": {},
   "outputs": [],
   "source": []
  },
  {
   "cell_type": "code",
   "execution_count": 53,
   "id": "628e7e48",
   "metadata": {},
   "outputs": [
    {
     "data": {
      "image/png": "[encoded data removed]",
      "text/plain": [
       "<Figure size 720x360 with 1 Axes>"
      ]
     },
     "metadata": {
      "needs_background": "light"
     },
     "output_type": "display_data"
    }
   ],
   "source": [
    "x = np.linspace(-90,90, 36)\n",
    "plt.figure(figsize=(10,5))\n",
    "#x = np.arange(len(tas_mean_curve))\n",
    "plt.plot(x, tas_gt_mean_curve, 'r-', label='Actual')\n",
    "#plt.fill_between(x, tas_gt_mean_curve - tas_gt_std_curve, tas_gt_mean_curve + tas_gt_std_curve, color='b', alpha=0.2)\n",
    "\n",
    "plt.plot(x, tas_pd_mean_curve, 'r--', label='Predicted')\n",
    "#plt.fill_between(x, tas_pd_mean_curve - tas_pd_std_curve, tas_pd_mean_curve + tas_pd_std_curve, color='r', alpha=0.2)\n",
    "\n",
    "# plt.plot(x, pr_mean_curve, 'g-', label='pr')\n",
    "# plt.fill_between(x, pr_mean_curve - pr_std_curve, pr_mean_curve + pr_std_curve, color='g', alpha=0.2)\n",
    "\n",
    "plt.xlabel('Latitude')\n",
    "# plt.ylabel('RMSE (K)')\n",
    "plt.ylabel('Surface Pressure (hPa)')\n",
    "\n",
    "\n",
    "plt.legend()\n",
    "plt.show()"
   ]
  },
  {
   "cell_type": "code",
   "execution_count": 54,
   "id": "cc22594a",
   "metadata": {},
   "outputs": [],
   "source": [
    "## Precipt"
   ]
  },
  {
   "cell_type": "code",
   "execution_count": 55,
   "id": "b07cf618",
   "metadata": {},
   "outputs": [],
   "source": [
    "rmselist_time_1 = []\n",
    "for t in range(297):\n",
    "    rmse_list = []\n",
    "    temp_gt = ds_all_resuts.pr_targets.data[t,:]\n",
    "    temp_pred = ds_all_resuts.pr_preds.data[t,:]\n",
    "    temp_df = get_lat_lon_df(lat, lon, temp_gt, temp_pred)\n",
    "    \n",
    "    temp_mean = np.mean(temp_gt)\n",
    "\n",
    "    for lt in range(-90, 90, 5):\n",
    "\n",
    "        tt_gt = temp_df[(temp_df['lat'] > lt) & (temp_df['lat'] <= lt+5)]['gt'].values\n",
    "        tt_pred = temp_df[(temp_df['lat'] > lt) & (temp_df['lat'] <= lt+5)]['pred'].values\n",
    "\n",
    "        rr = mean_squared_error(tt_gt, tt_pred, squared=False)\n",
    "        #rmse_list.append(rr/temp_mean)\n",
    "        rmse_list.append(rr)\n",
    "        # print(rr)\n",
    "        # print(lt, lt+5)\n",
    "    rmselist_time_1.append(rmse_list)"
   ]
  },
  {
   "cell_type": "code",
   "execution_count": 56,
   "id": "6274de81",
   "metadata": {},
   "outputs": [],
   "source": [
    "## Actual values\n",
    "\n",
    "gt_list_tas = []\n",
    "for t in range(297):\n",
    "    gt_list = []\n",
    "    temp_gt = ds_all_resuts.pr_targets.data[t,:]\n",
    "    temp_pred = ds_all_resuts.pr_preds.data[t,:]\n",
    "    temp_df = get_lat_lon_df(lat, lon, temp_gt, temp_pred)\n",
    "    \n",
    "    temp_mean = np.mean(temp_gt)\n",
    "\n",
    "    for lt in range(-90, 90, 5):\n",
    "\n",
    "        tt_gt = temp_df[(temp_df['lat'] > lt) & (temp_df['lat'] <= lt+5)]['gt'].values\n",
    "        #tt_pred = temp_df[(temp_df['lat'] > lt) & (temp_df['lat'] <= lt+5)]['pred'].values\n",
    "\n",
    "        #rr = mean_squared_error(tt_gt, tt_pred, squared=False)\n",
    "        #rmse_list.append(rr/temp_mean)\n",
    "        gt_list.append(np.mean(tt_gt))\n",
    "        # print(rr)\n",
    "        # print(lt, lt+5)\n",
    "    gt_list_tas.append(gt_list)"
   ]
  },
  {
   "cell_type": "code",
   "execution_count": 57,
   "id": "a3747e36",
   "metadata": {},
   "outputs": [],
   "source": [
    "## predicted values\n",
    "\n",
    "pd_list_tas = []\n",
    "for t in range(297):\n",
    "    pd_list = []\n",
    "    temp_gt = ds_all_resuts.pr_targets.data[t,:]\n",
    "    temp_pred = ds_all_resuts.pr_preds.data[t,:]\n",
    "    temp_df = get_lat_lon_df(lat, lon, temp_gt, temp_pred)\n",
    "    \n",
    "    temp_mean = np.mean(temp_gt)\n",
    "\n",
    "    for lt in range(-90, 90, 5):\n",
    "\n",
    "        #tt_gt = temp_df[(temp_df['lat'] > lt) & (temp_df['lat'] <= lt+5)]['gt'].values\n",
    "        tt_pred = temp_df[(temp_df['lat'] > lt) & (temp_df['lat'] <= lt+5)]['pred'].values\n",
    "\n",
    "        #rr = mean_squared_error(tt_gt, tt_pred, squared=False)\n",
    "        #rmse_list.append(rr/temp_mean)\n",
    "        pd_list.append(np.mean(tt_pred))\n",
    "        # print(rr)\n",
    "        # print(lt, lt+5)\n",
    "    pd_list_tas.append(pd_list)"
   ]
  },
  {
   "cell_type": "code",
   "execution_count": 58,
   "id": "b155274c",
   "metadata": {},
   "outputs": [],
   "source": [
    "rmselist_time_array = np.array(rmselist_time_1)\n",
    "tas_mean_curve = np.mean(rmselist_time_array, axis=0)\n",
    "tas_std_curve = np.std(rmselist_time_array, axis=0)"
   ]
  },
  {
   "cell_type": "code",
   "execution_count": 59,
   "id": "5d21f5c6",
   "metadata": {},
   "outputs": [],
   "source": [
    "gtlist_time_array = np.array(gt_list_tas)\n",
    "tas_gt_mean_curve = np.mean(gtlist_time_array, axis=0)\n",
    "tas_gt_std_curve = np.std(gtlist_time_array, axis=0)"
   ]
  },
  {
   "cell_type": "code",
   "execution_count": 60,
   "id": "e9cf82ce",
   "metadata": {},
   "outputs": [],
   "source": [
    "pdlist_time_array = np.array(pd_list_tas)\n",
    "tas_pd_mean_curve = np.mean(pdlist_time_array, axis=0)\n",
    "tas_pd_std_curve = np.std(pdlist_time_array, axis=0)"
   ]
  },
  {
   "cell_type": "code",
   "execution_count": 61,
   "id": "31cae0bb",
   "metadata": {},
   "outputs": [
    {
     "data": {
      "image/png": "[encoded data removed]",
      "text/plain": [
       "<Figure size 720x360 with 1 Axes>"
      ]
     },
     "metadata": {
      "needs_background": "light"
     },
     "output_type": "display_data"
    }
   ],
   "source": [
    "x = np.linspace(-90,90, 36)\n",
    "plt.figure(figsize=(10,5))\n",
    "#x = np.arange(len(tas_mean_curve))\n",
    "plt.plot(x, tas_gt_mean_curve, 'g-', label='Actual')\n",
    "#plt.fill_between(x, tas_gt_mean_curve - tas_gt_std_curve, tas_gt_mean_curve + tas_gt_std_curve, color='b', alpha=0.2)\n",
    "\n",
    "plt.plot(x, tas_pd_mean_curve, 'g--', label='Predicted')\n",
    "#plt.fill_between(x, tas_pd_mean_curve - tas_pd_std_curve, tas_pd_mean_curve + tas_pd_std_curve, color='r', alpha=0.2)\n",
    "\n",
    "# plt.plot(x, pr_mean_curve, 'g-', label='pr')\n",
    "# plt.fill_between(x, pr_mean_curve - pr_std_curve, pr_mean_curve + pr_std_curve, color='g', alpha=0.2)\n",
    "\n",
    "plt.xlabel('Latitude')\n",
    "# plt.ylabel('RMSE (K)')\n",
    "plt.ylabel('Precipitation (mm/day)')\n",
    "\n",
    "\n",
    "plt.legend()\n",
    "plt.show()"
   ]
  },
  {
   "cell_type": "code",
   "execution_count": null,
   "id": "e6f70fc7",
   "metadata": {},
   "outputs": [],
   "source": []
  }
 ],
 "metadata": {
  "kernelspec": {
   "display_name": "Python 3 (ipykernel)",
   "language": "python",
   "name": "python3"
  },
  "language_info": {
   "codemirror_mode": {
    "name": "ipython",
    "version": 3
   },
   "file_extension": ".py",
   "mimetype": "text/x-python",
   "name": "python",
   "nbconvert_exporter": "python",
   "pygments_lexer": "ipython3",
   "version": "3.9.9"
  }
 },
 "nbformat": 4,
 "nbformat_minor": 5
}
