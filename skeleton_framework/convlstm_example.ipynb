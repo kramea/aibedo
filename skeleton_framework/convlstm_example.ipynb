{
 "cells": [
  {
   "cell_type": "code",
   "execution_count": 1,
   "id": "4c66bb12-0a7a-4aff-bcac-9abbc01cbcd9",
   "metadata": {},
   "outputs": [],
   "source": [
    "import torch\n",
    "from spherical_unet.models.spherical_convlstm.convlstm import *\n",
    "from spherical_unet.layers.samplings.icosahedron_pool_unpool import Icosahedron\n",
    "from spherical_unet.utils.laplacian_funcs import get_equiangular_laplacians, get_healpix_laplacians, get_icosahedron_laplacians\n"
   ]
  },
  {
   "cell_type": "code",
   "execution_count": 2,
   "id": "5ba2e576-c5d6-4ae1-b408-02a2362dc099",
   "metadata": {},
   "outputs": [],
   "source": [
    "N=10242\n",
    "depth = 6\n",
    "laplacian_type=\"combinatorial\"\n",
    "pooling_class = Icosahedron()\n",
    "lap=get_icosahedron_laplacians(N, depth, laplacian_type)"
   ]
  },
  {
   "cell_type": "code",
   "execution_count": 3,
   "id": "b492b293-279c-440b-a2cc-516640e538a9",
   "metadata": {},
   "outputs": [
    {
     "name": "stdout",
     "output_type": "stream",
     "text": [
      "torch.Size([12, 12])\n",
      "torch.Size([42, 42])\n",
      "torch.Size([162, 162])\n",
      "torch.Size([642, 642])\n",
      "torch.Size([2562, 2562])\n",
      "torch.Size([10242, 10242])\n"
     ]
    }
   ],
   "source": [
    "for i in range(6): print(lap[i].size())"
   ]
  },
  {
   "cell_type": "code",
   "execution_count": 4,
   "id": "ea6691f9-e0f7-4ae1-81e9-832cf80a59e6",
   "metadata": {},
   "outputs": [],
   "source": [
    "#input_dim(channels), hidden_dim, kernel_size, num_layers, lap, batch_first=False, bias=True, return_all_layers=False):\n",
    "convlstm = ConvLSTM(2, 64, 3, 2, lap[5], True, True, True)"
   ]
  },
  {
   "cell_type": "code",
   "execution_count": 5,
   "id": "e06bb49e-cf58-4ec8-8610-5dc3f29d2abb",
   "metadata": {},
   "outputs": [],
   "source": [
    "x = torch.rand((16, 10, 2, 10242)) # B, T, C, N"
   ]
  },
  {
   "cell_type": "code",
   "execution_count": 6,
   "id": "d8681cdc-b658-41f4-b6f3-24fc96a093ff",
   "metadata": {},
   "outputs": [],
   "source": [
    "from spherical_unet.layers.chebyshev import SphericalChebConv\n"
   ]
  },
  {
   "cell_type": "code",
   "execution_count": 7,
   "id": "e410e8c3-b0a1-4d1f-b203-f7de1aa71aab",
   "metadata": {},
   "outputs": [],
   "source": [
    "conv = SphericalChebConv(66, 64*4, lap[5],3)"
   ]
  },
  {
   "cell_type": "code",
   "execution_count": 8,
   "id": "fcd7b4f6-ca51-4365-8226-b673f156da60",
   "metadata": {},
   "outputs": [
    {
     "data": {
      "text/plain": [
       "SphericalChebConv(\n",
       "  (chebconv): ChebConv()\n",
       ")"
      ]
     },
     "execution_count": 8,
     "metadata": {},
     "output_type": "execute_result"
    }
   ],
   "source": [
    "conv"
   ]
  },
  {
   "cell_type": "code",
   "execution_count": 9,
   "id": "54e1056e-1e82-4619-a9e4-772792d7aa1a",
   "metadata": {},
   "outputs": [
    {
     "name": "stdout",
     "output_type": "stream",
     "text": [
      "torch.Size([16, 10242, 66])\n"
     ]
    }
   ],
   "source": [
    "xx=torch.rand(16, 66, 10242) #input [batch , vertices , channels/features]\n",
    "xx = xx.permute((0, 2, 1))\n",
    "print(xx.size())"
   ]
  },
  {
   "cell_type": "code",
   "execution_count": 10,
   "id": "51311bda-0bbb-419a-b377-0bfe6c43c73a",
   "metadata": {},
   "outputs": [
    {
     "data": {
      "text/plain": [
       "torch.Size([16, 10242, 256])"
      ]
     },
     "execution_count": 10,
     "metadata": {},
     "output_type": "execute_result"
    }
   ],
   "source": [
    "conv(xx).size()"
   ]
  },
  {
   "cell_type": "code",
   "execution_count": 13,
   "id": "7ccf7bf7-993b-4d7a-a0bd-9c5fa67e3dc3",
   "metadata": {},
   "outputs": [
    {
     "name": "stdout",
     "output_type": "stream",
     "text": [
      "torch.Size([16, 64, 10242]) torch.Size([16, 64, 10242])\n",
      "torch.Size([16, 64, 10242]) torch.Size([16, 64, 10242])\n",
      "torch.Size([16, 64, 10242]) torch.Size([16, 64, 10242])\n",
      "torch.Size([16, 64, 10242]) torch.Size([16, 64, 10242])\n",
      "torch.Size([16, 64, 10242]) torch.Size([16, 64, 10242])\n",
      "torch.Size([16, 64, 10242]) torch.Size([16, 64, 10242])\n",
      "torch.Size([16, 64, 10242]) torch.Size([16, 64, 10242])\n",
      "torch.Size([16, 64, 10242]) torch.Size([16, 64, 10242])\n",
      "torch.Size([16, 64, 10242]) torch.Size([16, 64, 10242])\n",
      "torch.Size([16, 64, 10242]) torch.Size([16, 64, 10242])\n",
      "torch.Size([16, 64, 10242]) torch.Size([16, 64, 10242])\n",
      "torch.Size([16, 64, 10242]) torch.Size([16, 64, 10242])\n",
      "torch.Size([16, 64, 10242]) torch.Size([16, 64, 10242])\n",
      "torch.Size([16, 64, 10242]) torch.Size([16, 64, 10242])\n",
      "torch.Size([16, 64, 10242]) torch.Size([16, 64, 10242])\n",
      "torch.Size([16, 64, 10242]) torch.Size([16, 64, 10242])\n",
      "torch.Size([16, 64, 10242]) torch.Size([16, 64, 10242])\n",
      "torch.Size([16, 64, 10242]) torch.Size([16, 64, 10242])\n",
      "torch.Size([16, 64, 10242]) torch.Size([16, 64, 10242])\n",
      "torch.Size([16, 64, 10242]) torch.Size([16, 64, 10242])\n"
     ]
    }
   ],
   "source": [
    "o, h = convlstm(x)"
   ]
  },
  {
   "cell_type": "code",
   "execution_count": 20,
   "id": "18c2b4ba-3193-49dc-bc05-851ba36d2338",
   "metadata": {},
   "outputs": [
    {
     "data": {
      "text/plain": [
       "torch.Size([16, 10, 64, 10242])"
      ]
     },
     "execution_count": 20,
     "metadata": {},
     "output_type": "execute_result"
    }
   ],
   "source": [
    "o[1].size()"
   ]
  },
  {
   "cell_type": "code",
   "execution_count": 12,
   "id": "b7a01727-77b7-48fb-973b-76cce5735f6b",
   "metadata": {},
   "outputs": [
    {
     "name": "stdout",
     "output_type": "stream",
     "text": [
      "(16, 10, 64, 10242)\n"
     ]
    }
   ],
   "source": [
    "import numpy as np\n",
    "print(np.shape(o[0].detach().numpy()))\n"
   ]
  },
  {
   "cell_type": "code",
   "execution_count": null,
   "id": "565058e9-146f-41d5-8a8b-95787ec44956",
   "metadata": {},
   "outputs": [],
   "source": []
  },
  {
   "cell_type": "code",
   "execution_count": 11,
   "id": "15606c70-905a-48e6-8275-2954179ebba2",
   "metadata": {},
   "outputs": [],
   "source": [
    "from spherical_unet.layers.chebyshev import SphericalChebConv\n",
    "from spherical_unet.models.spherical_unet.utils import SphericalChebBN, SphericalChebBNPool"
   ]
  },
  {
   "cell_type": "code",
   "execution_count": null,
   "id": "6e0c704a-9444-4476-9a51-c8082dada505",
   "metadata": {},
   "outputs": [],
   "source": []
  }
 ],
 "metadata": {
  "kernelspec": {
   "display_name": "Python 3 (ipykernel)",
   "language": "python",
   "name": "python3"
  },
  "language_info": {
   "codemirror_mode": {
    "name": "ipython",
    "version": 3
   },
   "file_extension": ".py",
   "mimetype": "text/x-python",
   "name": "python",
   "nbconvert_exporter": "python",
   "pygments_lexer": "ipython3",
   "version": "3.7.12"
  }
 },
 "nbformat": 4,
 "nbformat_minor": 5
}
