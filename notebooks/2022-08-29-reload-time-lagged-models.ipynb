{
 "cells": [
  {
   "cell_type": "code",
   "execution_count": 2,
   "metadata": {
    "pycharm": {
     "name": "#%%\n"
    }
   },
   "outputs": [
    {
     "name": "stdout",
     "output_type": "stream",
     "text": [
      "The autoreload extension is already loaded. To reload it, use:\n",
      "  %reload_ext autoreload\n"
     ]
    }
   ],
   "source": [
    "%load_ext autoreload\n",
    "%autoreload 2"
   ]
  },
  {
   "cell_type": "code",
   "execution_count": 3,
   "metadata": {
    "pycharm": {
     "name": "#%%\n"
    }
   },
   "outputs": [],
   "source": [
    "import os\n",
    "# Make sure we're in the right directory\n",
    "if os.path.basename(os.getcwd()) == \"notebooks\":\n",
    "    os.chdir(\"..\")"
   ]
  },
  {
   "cell_type": "code",
   "execution_count": 5,
   "metadata": {
    "pycharm": {
     "name": "#%%\n"
    }
   },
   "outputs": [],
   "source": [
    "import xarray as xr\n",
    "import numpy as np\n",
    "from typing import *\n",
    "import matplotlib.cm as cm\n",
    "import matplotlib.pyplot as plt\n",
    "import cartopy.crs as ccrs\n",
    "from aibedo.utilities.plotting import data_snapshots_plotting, data_mean_plotting, zonal_error_plotting\n",
    "from aibedo.utilities.wandb_api import get_predictions_xarray"
   ]
  },
  {
   "cell_type": "code",
   "execution_count": 6,
   "metadata": {
    "pycharm": {
     "name": "#%%\n"
    }
   },
   "outputs": [],
   "source": [
    "predict_set = \"same_as_test\"  # which data to predict on, can be {<any ESM>, \"val\", \"same_as_test\"}, val means the validation-set of the same ESM used for training\n",
    "test_set = \"era5\"  # can be 'era5' or 'merra2'. In conjunction with predict_set=\"same_as_test\", predictions will be made on this dataset\n",
    "DATA_DIR = \"./data\"\n",
    "\n",
    "overrides = [f'datamodule.num_workers={0}',  # e.g. set to number of CPUs\n",
    "             f'datamodule.eval_batch_size=1',  # the lower, the less memory will be needed\n",
    "             f'verbose=False',\n",
    "             f'datamodule.data_dir={DATA_DIR}',\n",
    "             f'datamodule.partition=[0.85, 0.15, {test_set}]',  # partition of train, validation, test fractions/sets\n",
    "             f'++datamodule.prediction_data={predict_set}', \n",
    "             f\"++model.use_auxiliary_vars=False\",  # needs to be True when training only for computation of physics constraints\n",
    "            ]"
   ]
  },
  {
   "cell_type": "code",
   "execution_count": 7,
   "metadata": {
    "pycharm": {
     "name": "#%%\n"
    }
   },
   "outputs": [],
   "source": [
    "predict_xarray_kwargs = dict(\n",
    "    also_errors=True,   # whether to return errors in the xarray too (bias and MAE if true), formatted as per 'tas_mae', 'tas_pre_bias' etc.\n",
    "    also_targets=False,  # whether to return the target data (e.g. ERA5 if testing on ERA5), formatted as per 'tas_targets', 'tas_pre_targets' etc.\\\n",
    "    split='predict', \n",
    "    variables='all',    # which variable to return predictions for. Can be \"all\" or any subset of ['pr', 'ps', 'tas']\n",
    "    return_normalized_outputs=False,  # if true: also return predictions (and targets/errors) for the normalized output variables (with _pre suffix)\n",
    ")"
   ]
  },
  {
   "cell_type": "markdown",
   "metadata": {
    "pycharm": {
     "name": "#%% md\n"
    }
   },
   "source": [
    "# Reload and predict with some models:"
   ]
  },
  {
   "cell_type": "code",
   "execution_count": 8,
   "metadata": {
    "pycharm": {
     "name": "#%%\n"
    }
   },
   "outputs": [],
   "source": [
    "rid_fno_1d = \"segysmbc\"\n",
    "ds_fno1d = get_predictions_xarray(rid_fno_1d, overrides, return_model=False, **predict_xarray_kwargs)"
   ]
  },
  {
   "cell_type": "code",
   "execution_count": null,
   "metadata": {
    "pycharm": {
     "name": "#%%\n"
    }
   },
   "outputs": [],
   "source": [
    "rid_mlp_1d = \"8hnsi0cn\"\n",
    "ds_mlp1d = get_predictions_xarray(rid_mlp_1d, overrides, return_model=False, **predict_xarray_kwargs)"
   ]
  },
  {
   "cell_type": "code",
   "execution_count": null,
   "metadata": {
    "pycharm": {
     "name": "#%%\n"
    }
   },
   "outputs": [],
   "source": [
    "ds_mlp1d"
   ]
  },
  {
   "cell_type": "code",
   "execution_count": null,
   "metadata": {
    "pycharm": {
     "name": "#%%\n"
    }
   },
   "outputs": [],
   "source": [
    "plt.rcParams['figure.figsize'] = [40, 15]  # general matplotlib parameters\n",
    "_ = zonal_error_plotting([ds_mlp1d, ds_fno1d], labels=[\"MLP\", 'FNO'],\n",
    "                         latitude_dim='latitude_grouped', error_to_plot='mae')  # error_to_plot can be 'bias' or 'mae'"
   ]
  },
  {
   "cell_type": "code",
   "execution_count": null,
   "metadata": {
    "pycharm": {
     "name": "#%%\n"
    }
   },
   "outputs": [],
   "source": []
  },
  {
   "cell_type": "code",
   "execution_count": null,
   "metadata": {
    "pycharm": {
     "name": "#%%\n"
    }
   },
   "outputs": [],
   "source": []
  }
 ],
 "metadata": {
  "kernelspec": {
   "display_name": "climart_gn",
   "language": "python",
   "name": "climart_gn"
  },
  "language_info": {
   "codemirror_mode": {
    "name": "ipython",
    "version": 3
   },
   "file_extension": ".py",
   "mimetype": "text/x-python",
   "name": "python",
   "nbconvert_exporter": "python",
   "pygments_lexer": "ipython3",
   "version": "3.10.5"
  }
 },
 "nbformat": 4,
 "nbformat_minor": 4
}