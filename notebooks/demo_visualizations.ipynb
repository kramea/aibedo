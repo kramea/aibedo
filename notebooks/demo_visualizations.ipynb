{
 "cells": [
  {
   "cell_type": "markdown",
   "metadata": {},
   "source": [
    "# Producing Visuals \n",
    "\n",
    "\n",
    "## Icosahedron\n",
    "- Create a graph corresponding the the icosahedron sampling level of the data.  (*g = SphereIcosahedron(level=5)*)\n",
    "- Generate icosahedron longitude and latitude: *icolong, icolat = np.rad2deg(g.lon), np.rad2deg(g.lat)*\n",
    "\n",
    "\n",
    "## Equiangular\n",
    "- Determine the longitude and latitude from the data. Dimension 0 is longitude (height) and dimension 1 is latitude (width).\n",
    "- *lon_ = np.arange(x.size(0))/x.size(0)*360*\n",
    "- *lat_ = np.arange(x.size(1))/x.size(1)*180-90*\n",
    "- *lon, lat = np.meshgrid(lon_, lat_)*\n",
    "\n",
    "The Following examples were performed for icosahedron data of the Climate data at \"http://island.me.berkeley.edu/ugscnn/data/climate_sphere_l5.zip\"\n"
   ]
  },
  {
   "cell_type": "markdown",
   "metadata": {},
   "source": [
    "# Requirements\n",
    "To run the code below please install the following.\n",
    "- Cartopy:\n",
    "```bash\n",
    "conda install -c conda-forge cartopy\n",
    "```\n",
    "- Imageio\n",
    "```bash\n",
    "conda install -c conda-forge imageio\n",
    "```\n",
    "- Matplotlib\n",
    "```bash\n",
    "conda install -c conda-forge matplotlib\n",
    "```"
   ]
  },
  {
   "cell_type": "code",
   "execution_count": null,
   "metadata": {},
   "outputs": [],
   "source": [
    "import cartopy.crs as ccrs\n",
    "import matplotlib.pyplot as plt\n",
    "import imageio"
   ]
  },
  {
   "cell_type": "code",
   "execution_count": null,
   "metadata": {},
   "outputs": [],
   "source": [
    "import numpy as np\n",
    "from sklearn.model_selection import train_test_split\n",
    "from torchvision import transforms\n",
    "from pygsp.graphs.nngraphs.sphereicosahedron import SphereIcosahedron\n",
    "from deepsphere.data.datasets.dataset import ARTCDataset\n",
    "from deepsphere.data.transforms.transforms import Normalize, Permute, ToTensor\n",
    "from deepsphere.utils.stats_extractor import stats_extractor"
   ]
  },
  {
   "cell_type": "code",
   "execution_count": null,
   "metadata": {},
   "outputs": [],
   "source": [
    "def visualize_2d(x, longitude, latitude, export_path=None):\n",
    "    \"\"\"Visualize the data on a 2D map\n",
    "\n",
    "    Args:\n",
    "        x (numpy.array): numpy array with data the size of the longitude and latitude\n",
    "        longitude (numpy.array): longitude coordinates\n",
    "        latitude (numpy.array): latitude coordinates\n",
    "        export_path (string): path and name for saving\n",
    "    \"\"\"\n",
    "\n",
    "    fig = plt.figure(figsize=(20, 10))\n",
    "    ax = fig.add_subplot(1, 1, 1, projection=ccrs.PlateCarree())\n",
    "\n",
    "    ax.set_global()\n",
    "    ax.coastlines()\n",
    "\n",
    "    plt.scatter(longitude, latitude, s=20, c=x, cmap=plt.get_cmap(\"RdYlBu_r\"), alpha=1)\n",
    "    if export_path:\n",
    "        plt.savefig(export_path)\n",
    "        plt.clf()\n",
    "        plt.cla()\n",
    "        plt.close()\n",
    "\n",
    "    else:\n",
    "        plt.show()"
   ]
  },
  {
   "cell_type": "code",
   "execution_count": null,
   "metadata": {},
   "outputs": [],
   "source": [
    "def visualize_3d(x, longitude, latitude, export_dir, save_format='png'):\n",
    "    \"\"\"Visualize the data on a 3D globe\n",
    "\n",
    "    Args:\n",
    "        x (numpy.array): numpy array with data the size of the longitude and latitude\n",
    "        longitude (numpy.array): longitude coordinates\n",
    "        latitude (numpy.array): latitude coordinates\n",
    "        export_dir (string): path where to save images to make gif and the gif itself\n",
    "        save_format (string): the format in which to save the images to make the gif. Default=png\n",
    "    \"\"\"\n",
    "\n",
    "    for i in range(0, 330, 10):\n",
    "        fig = plt.figure(figsize=(10, 10))\n",
    "        ax = fig.add_subplot(1, 1, 1, projection=ccrs.Orthographic(i, 0))\n",
    "        ax.set_global()\n",
    "        ax.coastlines(linewidth=2)\n",
    "\n",
    "        plt.scatter(longitude, latitude, s=80, c=x, cmap=plt.get_cmap(\"RdYlBu_r\"), alpha=1, transform=ccrs.PlateCarree())  # marker='3',\n",
    "        idx = str(i)\n",
    "        try:\n",
    "            path = export_dir + \"/globes/globe_\" + idx\n",
    "            plt.savefig(path + \".\" + save_format)\n",
    "            plt.clf()\n",
    "            plt.cla()\n",
    "            plt.close()\n",
    "        except ValueError:\n",
    "            raise ValueError('The export directory does not exist or you have not prepared a \"globes\" directory to store the images composing the gif. Please prepare a \"globes\" folder in your directory for the 3D vizualisation.')\n",
    "\n",
    "    images = []\n",
    "    for frame in range(0, 330, 10):\n",
    "        images.append(imageio.imread(export_dir + \"/globes/globe_\" + str(frame) + \".\" + save_format))\n",
    "        imageio.mimsave(export_dir + \"movie_globe.gif\", images, duration=0.75)"
   ]
  },
  {
   "cell_type": "code",
   "execution_count": null,
   "metadata": {},
   "outputs": [],
   "source": [
    "g = SphereIcosahedron(level=5)\n",
    "icolong, icolat = np.rad2deg(g.lon), np.rad2deg(g.lat)"
   ]
  },
  {
   "cell_type": "code",
   "execution_count": null,
   "metadata": {},
   "outputs": [],
   "source": [
    "path_to_data = \"../../../../../data/climate/data_5_all\"\n",
    "data = ARTCDataset(path=path_to_data, download=False)"
   ]
  },
  {
   "cell_type": "code",
   "execution_count": null,
   "metadata": {},
   "outputs": [],
   "source": [
    "visualize_2d(data[10][1].transpose(1,0), icolong, icolat)"
   ]
  },
  {
   "cell_type": "code",
   "execution_count": null,
   "metadata": {},
   "outputs": [],
   "source": [
    "visualize_3d(data[10][1].transpose(1,0), icolong, icolat, 'Example_3D_Icosahedron')"
   ]
  }
 ],
 "metadata": {
  "language_info": {
   "name": "python",
   "pygments_lexer": "ipython3"
  }
 },
 "nbformat": 4,
 "nbformat_minor": 2
}
