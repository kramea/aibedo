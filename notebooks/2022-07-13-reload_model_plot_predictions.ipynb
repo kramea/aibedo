{
 "cells": [
  {
   "cell_type": "code",
   "execution_count": null,
   "metadata": {
    "pycharm": {
     "is_executing": true,
     "name": "#%%\n"
    }
   },
   "outputs": [],
   "source": [
    "%load_ext autoreload\n",
    "%autoreload 2"
   ]
  },
  {
   "cell_type": "code",
   "execution_count": null,
   "metadata": {
    "pycharm": {
     "name": "#%%\n"
    }
   },
   "outputs": [],
   "source": [
    "import os\n",
    "# Make sure we're in the right directory\n",
    "if os.path.basename(os.getcwd()) == \"notebooks\":\n",
    "    os.chdir(\"..\")\n",
    "os.getcwd()"
   ]
  },
  {
   "cell_type": "code",
   "execution_count": null,
   "metadata": {
    "pycharm": {
     "name": "#%%\n"
    }
   },
   "outputs": [],
   "source": [
    "import sys\n",
    "import h5py\n",
    "import json\n",
    "import time\n",
    "import wandb\n",
    "import hydra\n",
    "import logging\n",
    "import xarray as xr\n",
    "import numpy as np\n",
    "from typing import *\n",
    "import matplotlib.cm as cm\n",
    "import matplotlib.pyplot as plt\n",
    "import pytorch_lightning as pl\n",
    "from aibedo.utilities.plotting import data_snapshots_plotting, data_mean_plotting\n",
    "from aibedo.utilities.wandb_api import reload_checkpoint_from_wandb"
   ]
  },
  {
   "cell_type": "code",
   "execution_count": null,
   "metadata": {
    "pycharm": {
     "name": "#%%\n"
    }
   },
   "outputs": [],
   "source": [
    "run_id = \"3l3tun8f\"   # wandb run id\n",
    "num_workers = 2\n",
    "test_set = \"merra2\"\n",
    "DATA_DIR = \"../Data/aibedo\"\n",
    "overrides = [f'datamodule.num_workers={num_workers}',  f'datamodule.partition={[0.85, 0.15, test_set]}',\n",
    "             'datamodule.eval_batch_size=5', \n",
    "             'verbose=False', \n",
    "             f'datamodule.data_dir={DATA_DIR}'\n",
    "            ]\n",
    "trainer = pl.Trainer(gpus=-1, max_epochs=1)"
   ]
  },
  {
   "cell_type": "code",
   "execution_count": null,
   "metadata": {
    "pycharm": {
     "name": "#%%\n"
    }
   },
   "outputs": [],
   "source": [
    "def get_model_and_dm_from_run_id(run_id):\n",
    "    values = reload_checkpoint_from_wandb(run_id=run_id, project='AIBEDO', override_key_value=overrides)\n",
    "    return  values['model'], values['datamodule'], values['config']"
   ]
  },
  {
   "cell_type": "markdown",
   "metadata": {
    "pycharm": {
     "name": "#%% md\n"
    }
   },
   "source": [
    "## The following will evaluate the model on the validation set"
   ]
  },
  {
   "cell_type": "code",
   "execution_count": null,
   "metadata": {
    "pycharm": {
     "name": "#%%\n"
    }
   },
   "outputs": [],
   "source": [
    "model, dm, cfg = get_model_and_dm_from_run_id(run_id)\n",
    "dm.setup(stage=\"val\")   # stage can be 'val', 'test', or 'predict' and will only load the respective data"
   ]
  },
  {
   "cell_type": "code",
   "execution_count": null,
   "metadata": {
    "pycharm": {
     "name": "#%%\n"
    }
   },
   "outputs": [],
   "source": [
    "dm._data_predict = dm._data_val   # if you don't do this, the prediction data_loader will be the test one"
   ]
  },
  {
   "cell_type": "code",
   "execution_count": null,
   "metadata": {
    "pycharm": {
     "name": "#%%\n"
    }
   },
   "outputs": [],
   "source": [
    "ds = dm.get_predictions_xarray(model, dataloader=dm.val_dataloader())   # get predictions on valid set"
   ]
  },
  {
   "cell_type": "code",
   "execution_count": null,
   "metadata": {
    "pycharm": {
     "name": "#%%\n"
    }
   },
   "outputs": [],
   "source": [
    "ds.attrs['variable_names'] = \"\"\n",
    "PREDS_DIR = \"./out_dir/preds\"    # where to save nc file\n",
    "ds.to_netcdf(PREDS_DIR + '/MLP_CESM2_preds_targets_errors.nc')"
   ]
  },
  {
   "cell_type": "code",
   "execution_count": null,
   "metadata": {
    "pycharm": {
     "name": "#%%\n"
    }
   },
   "outputs": [],
   "source": [
    "FIG_DIR=\"./out_dir/figs\"\n",
    "\n",
    "fig, axs = data_mean_plotting(ds)\n",
    "plt.savefig(f\"{FIG_DIR}/MLP_mean_plots_CESM2_val_set.png\")"
   ]
  },
  {
   "cell_type": "code",
   "execution_count": null,
   "metadata": {
    "pycharm": {
     "name": "#%%\n"
    }
   },
   "outputs": [],
   "source": []
  }
 ],
 "metadata": {
  "kernelspec": {
   "display_name": "aibedo",
   "language": "python",
   "name": "aibedo"
  },
  "language_info": {
   "codemirror_mode": {
    "name": "ipython",
    "version": 3
   },
   "file_extension": ".py",
   "mimetype": "text/x-python",
   "name": "python",
   "nbconvert_exporter": "python",
   "pygments_lexer": "ipython3",
   "version": "3.9.0"
  }
 },
 "nbformat": 4,
 "nbformat_minor": 4
}
