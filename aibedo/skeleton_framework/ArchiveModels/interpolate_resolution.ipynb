{
 "cells": [
  {
   "cell_type": "code",
   "execution_count": 1,
   "id": "3dcdc123-5e44-4e6f-bcdf-d765410c9e35",
   "metadata": {},
   "outputs": [
    {
     "name": "stderr",
     "output_type": "stream",
     "text": [
      "/Users/sookim/miniconda3/envs/deepsphere/lib/python3.7/site-packages/xarray/conventions.py:520: SerializationWarning: variable 'rsut' has multiple fill values {1e+20, 1e+20}, decoding all values to NaN.\n",
      "  decode_timedelta=decode_timedelta,\n"
     ]
    }
   ],
   "source": [
    "from interpolate import *\n",
    "import xarray as xr\n",
    "path = \"/Users/sookim/aibedo/skeleton_framework/data/rsut_Amon_CESM2_historical_r1i1p1f1_gn_185001-201412.nc\"\n",
    "ds = xr.open_dataset(path)\n",
    "data = np.asarray(ds.rsut[0])\n",
    "lon_list = list(np.asarray(ds.rsut[0].lon))\n",
    "lat_list = list(np.asarray(ds.rsut[0].lat))"
   ]
  },
  {
   "cell_type": "code",
   "execution_count": 2,
   "id": "685d649f-425e-4e83-abc0-1875fb7c4c00",
   "metadata": {},
   "outputs": [
    {
     "name": "stdout",
     "output_type": "stream",
     "text": [
      "number of vertices for level 5 (2**5)is 10242\n"
     ]
    }
   ],
   "source": [
    "lon, lat, interpolated_value = interpolate_SphereIcosahedral( 5, data, lon_list, lat_list)"
   ]
  },
  {
   "cell_type": "code",
   "execution_count": 3,
   "id": "f242cb9e-bb0f-4dcb-a59b-e3aeb2233972",
   "metadata": {},
   "outputs": [
    {
     "name": "stdout",
     "output_type": "stream",
     "text": [
      "10242\n"
     ]
    }
   ],
   "source": [
    "print(len(interpolated_value))"
   ]
  },
  {
   "cell_type": "code",
   "execution_count": 4,
   "id": "624f8bf3-dd6f-41fa-b26d-e605a554a5f9",
   "metadata": {},
   "outputs": [
    {
     "data": {
      "text/plain": [
       "<matplotlib.collections.PathCollection at 0x7f8ff85fa610>"
      ]
     },
     "execution_count": 4,
     "metadata": {},
     "output_type": "execute_result"
    },
    {
     "data": {
      "image/png": "[encoded data removed]",
      "text/plain": [
       "<Figure size 432x288 with 1 Axes>"
      ]
     },
     "metadata": {
      "needs_background": "light"
     },
     "output_type": "display_data"
    }
   ],
   "source": [
    "plt.scatter(lon, lat, marker='.')"
   ]
  },
  {
   "cell_type": "code",
   "execution_count": 5,
   "id": "87fa30bd-674c-4870-add0-71f9c7ae0d0b",
   "metadata": {},
   "outputs": [],
   "source": [
    "def resolution_SphereIcosahedral(lon,lat):\n",
    "    lat_list = []\n",
    "    for i in range(len(lon)):\n",
    "        if lon[i] == 0.0:\n",
    "            lat_list.append(lat[i])\n",
    "    lat_list.sort()\n",
    "    j=lat_list.index(0.0)\n",
    "    assert((lat_list[j]-lat_list[j-1])==(lat_list[j+1]-lat_list[j]))\n",
    "    return (lat_list[j]-lat_list[j-1])*111 # km resolution"
   ]
  },
  {
   "cell_type": "code",
   "execution_count": 6,
   "id": "b34267f6-046c-4818-a22d-5e1af77d3905",
   "metadata": {},
   "outputs": [
    {
     "data": {
      "text/plain": [
       "220.03997872951078"
      ]
     },
     "execution_count": 6,
     "metadata": {},
     "output_type": "execute_result"
    }
   ],
   "source": [
    "resolution_SphereIcosahedral(lon,lat)"
   ]
  },
  {
   "cell_type": "code",
   "execution_count": 7,
   "id": "07c5d610-9e36-4625-90e7-4fa6077e4566",
   "metadata": {},
   "outputs": [
    {
     "name": "stdout",
     "output_type": "stream",
     "text": [
      "number of vertices for level 4 (2**4)is 2562\n"
     ]
    }
   ],
   "source": [
    "lon, lat, interpolated_value = interpolate_SphereIcosahedral( 4, data, lon_list, lat_list)"
   ]
  },
  {
   "cell_type": "code",
   "execution_count": 8,
   "id": "5f8bb544-d962-4f55-aa12-c2ccde078dc9",
   "metadata": {},
   "outputs": [
    {
     "data": {
      "text/plain": [
       "440.07995745902144"
      ]
     },
     "execution_count": 8,
     "metadata": {},
     "output_type": "execute_result"
    }
   ],
   "source": [
    "resolution_SphereIcosahedral(lon,lat)"
   ]
  },
  {
   "cell_type": "code",
   "execution_count": 9,
   "id": "baa3c3b3-6775-4aad-92e7-4111dfe00caa",
   "metadata": {},
   "outputs": [
    {
     "name": "stdout",
     "output_type": "stream",
     "text": [
      "number of vertices for level 3 (2**3)is 642\n"
     ]
    }
   ],
   "source": [
    "lon, lat, interpolated_value = interpolate_SphereIcosahedral( 3, data, lon_list, lat_list)"
   ]
  },
  {
   "cell_type": "code",
   "execution_count": 10,
   "id": "47b83d1c-fde2-4523-8f0c-1bc0b69776e5",
   "metadata": {},
   "outputs": [
    {
     "data": {
      "text/plain": [
       "880.1599149180429"
      ]
     },
     "execution_count": 10,
     "metadata": {},
     "output_type": "execute_result"
    }
   ],
   "source": [
    "resolution_SphereIcosahedral(lon,lat)"
   ]
  },
  {
   "cell_type": "code",
   "execution_count": 11,
   "id": "2f1ef199-cd33-48cd-9491-b81d97a4512c",
   "metadata": {},
   "outputs": [
    {
     "name": "stdout",
     "output_type": "stream",
     "text": [
      "number of vertices for level 2 (2**2)is 162\n"
     ]
    }
   ],
   "source": [
    "lon, lat, interpolated_value = interpolate_SphereIcosahedral( 2, data, lon_list, lat_list)"
   ]
  },
  {
   "cell_type": "code",
   "execution_count": 12,
   "id": "20992e18-4003-4688-ad62-d31f34f5ec25",
   "metadata": {},
   "outputs": [
    {
     "data": {
      "text/plain": [
       "1760.3198298360862"
      ]
     },
     "execution_count": 12,
     "metadata": {},
     "output_type": "execute_result"
    }
   ],
   "source": [
    "resolution_SphereIcosahedral(lon,lat)"
   ]
  },
  {
   "cell_type": "code",
   "execution_count": 13,
   "id": "84313363-4391-4ff7-92fd-621ef2d80c48",
   "metadata": {},
   "outputs": [
    {
     "name": "stdout",
     "output_type": "stream",
     "text": [
      "number of vertices for level 1 (2**1)is 42\n"
     ]
    }
   ],
   "source": [
    "lon, lat, interpolated_value = interpolate_SphereIcosahedral( 1, data, lon_list, lat_list)"
   ]
  },
  {
   "cell_type": "code",
   "execution_count": 14,
   "id": "a2b0762a-98a8-447c-8be5-25eb4e2748af",
   "metadata": {},
   "outputs": [
    {
     "data": {
      "text/plain": [
       "3520.6396596721715"
      ]
     },
     "execution_count": 14,
     "metadata": {},
     "output_type": "execute_result"
    }
   ],
   "source": [
    "resolution_SphereIcosahedral(lon,lat)"
   ]
  },
  {
   "cell_type": "code",
   "execution_count": 15,
   "id": "f62d7365-cd41-4b6c-ba08-e47d52525f27",
   "metadata": {},
   "outputs": [
    {
     "name": "stdout",
     "output_type": "stream",
     "text": [
      "number of vertices for sub-divsion 32 neighbor8 is 12288\n"
     ]
    }
   ],
   "source": [
    "lon, lat, interpolated_value = interpolate_SphereHealpix(32, 8, data, lon_list, lat_list)"
   ]
  },
  {
   "cell_type": "code",
   "execution_count": 52,
   "id": "e256200e-fae6-4b30-8e3a-af7a62f61269",
   "metadata": {},
   "outputs": [],
   "source": [
    "def resolution_SphereHealpixl(lon,lat):\n",
    "    lon_list = []\n",
    "    for i in range(len(lat)):\n",
    "        if lat[i] == 0.0:\n",
    "            lon_list.append(lon[i])\n",
    "    lon_list.sort()\n",
    "    resolution = []\n",
    "    for j in range(len(lon_list)-1):\n",
    "        resolution.append(lon_list[j+1]-lon_list[j])\n",
    "    return np.mean(resolution)*111 #km"
   ]
  },
  {
   "cell_type": "code",
   "execution_count": 53,
   "id": "8b139e32-5b6f-4b73-95ee-1bb80e241bd2",
   "metadata": {},
   "outputs": [
    {
     "data": {
      "text/plain": [
       "312.1875"
      ]
     },
     "execution_count": 53,
     "metadata": {},
     "output_type": "execute_result"
    }
   ],
   "source": [
    "resolution_SphereHealpixl(lon,lat)"
   ]
  },
  {
   "cell_type": "code",
   "execution_count": 57,
   "id": "c239ecf1-b5c0-413f-81fe-06e9e9775061",
   "metadata": {},
   "outputs": [
    {
     "name": "stdout",
     "output_type": "stream",
     "text": [
      "number of vertices for sub-divsion 4 neighbor8 is 192\n",
      "   ---> resolution: 2497.5km\n",
      "number of vertices for sub-divsion 8 neighbor8 is 768\n",
      "   ---> resolution: 1248.75km\n",
      "number of vertices for sub-divsion 16 neighbor8 is 3072\n",
      "   ---> resolution: 624.375km\n",
      "number of vertices for sub-divsion 32 neighbor8 is 12288\n",
      "   ---> resolution: 312.1875km\n",
      "number of vertices for sub-divsion 64 neighbor8 is 49152\n",
      "   ---> resolution: 156.09375km\n",
      "number of vertices for sub-divsion 128 neighbor8 is 196608\n",
      "   ---> resolution: 78.046875km\n"
     ]
    }
   ],
   "source": [
    "for i in [4,8,16,32,64,128]:\n",
    "    lon, lat, interpolated_value = interpolate_SphereHealpix(i, 8, data, lon_list, lat_list)\n",
    "    print(\"   ---> resolution: \"+str(resolution_SphereHealpixl(lon,lat))+\"km\")"
   ]
  },
  {
   "cell_type": "code",
   "execution_count": null,
   "id": "03e60acd-2c1c-481c-8328-b43acbc46086",
   "metadata": {},
   "outputs": [],
   "source": []
  }
 ],
 "metadata": {
  "kernelspec": {
   "display_name": "Python 3 (ipykernel)",
   "language": "python",
   "name": "python3"
  },
  "language_info": {
   "codemirror_mode": {
    "name": "ipython",
    "version": 3
   },
   "file_extension": ".py",
   "mimetype": "text/x-python",
   "name": "python",
   "nbconvert_exporter": "python",
   "pygments_lexer": "ipython3",
   "version": "3.7.12"
  }
 },
 "nbformat": 4,
 "nbformat_minor": 5
}
