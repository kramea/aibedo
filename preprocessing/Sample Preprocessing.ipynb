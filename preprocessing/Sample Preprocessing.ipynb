{
 "cells": [
  {
   "cell_type": "code",
   "execution_count": 39,
   "id": "5481cd0f",
   "metadata": {},
   "outputs": [],
   "source": [
    "import xarray as xr\n",
    "import preprocess_light\n",
    "import json\n",
    "import subprocess as sp\n",
    "import numpy as np\n",
    "#import cdo"
   ]
  },
  {
   "cell_type": "code",
   "execution_count": 2,
   "id": "75e8fe16",
   "metadata": {},
   "outputs": [],
   "source": [
    "vardef = '/home/jupyter-haruki/preprocessing/variable_defs.json'"
   ]
  },
  {
   "cell_type": "code",
   "execution_count": 3,
   "id": "f9a71eae",
   "metadata": {},
   "outputs": [],
   "source": [
    "model, experiment, member = 'CESM2','historical','r1i1p1f1'\n",
    "\n",
    "# CMOR data variables to ingest\n",
    "in_variables_in = ['rlut','rsut','rsdt','rsutcs','rlutcs','hfss','hfls',\n",
    "                'rlus','rsus','rsds','rlds','rsdscs','rsuscs','rldscs','ps']\n",
    "# output variables (must be defined in variable_defs.json)\n",
    "in_variables_out = ['netSurfcs','crelSurf','cresSurf','netTOAcs','cres','crel',\n",
    "                   'netSurfRad','netTOARad','hfss']\n",
    "\n",
    "# CMOR data variables to ingest\n",
    "out_variables_in = ['tas','pr','psl','evspsbl','ps']\n",
    "# input variables (since these are the same as the CMOR, we don't need to define them)\n",
    "out_variables_out = ['tas','pr','psl','evspsbl','ps']\n",
    "\n",
    "path_data = '/home/jupyter-haruki/work/sample_data/'\n",
    "\n",
    "path_out = path_data\n",
    "fname = '{0}.{1}.{2}.Input.sample.nc'.format(model, experiment, member)\n",
    "years = [1850,2015]"
   ]
  },
  {
   "cell_type": "code",
   "execution_count": 4,
   "id": "3b2bfecd",
   "metadata": {
    "collapsed": true
   },
   "outputs": [
    {
     "name": "stdout",
     "output_type": "stream",
     "text": [
      "Preprocessing for CESM2 historical r1i1p1f1\n",
      "-----------------\n",
      "netSurfcs\n",
      "-----------------\n",
      "(1, 1980, 192, 288)\n",
      "Deseasonalize\n",
      "Time :  0.09460997581481934\n",
      "Detrend\n",
      "(1980,)\n",
      "(1980, 192, 288)\n",
      "(4, 55296)\n",
      "Time :  3.1732943058013916\n",
      "Normalize\n",
      "Time :  2.7803447246551514\n",
      "-----------------\n",
      "crelSurf\n",
      "-----------------\n",
      "(1, 1980, 192, 288)\n",
      "Deseasonalize\n",
      "Time :  0.09917473793029785\n",
      "Detrend\n",
      "(1980,)\n",
      "(1980, 192, 288)\n",
      "(4, 55296)\n",
      "Time :  2.47162127494812\n",
      "Normalize\n",
      "Time :  2.8260929584503174\n",
      "-----------------\n",
      "cresSurf\n",
      "-----------------\n",
      "(1, 1980, 192, 288)\n",
      "Deseasonalize\n",
      "Time :  0.09330511093139648\n",
      "Detrend\n",
      "(1980,)\n",
      "(1980, 192, 288)\n",
      "(4, 55296)\n",
      "Time :  2.375237226486206\n",
      "Normalize\n",
      "Time :  2.403240203857422\n",
      "-----------------\n",
      "netTOAcs\n",
      "-----------------\n",
      "(1, 1980, 192, 288)\n",
      "Deseasonalize\n",
      "Time :  0.09506392478942871\n",
      "Detrend\n",
      "(1980,)\n",
      "(1980, 192, 288)\n",
      "(4, 55296)\n",
      "Time :  2.3253538608551025\n",
      "Normalize\n",
      "Time :  2.9983646869659424\n",
      "-----------------\n",
      "cres\n",
      "-----------------\n",
      "(1, 1980, 192, 288)\n",
      "Deseasonalize\n",
      "Time :  0.09447240829467773\n",
      "Detrend\n",
      "(1980,)\n",
      "(1980, 192, 288)\n",
      "(4, 55296)\n",
      "Time :  2.330575466156006\n",
      "Normalize\n",
      "Time :  3.0708088874816895\n",
      "-----------------\n",
      "crel\n",
      "-----------------\n",
      "(1, 1980, 192, 288)\n",
      "Deseasonalize\n",
      "Time :  0.09432244300842285\n",
      "Detrend\n",
      "(1980,)\n",
      "(1980, 192, 288)\n",
      "(4, 55296)\n",
      "Time :  2.3644988536834717\n",
      "Normalize\n",
      "Time :  2.6017355918884277\n",
      "-----------------\n",
      "netSurfRad\n",
      "-----------------\n",
      "(1, 1980, 192, 288)\n",
      "Deseasonalize\n",
      "Time :  0.09780526161193848\n",
      "Detrend\n",
      "(1980,)\n",
      "(1980, 192, 288)\n",
      "(4, 55296)\n",
      "Time :  2.399214029312134\n",
      "Normalize\n",
      "Time :  3.052821636199951\n",
      "-----------------\n",
      "netTOARad\n",
      "-----------------\n",
      "(1, 1980, 192, 288)\n",
      "Deseasonalize\n",
      "Time :  0.09606385231018066\n",
      "Detrend\n",
      "(1980,)\n",
      "(1980, 192, 288)\n",
      "(4, 55296)\n",
      "Time :  2.368257999420166\n",
      "Normalize\n",
      "Time :  2.901679277420044\n",
      "-----------------\n",
      "hfss\n",
      "-----------------\n",
      "(1, 1980, 192, 288)\n",
      "Deseasonalize\n",
      "Time :  0.09716653823852539\n",
      "Detrend\n",
      "(1980,)\n",
      "(1980, 192, 288)\n",
      "(4, 55296)\n",
      "Time :  2.44136905670166\n",
      "Normalize\n",
      "Time :  2.876823663711548\n",
      "Write to file\n"
     ]
    }
   ],
   "source": [
    "preprocess_light.run_preprocess(experiment, model,member,in_variables_in,in_variables_out,\n",
    "                                attribute_path = 'variable_defs.json',out_path = path_out + fname,\n",
    "                                lf_path = path_data+'CESM2.historical.r1i1p1f1.fx.sftlf.nc',\n",
    "                                data_path = path_data)"
   ]
  },
  {
   "cell_type": "code",
   "execution_count": 7,
   "id": "819f0b15",
   "metadata": {},
   "outputs": [
    {
     "name": "stderr",
     "output_type": "stream",
     "text": [
      "/bin/sh: 1: cdo: not found\n",
      "/bin/sh: 1: cdo: not found\n"
     ]
    },
    {
     "data": {
      "text/plain": [
       "CompletedProcess(args='cdo remapbil,/home/jupyter-haruki/preprocessing/isosphere_5.txt /home/jupyter-haruki/work/sample_data//CESM2.historical.r1i1p1f1.Input.sample.nc /home/jupyter-haruki/work/sample_data//isosph5.CESM2.historical.r1i1p1f1.Input.sample.nc ', returncode=127)"
      ]
     },
     "execution_count": 7,
     "metadata": {},
     "output_type": "execute_result"
    }
   ],
   "source": [
    "#sp.run('cdo remapbil,/home/jupyter-haruki/preprocessing/isosphere_6.txt {0}/{1} {0}/isosph.{1} '.format(path_out,fname),shell=True)\n",
    "#sp.run('cdo remapbil,/home/jupyter-haruki/preprocessing/isosphere_5.txt {0}/{1} {0}/isosph5.{1} '.format(path_out,fname),shell=True)\n"
   ]
  },
  {
   "cell_type": "code",
   "execution_count": null,
   "id": "5afa5028",
   "metadata": {},
   "outputs": [],
   "source": []
  }
 ],
 "metadata": {
  "kernelspec": {
   "display_name": "hhenv",
   "language": "python",
   "name": "hhenv"
  },
  "language_info": {
   "codemirror_mode": {
    "name": "ipython",
    "version": 3
   },
   "file_extension": ".py",
   "mimetype": "text/x-python",
   "name": "python",
   "nbconvert_exporter": "python",
   "pygments_lexer": "ipython3",
   "version": "3.9.10"
  }
 },
 "nbformat": 4,
 "nbformat_minor": 5
}
