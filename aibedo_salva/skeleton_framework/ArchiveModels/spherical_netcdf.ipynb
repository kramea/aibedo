{
 "cells": [
  {
   "cell_type": "code",
   "execution_count": null,
   "id": "938dc32b-555d-4de0-b2b7-c59bfb743b1b",
   "metadata": {},
   "outputs": [],
   "source": []
  }
 ],
 "metadata": {
  "kernelspec": {
   "display_name": "",
   "name": ""
  },
  "language_info": {
   "name": ""
  }
 },
 "nbformat": 4,
 "nbformat_minor": 5
}
